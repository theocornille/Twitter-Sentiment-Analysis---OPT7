{
 "cells": [
  {
   "cell_type": "markdown",
   "metadata": {},
   "source": [
    "# OPT 7 - Projet : Sentiment Analysis for Tweets"
   ]
  },
  {
   "cell_type": "markdown",
   "metadata": {},
   "source": [
    "**Théo Cornille - Mirwaisse Djanbaz - Luc Gibaud - Cédric des Lauriers**"
   ]
  },
  {
   "cell_type": "markdown",
   "metadata": {},
   "source": [
    "### Dataset : Sentiment dataset with 1.6 million tweets"
   ]
  },
  {
   "cell_type": "markdown",
   "metadata": {},
   "source": [
    "\"According to the creators of the dataset:\n",
    "\n",
    "\"Our approach was unique because our training data was automatically created, as opposed to having humans manual annotate tweets. In our approach, we assume that any tweet with positive emoticons, like 🙂, were positive, and tweets with negative emoticons, like 😞, were negative. We used the Twitter Search API to collect these tweets by using keyword search\"\n",
    "\n",
    "citation: Go, A., Bhayani, R. and Huang, L., 2009. Twitter sentiment classification using distant supervision. CS224N Project Report, Stanford, 1(2009), p.12"
   ]
  },
  {
   "cell_type": "markdown",
   "metadata": {},
   "source": [
    "## Présentation"
   ]
  },
  {
   "cell_type": "markdown",
   "metadata": {},
   "source": [
    "Nous disposons de 1.6 millions de tweets qui ont été extraits en utilisant l'API de Twitter. Ces tweets ont été annotés (0 = tweet négatif, 4 = tweet positif).\n",
    "\n",
    "Notre objectif est d'utiliser cette base de données afin de pouvoir prédir automatiquement le sentiment qu'un auteur a voulu donner à son tweet.\n",
    "Pour information, les tweets de ce dataset sont quelconques et ont été relevés sur une période de 2 mois."
   ]
  },
  {
   "cell_type": "code",
   "execution_count": 2,
   "metadata": {},
   "outputs": [],
   "source": [
    "import warnings\n",
    "from sklearn.exceptions import DataConversionWarning\n",
    "warnings.simplefilter(action='ignore', category=FutureWarning)\n",
    "warnings.simplefilter(action='ignore', category =RuntimeWarning)\n",
    "warnings.simplefilter(action='ignore', category=DataConversionWarning)"
   ]
  },
  {
   "cell_type": "code",
   "execution_count": 3,
   "metadata": {},
   "outputs": [
    {
     "name": "stderr",
     "output_type": "stream",
     "text": [
      "Using TensorFlow backend.\n"
     ]
    }
   ],
   "source": [
    "import os, string, collections\n",
    "import numpy as np\n",
    "import pandas as pd\n",
    "import matplotlib.pyplot as plt\n",
    "import seaborn as sn\n",
    "\n",
    "from utils import *\n",
    "import re\n",
    "\n",
    "from nltk.corpus import stopwords\n",
    "\n",
    "from sklearn.linear_model import LogisticRegression\n",
    "from sklearn.base import BaseEstimator, TransformerMixin\n",
    "from sklearn.model_selection import train_test_split, StratifiedKFold, cross_val_score\n",
    "from sklearn import metrics\n",
    "\n",
    "from keras.wrappers.scikit_learn import KerasClassifier\n",
    "from keras.preprocessing.sequence import pad_sequences\n",
    "from keras.models import Sequential, Model, load_model\n",
    "from keras.layers.embeddings import Embedding\n",
    "from keras.layers import Flatten, Dense, Dropout, Convolution1D, MaxPooling1D, SpatialDropout1D, Input \n",
    "from keras.layers import GlobalMaxPooling1D, concatenate, LSTM, Bidirectional, SimpleRNN, GRU\n",
    "from keras.optimizers import Adam\n",
    "from keras.utils import np_utils\n",
    "from keras.callbacks import ModelCheckpoint"
   ]
  },
  {
   "cell_type": "markdown",
   "metadata": {},
   "source": [
    "## I. Import et exploration de la base de données"
   ]
  },
  {
   "cell_type": "code",
   "execution_count": 280,
   "metadata": {},
   "outputs": [],
   "source": [
    "filepath = r\"D:\\Data\\TWEET DATA\\training.1600000.processed.noemoticon.csv\""
   ]
  },
  {
   "cell_type": "code",
   "execution_count": 281,
   "metadata": {},
   "outputs": [],
   "source": [
    "df = pd.read_csv(filepath, encoding = \"ISO-8859-1\", header = None, names = [\"target\", \"id\", \"date\", \"flag\", \"user\", \"text\"])"
   ]
  },
  {
   "cell_type": "code",
   "execution_count": 282,
   "metadata": {},
   "outputs": [
    {
     "data": {
      "text/html": [
       "<div>\n",
       "<style scoped>\n",
       "    .dataframe tbody tr th:only-of-type {\n",
       "        vertical-align: middle;\n",
       "    }\n",
       "\n",
       "    .dataframe tbody tr th {\n",
       "        vertical-align: top;\n",
       "    }\n",
       "\n",
       "    .dataframe thead th {\n",
       "        text-align: right;\n",
       "    }\n",
       "</style>\n",
       "<table border=\"1\" class=\"dataframe\">\n",
       "  <thead>\n",
       "    <tr style=\"text-align: right;\">\n",
       "      <th></th>\n",
       "      <th>target</th>\n",
       "      <th>id</th>\n",
       "      <th>date</th>\n",
       "      <th>flag</th>\n",
       "      <th>user</th>\n",
       "      <th>text</th>\n",
       "    </tr>\n",
       "  </thead>\n",
       "  <tbody>\n",
       "    <tr>\n",
       "      <th>0</th>\n",
       "      <td>0</td>\n",
       "      <td>1467810369</td>\n",
       "      <td>Mon Apr 06 22:19:45 PDT 2009</td>\n",
       "      <td>NO_QUERY</td>\n",
       "      <td>_TheSpecialOne_</td>\n",
       "      <td>@switchfoot http://twitpic.com/2y1zl - Awww, that's a bummer.  You shoulda got David Carr of Third Day to do it. ;D</td>\n",
       "    </tr>\n",
       "    <tr>\n",
       "      <th>1</th>\n",
       "      <td>0</td>\n",
       "      <td>1467810672</td>\n",
       "      <td>Mon Apr 06 22:19:49 PDT 2009</td>\n",
       "      <td>NO_QUERY</td>\n",
       "      <td>scotthamilton</td>\n",
       "      <td>is upset that he can't update his Facebook by texting it... and might cry as a result  School today also. Blah!</td>\n",
       "    </tr>\n",
       "    <tr>\n",
       "      <th>2</th>\n",
       "      <td>0</td>\n",
       "      <td>1467810917</td>\n",
       "      <td>Mon Apr 06 22:19:53 PDT 2009</td>\n",
       "      <td>NO_QUERY</td>\n",
       "      <td>mattycus</td>\n",
       "      <td>@Kenichan I dived many times for the ball. Managed to save 50%  The rest go out of bounds</td>\n",
       "    </tr>\n",
       "    <tr>\n",
       "      <th>3</th>\n",
       "      <td>0</td>\n",
       "      <td>1467811184</td>\n",
       "      <td>Mon Apr 06 22:19:57 PDT 2009</td>\n",
       "      <td>NO_QUERY</td>\n",
       "      <td>ElleCTF</td>\n",
       "      <td>my whole body feels itchy and like its on fire</td>\n",
       "    </tr>\n",
       "    <tr>\n",
       "      <th>4</th>\n",
       "      <td>0</td>\n",
       "      <td>1467811193</td>\n",
       "      <td>Mon Apr 06 22:19:57 PDT 2009</td>\n",
       "      <td>NO_QUERY</td>\n",
       "      <td>Karoli</td>\n",
       "      <td>@nationwideclass no, it's not behaving at all. i'm mad. why am i here? because I can't see you all over there.</td>\n",
       "    </tr>\n",
       "  </tbody>\n",
       "</table>\n",
       "</div>"
      ],
      "text/plain": [
       "   target          id                          date      flag  \\\n",
       "0  0       1467810369  Mon Apr 06 22:19:45 PDT 2009  NO_QUERY   \n",
       "1  0       1467810672  Mon Apr 06 22:19:49 PDT 2009  NO_QUERY   \n",
       "2  0       1467810917  Mon Apr 06 22:19:53 PDT 2009  NO_QUERY   \n",
       "3  0       1467811184  Mon Apr 06 22:19:57 PDT 2009  NO_QUERY   \n",
       "4  0       1467811193  Mon Apr 06 22:19:57 PDT 2009  NO_QUERY   \n",
       "\n",
       "              user  \\\n",
       "0  _TheSpecialOne_   \n",
       "1  scotthamilton     \n",
       "2  mattycus          \n",
       "3  ElleCTF           \n",
       "4  Karoli            \n",
       "\n",
       "                                                                                                                  text  \n",
       "0  @switchfoot http://twitpic.com/2y1zl - Awww, that's a bummer.  You shoulda got David Carr of Third Day to do it. ;D  \n",
       "1  is upset that he can't update his Facebook by texting it... and might cry as a result  School today also. Blah!      \n",
       "2  @Kenichan I dived many times for the ball. Managed to save 50%  The rest go out of bounds                            \n",
       "3  my whole body feels itchy and like its on fire                                                                       \n",
       "4  @nationwideclass no, it's not behaving at all. i'm mad. why am i here? because I can't see you all over there.       "
      ]
     },
     "execution_count": 282,
     "metadata": {},
     "output_type": "execute_result"
    }
   ],
   "source": [
    "df.head()"
   ]
  },
  {
   "cell_type": "markdown",
   "metadata": {},
   "source": [
    "La colonne \"target\" n'est composé que de 0 (=tweet négatif) et de 4 (=tweet positif). Afin de simplifier nous allons transformer les 4 et 1. Nous gardons donc:\n",
    "\n",
    "- 0 =tweet négatif\n",
    "- 1 = tweet positif"
   ]
  },
  {
   "cell_type": "code",
   "execution_count": 283,
   "metadata": {},
   "outputs": [],
   "source": [
    "df.target = df.target.replace(4, 1)"
   ]
  },
  {
   "cell_type": "code",
   "execution_count": 284,
   "metadata": {},
   "outputs": [],
   "source": [
    "df = df.iloc[:, [5, 0]]"
   ]
  },
  {
   "cell_type": "code",
   "execution_count": 285,
   "metadata": {},
   "outputs": [
    {
     "data": {
      "text/html": [
       "<div>\n",
       "<style scoped>\n",
       "    .dataframe tbody tr th:only-of-type {\n",
       "        vertical-align: middle;\n",
       "    }\n",
       "\n",
       "    .dataframe tbody tr th {\n",
       "        vertical-align: top;\n",
       "    }\n",
       "\n",
       "    .dataframe thead th {\n",
       "        text-align: right;\n",
       "    }\n",
       "</style>\n",
       "<table border=\"1\" class=\"dataframe\">\n",
       "  <thead>\n",
       "    <tr style=\"text-align: right;\">\n",
       "      <th></th>\n",
       "      <th>text</th>\n",
       "      <th>target</th>\n",
       "    </tr>\n",
       "  </thead>\n",
       "  <tbody>\n",
       "    <tr>\n",
       "      <th>0</th>\n",
       "      <td>@switchfoot http://twitpic.com/2y1zl - Awww, that's a bummer.  You shoulda got David Carr of Third Day to do it. ;D</td>\n",
       "      <td>0</td>\n",
       "    </tr>\n",
       "    <tr>\n",
       "      <th>1</th>\n",
       "      <td>is upset that he can't update his Facebook by texting it... and might cry as a result  School today also. Blah!</td>\n",
       "      <td>0</td>\n",
       "    </tr>\n",
       "    <tr>\n",
       "      <th>2</th>\n",
       "      <td>@Kenichan I dived many times for the ball. Managed to save 50%  The rest go out of bounds</td>\n",
       "      <td>0</td>\n",
       "    </tr>\n",
       "    <tr>\n",
       "      <th>3</th>\n",
       "      <td>my whole body feels itchy and like its on fire</td>\n",
       "      <td>0</td>\n",
       "    </tr>\n",
       "    <tr>\n",
       "      <th>4</th>\n",
       "      <td>@nationwideclass no, it's not behaving at all. i'm mad. why am i here? because I can't see you all over there.</td>\n",
       "      <td>0</td>\n",
       "    </tr>\n",
       "  </tbody>\n",
       "</table>\n",
       "</div>"
      ],
      "text/plain": [
       "                                                                                                                  text  \\\n",
       "0  @switchfoot http://twitpic.com/2y1zl - Awww, that's a bummer.  You shoulda got David Carr of Third Day to do it. ;D   \n",
       "1  is upset that he can't update his Facebook by texting it... and might cry as a result  School today also. Blah!       \n",
       "2  @Kenichan I dived many times for the ball. Managed to save 50%  The rest go out of bounds                             \n",
       "3  my whole body feels itchy and like its on fire                                                                        \n",
       "4  @nationwideclass no, it's not behaving at all. i'm mad. why am i here? because I can't see you all over there.        \n",
       "\n",
       "   target  \n",
       "0  0       \n",
       "1  0       \n",
       "2  0       \n",
       "3  0       \n",
       "4  0       "
      ]
     },
     "execution_count": 285,
     "metadata": {},
     "output_type": "execute_result"
    }
   ],
   "source": [
    "df.head()"
   ]
  },
  {
   "cell_type": "code",
   "execution_count": 286,
   "metadata": {},
   "outputs": [],
   "source": [
    "pd.set_option('display.max_colwidth', -1)"
   ]
  },
  {
   "cell_type": "code",
   "execution_count": 287,
   "metadata": {},
   "outputs": [
    {
     "data": {
      "text/plain": [
       "0    @switchfoot http://twitpic.com/2y1zl - Awww, that's a bummer.  You shoulda got David Carr of Third Day to do it. ;D\n",
       "1    is upset that he can't update his Facebook by texting it... and might cry as a result  School today also. Blah!    \n",
       "2    @Kenichan I dived many times for the ball. Managed to save 50%  The rest go out of bounds                          \n",
       "3    my whole body feels itchy and like its on fire                                                                     \n",
       "4    @nationwideclass no, it's not behaving at all. i'm mad. why am i here? because I can't see you all over there.     \n",
       "Name: text, dtype: object"
      ]
     },
     "execution_count": 287,
     "metadata": {},
     "output_type": "execute_result"
    }
   ],
   "source": [
    "df['text'].head()"
   ]
  },
  {
   "cell_type": "code",
   "execution_count": 288,
   "metadata": {},
   "outputs": [
    {
     "data": {
      "text/plain": [
       "1    800000\n",
       "0    800000\n",
       "Name: target, dtype: int64"
      ]
     },
     "execution_count": 288,
     "metadata": {},
     "output_type": "execute_result"
    }
   ],
   "source": [
    "df['target'].value_counts()"
   ]
  },
  {
   "cell_type": "code",
   "execution_count": 289,
   "metadata": {},
   "outputs": [
    {
     "data": {
      "image/png": "[encoded data removed]",
      "text/plain": [
       "<Figure size 576x432 with 1 Axes>"
      ]
     },
     "metadata": {
      "needs_background": "light"
     },
     "output_type": "display_data"
    }
   ],
   "source": [
    "df.groupby(['target']).count().plot(kind='bar', figsize=(8, 6), rot=0, legend=False, title='Number of tweets by class')\n",
    "plt.show()"
   ]
  },
  {
   "cell_type": "markdown",
   "metadata": {},
   "source": [
    "## II. Preprocessing des données"
   ]
  },
  {
   "cell_type": "markdown",
   "metadata": {},
   "source": [
    "Text Cleaning"
   ]
  },
  {
   "cell_type": "code",
   "execution_count": 290,
   "metadata": {},
   "outputs": [],
   "source": [
    "class TextCleaner(BaseEstimator, TransformerMixin):    \n",
    "    def remove_mentions(self, text):        \n",
    "        return re.sub(r'@\\w+', '', text)\n",
    "    \n",
    "    def remove_urls(self, text):        \n",
    "        return re.sub(r'http.?://[^\\s]+[\\s]?', '', text)\n",
    "    \n",
    "    def only_characters(self, text):\n",
    "        return re.sub('[^a-zA-Z\\s]', '', text)\n",
    "    \n",
    "    def remove_extra_spaces(self, text):\n",
    "        text = re.sub(\"\\s+\", ' ', text)\n",
    "        text = text.lstrip()\n",
    "        return text.rstrip()\n",
    "    \n",
    "    def to_lower(self, text):\n",
    "        return text.lower()\n",
    "    \n",
    "    def fix_words(self, text):\n",
    "        #text = re.sub(r'\\bthx\\b', 'thanks', text)\n",
    "        pass\n",
    "        \n",
    "    def fit(self, X, y=None, **fit_params):\n",
    "        return self\n",
    "    \n",
    "    def transform(self, X, **transform_params):        \n",
    "        clean_X = X.apply(self.remove_mentions).apply(self.remove_urls).apply(self.only_characters).apply(self.remove_extra_spaces).apply(self.to_lower)\n",
    "        return clean_X"
   ]
  },
  {
   "cell_type": "code",
   "execution_count": 291,
   "metadata": {},
   "outputs": [],
   "source": [
    "tc = TextCleaner()\n",
    "df['clean_text'] = tc.transform(df['text'])"
   ]
  },
  {
   "cell_type": "code",
   "execution_count": 292,
   "metadata": {},
   "outputs": [
    {
     "data": {
      "text/html": [
       "<div>\n",
       "<style scoped>\n",
       "    .dataframe tbody tr th:only-of-type {\n",
       "        vertical-align: middle;\n",
       "    }\n",
       "\n",
       "    .dataframe tbody tr th {\n",
       "        vertical-align: top;\n",
       "    }\n",
       "\n",
       "    .dataframe thead th {\n",
       "        text-align: right;\n",
       "    }\n",
       "</style>\n",
       "<table border=\"1\" class=\"dataframe\">\n",
       "  <thead>\n",
       "    <tr style=\"text-align: right;\">\n",
       "      <th></th>\n",
       "      <th>text</th>\n",
       "      <th>target</th>\n",
       "      <th>clean_text</th>\n",
       "    </tr>\n",
       "  </thead>\n",
       "  <tbody>\n",
       "    <tr>\n",
       "      <th>0</th>\n",
       "      <td>@switchfoot http://twitpic.com/2y1zl - Awww, that's a bummer.  You shoulda got David Carr of Third Day to do it. ;D</td>\n",
       "      <td>0</td>\n",
       "      <td>awww thats a bummer you shoulda got david carr of third day to do it d</td>\n",
       "    </tr>\n",
       "    <tr>\n",
       "      <th>1</th>\n",
       "      <td>is upset that he can't update his Facebook by texting it... and might cry as a result  School today also. Blah!</td>\n",
       "      <td>0</td>\n",
       "      <td>is upset that he cant update his facebook by texting it and might cry as a result school today also blah</td>\n",
       "    </tr>\n",
       "    <tr>\n",
       "      <th>2</th>\n",
       "      <td>@Kenichan I dived many times for the ball. Managed to save 50%  The rest go out of bounds</td>\n",
       "      <td>0</td>\n",
       "      <td>i dived many times for the ball managed to save the rest go out of bounds</td>\n",
       "    </tr>\n",
       "    <tr>\n",
       "      <th>3</th>\n",
       "      <td>my whole body feels itchy and like its on fire</td>\n",
       "      <td>0</td>\n",
       "      <td>my whole body feels itchy and like its on fire</td>\n",
       "    </tr>\n",
       "    <tr>\n",
       "      <th>4</th>\n",
       "      <td>@nationwideclass no, it's not behaving at all. i'm mad. why am i here? because I can't see you all over there.</td>\n",
       "      <td>0</td>\n",
       "      <td>no its not behaving at all im mad why am i here because i cant see you all over there</td>\n",
       "    </tr>\n",
       "  </tbody>\n",
       "</table>\n",
       "</div>"
      ],
      "text/plain": [
       "                                                                                                                  text  \\\n",
       "0  @switchfoot http://twitpic.com/2y1zl - Awww, that's a bummer.  You shoulda got David Carr of Third Day to do it. ;D   \n",
       "1  is upset that he can't update his Facebook by texting it... and might cry as a result  School today also. Blah!       \n",
       "2  @Kenichan I dived many times for the ball. Managed to save 50%  The rest go out of bounds                             \n",
       "3  my whole body feels itchy and like its on fire                                                                        \n",
       "4  @nationwideclass no, it's not behaving at all. i'm mad. why am i here? because I can't see you all over there.        \n",
       "\n",
       "   target  \\\n",
       "0  0        \n",
       "1  0        \n",
       "2  0        \n",
       "3  0        \n",
       "4  0        \n",
       "\n",
       "                                                                                                 clean_text  \n",
       "0  awww thats a bummer you shoulda got david carr of third day to do it d                                    \n",
       "1  is upset that he cant update his facebook by texting it and might cry as a result school today also blah  \n",
       "2  i dived many times for the ball managed to save the rest go out of bounds                                 \n",
       "3  my whole body feels itchy and like its on fire                                                            \n",
       "4  no its not behaving at all im mad why am i here because i cant see you all over there                     "
      ]
     },
     "execution_count": 292,
     "metadata": {},
     "output_type": "execute_result"
    }
   ],
   "source": [
    "df.head()"
   ]
  },
  {
   "cell_type": "markdown",
   "metadata": {},
   "source": [
    "Tokenizer"
   ]
  },
  {
   "cell_type": "code",
   "execution_count": 293,
   "metadata": {},
   "outputs": [],
   "source": [
    "def tokenize(s): \n",
    "    return s.split()"
   ]
  },
  {
   "cell_type": "code",
   "execution_count": 294,
   "metadata": {},
   "outputs": [],
   "source": [
    "df['tokenized'] = df['clean_text'].apply(lambda row: tokenize(row))"
   ]
  },
  {
   "cell_type": "code",
   "execution_count": 295,
   "metadata": {},
   "outputs": [],
   "source": [
    "#df = df.sample(frac=1)\n",
    "#df = df.reset_index(drop=True)"
   ]
  },
  {
   "cell_type": "code",
   "execution_count": 296,
   "metadata": {
    "scrolled": true
   },
   "outputs": [
    {
     "data": {
      "text/html": [
       "<div>\n",
       "<style scoped>\n",
       "    .dataframe tbody tr th:only-of-type {\n",
       "        vertical-align: middle;\n",
       "    }\n",
       "\n",
       "    .dataframe tbody tr th {\n",
       "        vertical-align: top;\n",
       "    }\n",
       "\n",
       "    .dataframe thead th {\n",
       "        text-align: right;\n",
       "    }\n",
       "</style>\n",
       "<table border=\"1\" class=\"dataframe\">\n",
       "  <thead>\n",
       "    <tr style=\"text-align: right;\">\n",
       "      <th></th>\n",
       "      <th>text</th>\n",
       "      <th>target</th>\n",
       "      <th>clean_text</th>\n",
       "      <th>tokenized</th>\n",
       "    </tr>\n",
       "  </thead>\n",
       "  <tbody>\n",
       "    <tr>\n",
       "      <th>0</th>\n",
       "      <td>@switchfoot http://twitpic.com/2y1zl - Awww, that's a bummer.  You shoulda got David Carr of Third Day to do it. ;D</td>\n",
       "      <td>0</td>\n",
       "      <td>awww thats a bummer you shoulda got david carr of third day to do it d</td>\n",
       "      <td>[awww, thats, a, bummer, you, shoulda, got, david, carr, of, third, day, to, do, it, d]</td>\n",
       "    </tr>\n",
       "    <tr>\n",
       "      <th>1</th>\n",
       "      <td>is upset that he can't update his Facebook by texting it... and might cry as a result  School today also. Blah!</td>\n",
       "      <td>0</td>\n",
       "      <td>is upset that he cant update his facebook by texting it and might cry as a result school today also blah</td>\n",
       "      <td>[is, upset, that, he, cant, update, his, facebook, by, texting, it, and, might, cry, as, a, result, school, today, also, blah]</td>\n",
       "    </tr>\n",
       "    <tr>\n",
       "      <th>2</th>\n",
       "      <td>@Kenichan I dived many times for the ball. Managed to save 50%  The rest go out of bounds</td>\n",
       "      <td>0</td>\n",
       "      <td>i dived many times for the ball managed to save the rest go out of bounds</td>\n",
       "      <td>[i, dived, many, times, for, the, ball, managed, to, save, the, rest, go, out, of, bounds]</td>\n",
       "    </tr>\n",
       "    <tr>\n",
       "      <th>3</th>\n",
       "      <td>my whole body feels itchy and like its on fire</td>\n",
       "      <td>0</td>\n",
       "      <td>my whole body feels itchy and like its on fire</td>\n",
       "      <td>[my, whole, body, feels, itchy, and, like, its, on, fire]</td>\n",
       "    </tr>\n",
       "    <tr>\n",
       "      <th>4</th>\n",
       "      <td>@nationwideclass no, it's not behaving at all. i'm mad. why am i here? because I can't see you all over there.</td>\n",
       "      <td>0</td>\n",
       "      <td>no its not behaving at all im mad why am i here because i cant see you all over there</td>\n",
       "      <td>[no, its, not, behaving, at, all, im, mad, why, am, i, here, because, i, cant, see, you, all, over, there]</td>\n",
       "    </tr>\n",
       "  </tbody>\n",
       "</table>\n",
       "</div>"
      ],
      "text/plain": [
       "                                                                                                                  text  \\\n",
       "0  @switchfoot http://twitpic.com/2y1zl - Awww, that's a bummer.  You shoulda got David Carr of Third Day to do it. ;D   \n",
       "1  is upset that he can't update his Facebook by texting it... and might cry as a result  School today also. Blah!       \n",
       "2  @Kenichan I dived many times for the ball. Managed to save 50%  The rest go out of bounds                             \n",
       "3  my whole body feels itchy and like its on fire                                                                        \n",
       "4  @nationwideclass no, it's not behaving at all. i'm mad. why am i here? because I can't see you all over there.        \n",
       "\n",
       "   target  \\\n",
       "0  0        \n",
       "1  0        \n",
       "2  0        \n",
       "3  0        \n",
       "4  0        \n",
       "\n",
       "                                                                                                 clean_text  \\\n",
       "0  awww thats a bummer you shoulda got david carr of third day to do it d                                     \n",
       "1  is upset that he cant update his facebook by texting it and might cry as a result school today also blah   \n",
       "2  i dived many times for the ball managed to save the rest go out of bounds                                  \n",
       "3  my whole body feels itchy and like its on fire                                                             \n",
       "4  no its not behaving at all im mad why am i here because i cant see you all over there                      \n",
       "\n",
       "                                                                                                                        tokenized  \n",
       "0  [awww, thats, a, bummer, you, shoulda, got, david, carr, of, third, day, to, do, it, d]                                         \n",
       "1  [is, upset, that, he, cant, update, his, facebook, by, texting, it, and, might, cry, as, a, result, school, today, also, blah]  \n",
       "2  [i, dived, many, times, for, the, ball, managed, to, save, the, rest, go, out, of, bounds]                                      \n",
       "3  [my, whole, body, feels, itchy, and, like, its, on, fire]                                                                       \n",
       "4  [no, its, not, behaving, at, all, im, mad, why, am, i, here, because, i, cant, see, you, all, over, there]                      "
      ]
     },
     "execution_count": 296,
     "metadata": {},
     "output_type": "execute_result"
    }
   ],
   "source": [
    "df.head()"
   ]
  },
  {
   "cell_type": "markdown",
   "metadata": {},
   "source": [
    "remove stopwords"
   ]
  },
  {
   "cell_type": "code",
   "execution_count": 297,
   "metadata": {},
   "outputs": [],
   "source": [
    "#nltk.download('stopwords')"
   ]
  },
  {
   "cell_type": "code",
   "execution_count": 298,
   "metadata": {},
   "outputs": [],
   "source": [
    "stop = set(stopwords.words('english'))\n",
    "stop.update(['amp', 'rt', 'cc'])\n",
    "stop = stop - set(['no', 'not'])"
   ]
  },
  {
   "cell_type": "code",
   "execution_count": 299,
   "metadata": {},
   "outputs": [],
   "source": [
    "def remove_stopwords(row):\n",
    "    return [t for t in row if t not in stop]"
   ]
  },
  {
   "cell_type": "code",
   "execution_count": 300,
   "metadata": {},
   "outputs": [],
   "source": [
    "df['tokenized'] = df['tokenized'].apply(lambda row: remove_stopwords(row))"
   ]
  },
  {
   "cell_type": "code",
   "execution_count": 301,
   "metadata": {},
   "outputs": [],
   "source": [
    "pd.set_option('display.max_colwidth', -1)"
   ]
  },
  {
   "cell_type": "code",
   "execution_count": 302,
   "metadata": {},
   "outputs": [
    {
     "data": {
      "text/html": [
       "<div>\n",
       "<style scoped>\n",
       "    .dataframe tbody tr th:only-of-type {\n",
       "        vertical-align: middle;\n",
       "    }\n",
       "\n",
       "    .dataframe tbody tr th {\n",
       "        vertical-align: top;\n",
       "    }\n",
       "\n",
       "    .dataframe thead th {\n",
       "        text-align: right;\n",
       "    }\n",
       "</style>\n",
       "<table border=\"1\" class=\"dataframe\">\n",
       "  <thead>\n",
       "    <tr style=\"text-align: right;\">\n",
       "      <th></th>\n",
       "      <th>text</th>\n",
       "      <th>tokenized</th>\n",
       "    </tr>\n",
       "  </thead>\n",
       "  <tbody>\n",
       "    <tr>\n",
       "      <th>0</th>\n",
       "      <td>@switchfoot http://twitpic.com/2y1zl - Awww, that's a bummer.  You shoulda got David Carr of Third Day to do it. ;D</td>\n",
       "      <td>[awww, thats, bummer, shoulda, got, david, carr, third, day]</td>\n",
       "    </tr>\n",
       "    <tr>\n",
       "      <th>1</th>\n",
       "      <td>is upset that he can't update his Facebook by texting it... and might cry as a result  School today also. Blah!</td>\n",
       "      <td>[upset, cant, update, facebook, texting, might, cry, result, school, today, also, blah]</td>\n",
       "    </tr>\n",
       "    <tr>\n",
       "      <th>2</th>\n",
       "      <td>@Kenichan I dived many times for the ball. Managed to save 50%  The rest go out of bounds</td>\n",
       "      <td>[dived, many, times, ball, managed, save, rest, go, bounds]</td>\n",
       "    </tr>\n",
       "    <tr>\n",
       "      <th>3</th>\n",
       "      <td>my whole body feels itchy and like its on fire</td>\n",
       "      <td>[whole, body, feels, itchy, like, fire]</td>\n",
       "    </tr>\n",
       "    <tr>\n",
       "      <th>4</th>\n",
       "      <td>@nationwideclass no, it's not behaving at all. i'm mad. why am i here? because I can't see you all over there.</td>\n",
       "      <td>[no, not, behaving, im, mad, cant, see]</td>\n",
       "    </tr>\n",
       "  </tbody>\n",
       "</table>\n",
       "</div>"
      ],
      "text/plain": [
       "                                                                                                                  text  \\\n",
       "0  @switchfoot http://twitpic.com/2y1zl - Awww, that's a bummer.  You shoulda got David Carr of Third Day to do it. ;D   \n",
       "1  is upset that he can't update his Facebook by texting it... and might cry as a result  School today also. Blah!       \n",
       "2  @Kenichan I dived many times for the ball. Managed to save 50%  The rest go out of bounds                             \n",
       "3  my whole body feels itchy and like its on fire                                                                        \n",
       "4  @nationwideclass no, it's not behaving at all. i'm mad. why am i here? because I can't see you all over there.        \n",
       "\n",
       "                                                                                 tokenized  \n",
       "0  [awww, thats, bummer, shoulda, got, david, carr, third, day]                             \n",
       "1  [upset, cant, update, facebook, texting, might, cry, result, school, today, also, blah]  \n",
       "2  [dived, many, times, ball, managed, save, rest, go, bounds]                              \n",
       "3  [whole, body, feels, itchy, like, fire]                                                  \n",
       "4  [no, not, behaving, im, mad, cant, see]                                                  "
      ]
     },
     "execution_count": 302,
     "metadata": {},
     "output_type": "execute_result"
    }
   ],
   "source": [
    "df[['text', 'tokenized']].head()"
   ]
  },
  {
   "cell_type": "markdown",
   "metadata": {},
   "source": [
    "### Création du vocabulaire"
   ]
  },
  {
   "cell_type": "code",
   "execution_count": 303,
   "metadata": {},
   "outputs": [],
   "source": [
    "def update_vocab_counter(row):\n",
    "    for word in row:\n",
    "        vocab_counter[word] += 1"
   ]
  },
  {
   "cell_type": "code",
   "execution_count": 304,
   "metadata": {},
   "outputs": [],
   "source": [
    "vocab_counter = collections.Counter()\n",
    "df['tokenized'].apply(update_vocab_counter);\n",
    "vocab = sorted(vocab_counter, key=vocab_counter.get, reverse=True)"
   ]
  },
  {
   "cell_type": "code",
   "execution_count": 305,
   "metadata": {},
   "outputs": [
    {
     "data": {
      "text/plain": [
       "421400"
      ]
     },
     "execution_count": 305,
     "metadata": {},
     "output_type": "execute_result"
    }
   ],
   "source": [
    "len(vocab)"
   ]
  },
  {
   "cell_type": "code",
   "execution_count": 306,
   "metadata": {},
   "outputs": [],
   "source": [
    "import operator\n",
    "words_count = sorted(vocab_counter.items(), key=operator.itemgetter(1), reverse=True)"
   ]
  },
  {
   "cell_type": "code",
   "execution_count": 307,
   "metadata": {},
   "outputs": [],
   "source": [
    "rank=[]\n",
    "frequency=[]\n",
    "for i, c in enumerate(words_count):\n",
    "    rank.append(i)\n",
    "    frequency.append(c[1])"
   ]
  },
  {
   "cell_type": "code",
   "execution_count": 308,
   "metadata": {},
   "outputs": [
    {
     "data": {
      "image/png": "[encoded data removed]",
      "text/plain": [
       "<Figure size 432x288 with 1 Axes>"
      ]
     },
     "metadata": {
      "needs_background": "light"
     },
     "output_type": "display_data"
    }
   ],
   "source": [
    "plt.plot(rank[:1000], frequency[:1000])\n",
    "plt.show()"
   ]
  },
  {
   "cell_type": "code",
   "execution_count": 309,
   "metadata": {
    "scrolled": true
   },
   "outputs": [
    {
     "name": "stdout",
     "output_type": "stream",
     "text": [
      "['im', 'not', 'good', 'day', 'get', 'like', 'no', 'go', 'dont', 'today', 'going', 'love', 'cant', 'work', 'got', 'time', 'back', 'lol', 'u', 'one', 'know', 'really', 'see', 'well', 'still', 'want', 'new', 'night', 'think', 'thanks', 'home', 'oh', 'much', 'miss', 'need', 'last', 'morning', 'hope', 'great', 'tomorrow', 'ill', 'twitter', 'thats', 'haha', 'feel', 'sad', 'fun', 'wish', 'right', 'didnt', 'sleep', 'bad', 'would', 'happy', 'sorry', 'tonight', 'come', 'make', 'getting', 'way', 'gonna', 'though', 'ive', 'nice', 'better', 'watching', 'wait', 'could', 'yeah', 'bed', 'week', 'youre', 'people', 'school', 'hate', 'days', 'even', 'hey', 'next', 'weekend', 'yes', 'awesome', 'never', 'thank', 'soon', 'take', 'little', 'long', 'first', 'working', 'wanna', 'say', 'best', 'please', 'show', 'tired', 'sick', 'watch', 'everyone', 'ok', 'wont', 'life', 'done', 'feeling', 'sure', 'always', 'friends', 'already', 'thing', 'another', 'x', 'us', 'find', 'cool', 'something', 'guys', 'ready', 'made', 'looking', 'yay', 'went', 'hours', 'doesnt', 'man', 'look', 'lt', 'phone', 'ur', 'yet', 'house', 'movie', 'ever', 'pretty', 'trying', 'away', 'maybe', 'omg', 'finally', 'old', 'help', 'summer', 'let', 'amazing', 'early', 'things', 'left', 'lost', 'tweet', 'guess', 'follow', 'damn', 'keep', 'thought', 'someone', 'big', 'bit', 'missed', 'havent', 'hot', 'sucks', 'year', 'nothing', 'rain', 'start', 'friend', 'try', 'glad', 'wow', 'coming', 'also', 'tell', 'looks', 'birthday', 'bored', 'live', 'n', 'two', 'hear', 'girl', 'later', 'weather', 'actually', 'saw', 'baby', 'ya', 'isnt', 'sun', 'song', 'makes', 'stuff', 'might', 'excited', 'waiting', 'party', 'said', 'hard', 'hes', 'play', 'game', 'since', 'th', 'ugh', 'lot', 'yesterday', 'hi', 'id', 'late', 'gotta', 'around', 'god', 'world', 'many', 'car', 'sounds', 'music', 'found', 'luck', 'check', 'head', 'give', 'job', 'beautiful', 'must', 'friday', 'read', 'cold', 'making', 'whats', 'call', 'put', 'gone', 'talk', 'may', 'sunday', 'missing', 'aww', 'least', 'anything', 'woke', 'poor', 'till', 'mom', 'stop', 'monday', 'leave', 'use', 'almost', 'times', 'listening', 'okay', 'cute', 'tho', 'far', 'hair', 'wanted', 'hurts', 'hour', 'lunch', 'mean', 'iphone', 'eat', 'free', 'family', 'shes', 'theres', 'enjoy', 'funny', 'food', 'finished', 'end', 'dinner', 'believe', 'playing', 'forward', 'anyone', 'welcome', 'without', 'followers', 'thinking', 'shit', 'everything', 'sweet', 'every', 'cause', 'totally', 'video', 'wasnt', 'r', 'buy', 'outside', 'enough', 'weeks', 'stupid', 'hahaha', 'w', 'real', 'mine', 'coffee', 'wrong', 'b', 'anymore', 'couldnt', 'probably', 'place', 'eating', 'room', 'wants', 'stay', 'win', 'xx', 'tweets', 'money', 'sooo', 'busy', 'tv', 'following', 'ha', 'hell', 'lovely', 'whole', 'came', 'seen', 'says', 'taking', 'saturday', 'pic', 'kinda', 'kids', 'class', 'exam', 'beach', 'took', 'years', 'hopefully', 'lets', 'crazy', 'headache', 'super', 'name', 'idea', 'hello', 'able', 'dad', 'theyre', 'news', 'half', 'true', 'forgot', 'guy', 'book', 'meet', 'goodnight', 'lots', 'post', 'awww', 'leaving', 'pm', 'face', 'girls', 'sitting', 'send', 'rest', 'ago', 'either', 'used', 'reading', 'else', 'soo', 'full', 'feels', 'shopping', 'hurt', 'computer', 'run', 'seems', 'ah', 'talking', 'cuz', 'watched', 'raining', 'tried', 'hit', 'remember', 'needs', 'stuck', 'heard', 'alone', 'blog', 'trip', 'fuck', 'office', 'boo', 'started', 'kind', 'dog', 'course', 'btw', 'heart', 'seeing', 'hehe', 'st', 'internet', 'part', 'mind', 'using', 'quite', 'online', 'picture', 'told', 'add', 'awake', 'pics', 'loved', 'goes', 'boy', 'fine', 'cry', 'til', 'pain', 'break', 'breakfast', 'la', 'change', 'gets', 'wake', 'person', 'bought', 'sunny', 'minutes', 'boring', 'seriously', 'broke', 'update', 'youll', 'care', 'called', 'facebook', 'season', 'starting', 'concert', 'pay', 'open', 'lucky', 'asleep', 'june', 'aw', 'dude', 'lmao', 'ass', 'bring', 'favorite', 'link', 'nite', 'anyway', 'hungry', 'crap', 'site', 'heading', 'reply', 'month', 'instead', 'email', 'sleeping', 'mothers', 'p', 'xd', 'walk', 'train', 'study', 'afternoon', 'drive', 'shower', 'fan', 'jealous', 'enjoying', 'exams', 'bout', 'red', 'text', 'wonderful', 'mad', 'definitely', 'sore', 'hoping', 'yea', 'ice', 'soooo', 'move', 'bye', 'running', 'rock', 'finish', 'together', 'problem', 'bday', 'died', 'congrats', 'high', 'means', 'ask', 'ones', 'works', 'dead', 'goin', 'happened', 'fucking', 'fail', 'sister', 'city', 'sometimes', 'homework', 'couple', 'write', 'boys', 'dear', 'movies', 'album', 'months', 'drink', 'comes', 'suck', 'top', 'wouldnt', 'cut', 'laptop', 'loves', 'brother', 'set', 'eyes', 'arent', 'youtube', 'church', 'tour', 'ppl', 'reason', 'ipod', 'sound', 'happen', 'tea', 'water', 'evening', 'visit', 'perfect', 'final', 'songs', 'lil', 'dream', 'town', 'listen', 'meeting', 'studying', 'nap', 'weird', 'seem', 'c', 'yall', 'close', 'fall', 'sigh', 'gt', 'loving', 'side', 'dance', 'tickets', 'gym', 'less', 'test', 'english', 'hang', 'mood', 'fb', 'ate', 'interesting', 'knew', 'catch', 'cat', 'nd', 'agree', 'cream', 'ps', 'second', 'clean', 'list', 'turn', 'store', 'moment', 'worst', 'aint', 'writing', 'story', 'awards', 'saying', 'word', 'ahh', 'ride', 'supposed', 'worth', 'pool', 'chocolate', 'wishing', 'broken', 'smile', 'london', 'fast', 'page', 'via', 'unfortunately', 'air', 'past', 'moving', 'driving', 'xxx', 'three', 'throat', 'forget', 'sent', 'pictures', 'da', 'gave', 'yep', 'dreams', 'wedding', 'short', 'understand', 'photo', 'park', 'cleaning', 'followfriday', 'black', 'horrible', 'sleepy', 'sunshine', 'drinking', 'pick', 'jonas', 'plan', 'star', 'tweeting', 'chance', 'college', 'account', 'wonder', 'k', 'worse', 'rather', 'longer', 'em', 'fell', 'slow', 'team', 'hugs', 'hmm', 'sat', 'vote', 'cannot', 'scared', 'bet', 'youve', 'easy', 'apparently', 'parents', 'date', 'upset', 'due', 'moon', 'flight', 'spent', 'green', 'point', 'e', 'lady', 'special', 'mac', 'huge', 'holiday', 'updates', 'mum', 'plans', 'mtv', 'hows', 'spend', 'tuesday', 'hand', 'hanging', 'plus', 'flu', 'nope', 'fair', 'earlier', 'join', 'thx', 'words', 'wondering', 'wtf', 'shows', 'band', 'sims', 'shame', 'website', 'worry', 'miley', 'lazy', 'body', 'bus', 'uk', 'slept', 'message', 'forever', 'wear', 'brothers', 'answer', 'thinks', 'vacation', 'white', 'stomach', 'mr', 'ahhh', 'beer', 'warm', 'looked', 'figure', 'learn', 'voice', 'quot', 'thursday', 'sadly', 'hrs', 'july', 'idk', 'especially', 'different', 'support', 'fans', 'die', 'meant', 'cake', 'line', 'itll', 'inside', 'chat', 'met', 'number', 'photos', 'liked', 'myspace', 'officially', 'google', 'episode', 'mins', 'fix', 'safe', 'rainy', 'david', 'camera', 'airport', 'crying', 'dress', 'small', 'absolutely', 'pizza', 'bbq', 'yummy', 'tom', 'shop', 'tummy', 'games', 'worked', 'shall', 'felt', 'decided', 'paper', 'luv', 'proud', 'rip', 'boyfriend', 'graduation', 'radio', 'project', 'power', 'finals', 'save', 'garden', 'except', 'shoes', 'needed', 'beat', 'g', 'eye', 'wit', 'kill', 'bike', 'road', 'played', 'hug', 'nights', 'gorgeous', 'lonely', 'starts', 'keeps', 'annoying', 'blue', 'books', 'chicken', 'apple', 'exactly', 'hospital', 'alright', 'case', 'wishes', 'exciting', 'kid', 'sign', 'cos', 'hates', 'yup', 'front', 'card', 'feet', 'twilight', 'taken', 'son', 'yo', 'french', 'living', 'wine', 'dm', 'fact', 'xoxo', 'near', 'lame', 'babe', 'wednesday', 'cd', 'turned', 'packing', 'woo', 'l', 'laugh', 'knows', 'goodbye', 'realized', 'hubby', 'scary', 'bc', 'share', 'club', 'happens', 'behind', 'question', 'ouch', 'sold', 'download', 'jus', 'waking', 'gettin', 'pass', 'business', 'cup', 'moms', 'service', 'giving', 'killing', 'videos', 'minute', 'lose', 'drunk', 'walking', 'order', 'clothes', 'app', 'although', 'along', 'enjoyed', 'relaxing', 'hahah', 'film', 'touch', 'terrible', 'everybody', 'bro', 'alot', 'passed', 'guitar', 'posted', 'hasnt', 'company', 'fantastic', 'whatever', 'random', 'sis', 'vegas', 'revision', 'sit', 'version', 'staying', 'asked', 'round', 'ahead', 'interview', 'single', 'indeed', 'bb', 'box', 'hmmm', 'mother', 'singing', 'light', 'vip', 'bummed', 'fly', 'completely', 'web', 'comment', 'upload', 'history', 'lakers', 'dark', 'deal', 'dying', 'wife', 'eh', 'ohh', 'currently', 'lately', 'ff', 'changed', 'freaking', 'usually', 'min', 'bitch', 'plane', 'shirt', 'wearing', 'hun', 'others', 'huh', 'headed', 'disappointed', 'bloody', 'hangover', 'whos', 'worried', 'awful', 'camp', 'shoot', 'fingers', 'fml', 'gosh', 'v', 'traffic', 'ran', 'peace', 'watchin', 'hotel', 'sing', 'quick', 'caught', 'hold', 'spending', 'death', 'bar', 'extra', 'country', 'serious', 'nearly', 'fathers', 'itunes', 'dogs', 'somewhere', 'sexy', 'fat', 'coz', 'art', 'closed', 'exhausted', 'appreciate', 'pissed', 'matter', 'door', 'fixed', 'profile', 'cheese', 'f', 'shouldnt', 'maths', 'nose', 'yum', 'chillin', 'na', 'cook', 'pc', 'dunno', 'blood', 'takes', 'problems', 'ooh', 'math', 'dvd', 'def', 'pink']\n"
     ]
    }
   ],
   "source": [
    "#top 1000 des tokens les plus fréquents\n",
    "print(vocab[:1000])"
   ]
  },
  {
   "cell_type": "code",
   "execution_count": 310,
   "metadata": {},
   "outputs": [],
   "source": [
    "#On limite la taille du dictionnaire aux 100000 tokens les plus fréquents\n",
    "max_words = 100000"
   ]
  },
  {
   "cell_type": "code",
   "execution_count": 311,
   "metadata": {},
   "outputs": [],
   "source": [
    "#Dictionnaire qui map les tokens avec leur ID."
   ]
  },
  {
   "cell_type": "code",
   "execution_count": 312,
   "metadata": {},
   "outputs": [],
   "source": [
    "w2id = {w:i for i, w in enumerate(vocab[:max_words])}"
   ]
  },
  {
   "cell_type": "code",
   "execution_count": 313,
   "metadata": {},
   "outputs": [],
   "source": [
    "#On remplace les autres tokens par unk"
   ]
  },
  {
   "cell_type": "code",
   "execution_count": 314,
   "metadata": {},
   "outputs": [],
   "source": [
    "w2id['unk'] = -1"
   ]
  },
  {
   "cell_type": "code",
   "execution_count": 315,
   "metadata": {},
   "outputs": [],
   "source": [
    "def transform_to_ids(row):\n",
    "    return [w2id[w] if w in w2id else w2id['unk'] for w in row]"
   ]
  },
  {
   "cell_type": "code",
   "execution_count": 316,
   "metadata": {},
   "outputs": [],
   "source": [
    "df['tokenized_int'] = df['tokenized'].apply(lambda x: transform_to_ids(x))"
   ]
  },
  {
   "cell_type": "code",
   "execution_count": 317,
   "metadata": {},
   "outputs": [],
   "source": [
    "pd.set_option('display.max_colwidth', -1)"
   ]
  },
  {
   "cell_type": "code",
   "execution_count": 318,
   "metadata": {},
   "outputs": [
    {
     "data": {
      "text/html": [
       "<div>\n",
       "<style scoped>\n",
       "    .dataframe tbody tr th:only-of-type {\n",
       "        vertical-align: middle;\n",
       "    }\n",
       "\n",
       "    .dataframe tbody tr th {\n",
       "        vertical-align: top;\n",
       "    }\n",
       "\n",
       "    .dataframe thead th {\n",
       "        text-align: right;\n",
       "    }\n",
       "</style>\n",
       "<table border=\"1\" class=\"dataframe\">\n",
       "  <thead>\n",
       "    <tr style=\"text-align: right;\">\n",
       "      <th></th>\n",
       "      <th>text</th>\n",
       "      <th>tokenized</th>\n",
       "      <th>tokenized_int</th>\n",
       "    </tr>\n",
       "  </thead>\n",
       "  <tbody>\n",
       "    <tr>\n",
       "      <th>0</th>\n",
       "      <td>@switchfoot http://twitpic.com/2y1zl - Awww, that's a bummer.  You shoulda got David Carr of Third Day to do it. ;D</td>\n",
       "      <td>[awww, thats, bummer, shoulda, got, david, carr, third, day]</td>\n",
       "      <td>[354, 42, 1090, 3302, 14, 752, 9647, 1728, 3]</td>\n",
       "    </tr>\n",
       "    <tr>\n",
       "      <th>1</th>\n",
       "      <td>is upset that he can't update his Facebook by texting it... and might cry as a result  School today also. Blah!</td>\n",
       "      <td>[upset, cant, update, facebook, texting, might, cry, result, school, today, also, blah]</td>\n",
       "      <td>[662, 12, 432, 436, 1883, 190, 416, 2157, 73, 9, 169, 1068]</td>\n",
       "    </tr>\n",
       "    <tr>\n",
       "      <th>2</th>\n",
       "      <td>@Kenichan I dived many times for the ball. Managed to save 50%  The rest go out of bounds</td>\n",
       "      <td>[dived, many, times, ball, managed, save, rest, go, bounds]</td>\n",
       "      <td>[70063, 211, 247, 1210, 1497, 780, 361, 7, 22254]</td>\n",
       "    </tr>\n",
       "    <tr>\n",
       "      <th>3</th>\n",
       "      <td>my whole body feels itchy and like its on fire</td>\n",
       "      <td>[whole, body, feels, itchy, like, fire]</td>\n",
       "      <td>[319, 702, 369, 2747, 5, 1047]</td>\n",
       "    </tr>\n",
       "    <tr>\n",
       "      <th>4</th>\n",
       "      <td>@nationwideclass no, it's not behaving at all. i'm mad. why am i here? because I can't see you all over there.</td>\n",
       "      <td>[no, not, behaving, im, mad, cant, see]</td>\n",
       "      <td>[6, 1, 10232, 0, 480, 12, 22]</td>\n",
       "    </tr>\n",
       "  </tbody>\n",
       "</table>\n",
       "</div>"
      ],
      "text/plain": [
       "                                                                                                                  text  \\\n",
       "0  @switchfoot http://twitpic.com/2y1zl - Awww, that's a bummer.  You shoulda got David Carr of Third Day to do it. ;D   \n",
       "1  is upset that he can't update his Facebook by texting it... and might cry as a result  School today also. Blah!       \n",
       "2  @Kenichan I dived many times for the ball. Managed to save 50%  The rest go out of bounds                             \n",
       "3  my whole body feels itchy and like its on fire                                                                        \n",
       "4  @nationwideclass no, it's not behaving at all. i'm mad. why am i here? because I can't see you all over there.        \n",
       "\n",
       "                                                                                 tokenized  \\\n",
       "0  [awww, thats, bummer, shoulda, got, david, carr, third, day]                              \n",
       "1  [upset, cant, update, facebook, texting, might, cry, result, school, today, also, blah]   \n",
       "2  [dived, many, times, ball, managed, save, rest, go, bounds]                               \n",
       "3  [whole, body, feels, itchy, like, fire]                                                   \n",
       "4  [no, not, behaving, im, mad, cant, see]                                                   \n",
       "\n",
       "                                                 tokenized_int  \n",
       "0  [354, 42, 1090, 3302, 14, 752, 9647, 1728, 3]                \n",
       "1  [662, 12, 432, 436, 1883, 190, 416, 2157, 73, 9, 169, 1068]  \n",
       "2  [70063, 211, 247, 1210, 1497, 780, 361, 7, 22254]            \n",
       "3  [319, 702, 369, 2747, 5, 1047]                               \n",
       "4  [6, 1, 10232, 0, 480, 12, 22]                                "
      ]
     },
     "execution_count": 318,
     "metadata": {},
     "output_type": "execute_result"
    }
   ],
   "source": [
    "df[['text', 'tokenized', 'tokenized_int']].head()"
   ]
  },
  {
   "cell_type": "markdown",
   "metadata": {},
   "source": [
    "## Naive Bayes"
   ]
  },
  {
   "cell_type": "markdown",
   "metadata": {},
   "source": [
    "A la place d'utiliser juste la fréquence des termes, on choisit d'utiliser tf-idf pour apporter plus de justesse dans notre classification\n",
    "On peut également vectoriser en bi-gramme, tri-gramme."
   ]
  },
  {
   "cell_type": "markdown",
   "metadata": {},
   "source": [
    "**Split dataset into train and valid**"
   ]
  },
  {
   "cell_type": "markdown",
   "metadata": {},
   "source": [
    "Tf-idf"
   ]
  },
  {
   "cell_type": "code",
   "execution_count": 46,
   "metadata": {},
   "outputs": [],
   "source": [
    "from sklearn.feature_extraction.text import TfidfVectorizer\n",
    "\n",
    "vect = TfidfVectorizer(strip_accents='unicode', tokenizer=tokenize, ngram_range=(1, 2), max_df=0.75, min_df=3, sublinear_tf=True)"
   ]
  },
  {
   "cell_type": "code",
   "execution_count": 47,
   "metadata": {},
   "outputs": [],
   "source": [
    "X_train, X_valid, y_train, y_valid = train_test_split(df['clean_text'].values, df['target'].values, test_size=0.20, random_state=42)"
   ]
  },
  {
   "cell_type": "code",
   "execution_count": 48,
   "metadata": {},
   "outputs": [],
   "source": [
    "tfidf_train = vect.fit_transform(X_train)\n",
    "tfidf_valid = vect.transform(X_valid)"
   ]
  },
  {
   "cell_type": "code",
   "execution_count": 52,
   "metadata": {},
   "outputs": [],
   "source": [
    "def naive_bayes(x, y):\n",
    "    r = []; b = []\n",
    "    labels = np.unique(y)\n",
    "\n",
    "    for l in labels:\n",
    "        other_l = labels[labels != l]\n",
    "        p = x[y == l].sum(0) + 1 #sum of tfidf vectors of label = 1\n",
    "        q = x[y == other_l].sum(0) + 1 #sum of tfidf vectors of label = 0\n",
    "        r.append(np.log((p/p.sum())/(q/q.sum()))) #log ratio\n",
    "        b.append(np.log(len(p)/len(q))) #ratio of positive and negative\n",
    "    \n",
    "    return r, b"
   ]
  },
  {
   "cell_type": "code",
   "execution_count": 53,
   "metadata": {},
   "outputs": [],
   "source": [
    "r, b = naive_bayes(tfidf_train, y_train)\n",
    "\n",
    "pre_preds = []\n",
    "for j in range(len(r)):\n",
    "    pre_preds.append(np.asarray(tfidf_valid @ r[j].T + b[j]).reshape(-1))\n",
    "arr = np.array(pre_preds)"
   ]
  },
  {
   "cell_type": "code",
   "execution_count": 54,
   "metadata": {},
   "outputs": [
    {
     "data": {
      "text/plain": [
       "0.804346875"
      ]
     },
     "execution_count": 54,
     "metadata": {},
     "output_type": "execute_result"
    }
   ],
   "source": [
    "metrics.accuracy_score(y_valid, np.argmax(arr.T, axis=1))"
   ]
  },
  {
   "cell_type": "code",
   "execution_count": 55,
   "metadata": {},
   "outputs": [
    {
     "name": "stdout",
     "output_type": "stream",
     "text": [
      "              precision    recall  f1-score   support\n",
      "\n",
      "           0       0.79      0.82      0.81    159635\n",
      "           1       0.82      0.79      0.80    160365\n",
      "\n",
      "   micro avg       0.80      0.80      0.80    320000\n",
      "   macro avg       0.80      0.80      0.80    320000\n",
      "weighted avg       0.80      0.80      0.80    320000\n",
      "\n"
     ]
    }
   ],
   "source": [
    "print(metrics.classification_report(y_valid, np.argmax(arr.T, axis=1)))"
   ]
  },
  {
   "cell_type": "code",
   "execution_count": 56,
   "metadata": {},
   "outputs": [
    {
     "data": {
      "image/png": "[encoded data removed]",
      "text/plain": [
       "<Figure size 432x288 with 2 Axes>"
      ]
     },
     "metadata": {},
     "output_type": "display_data"
    }
   ],
   "source": [
    "array = metrics.confusion_matrix(y_valid, np.argmax(arr.T, axis=1))\n",
    "array = array.astype('float') / array.sum(axis=1)[:, np.newaxis]\n",
    "\n",
    "df_cm = pd.DataFrame(array, range(2),range(2))\n",
    "#plt.figure(figsize = (10,7))\n",
    "sn.set(font_scale=1.4)#for label size\n",
    "sn.heatmap(df_cm, annot=True,annot_kws={\"size\": 16})# font size\n",
    "plt.xlabel('Classe prédite')\n",
    "plt.ylabel('Classe réelle')\n",
    "plt.show()"
   ]
  },
  {
   "cell_type": "markdown",
   "metadata": {},
   "source": [
    "## Logistic Regression"
   ]
  },
  {
   "cell_type": "code",
   "execution_count": 92,
   "metadata": {},
   "outputs": [
    {
     "data": {
      "text/plain": [
       "LogisticRegression(C=1.0, class_weight=None, dual=False, fit_intercept=True,\n",
       "          intercept_scaling=1, max_iter=100, multi_class='warn',\n",
       "          n_jobs=None, penalty='l2', random_state=None, solver='warn',\n",
       "          tol=0.0001, verbose=0, warm_start=False)"
      ]
     },
     "execution_count": 92,
     "metadata": {},
     "output_type": "execute_result"
    }
   ],
   "source": [
    "model = LogisticRegression()\n",
    "model.fit(tfidf_train, y_train)"
   ]
  },
  {
   "cell_type": "code",
   "execution_count": 75,
   "metadata": {},
   "outputs": [
    {
     "name": "stdout",
     "output_type": "stream",
     "text": [
      "accuracy: 0.82303125\n"
     ]
    }
   ],
   "source": [
    "preds = model.predict(tfidf_valid)\n",
    "accuracy = (preds == y_valid).mean()\n",
    "print('accuracy:', accuracy)"
   ]
  },
  {
   "cell_type": "code",
   "execution_count": 76,
   "metadata": {},
   "outputs": [
    {
     "name": "stdout",
     "output_type": "stream",
     "text": [
      "              precision    recall  f1-score   support\n",
      "\n",
      "           0       0.83      0.81      0.82    159494\n",
      "           1       0.82      0.83      0.83    160506\n",
      "\n",
      "   micro avg       0.82      0.82      0.82    320000\n",
      "   macro avg       0.82      0.82      0.82    320000\n",
      "weighted avg       0.82      0.82      0.82    320000\n",
      "\n"
     ]
    }
   ],
   "source": [
    "print(metrics.classification_report(y_valid, preds))"
   ]
  },
  {
   "cell_type": "markdown",
   "metadata": {},
   "source": [
    "**Visualisation des tokens**"
   ]
  },
  {
   "cell_type": "code",
   "execution_count": 93,
   "metadata": {},
   "outputs": [],
   "source": [
    "def get_tokens_coefs(vocab, coefs, n):\n",
    "    coef_df = pd.DataFrame({'vocab': vocab, 'coef':coefs.reshape(-1)})\n",
    "    return coef_df.sort_values('coef', ascending=False).reset_index(drop=True)[:n]"
   ]
  },
  {
   "cell_type": "code",
   "execution_count": 94,
   "metadata": {},
   "outputs": [],
   "source": [
    "def plot_tokens_coefs(df, ax, label):\n",
    "    df.sort_values('coef').plot.barh(legend=False, ax=ax)\n",
    "    ax.set_yticklabels(df['vocab'].values.tolist()[::-1])\n",
    "    ax.set_title(label);"
   ]
  },
  {
   "cell_type": "code",
   "execution_count": 95,
   "metadata": {},
   "outputs": [],
   "source": [
    "plt.rc('xtick', labelsize=14)\n",
    "plt.rc('ytick', labelsize=14)\n",
    "sn.set_style(style='white')"
   ]
  },
  {
   "cell_type": "code",
   "execution_count": null,
   "metadata": {},
   "outputs": [],
   "source": []
  },
  {
   "cell_type": "code",
   "execution_count": 108,
   "metadata": {},
   "outputs": [
    {
     "data": {
      "image/png": "[encoded data removed]",
      "text/plain": [
       "<Figure size 1080x576 with 2 Axes>"
      ]
     },
     "metadata": {},
     "output_type": "display_data"
    }
   ],
   "source": [
    "vocab = vect.get_feature_names()\n",
    "n_coefs = 30\n",
    "\n",
    "fig, axs = plt.subplots(1, 2, figsize=(15, 8))\n",
    "fig.subplots_adjust(wspace=0.8)\n",
    "\n",
    "coef_df = get_tokens_coefs(vocab, model.coef_, n_coefs)\n",
    "plot_tokens_coefs(coef_df, axs[0], 'positif')\n",
    "\n",
    "coef_df = get_tokens_coefs(vocab, 1-model.coef_, n_coefs)\n",
    "plot_tokens_coefs(coef_df, axs[1], 'negatif')"
   ]
  },
  {
   "cell_type": "markdown",
   "metadata": {},
   "source": [
    "## Linear model"
   ]
  },
  {
   "cell_type": "markdown",
   "metadata": {},
   "source": [
    "Train - Test split"
   ]
  },
  {
   "cell_type": "code",
   "execution_count": 348,
   "metadata": {},
   "outputs": [],
   "source": [
    "X_train, X_valid, y_train, y_valid = train_test_split(df['tokenized_int'].values, df['target'].values, test_size=0.25, random_state=0)"
   ]
  },
  {
   "cell_type": "markdown",
   "metadata": {},
   "source": [
    "Nous allons créé un réseau de neurones avec une couche embedding de dimension 100 comme input et aucune couche cachée.\n",
    "C'est équivalent à appliquer une régression logistique sur les vecteurs mots au lieu de l'appliquer aux vecteurs 1hot"
   ]
  },
  {
   "cell_type": "code",
   "execution_count": 58,
   "metadata": {},
   "outputs": [],
   "source": [
    "def baseline_model():\n",
    "    model = Sequential([Embedding(input_dim=max_words, output_dim=50, input_length=maxlen),\n",
    "                        Flatten(),\n",
    "                        Dense(2, activation='sigmoid')])\n",
    "\n",
    "    model.compile(loss='binary_crossentropy', optimizer=Adam(), metrics=['accuracy'])\n",
    "    \n",
    "    return model"
   ]
  },
  {
   "cell_type": "markdown",
   "metadata": {},
   "source": [
    "Pour ce modèle, les vecteurs mots ont besoin d'être de taille fixé"
   ]
  },
  {
   "cell_type": "markdown",
   "metadata": {},
   "source": [
    "- limitation de la longueur d'un tweet"
   ]
  },
  {
   "cell_type": "code",
   "execution_count": 349,
   "metadata": {},
   "outputs": [],
   "source": [
    "lens = df['tokenized_int'].apply(lambda x: len(x))"
   ]
  },
  {
   "cell_type": "code",
   "execution_count": 60,
   "metadata": {},
   "outputs": [
    {
     "data": {
      "text/plain": [
       "(0, 35, 7.239204375)"
      ]
     },
     "execution_count": 60,
     "metadata": {},
     "output_type": "execute_result"
    }
   ],
   "source": [
    "min(lens), max(lens), np.mean(lens)"
   ]
  },
  {
   "cell_type": "code",
   "execution_count": 321,
   "metadata": {},
   "outputs": [],
   "source": [
    "maxlen = 10"
   ]
  },
  {
   "cell_type": "markdown",
   "metadata": {},
   "source": [
    "On choisit donc une longueur de tweet maximale de 10"
   ]
  },
  {
   "cell_type": "markdown",
   "metadata": {},
   "source": [
    "On remplit les vecteurs/phrases de taille inférieure à 10 avec des -1 (représentant les mot de type 'unk')."
   ]
  },
  {
   "cell_type": "code",
   "execution_count": 350,
   "metadata": {},
   "outputs": [],
   "source": [
    "x_train = pad_sequences(X_train, maxlen=maxlen, value=-1)\n",
    "x_valid = pad_sequences(X_valid, maxlen=maxlen, value=-1)"
   ]
  },
  {
   "cell_type": "markdown",
   "metadata": {},
   "source": [
    "On encode les classes en 1hot vector:"
   ]
  },
  {
   "cell_type": "code",
   "execution_count": 351,
   "metadata": {},
   "outputs": [],
   "source": [
    "hot_y = np_utils.to_categorical(y_train)\n",
    "hot_y_valid = np_utils.to_categorical(y_valid)"
   ]
  },
  {
   "cell_type": "markdown",
   "metadata": {},
   "source": [
    "model training"
   ]
  },
  {
   "cell_type": "code",
   "execution_count": 65,
   "metadata": {},
   "outputs": [
    {
     "name": "stdout",
     "output_type": "stream",
     "text": [
      "Train on 1200000 samples, validate on 400000 samples\n",
      "Epoch 1/5\n",
      "1200000/1200000 [==============================] - 88s 73us/step - loss: 0.4737 - acc: 0.7801 - val_loss: 0.4606 - val_acc: 0.7889\n",
      "Epoch 2/5\n",
      "1200000/1200000 [==============================] - 85s 71us/step - loss: 0.4343 - acc: 0.8048 - val_loss: 0.4670 - val_acc: 0.7857\n",
      "Epoch 3/5\n",
      "1200000/1200000 [==============================] - 85s 71us/step - loss: 0.4024 - acc: 0.8227 - val_loss: 0.4856 - val_acc: 0.7782\n",
      "Epoch 4/5\n",
      "1200000/1200000 [==============================] - 85s 71us/step - loss: 0.3783 - acc: 0.8357 - val_loss: 0.5066 - val_acc: 0.7730\n",
      "Epoch 5/5\n",
      "1200000/1200000 [==============================] - 85s 71us/step - loss: 0.3620 - acc: 0.8438 - val_loss: 0.5245 - val_acc: 0.7682\n"
     ]
    },
    {
     "data": {
      "text/plain": [
       "<keras.callbacks.History at 0x14cf5240da0>"
      ]
     },
     "execution_count": 65,
     "metadata": {},
     "output_type": "execute_result"
    }
   ],
   "source": [
    "model = baseline_model()\n",
    "baseline_history = model.fit(x_train, hot_y, validation_data=(x_valid, hot_y_valid), epochs=5, batch_size=100)"
   ]
  },
  {
   "cell_type": "code",
   "execution_count": null,
   "metadata": {},
   "outputs": [],
   "source": [
    "acc = baseline_history.history['acc']\n",
    "val_acc = baseline_history.history['val_acc']\n",
    "loss= baseline_history.history['loss']\n",
    "val_loss= baseline_history.history['val_loss']"
   ]
  },
  {
   "cell_type": "code",
   "execution_count": null,
   "metadata": {},
   "outputs": [],
   "source": [
    "num_epochs=range(1,len(loss)+1)\n",
    "\n",
    "plt.plot(num_epochs, loss, 'bo', label='Training loss')\n",
    "plt.plot(num_epochs, val_loss, 'b', label='Validation loss')\n",
    "plt.title('Training and validation loss')\n",
    "plt.xlabel('Epochs')\n",
    "plt.ylabel('Loss')\n",
    "plt.legend()\n",
    "\n",
    "plt.figure()\n",
    "\n",
    "plt.plot(num_epochs, acc, 'bo', label='Training accuracy')\n",
    "plt.plot(num_epochs, val_acc, 'b', label='Validation accuracy')\n",
    "plt.title('Training and validation accuracy')\n",
    "plt.xlabel('Epochs')\n",
    "plt.ylabel('Accuracy')\n",
    "plt.legend()\n",
    "\n",
    "plt.show()"
   ]
  },
  {
   "cell_type": "markdown",
   "metadata": {},
   "source": [
    "## Convolutional Neural Network"
   ]
  },
  {
   "cell_type": "markdown",
   "metadata": {},
   "source": [
    "Nous allons créé un réseau de neurones convolutionel très simple. Il dispose d'une couche de convolution (10 filtres de taille 3)."
   ]
  },
  {
   "cell_type": "code",
   "execution_count": 73,
   "metadata": {},
   "outputs": [],
   "source": [
    "def conv_model():\n",
    "    model = Sequential([Embedding(input_dim=max_words, output_dim=32, input_length=maxlen),\n",
    "                        Convolution1D(10, 3, padding='same', activation='relu'),\n",
    "                        MaxPooling1D(),\n",
    "                        Flatten(),\n",
    "                        Dense(50, activation='relu'),\n",
    "                        Dense(2, activation='sigmoid')])\n",
    "\n",
    "    model.compile(loss='binary_crossentropy', optimizer=Adam(), metrics=['accuracy'])\n",
    "    \n",
    "    return model"
   ]
  },
  {
   "cell_type": "code",
   "execution_count": 74,
   "metadata": {},
   "outputs": [
    {
     "name": "stdout",
     "output_type": "stream",
     "text": [
      "Train on 1200000 samples, validate on 400000 samples\n",
      "Epoch 1/5\n",
      "1200000/1200000 [==============================] - 71s 60us/step - loss: 0.4402 - acc: 0.7940 - val_loss: 0.4175 - val_acc: 0.8076\n",
      "Epoch 2/5\n",
      "1200000/1200000 [==============================] - 72s 60us/step - loss: 0.3866 - acc: 0.8254 - val_loss: 0.4160 - val_acc: 0.8097\n",
      "Epoch 3/5\n",
      "1200000/1200000 [==============================] - 72s 60us/step - loss: 0.3512 - acc: 0.8442 - val_loss: 0.4274 - val_acc: 0.8058\n",
      "Epoch 4/5\n",
      "1200000/1200000 [==============================] - 73s 61us/step - loss: 0.3197 - acc: 0.8608 - val_loss: 0.4531 - val_acc: 0.7991\n",
      "Epoch 5/5\n",
      "1200000/1200000 [==============================] - 72s 60us/step - loss: 0.2937 - acc: 0.8734 - val_loss: 0.4749 - val_acc: 0.7964\n"
     ]
    },
    {
     "data": {
      "text/plain": [
       "<keras.callbacks.History at 0x1890d707240>"
      ]
     },
     "execution_count": 74,
     "metadata": {},
     "output_type": "execute_result"
    }
   ],
   "source": [
    "convmodel = conv_model()\n",
    "convmodel.fit(x_train, hot_y, validation_data=(x_valid, hot_y_valid), epochs=5, batch_size=100)"
   ]
  },
  {
   "cell_type": "code",
   "execution_count": 78,
   "metadata": {},
   "outputs": [
    {
     "name": "stdout",
     "output_type": "stream",
     "text": [
      "1200000/1200000 [==============================] - 13s 11us/step\n",
      "400000/400000 [==============================] - 4s 10us/step\n"
     ]
    }
   ],
   "source": [
    "training_loss_value, training_acc_value = convmodel.evaluate(x_train, hot_y, batch_size=100)\n",
    "valid_loss_value, valid_acc_value = convmodel.evaluate(x_valid, hot_y_valid, batch_size=100)"
   ]
  },
  {
   "cell_type": "code",
   "execution_count": 79,
   "metadata": {},
   "outputs": [
    {
     "name": "stdout",
     "output_type": "stream",
     "text": [
      "training loss : 0.2526\n",
      "validation_loss : 0.4749\n",
      " \n",
      "training accuracy : 89.57 %\n",
      "validation accuracy : 79.64 %\n"
     ]
    }
   ],
   "source": [
    "print('training loss : {:.4f}'.format(training_loss_value))\n",
    "print('validation_loss : {:.4f}'.format(valid_loss_value))\n",
    "print(' ')\n",
    "print('training accuracy : {:.2f} %'.format(100*training_acc_value))\n",
    "print('validation accuracy : {:.2f} %'.format(100*valid_acc_value))"
   ]
  },
  {
   "cell_type": "markdown",
   "metadata": {},
   "source": [
    "Nous allons maintenant créé un réseau de neurones convolutionnel un peu plus complexe qui appliquent différents tailles de filtres (taille 2, 3 et 4)."
   ]
  },
  {
   "cell_type": "code",
   "execution_count": 80,
   "metadata": {},
   "outputs": [],
   "source": [
    "def mult_conv():\n",
    "    graph_in = Input(shape=(max_words, 50))\n",
    "\n",
    "    convs = []\n",
    "    for filter_size in range(2, 5):\n",
    "        x = Convolution1D(64, filter_size, padding='same', activation='relu')(graph_in)\n",
    "        convs.append(x)\n",
    "\n",
    "    graph_out = concatenate(convs, axis=1)\n",
    "    graph_out = GlobalMaxPooling1D()(graph_out)\n",
    "    graph = Model(graph_in, graph_out)\n",
    "    \n",
    "    model = Sequential([Embedding(max_words, 50, input_length=maxlen),\n",
    "                    graph,\n",
    "                    Dropout(0.5),\n",
    "                    Dense(25, activation='relu'),\n",
    "                    Dense(2, activation='sigmoid')])\n",
    "\n",
    "    model.compile(loss='binary_crossentropy', optimizer=Adam(), metrics=['accuracy'])\n",
    "    \n",
    "    return model"
   ]
  },
  {
   "cell_type": "code",
   "execution_count": 81,
   "metadata": {},
   "outputs": [
    {
     "name": "stdout",
     "output_type": "stream",
     "text": [
      "Train on 1200000 samples, validate on 400000 samples\n",
      "Epoch 1/3\n",
      "1200000/1200000 [==============================] - 96s 80us/step - loss: 0.4535 - acc: 0.7873 - val_loss: 0.4254 - val_acc: 0.8047\n",
      "Epoch 2/3\n",
      "1200000/1200000 [==============================] - 95s 79us/step - loss: 0.4066 - acc: 0.8155 - val_loss: 0.4208 - val_acc: 0.8070\n",
      "Epoch 3/3\n",
      "1200000/1200000 [==============================] - 95s 79us/step - loss: 0.3809 - acc: 0.8298 - val_loss: 0.4200 - val_acc: 0.8067\n"
     ]
    }
   ],
   "source": [
    "multconv = mult_conv() \n",
    "multconv_history = multconv.fit(x_train, hot_y, validation_data=(x_valid, hot_y_valid), epochs=5, batch_size=100)"
   ]
  },
  {
   "cell_type": "code",
   "execution_count": 82,
   "metadata": {},
   "outputs": [],
   "source": [
    "acc = multconv_history.history['acc']\n",
    "val_acc = multconv_history.history['val_acc']\n",
    "loss = multconv_history.history['loss']\n",
    "val_loss = multconv_history.history['val_loss']"
   ]
  },
  {
   "cell_type": "code",
   "execution_count": 83,
   "metadata": {},
   "outputs": [
    {
     "data": {
      "image/png": "[encoded data removed]",
      "text/plain": [
       "<Figure size 432x288 with 1 Axes>"
      ]
     },
     "metadata": {},
     "output_type": "display_data"
    },
    {
     "data": {
      "image/png": "[encoded data removed]",
      "text/plain": [
       "<Figure size 432x288 with 1 Axes>"
      ]
     },
     "metadata": {},
     "output_type": "display_data"
    }
   ],
   "source": [
    "num_epochs=range(1,len(loss)+1)\n",
    "\n",
    "plt.plot(num_epochs, loss, 'bo', label='Training loss')\n",
    "plt.plot(num_epochs, val_loss, 'b', label='Validation loss')\n",
    "plt.title('Training and validation loss')\n",
    "plt.xlabel('Epochs')\n",
    "plt.ylabel('Loss')\n",
    "plt.legend()\n",
    "\n",
    "plt.figure()\n",
    "\n",
    "plt.plot(num_epochs, acc, 'bo', label='Training accuracy')\n",
    "plt.plot(num_epochs, val_acc, 'b', label='Validation accuracy')\n",
    "plt.title('Training and validation accuracy')\n",
    "plt.xlabel('Epochs')\n",
    "plt.ylabel('Accuracy')\n",
    "plt.legend()\n",
    "\n",
    "plt.show()"
   ]
  },
  {
   "cell_type": "code",
   "execution_count": 85,
   "metadata": {},
   "outputs": [
    {
     "name": "stdout",
     "output_type": "stream",
     "text": [
      "1200000/1200000 [==============================] - 13s 10us/step\n",
      "400000/400000 [==============================] - 4s 10us/step\n"
     ]
    }
   ],
   "source": [
    "training_loss_value, training_acc_value = multconv.evaluate(x_train, hot_y, batch_size=100)\n",
    "valid_loss_value, valid_acc_value = multconv.evaluate(x_valid, hot_y_valid, batch_size=100)"
   ]
  },
  {
   "cell_type": "code",
   "execution_count": 86,
   "metadata": {},
   "outputs": [
    {
     "name": "stdout",
     "output_type": "stream",
     "text": [
      "training loss : 0.3429\n",
      "validation_loss : 0.4200\n",
      " \n",
      "training accuracy : 85.34 %\n",
      "validation accuracy : 80.67 %\n"
     ]
    }
   ],
   "source": [
    "print('training loss : {:.4f}'.format(training_loss_value))\n",
    "print('validation_loss : {:.4f}'.format(valid_loss_value))\n",
    "print(' ')\n",
    "print('training accuracy : {:.2f} %'.format(100*training_acc_value))\n",
    "print('validation accuracy : {:.2f} %'.format(100*valid_acc_value))"
   ]
  },
  {
   "cell_type": "markdown",
   "metadata": {},
   "source": [
    "## SimpleRNN"
   ]
  },
  {
   "cell_type": "code",
   "execution_count": 94,
   "metadata": {},
   "outputs": [],
   "source": [
    "def simple_rnn():\n",
    "    model = Sequential()\n",
    "    model.add(Embedding(max_words, 50, input_length=maxlen))\n",
    "    model.add(SimpleRNN(32))\n",
    "    model.add(Dense(2, activation='sigmoid'))\n",
    "\n",
    "    model.compile(loss='binary_crossentropy', optimizer=Adam(), metrics=['accuracy'])\n",
    "    \n",
    "    return model"
   ]
  },
  {
   "cell_type": "code",
   "execution_count": 95,
   "metadata": {},
   "outputs": [
    {
     "name": "stdout",
     "output_type": "stream",
     "text": [
      "Train on 1200000 samples, validate on 400000 samples\n",
      "Epoch 1/1\n",
      "1200000/1200000 [==============================] - 231s 192us/step - loss: 0.4559 - acc: 0.7858 - val_loss: 0.4308 - val_acc: 0.8023\n"
     ]
    }
   ],
   "source": [
    "simplernn = simple_rnn() \n",
    "simplernn_history = simplernn.fit(x_train, hot_y, validation_data=(x_valid, hot_y_valid), epochs=1, batch_size=100)"
   ]
  },
  {
   "cell_type": "markdown",
   "metadata": {},
   "source": [
    "## LSTM"
   ]
  },
  {
   "cell_type": "markdown",
   "metadata": {},
   "source": [
    "- couteux en temps computationnel mais très bon en représentation"
   ]
  },
  {
   "cell_type": "code",
   "execution_count": 96,
   "metadata": {},
   "outputs": [],
   "source": [
    "def simple_lstm():\n",
    "    model = Sequential()\n",
    "    model.add(Embedding(max_words, 50, input_length=maxlen))\n",
    "    model.add(LSTM(32))\n",
    "    model.add(Dense(2, activation='sigmoid'))\n",
    "\n",
    "    model.compile(loss='binary_crossentropy', optimizer=Adam(), metrics=['accuracy'])\n",
    "    \n",
    "    return model"
   ]
  },
  {
   "cell_type": "code",
   "execution_count": 98,
   "metadata": {},
   "outputs": [
    {
     "name": "stdout",
     "output_type": "stream",
     "text": [
      "Train on 1200000 samples, validate on 400000 samples\n",
      "Epoch 1/1\n",
      "1200000/1200000 [==============================] - 431s 359us/step - loss: 0.4403 - acc: 0.7947 - val_loss: 0.4189 - val_acc: 0.8060\n"
     ]
    }
   ],
   "source": [
    "simplelstm = simple_lstm() \n",
    "simplelstm_history = simplelstm.fit(x_train, hot_y, validation_data=(x_valid, hot_y_valid), epochs=1, batch_size=100)"
   ]
  },
  {
   "cell_type": "markdown",
   "metadata": {},
   "source": [
    "## GRU"
   ]
  },
  {
   "cell_type": "markdown",
   "metadata": {},
   "source": [
    "- similaire au lstm\n",
    "- compromis en temps computationnel et représentation"
   ]
  },
  {
   "cell_type": "code",
   "execution_count": 100,
   "metadata": {},
   "outputs": [],
   "source": [
    "def simple_gru():\n",
    "    model = Sequential()\n",
    "    model.add(Embedding(max_words, 50, input_length=maxlen))\n",
    "    model.add(GRU(32))\n",
    "    model.add(Dense(2, activation='sigmoid'))\n",
    "\n",
    "    model.compile(loss='binary_crossentropy', optimizer=Adam(), metrics=['accuracy'])\n",
    "    \n",
    "    return model"
   ]
  },
  {
   "cell_type": "code",
   "execution_count": 101,
   "metadata": {},
   "outputs": [
    {
     "name": "stdout",
     "output_type": "stream",
     "text": [
      "Train on 1200000 samples, validate on 400000 samples\n",
      "Epoch 1/1\n",
      "1200000/1200000 [==============================] - 375s 313us/step - loss: 0.4408 - acc: 0.7947 - val_loss: 0.4144 - val_acc: 0.8094\n"
     ]
    }
   ],
   "source": [
    "simplegru = simple_gru() \n",
    "simplegru_history = simplegru.fit(x_train, hot_y, validation_data=(x_valid, hot_y_valid), epochs=1, batch_size=100)"
   ]
  },
  {
   "cell_type": "markdown",
   "metadata": {},
   "source": [
    "## BI LSTM"
   ]
  },
  {
   "cell_type": "markdown",
   "metadata": {},
   "source": [
    "Pas très utile mais à tester quand même"
   ]
  },
  {
   "cell_type": "code",
   "execution_count": 70,
   "metadata": {},
   "outputs": [],
   "source": [
    "def bidirectional_gru():\n",
    "    model = Sequential()\n",
    "    model.add(Embedding(max_words, 50, input_length=maxlen))\n",
    "    model.add(Bidirectional(GRU(32)))\n",
    "    model.add(Dense(2, activation='sigmoid'))\n",
    "\n",
    "    model.compile(loss='binary_crossentropy', optimizer=Adam(), metrics=['accuracy'])\n",
    "    \n",
    "    return model"
   ]
  },
  {
   "cell_type": "code",
   "execution_count": 71,
   "metadata": {},
   "outputs": [
    {
     "name": "stdout",
     "output_type": "stream",
     "text": [
      "Train on 1200000 samples, validate on 400000 samples\n",
      "Epoch 1/1\n",
      "1200000/1200000 [==============================] - 338s 282us/step - loss: 0.4488 - acc: 0.7892 - val_loss: 0.4280 - val_acc: 0.8017\n"
     ]
    }
   ],
   "source": [
    "bidirectionalgru = bidirectional_gru() \n",
    "bidirectionalgru_history = bidirectionalgru.fit(x_train, hot_y, validation_data=(x_valid, hot_y_valid), epochs=1, batch_size=100)"
   ]
  },
  {
   "cell_type": "markdown",
   "metadata": {},
   "source": [
    "# Modèle final choisi"
   ]
  },
  {
   "cell_type": "markdown",
   "metadata": {},
   "source": [
    "Nous allons donc choisir le modèle le plus performant en temps computationnel et pouvoir de représentation."
   ]
  },
  {
   "cell_type": "markdown",
   "metadata": {},
   "source": [
    "Au vu de nos données, tweets de taille assez courts (moyenne de mots dans un tweet = 8), nous choisissons donc un réseau de neurones convolutionnel"
   ]
  },
  {
   "cell_type": "markdown",
   "metadata": {},
   "source": [
    "### Pre-trained word embeddings"
   ]
  },
  {
   "cell_type": "markdown",
   "metadata": {},
   "source": [
    "Nous allons utiliser un modèle pré-entrainé à l'aide de GloVe pour améliorer notre modèle."
   ]
  },
  {
   "cell_type": "markdown",
   "metadata": {},
   "source": [
    "Nous allons utilisé des words vectors pré-entrainé.\n",
    "\n",
    "Nous téléchargeons le fichier suivant:\n",
    "- Twitter (2B tweets, 27B tokens, 1.2M vocab, uncased, 25d, 50d, 100d, & 200d vectors, 1.42 GB download): glove.twitter.27B.zip\n",
    "\n",
    "url : https://nlp.stanford.edu/projects/glove/"
   ]
  },
  {
   "cell_type": "code",
   "execution_count": 325,
   "metadata": {},
   "outputs": [],
   "source": [
    "glove_dir = 'D:\\Data\\TWEET DATA'"
   ]
  },
  {
   "cell_type": "code",
   "execution_count": 326,
   "metadata": {},
   "outputs": [],
   "source": [
    "embeddings_index = {}\n",
    "f = open(glove_dir + '\\glove.twitter.27B.100d.txt', encoding=\"utf8\")\n",
    "for line in f:\n",
    "    values = line.split()\n",
    "    word = values[0]\n",
    "    coefs = np.asarray(values[1:], dtype='float32')\n",
    "    embeddings_index[word] = coefs\n",
    "f.close()"
   ]
  },
  {
   "cell_type": "code",
   "execution_count": 327,
   "metadata": {},
   "outputs": [
    {
     "data": {
      "text/plain": [
       "1193514"
      ]
     },
     "execution_count": 327,
     "metadata": {},
     "output_type": "execute_result"
    }
   ],
   "source": [
    "len(embeddings_index)"
   ]
  },
  {
   "cell_type": "code",
   "execution_count": 328,
   "metadata": {},
   "outputs": [],
   "source": [
    "def create_embedding_matrix(max_words, embedding_dim):\n",
    "    embedding_matrix = np.zeros((max_words, embedding_dim))\n",
    "    found = 0\n",
    "    for word, i in w2id.items():\n",
    "        embedding_vector = embeddings_index.get(word)\n",
    "        if i < max_words:\n",
    "            if embedding_vector is not None:\n",
    "                embedding_matrix[i] = embedding_vector\n",
    "                found += 1\n",
    "            else:\n",
    "                embedding_matrix[i] = np.random.normal(scale=0.6, size=(embedding_dim,))\n",
    "    return embedding_matrix, found"
   ]
  },
  {
   "cell_type": "code",
   "execution_count": 329,
   "metadata": {},
   "outputs": [],
   "source": [
    "embedding_matrix, found = create_embedding_matrix(max_words, 100)"
   ]
  },
  {
   "cell_type": "code",
   "execution_count": 330,
   "metadata": {},
   "outputs": [
    {
     "data": {
      "text/plain": [
       "72406"
      ]
     },
     "execution_count": 330,
     "metadata": {},
     "output_type": "execute_result"
    }
   ],
   "source": [
    "found"
   ]
  },
  {
   "cell_type": "markdown",
   "metadata": {},
   "source": [
    "## CNN"
   ]
  },
  {
   "cell_type": "code",
   "execution_count": 79,
   "metadata": {},
   "outputs": [],
   "source": [
    "def cnn_model():\n",
    "    model = Sequential()\n",
    "    model.add(Embedding(input_dim=max_words, output_dim=32, input_length=maxlen))\n",
    "    model.add(Convolution1D(10, 3, padding='same', activation='relu'))\n",
    "    model.add(MaxPooling1D())\n",
    "    model.add(Flatten())\n",
    "    model.add(Dense(50, activation='relu'))\n",
    "    model.add(Dense(2, activation='sigmoid'))\n",
    "    \n",
    "    model.layers[0].set_weights = [embedding_matrix]\n",
    "    model.layers[0].trainable = True\n",
    "\n",
    "    model.compile(loss='binary_crossentropy', optimizer=Adam(), metrics=['accuracy'])\n",
    "    \n",
    "    return model"
   ]
  },
  {
   "cell_type": "code",
   "execution_count": 80,
   "metadata": {},
   "outputs": [
    {
     "name": "stdout",
     "output_type": "stream",
     "text": [
      "Train on 1200000 samples, validate on 400000 samples\n",
      "Epoch 1/5\n",
      "1200000/1200000 [==============================] - 78s 65us/step - loss: 0.4486 - acc: 0.7889 - val_loss: 0.4278 - val_acc: 0.8016\n",
      "Epoch 2/5\n",
      "1200000/1200000 [==============================] - 77s 64us/step - loss: 0.3953 - acc: 0.8203 - val_loss: 0.4275 - val_acc: 0.8032\n",
      "Epoch 3/5\n",
      "1200000/1200000 [==============================] - 77s 64us/step - loss: 0.3594 - acc: 0.8395 - val_loss: 0.4388 - val_acc: 0.7990\n",
      "Epoch 4/5\n",
      "1200000/1200000 [==============================] - 76s 64us/step - loss: 0.3277 - acc: 0.8563 - val_loss: 0.4598 - val_acc: 0.7956\n",
      "Epoch 5/5\n",
      "1200000/1200000 [==============================] - 76s 64us/step - loss: 0.3013 - acc: 0.8690 - val_loss: 0.4828 - val_acc: 0.7882\n"
     ]
    }
   ],
   "source": [
    "cnn = cnn_model() \n",
    "cnn_history = cnn.fit(x_train, hot_y, validation_data=(x_valid, hot_y_valid), epochs=5, batch_size=100)"
   ]
  },
  {
   "cell_type": "code",
   "execution_count": 81,
   "metadata": {},
   "outputs": [],
   "source": [
    "acc = cnn_history.history['acc']\n",
    "val_acc = cnn_history.history['val_acc']\n",
    "loss = cnn_history.history['loss']\n",
    "val_loss = cnn_history.history['val_loss']"
   ]
  },
  {
   "cell_type": "code",
   "execution_count": 82,
   "metadata": {},
   "outputs": [
    {
     "data": {
      "image/png": "[encoded data removed]",
      "text/plain": [
       "<Figure size 432x288 with 1 Axes>"
      ]
     },
     "metadata": {},
     "output_type": "display_data"
    },
    {
     "data": {
      "image/png": "[encoded data removed]",
      "text/plain": [
       "<Figure size 432x288 with 1 Axes>"
      ]
     },
     "metadata": {},
     "output_type": "display_data"
    }
   ],
   "source": [
    "num_epochs=range(1,len(loss)+1)\n",
    "\n",
    "plt.plot(num_epochs, loss, 'bo', label='Training loss')\n",
    "plt.plot(num_epochs, val_loss, 'b', label='Validation loss')\n",
    "plt.title('Training and validation loss')\n",
    "plt.xlabel('Epochs')\n",
    "plt.ylabel('Loss')\n",
    "plt.legend()\n",
    "\n",
    "plt.figure()\n",
    "\n",
    "plt.plot(num_epochs, acc, 'bo', label='Training accuracy')\n",
    "plt.plot(num_epochs, val_acc, 'b', label='Validation accuracy')\n",
    "plt.title('Training and validation accuracy')\n",
    "plt.xlabel('Epochs')\n",
    "plt.ylabel('Accuracy')\n",
    "plt.legend()\n",
    "\n",
    "plt.show()"
   ]
  },
  {
   "cell_type": "code",
   "execution_count": 83,
   "metadata": {},
   "outputs": [
    {
     "name": "stdout",
     "output_type": "stream",
     "text": [
      "1200000/1200000 [==============================] - 15s 12us/step\n",
      "400000/400000 [==============================] - 5s 12us/step\n"
     ]
    }
   ],
   "source": [
    "training_loss_value, training_acc_value = cnn.evaluate(x_train, hot_y, batch_size=100)\n",
    "valid_loss_value, valid_acc_value = cnn.evaluate(x_valid, hot_y_valid, batch_size=100)"
   ]
  },
  {
   "cell_type": "code",
   "execution_count": 84,
   "metadata": {},
   "outputs": [
    {
     "name": "stdout",
     "output_type": "stream",
     "text": [
      "training loss : 0.2606\n",
      "validation_loss : 0.4828\n",
      " \n",
      "training accuracy : 89.23 %\n",
      "validation accuracy : 78.82 %\n"
     ]
    }
   ],
   "source": [
    "print('training loss : {:.4f}'.format(training_loss_value))\n",
    "print('validation_loss : {:.4f}'.format(valid_loss_value))\n",
    "print(' ')\n",
    "print('training accuracy : {:.2f} %'.format(100*training_acc_value))\n",
    "print('validation accuracy : {:.2f} %'.format(100*valid_acc_value))"
   ]
  },
  {
   "cell_type": "markdown",
   "metadata": {},
   "source": [
    "On voit que notre CNN overfit beaucoup trop, il faudra donc essayer de rajouter de la régularisation (comme du dropout par exemple)."
   ]
  },
  {
   "cell_type": "markdown",
   "metadata": {},
   "source": [
    "# Transfer Learning, Topic modeling et Analyse de tweets en temps réel"
   ]
  },
  {
   "cell_type": "code",
   "execution_count": 323,
   "metadata": {},
   "outputs": [],
   "source": [
    "def mult_conv_glove():\n",
    "    graph_in = Input(shape=(max_words, 100))\n",
    "\n",
    "    convs = []\n",
    "    for filter_size in range(2, 5):\n",
    "        x = Convolution1D(64, filter_size, padding='same', activation='relu')(graph_in)\n",
    "        convs.append(x)\n",
    "\n",
    "    graph_out = concatenate(convs, axis=1)\n",
    "    graph_out = GlobalMaxPooling1D()(graph_out)\n",
    "    graph = Model(graph_in, graph_out)\n",
    "    \n",
    "    model = Sequential([Embedding(max_words, 100,weights=[embedding_matrix],  input_length=maxlen, trainable=True ),\n",
    "                    graph,\n",
    "                    Dropout(0.5),\n",
    "                    Dense(25, activation='relu'),\n",
    "                    Dense(2, activation='sigmoid')])\n",
    "    \n",
    "    \n",
    "   \n",
    "    \n",
    "    model.compile(loss='binary_crossentropy', optimizer=Adam(), metrics=['accuracy'])\n",
    "    \n",
    "    return model"
   ]
  },
  {
   "cell_type": "code",
   "execution_count": 333,
   "metadata": {},
   "outputs": [],
   "source": [
    "# moins tendance à overfit quand trainable = False \n",
    "cnn_glove = mult_conv_glove()"
   ]
  },
  {
   "cell_type": "markdown",
   "metadata": {},
   "source": [
    "## cnn_glove est le modèle qu'on va utliser pour le transfer learning et pour l'analyse de tweet en temps réel\n",
    "\n",
    "Rq : Dans la suite on va utliser le modèle cnn_glove avec des embeddings de glove qu'on a modifié lors de l'entrainement (trainable = true) pour l'exemple, pour autant il peut être judicieux de les fixer quand on entraine cnn_glove pour avoir une meilleur généalisation lors du tranfert"
   ]
  },
  {
   "cell_type": "code",
   "execution_count": 352,
   "metadata": {},
   "outputs": [
    {
     "name": "stdout",
     "output_type": "stream",
     "text": [
      "Train on 1200000 samples, validate on 400000 samples\n",
      "Epoch 1/5\n",
      "1200000/1200000 [==============================] - 149s 124us/step - loss: 0.4596 - acc: 0.7829 - val_loss: 0.4313 - val_acc: 0.801010s - loss: 0.4612 -  - ETA:  - ETA: 5s - loss: 0.4604 - - ETA: 4s - loss: 0.4603 - - E - ETA: 1s - loss: 0.4599  - ETA: 1s - loss: 0.\n",
      "Epoch 2/5\n",
      "1200000/1200000 [==============================] - 146s 122us/step - loss: 0.4194 - acc: 0.8073 - val_loss: 0.4242 - val_acc: 0.8043ss: 0.4194 - a\n",
      "Epoch 3/5\n",
      "1200000/1200000 [==============================] - 148s 124us/step - loss: 0.4004 - acc: 0.8184 - val_loss: 0.4276 - val_acc: 0.8052\n",
      "Epoch 4/5\n",
      "1200000/1200000 [==============================] - 148s 123us/step - loss: 0.3837 - acc: 0.8274 - val_loss: 0.4251 - val_acc: 0.8041: 0.3830 - acc: 0.82 - ETA: 10s - loss: 0.3830 - - ETA: 1 - ETA:  - ETA: 6s - loss: 0.3833 - ETA: 5s - ETA: 3s - ETA: 2s -  - ETA: 0s - loss: 0.3836 - \n",
      "Epoch 5/5\n",
      "1200000/1200000 [==============================] - 147s 123us/step - loss: 0.3686 - acc: 0.8351 - val_loss: 0.4308 - val_acc: 0.8019\n"
     ]
    }
   ],
   "source": [
    "# moins tendance à overfit quand trainable = False \n",
    "cnn_history = cnn_glove.fit(x_train, hot_y, validation_data=(x_valid, hot_y_valid), epochs=5, batch_size=100)"
   ]
  },
  {
   "cell_type": "markdown",
   "metadata": {
    "collapsed": true
   },
   "source": [
    "# Transfer learning \n",
    "\n",
    "Pour tester le transfer learning, nous avons choisi un second dataset : tweets_airline qui contient 15 000 tweets de clients de compagnies aériennes américaines.\n",
    "Le dataset contient ainsi peu de données.\n",
    "\n",
    "Quand on a peu de données avec tweet airline le transfer est bénéfique pour l'apprentissage.\n",
    "Le transfer prévient du sur apprentissage du modèle.\n",
    "\n",
    "Pour procéder au transfer : \n",
    "- On entraîne un modèle au préalable : ici cnn_glove un réseau multicouche de convolution avec des Embeddings pré-entrainé (cf ci dessus),  déterminer si on fixe ou non les poids des embeddings lors l'entrainement de cnn_glove (a priori mieux de les laisser fixé pour une meilleur généralisation )\n",
    "\n",
    "- On fixe les poids des premières couches de cnn_glove (features obtenues à l'aide de la base de tweet initiale )\n",
    "\n",
    "- On enlève (dans notre cas ) les 2 dernières couches dense et on les remplace (au choix ) par 2 couches de dropout et de dense pour les adapter au nouveau problème de classification du transfert (ici aussi 2 classes )  \n",
    "\n",
    "Rq : on applique bien évidement le même préprocessing sur les nouvelles données "
   ]
  },
  {
   "cell_type": "code",
   "execution_count": 91,
   "metadata": {},
   "outputs": [
    {
     "name": "stdout",
     "output_type": "stream",
     "text": [
      "<keras.layers.embeddings.Embedding object at 0x0000014EEB542A20> False\n",
      "<keras.engine.training.Model object at 0x0000014EEB55B588> False\n",
      "<keras.layers.core.Dropout object at 0x0000014EEB542710> False\n",
      "<keras.layers.core.Dense object at 0x0000014EEB557898> True\n",
      "<keras.layers.core.Dense object at 0x0000014EEB557630> True\n"
     ]
    }
   ],
   "source": [
    "# Freeze the layers except the last 2 layers\n",
    "# on va enlever les 2 dernirère couches dense pour appliquer le transfer ensuite\n",
    "for layer in cnn_glove.layers[:-2]:\n",
    "    layer.trainable = False\n",
    " \n",
    " \n",
    "# Check the trainable status of the individual layers\n",
    "for layer in cnn_glove.layers:\n",
    "    print(layer, layer.trainable)"
   ]
  },
  {
   "cell_type": "code",
   "execution_count": 145,
   "metadata": {},
   "outputs": [
    {
     "data": {
      "text/html": [
       "<div>\n",
       "<style scoped>\n",
       "    .dataframe tbody tr th:only-of-type {\n",
       "        vertical-align: middle;\n",
       "    }\n",
       "\n",
       "    .dataframe tbody tr th {\n",
       "        vertical-align: top;\n",
       "    }\n",
       "\n",
       "    .dataframe thead th {\n",
       "        text-align: right;\n",
       "    }\n",
       "</style>\n",
       "<table border=\"1\" class=\"dataframe\">\n",
       "  <thead>\n",
       "    <tr style=\"text-align: right;\">\n",
       "      <th></th>\n",
       "      <th>text</th>\n",
       "      <th>airline_sentiment</th>\n",
       "    </tr>\n",
       "  </thead>\n",
       "  <tbody>\n",
       "    <tr>\n",
       "      <th>6359</th>\n",
       "      <td>@SouthwestAir  flight at 630 from fll kiosk just opened. Rude attendants because now everyone is Late Flight. http://t.co/2Boh2Mh3cb</td>\n",
       "      <td>negative</td>\n",
       "    </tr>\n",
       "    <tr>\n",
       "      <th>7045</th>\n",
       "      <td>I hate you all. RT @JetBlue: Our fleet's on fleek. http://t.co/uTdfqF5WPA</td>\n",
       "      <td>negative</td>\n",
       "    </tr>\n",
       "    <tr>\n",
       "      <th>6738</th>\n",
       "      <td>@SouthwestAir flight was Cancelled Flightled and it won't let me rebook online. Wait time on phone is too long. Please help</td>\n",
       "      <td>negative</td>\n",
       "    </tr>\n",
       "    <tr>\n",
       "      <th>12189</th>\n",
       "      <td>@AmericanAir \\nNot giving you a hard time...Just looking for basic customer service after AA lost my bag. ETA on it's return, please????????</td>\n",
       "      <td>negative</td>\n",
       "    </tr>\n",
       "    <tr>\n",
       "      <th>793</th>\n",
       "      <td>@united for an early flt, I think a call is appropriate. Yes, reviewed and nada avail until next day. Expect full refund</td>\n",
       "      <td>negative</td>\n",
       "    </tr>\n",
       "  </tbody>\n",
       "</table>\n",
       "</div>"
      ],
      "text/plain": [
       "                                                                                                                                               text  \\\n",
       "6359   @SouthwestAir  flight at 630 from fll kiosk just opened. Rude attendants because now everyone is Late Flight. http://t.co/2Boh2Mh3cb           \n",
       "7045   I hate you all. RT @JetBlue: Our fleet's on fleek. http://t.co/uTdfqF5WPA                                                                      \n",
       "6738   @SouthwestAir flight was Cancelled Flightled and it won't let me rebook online. Wait time on phone is too long. Please help                    \n",
       "12189  @AmericanAir \\nNot giving you a hard time...Just looking for basic customer service after AA lost my bag. ETA on it's return, please????????   \n",
       "793    @united for an early flt, I think a call is appropriate. Yes, reviewed and nada avail until next day. Expect full refund                       \n",
       "\n",
       "      airline_sentiment  \n",
       "6359   negative          \n",
       "7045   negative          \n",
       "6738   negative          \n",
       "12189  negative          \n",
       "793    negative          "
      ]
     },
     "execution_count": 145,
     "metadata": {},
     "output_type": "execute_result"
    }
   ],
   "source": [
    "Tweet_airline= pd.read_csv(r\"C:\\Users\\MyPC\\Documents\\AIC-partage\\Structured\\data\\Tweets.csv\")\n",
    "Tweet_airline= Tweet_airline[Tweet_airline.airline_sentiment !=\"neutral\"]\n",
    "Tweet_airline = Tweet_airline[[\"text\", \"airline_sentiment\"]]\n",
    "\n",
    "# on ne garde qu'une petite partie : pour voir l'interet du transfer learning  \n",
    "Tweet_airline = Tweet_airline.sample(frac=1)\n",
    "Tweet_airline = Tweet_airline[:100]\n",
    "\n",
    "Tweet_airline.head()"
   ]
  },
  {
   "cell_type": "code",
   "execution_count": 146,
   "metadata": {},
   "outputs": [
    {
     "data": {
      "text/html": [
       "<div>\n",
       "<style scoped>\n",
       "    .dataframe tbody tr th:only-of-type {\n",
       "        vertical-align: middle;\n",
       "    }\n",
       "\n",
       "    .dataframe tbody tr th {\n",
       "        vertical-align: top;\n",
       "    }\n",
       "\n",
       "    .dataframe thead th {\n",
       "        text-align: right;\n",
       "    }\n",
       "</style>\n",
       "<table border=\"1\" class=\"dataframe\">\n",
       "  <thead>\n",
       "    <tr style=\"text-align: right;\">\n",
       "      <th></th>\n",
       "      <th>text</th>\n",
       "      <th>airline_sentiment</th>\n",
       "      <th>clean_text</th>\n",
       "      <th>tokenized</th>\n",
       "      <th>tokenized_int</th>\n",
       "      <th>sentiment</th>\n",
       "    </tr>\n",
       "  </thead>\n",
       "  <tbody>\n",
       "    <tr>\n",
       "      <th>6359</th>\n",
       "      <td>@SouthwestAir  flight at 630 from fll kiosk just opened. Rude attendants because now everyone is Late Flight. http://t.co/2Boh2Mh3cb</td>\n",
       "      <td>negative</td>\n",
       "      <td>flight at from fll kiosk just opened rude attendants because now everyone is late flight</td>\n",
       "      <td>[flight, fll, kiosk, opened, rude, attendants, everyone, late, flight]</td>\n",
       "      <td>[668, 0, 0, 2378, 2177, 0, 104, 208, 668]</td>\n",
       "      <td>0</td>\n",
       "    </tr>\n",
       "    <tr>\n",
       "      <th>7045</th>\n",
       "      <td>I hate you all. RT @JetBlue: Our fleet's on fleek. http://t.co/uTdfqF5WPA</td>\n",
       "      <td>negative</td>\n",
       "      <td>i hate you all rt our fleets on fleek</td>\n",
       "      <td>[hate, fleets, fleek]</td>\n",
       "      <td>[73, 0, 0]</td>\n",
       "      <td>0</td>\n",
       "    </tr>\n",
       "    <tr>\n",
       "      <th>6738</th>\n",
       "      <td>@SouthwestAir flight was Cancelled Flightled and it won't let me rebook online. Wait time on phone is too long. Please help</td>\n",
       "      <td>negative</td>\n",
       "      <td>flight was cancelled flightled and it wont let me rebook online wait time on phone is too long please help</td>\n",
       "      <td>[flight, cancelled, flightled, wont, let, rebook, online, wait, time, phone, long, please, help]</td>\n",
       "      <td>[668, 1184, 0, 101, 137, 0, 422, 68, 16, 122, 86, 90, 143]</td>\n",
       "      <td>0</td>\n",
       "    </tr>\n",
       "    <tr>\n",
       "      <th>12189</th>\n",
       "      <td>@AmericanAir \\nNot giving you a hard time...Just looking for basic customer service after AA lost my bag. ETA on it's return, please????????</td>\n",
       "      <td>negative</td>\n",
       "      <td>not giving you a hard timejust looking for basic customer service after aa lost my bag eta on its return please</td>\n",
       "      <td>[not, giving, hard, timejust, looking, basic, customer, service, aa, lost, bag, eta, return, please]</td>\n",
       "      <td>[1, 878, 196, 0, 114, 4782, 2529, 819, 0, 140, 1067, 0, 1180, 90]</td>\n",
       "      <td>0</td>\n",
       "    </tr>\n",
       "    <tr>\n",
       "      <th>793</th>\n",
       "      <td>@united for an early flt, I think a call is appropriate. Yes, reviewed and nada avail until next day. Expect full refund</td>\n",
       "      <td>negative</td>\n",
       "      <td>for an early flt i think a call is appropriate yes reviewed and nada avail until next day expect full refund</td>\n",
       "      <td>[early, flt, think, call, appropriate, yes, reviewed, nada, avail, next, day, expect, full, refund]</td>\n",
       "      <td>[158, 0, 28, 236, 4503, 82, 0, 0, 0, 79, 3, 1937, 384, 0]</td>\n",
       "      <td>0</td>\n",
       "    </tr>\n",
       "  </tbody>\n",
       "</table>\n",
       "</div>"
      ],
      "text/plain": [
       "                                                                                                                                               text  \\\n",
       "6359   @SouthwestAir  flight at 630 from fll kiosk just opened. Rude attendants because now everyone is Late Flight. http://t.co/2Boh2Mh3cb           \n",
       "7045   I hate you all. RT @JetBlue: Our fleet's on fleek. http://t.co/uTdfqF5WPA                                                                      \n",
       "6738   @SouthwestAir flight was Cancelled Flightled and it won't let me rebook online. Wait time on phone is too long. Please help                    \n",
       "12189  @AmericanAir \\nNot giving you a hard time...Just looking for basic customer service after AA lost my bag. ETA on it's return, please????????   \n",
       "793    @united for an early flt, I think a call is appropriate. Yes, reviewed and nada avail until next day. Expect full refund                       \n",
       "\n",
       "      airline_sentiment  \\\n",
       "6359   negative           \n",
       "7045   negative           \n",
       "6738   negative           \n",
       "12189  negative           \n",
       "793    negative           \n",
       "\n",
       "                                                                                                            clean_text  \\\n",
       "6359   flight at from fll kiosk just opened rude attendants because now everyone is late flight                          \n",
       "7045   i hate you all rt our fleets on fleek                                                                             \n",
       "6738   flight was cancelled flightled and it wont let me rebook online wait time on phone is too long please help        \n",
       "12189  not giving you a hard timejust looking for basic customer service after aa lost my bag eta on its return please   \n",
       "793    for an early flt i think a call is appropriate yes reviewed and nada avail until next day expect full refund      \n",
       "\n",
       "                                                                                                  tokenized  \\\n",
       "6359   [flight, fll, kiosk, opened, rude, attendants, everyone, late, flight]                                 \n",
       "7045   [hate, fleets, fleek]                                                                                  \n",
       "6738   [flight, cancelled, flightled, wont, let, rebook, online, wait, time, phone, long, please, help]       \n",
       "12189  [not, giving, hard, timejust, looking, basic, customer, service, aa, lost, bag, eta, return, please]   \n",
       "793    [early, flt, think, call, appropriate, yes, reviewed, nada, avail, next, day, expect, full, refund]    \n",
       "\n",
       "                                                           tokenized_int  \\\n",
       "6359   [668, 0, 0, 2378, 2177, 0, 104, 208, 668]                           \n",
       "7045   [73, 0, 0]                                                          \n",
       "6738   [668, 1184, 0, 101, 137, 0, 422, 68, 16, 122, 86, 90, 143]          \n",
       "12189  [1, 878, 196, 0, 114, 4782, 2529, 819, 0, 140, 1067, 0, 1180, 90]   \n",
       "793    [158, 0, 28, 236, 4503, 82, 0, 0, 0, 79, 3, 1937, 384, 0]           \n",
       "\n",
       "       sentiment  \n",
       "6359   0          \n",
       "7045   0          \n",
       "6738   0          \n",
       "12189  0          \n",
       "793    0          "
      ]
     },
     "execution_count": 146,
     "metadata": {},
     "output_type": "execute_result"
    }
   ],
   "source": [
    "df2 = Tweet_airline\n",
    "df2['clean_text'] = tc.transform(df2['text'])\n",
    "df2['tokenized'] = df2['clean_text'].apply(lambda row: tokenize(row))\n",
    "df2['tokenized'] = df2['tokenized'].apply(lambda row: remove_stopwords(row))\n",
    "df2['tokenized_int'] = df2['tokenized'].apply(lambda x: transform_to_ids(x))\n",
    "sentiment_dict = {'positive': 1, 'negative':0 } \n",
    "df2['sentiment'] = [sentiment_dict[item] for item in Tweet_airline.airline_sentiment] \n",
    "df2.head()"
   ]
  },
  {
   "cell_type": "code",
   "execution_count": 147,
   "metadata": {
    "scrolled": true
   },
   "outputs": [
    {
     "data": {
      "image/png": "[encoded data removed]",
      "text/plain": [
       "<matplotlib.figure.Figure at 0x2e4e3fdd208>"
      ]
     },
     "metadata": {},
     "output_type": "display_data"
    }
   ],
   "source": [
    "df2.groupby(['sentiment']).count().plot(kind='bar', figsize=(4, 2), rot=0, legend=False, title='Number of tweets by class')\n",
    "plt.show()"
   ]
  },
  {
   "cell_type": "code",
   "execution_count": 148,
   "metadata": {
    "collapsed": true
   },
   "outputs": [],
   "source": [
    "X_train_2, X_valid_2, y_train_2, y_valid_2 = train_test_split(df2['tokenized_int'].values, df2['sentiment'].values, test_size=0.25, random_state=0)\n",
    "x_train_2 = pad_sequences(X_train_2, maxlen=maxlen, value=0)\n",
    "x_valid_2 = pad_sequences(X_valid_2, maxlen=maxlen, value=0)\n",
    "hot_y_2 = np_utils.to_categorical(y_train_2)\n",
    "hot_y_valid_2 = np_utils.to_categorical(y_valid_2)"
   ]
  },
  {
   "cell_type": "code",
   "execution_count": 163,
   "metadata": {},
   "outputs": [
    {
     "data": {
      "text/plain": [
       "(150000, 10)"
      ]
     },
     "execution_count": 163,
     "metadata": {},
     "output_type": "execute_result"
    }
   ],
   "source": [
    "x_train.shape"
   ]
  },
  {
   "cell_type": "code",
   "execution_count": 149,
   "metadata": {},
   "outputs": [
    {
     "name": "stdout",
     "output_type": "stream",
     "text": [
      "_________________________________________________________________\n",
      "Layer (type)                 Output Shape              Param #   \n",
      "=================================================================\n",
      "embedding_8 (Embedding)      (None, 10, 50)            250000    \n",
      "_________________________________________________________________\n",
      "model_2 (Model)              (None, 64)                28992     \n",
      "_________________________________________________________________\n",
      "dropout_4 (Dropout)          (None, 64)                0         \n",
      "_________________________________________________________________\n",
      "dense_11 (Dense)             (None, 25)                1625      \n",
      "_________________________________________________________________\n",
      "dense_12 (Dense)             (None, 2)                 52        \n",
      "=================================================================\n",
      "Total params: 559,661\n",
      "Trainable params: 280,669\n",
      "Non-trainable params: 278,992\n",
      "_________________________________________________________________\n"
     ]
    },
    {
     "name": "stderr",
     "output_type": "stream",
     "text": [
      "D:\\Programmes\\Anaconda2\\lib\\site-packages\\keras\\engine\\training.py:478: UserWarning: Discrepancy between trainable weights and collected trainable weights, did you set `model.trainable` without calling `model.compile` after ?\n",
      "  'Discrepancy between trainable weights and collected trainable'\n"
     ]
    }
   ],
   "source": [
    "cnn_glove.summary()"
   ]
  },
  {
   "cell_type": "code",
   "execution_count": 151,
   "metadata": {
    "collapsed": true
   },
   "outputs": [],
   "source": [
    "from keras import models\n",
    "from keras import layers\n",
    "from keras import optimizers\n",
    "\n",
    "def transfer_model(pretrained_model ): \n",
    "    # Create the model\n",
    "    model = models.Sequential()\n",
    "\n",
    "    # Add the first layers of the trained model :keep the output of the k_ième layer \n",
    "    # Ici on enlève les 2 dernières couches dense_11 et dense_12\n",
    "    model.add(Model(inputs=pretrained_model.get_input_at(0) ,outputs=pretrained_model.get_layer(\"dropout_4\").get_output_at(0)))\n",
    "    #model.add(pretrained_model)  à la place de la ligne du dessus si pas besoin d'enlever les dernières couches \n",
    "\n",
    "    # Add new layers\n",
    "    model.add(Dropout(0.5))\n",
    "    model.add(Dense(50, activation='relu'))\n",
    "    model.add(Dropout(0.5))\n",
    "    model.add(Dense(2, activation='sigmoid'))\n",
    "\n",
    "\n",
    "    model.compile(loss='binary_crossentropy', optimizer=Adam(), metrics=['accuracy'])\n",
    "\n",
    "    # Show a summary of the model. Check the number of trainable parameters\n",
    "    print(model.summary())\n",
    "    \n",
    "    return model\n",
    "    \n",
    "    "
   ]
  },
  {
   "cell_type": "code",
   "execution_count": 152,
   "metadata": {},
   "outputs": [
    {
     "name": "stdout",
     "output_type": "stream",
     "text": [
      "_________________________________________________________________\n",
      "Layer (type)                 Output Shape              Param #   \n",
      "=================================================================\n",
      "model_12 (Model)             (None, 64)                278992    \n",
      "_________________________________________________________________\n",
      "dropout_19 (Dropout)         (None, 64)                0         \n",
      "_________________________________________________________________\n",
      "dense_31 (Dense)             (None, 50)                3250      \n",
      "_________________________________________________________________\n",
      "dropout_20 (Dropout)         (None, 50)                0         \n",
      "_________________________________________________________________\n",
      "dense_32 (Dense)             (None, 2)                 102       \n",
      "=================================================================\n",
      "Total params: 282,344\n",
      "Trainable params: 3,352\n",
      "Non-trainable params: 278,992\n",
      "_________________________________________________________________\n",
      "None\n"
     ]
    }
   ],
   "source": [
    "trans_model = transfer_model(cnn_glove )"
   ]
  },
  {
   "cell_type": "code",
   "execution_count": 157,
   "metadata": {},
   "outputs": [
    {
     "name": "stdout",
     "output_type": "stream",
     "text": [
      "Train on 75 samples, validate on 25 samples\n",
      "Epoch 1/10\n",
      "75/75 [==============================] - 0s 319us/step - loss: 0.4310 - acc: 0.8000 - val_loss: 0.2475 - val_acc: 0.9600\n",
      "Epoch 2/10\n",
      "75/75 [==============================] - 0s 199us/step - loss: 0.3631 - acc: 0.8333 - val_loss: 0.2463 - val_acc: 0.9600\n",
      "Epoch 3/10\n",
      "75/75 [==============================] - 0s 187us/step - loss: 0.4645 - acc: 0.7600 - val_loss: 0.2463 - val_acc: 0.9600\n",
      "Epoch 4/10\n",
      "75/75 [==============================] - 0s 186us/step - loss: 0.4973 - acc: 0.7467 - val_loss: 0.2473 - val_acc: 0.9600\n",
      "Epoch 5/10\n",
      "75/75 [==============================] - 0s 199us/step - loss: 0.4031 - acc: 0.8000 - val_loss: 0.2475 - val_acc: 0.9600\n",
      "Epoch 6/10\n",
      "75/75 [==============================] - 0s 199us/step - loss: 0.3621 - acc: 0.8467 - val_loss: 0.2462 - val_acc: 0.9600\n",
      "Epoch 7/10\n",
      "75/75 [==============================] - 0s 199us/step - loss: 0.4091 - acc: 0.8200 - val_loss: 0.2448 - val_acc: 0.9600\n",
      "Epoch 8/10\n",
      "75/75 [==============================] - 0s 199us/step - loss: 0.4849 - acc: 0.8000 - val_loss: 0.2440 - val_acc: 0.9600\n",
      "Epoch 9/10\n",
      "75/75 [==============================] - 0s 199us/step - loss: 0.3897 - acc: 0.8133 - val_loss: 0.2422 - val_acc: 0.9600\n",
      "Epoch 10/10\n",
      "75/75 [==============================] - 0s 186us/step - loss: 0.4401 - acc: 0.8067 - val_loss: 0.2394 - val_acc: 0.9600\n"
     ]
    }
   ],
   "source": [
    "# avec transfer \n",
    "essai = trans_model.fit(x_train_2, hot_y_2, validation_data=(x_valid_2, hot_y_valid_2), epochs=10, batch_size=20)"
   ]
  },
  {
   "cell_type": "code",
   "execution_count": 158,
   "metadata": {},
   "outputs": [
    {
     "name": "stdout",
     "output_type": "stream",
     "text": [
      "Train on 75 samples, validate on 25 samples\n",
      "Epoch 1/10\n",
      "75/75 [==============================] - 1s 17ms/step - loss: 1.0412 - acc: 0.3600 - val_loss: 0.5947 - val_acc: 0.6800\n",
      "Epoch 2/10\n",
      "75/75 [==============================] - 0s 598us/step - loss: 0.7583 - acc: 0.5133 - val_loss: 0.4574 - val_acc: 0.8800\n",
      "Epoch 3/10\n",
      "75/75 [==============================] - 0s 798us/step - loss: 0.6169 - acc: 0.6600 - val_loss: 0.4108 - val_acc: 0.8800\n",
      "Epoch 4/10\n",
      "75/75 [==============================] - 0s 838us/step - loss: 0.5859 - acc: 0.7133 - val_loss: 0.3818 - val_acc: 0.8800\n",
      "Epoch 5/10\n",
      "75/75 [==============================] - 0s 851us/step - loss: 0.4927 - acc: 0.7600 - val_loss: 0.3666 - val_acc: 0.8800\n",
      "Epoch 6/10\n",
      "75/75 [==============================] - 0s 811us/step - loss: 0.5611 - acc: 0.7200 - val_loss: 0.3560 - val_acc: 0.8800\n",
      "Epoch 7/10\n",
      "75/75 [==============================] - 0s 837us/step - loss: 0.5794 - acc: 0.6867 - val_loss: 0.3522 - val_acc: 0.8800\n",
      "Epoch 8/10\n",
      "75/75 [==============================] - 0s 638us/step - loss: 0.5990 - acc: 0.7533 - val_loss: 0.3494 - val_acc: 0.8800\n",
      "Epoch 9/10\n",
      "75/75 [==============================] - 0s 519us/step - loss: 0.4796 - acc: 0.7733 - val_loss: 0.3460 - val_acc: 0.8800\n",
      "Epoch 10/10\n",
      "75/75 [==============================] - 0s 545us/step - loss: 0.4976 - acc: 0.7533 - val_loss: 0.3451 - val_acc: 0.8800\n"
     ]
    }
   ],
   "source": [
    "# sans transfer \n",
    "cnn_glove1 = mult_conv_glove()\n",
    "essai2 = cnn_glove1.fit(x_train_2, hot_y_2, validation_data=(x_valid_2, hot_y_valid_2), epochs=10, batch_size=20)\n"
   ]
  },
  {
   "cell_type": "markdown",
   "metadata": {},
   "source": [
    "# Topic Modeling (LDA) on Airline tweets"
   ]
  },
  {
   "cell_type": "markdown",
   "metadata": {},
   "source": [
    "On reprend maintenant le dataset que nous avons utiliser pour effectuer du transfer learning.\n",
    "Pour rappel, le dataset est un dataset de tweets de clients de compagnies américaines de voyages. Ce dataset est pratique pour faire du topic modeling car en plus d'avoir un tweet positif ou negatif de la part du client, on a également le type de problèmes que le client a rencontré.\n",
    "\n",
    "On peut ainsi retrouver facilement de manière non supervisée les différents \"thèmes\"/\"types\" de problèmes des clients en s'appuyant sur le dataset supervisé.\n",
    "Le dataset supervisée a annoté 10 types de problèmes rencontrés que nous allons voir dans la suite."
   ]
  },
  {
   "cell_type": "code",
   "execution_count": 11,
   "metadata": {},
   "outputs": [],
   "source": [
    "#Conservation des tweets uniquement négatifs\n",
    "filepath = r\"D:\\Data\\TWEET DATA\\Airline-Sentiment.csv\"\n",
    "Tweet_airline = pd.read_csv(filepath, encoding = \"ISO-8859-1\")\n",
    "Tweet_airline = Tweet_airline[Tweet_airline.airline_sentiment !=\"neutral\"]\n",
    "Tweet_airline = Tweet_airline[Tweet_airline.airline_sentiment !=\"positive\"]"
   ]
  },
  {
   "cell_type": "code",
   "execution_count": 12,
   "metadata": {},
   "outputs": [],
   "source": [
    "Tweet_airline = Tweet_airline[[\"text\", \"airline_sentiment\", \"negativereason\"]]"
   ]
  },
  {
   "cell_type": "code",
   "execution_count": 13,
   "metadata": {
    "scrolled": true
   },
   "outputs": [
    {
     "data": {
      "text/html": [
       "<div>\n",
       "<style scoped>\n",
       "    .dataframe tbody tr th:only-of-type {\n",
       "        vertical-align: middle;\n",
       "    }\n",
       "\n",
       "    .dataframe tbody tr th {\n",
       "        vertical-align: top;\n",
       "    }\n",
       "\n",
       "    .dataframe thead th {\n",
       "        text-align: right;\n",
       "    }\n",
       "</style>\n",
       "<table border=\"1\" class=\"dataframe\">\n",
       "  <thead>\n",
       "    <tr style=\"text-align: right;\">\n",
       "      <th></th>\n",
       "      <th>text</th>\n",
       "      <th>airline_sentiment</th>\n",
       "      <th>negativereason</th>\n",
       "    </tr>\n",
       "  </thead>\n",
       "  <tbody>\n",
       "    <tr>\n",
       "      <th>3</th>\n",
       "      <td>@VirginAmerica it's really aggressive to blast...</td>\n",
       "      <td>negative</td>\n",
       "      <td>Bad Flight</td>\n",
       "    </tr>\n",
       "    <tr>\n",
       "      <th>4</th>\n",
       "      <td>@VirginAmerica and it's a really big bad thing...</td>\n",
       "      <td>negative</td>\n",
       "      <td>Can't Tell</td>\n",
       "    </tr>\n",
       "    <tr>\n",
       "      <th>5</th>\n",
       "      <td>@VirginAmerica seriously would pay $30 a fligh...</td>\n",
       "      <td>negative</td>\n",
       "      <td>Can't Tell</td>\n",
       "    </tr>\n",
       "    <tr>\n",
       "      <th>15</th>\n",
       "      <td>@VirginAmerica SFO-PDX schedule is still MIA.</td>\n",
       "      <td>negative</td>\n",
       "      <td>Late Flight</td>\n",
       "    </tr>\n",
       "    <tr>\n",
       "      <th>17</th>\n",
       "      <td>@VirginAmerica  I flew from NYC to SFO last we...</td>\n",
       "      <td>negative</td>\n",
       "      <td>Bad Flight</td>\n",
       "    </tr>\n",
       "  </tbody>\n",
       "</table>\n",
       "</div>"
      ],
      "text/plain": [
       "                                                 text airline_sentiment  \\\n",
       "3   @VirginAmerica it's really aggressive to blast...          negative   \n",
       "4   @VirginAmerica and it's a really big bad thing...          negative   \n",
       "5   @VirginAmerica seriously would pay $30 a fligh...          negative   \n",
       "15      @VirginAmerica SFO-PDX schedule is still MIA.          negative   \n",
       "17  @VirginAmerica  I flew from NYC to SFO last we...          negative   \n",
       "\n",
       "   negativereason  \n",
       "3      Bad Flight  \n",
       "4      Can't Tell  \n",
       "5      Can't Tell  \n",
       "15    Late Flight  \n",
       "17     Bad Flight  "
      ]
     },
     "execution_count": 13,
     "metadata": {},
     "output_type": "execute_result"
    }
   ],
   "source": [
    "Tweet_airline.head()"
   ]
  },
  {
   "cell_type": "code",
   "execution_count": 14,
   "metadata": {},
   "outputs": [],
   "source": [
    "#mélange du dataset\n",
    "Tweet_airline = Tweet_airline.sample(frac=1)\n",
    "Tweet_airline = Tweet_airline.reset_index(drop=True)"
   ]
  },
  {
   "cell_type": "code",
   "execution_count": 15,
   "metadata": {},
   "outputs": [],
   "source": [
    "pd.set_option('display.max_colwidth', -1)"
   ]
  },
  {
   "cell_type": "code",
   "execution_count": 16,
   "metadata": {},
   "outputs": [
    {
     "data": {
      "text/plain": [
       "0    @USAirways any guesstimate on hold times? Can't change my flight online, at 45 mins and counting...                                        \n",
       "1    @USAirways unfortunately patience won't get me to my boat that leaves at 4 pm. I was on hold watching all flights fill up.                 \n",
       "2    @SouthwestAir okay I understand a delay one way. But both ways? C'mon #annoyed #flights                                                    \n",
       "3    @USAirways your checkin at @PHLAirport is a #shitshow, and the agent behind the counter who tried to send me to the wrong destination=rude!\n",
       "4    @SouthwestAir Why doesn't mean TSA PreCheck show up on my mobile boarding pass? My KTN is linked to my account.                            \n",
       "Name: text, dtype: object"
      ]
     },
     "execution_count": 16,
     "metadata": {},
     "output_type": "execute_result"
    }
   ],
   "source": [
    "Tweet_airline['text'].head()"
   ]
  },
  {
   "cell_type": "code",
   "execution_count": 18,
   "metadata": {},
   "outputs": [],
   "source": [
    "#nettoyage du texte\n",
    "tc = TextCleaner()\n",
    "Tweet_airline['clean_text'] = tc.transform(Tweet_airline['text'])"
   ]
  },
  {
   "cell_type": "code",
   "execution_count": 19,
   "metadata": {},
   "outputs": [
    {
     "data": {
      "text/html": [
       "<div>\n",
       "<style scoped>\n",
       "    .dataframe tbody tr th:only-of-type {\n",
       "        vertical-align: middle;\n",
       "    }\n",
       "\n",
       "    .dataframe tbody tr th {\n",
       "        vertical-align: top;\n",
       "    }\n",
       "\n",
       "    .dataframe thead th {\n",
       "        text-align: right;\n",
       "    }\n",
       "</style>\n",
       "<table border=\"1\" class=\"dataframe\">\n",
       "  <thead>\n",
       "    <tr style=\"text-align: right;\">\n",
       "      <th></th>\n",
       "      <th>text</th>\n",
       "      <th>clean_text</th>\n",
       "    </tr>\n",
       "  </thead>\n",
       "  <tbody>\n",
       "    <tr>\n",
       "      <th>0</th>\n",
       "      <td>@USAirways any guesstimate on hold times? Can't change my flight online, at 45 mins and counting...</td>\n",
       "      <td>any guesstimate on hold times cant change my flight online at mins and counting</td>\n",
       "    </tr>\n",
       "    <tr>\n",
       "      <th>1</th>\n",
       "      <td>@USAirways unfortunately patience won't get me to my boat that leaves at 4 pm. I was on hold watching all flights fill up.</td>\n",
       "      <td>unfortunately patience wont get me to my boat that leaves at pm i was on hold watching all flights fill up</td>\n",
       "    </tr>\n",
       "    <tr>\n",
       "      <th>2</th>\n",
       "      <td>@SouthwestAir okay I understand a delay one way. But both ways? C'mon #annoyed #flights</td>\n",
       "      <td>okay i understand a delay one way but both ways cmon annoyed flights</td>\n",
       "    </tr>\n",
       "    <tr>\n",
       "      <th>3</th>\n",
       "      <td>@USAirways your checkin at @PHLAirport is a #shitshow, and the agent behind the counter who tried to send me to the wrong destination=rude!</td>\n",
       "      <td>your checkin at is a shitshow and the agent behind the counter who tried to send me to the wrong destinationrude</td>\n",
       "    </tr>\n",
       "    <tr>\n",
       "      <th>4</th>\n",
       "      <td>@SouthwestAir Why doesn't mean TSA PreCheck show up on my mobile boarding pass? My KTN is linked to my account.</td>\n",
       "      <td>why doesnt mean tsa precheck show up on my mobile boarding pass my ktn is linked to my account</td>\n",
       "    </tr>\n",
       "  </tbody>\n",
       "</table>\n",
       "</div>"
      ],
      "text/plain": [
       "                                                                                                                                          text  \\\n",
       "0  @USAirways any guesstimate on hold times? Can't change my flight online, at 45 mins and counting...                                           \n",
       "1  @USAirways unfortunately patience won't get me to my boat that leaves at 4 pm. I was on hold watching all flights fill up.                    \n",
       "2  @SouthwestAir okay I understand a delay one way. But both ways? C'mon #annoyed #flights                                                       \n",
       "3  @USAirways your checkin at @PHLAirport is a #shitshow, and the agent behind the counter who tried to send me to the wrong destination=rude!   \n",
       "4  @SouthwestAir Why doesn't mean TSA PreCheck show up on my mobile boarding pass? My KTN is linked to my account.                               \n",
       "\n",
       "                                                                                                         clean_text  \n",
       "0  any guesstimate on hold times cant change my flight online at mins and counting                                   \n",
       "1  unfortunately patience wont get me to my boat that leaves at pm i was on hold watching all flights fill up        \n",
       "2  okay i understand a delay one way but both ways cmon annoyed flights                                              \n",
       "3  your checkin at is a shitshow and the agent behind the counter who tried to send me to the wrong destinationrude  \n",
       "4  why doesnt mean tsa precheck show up on my mobile boarding pass my ktn is linked to my account                    "
      ]
     },
     "execution_count": 19,
     "metadata": {},
     "output_type": "execute_result"
    }
   ],
   "source": [
    "Tweet_airline[['text', 'clean_text']].head()"
   ]
  },
  {
   "cell_type": "markdown",
   "metadata": {},
   "source": [
    "Voici les 10 différents types de problèmes des compagnies aériennes:"
   ]
  },
  {
   "cell_type": "code",
   "execution_count": 20,
   "metadata": {},
   "outputs": [
    {
     "data": {
      "text/plain": [
       "Customer Service Issue         2910\n",
       "Late Flight                    1665\n",
       "Can't Tell                     1190\n",
       "Cancelled Flight               847 \n",
       "Lost Luggage                   724 \n",
       "Bad Flight                     580 \n",
       "Flight Booking Problems        529 \n",
       "Flight Attendant Complaints    481 \n",
       "longlines                      178 \n",
       "Damaged Luggage                74  \n",
       "Name: negativereason, dtype: int64"
      ]
     },
     "execution_count": 20,
     "metadata": {},
     "output_type": "execute_result"
    }
   ],
   "source": [
    "Tweet_airline['negativereason'].value_counts()"
   ]
  },
  {
   "cell_type": "markdown",
   "metadata": {},
   "source": [
    "On voit que tous les thèmes ne sont pas également répartis.\n",
    "On va retirer pour simplifier le topic modeling, certains thèmes, difficile à catégoriser tels que le thème \"Can't Tell\".\n",
    "On peut également s'apercevoir que les thèmes se recoupent assez facilement : les différences entre thèmes sont très minimes. Il est donc difficile de hiérarchiser ces thèmes. Certains sont des sous-thèmes de certains thèmes.\n",
    "On peut par exemple associer : Damaged Luggage et Lost Luggage ensemble par simplification.\n"
   ]
  },
  {
   "cell_type": "code",
   "execution_count": 115,
   "metadata": {},
   "outputs": [],
   "source": [
    "#suppression du thème \"Can't Tell\"\n",
    "Tweet_airline = Tweet_airline[Tweet_airline.negativereason !=\"Can't Tell\"]"
   ]
  },
  {
   "cell_type": "code",
   "execution_count": 116,
   "metadata": {},
   "outputs": [
    {
     "data": {
      "text/html": [
       "<div>\n",
       "<style scoped>\n",
       "    .dataframe tbody tr th:only-of-type {\n",
       "        vertical-align: middle;\n",
       "    }\n",
       "\n",
       "    .dataframe tbody tr th {\n",
       "        vertical-align: top;\n",
       "    }\n",
       "\n",
       "    .dataframe thead th {\n",
       "        text-align: right;\n",
       "    }\n",
       "</style>\n",
       "<table border=\"1\" class=\"dataframe\">\n",
       "  <thead>\n",
       "    <tr style=\"text-align: right;\">\n",
       "      <th></th>\n",
       "      <th>text</th>\n",
       "      <th>negativereason</th>\n",
       "    </tr>\n",
       "  </thead>\n",
       "  <tbody>\n",
       "    <tr>\n",
       "      <th>0</th>\n",
       "      <td>@USAirways any guesstimate on hold times? Can't change my flight online, at 45 mins and counting...</td>\n",
       "      <td>Customer Service Issue</td>\n",
       "    </tr>\n",
       "    <tr>\n",
       "      <th>1</th>\n",
       "      <td>@USAirways unfortunately patience won't get me to my boat that leaves at 4 pm. I was on hold watching all flights fill up.</td>\n",
       "      <td>Late Flight</td>\n",
       "    </tr>\n",
       "    <tr>\n",
       "      <th>2</th>\n",
       "      <td>@SouthwestAir okay I understand a delay one way. But both ways? C'mon #annoyed #flights</td>\n",
       "      <td>Late Flight</td>\n",
       "    </tr>\n",
       "    <tr>\n",
       "      <th>3</th>\n",
       "      <td>@USAirways your checkin at @PHLAirport is a #shitshow, and the agent behind the counter who tried to send me to the wrong destination=rude!</td>\n",
       "      <td>Flight Attendant Complaints</td>\n",
       "    </tr>\n",
       "    <tr>\n",
       "      <th>4</th>\n",
       "      <td>@SouthwestAir Why doesn't mean TSA PreCheck show up on my mobile boarding pass? My KTN is linked to my account.</td>\n",
       "      <td>Flight Booking Problems</td>\n",
       "    </tr>\n",
       "    <tr>\n",
       "      <th>5</th>\n",
       "      <td>@united flight was Cancelled Flighted after the last opportunity to rebook us on other flights this evening passed.</td>\n",
       "      <td>Cancelled Flight</td>\n",
       "    </tr>\n",
       "    <tr>\n",
       "      <th>6</th>\n",
       "      <td>@JetBlue WHAT'S UP WITH WEBSITE CAN'T ACCESS FLIGHT INFO</td>\n",
       "      <td>Flight Booking Problems</td>\n",
       "    </tr>\n",
       "    <tr>\n",
       "      <th>8</th>\n",
       "      <td>@AmericanAir umm unexpected?? Unexpected meaning you guys didn't know you had a major staff shortage ??</td>\n",
       "      <td>Customer Service Issue</td>\n",
       "    </tr>\n",
       "    <tr>\n",
       "      <th>9</th>\n",
       "      <td>@AmericanAir the app doesn't allow Canadian address. I used the mobile Canadian site and it will not let you select a passenger.</td>\n",
       "      <td>Flight Booking Problems</td>\n",
       "    </tr>\n",
       "    <tr>\n",
       "      <th>10</th>\n",
       "      <td>@AmericanAir probs the worst customer service ever. Replied to complaint I submitted 6 weeks ago bout damaged bag... Not even replacing it!</td>\n",
       "      <td>Customer Service Issue</td>\n",
       "    </tr>\n",
       "    <tr>\n",
       "      <th>11</th>\n",
       "      <td>@united really 1st flt frm IAD 2 IAH is - Late Flight &amp;amp; -going via Nashville? #inconvenience. Downgraded but not on ticket</td>\n",
       "      <td>Late Flight</td>\n",
       "    </tr>\n",
       "    <tr>\n",
       "      <th>12</th>\n",
       "      <td>@AmericanAir Any info for Cancelled Flightled flight 1046 tomorrow morning out of DFW? Can't get calls through to speak with anyone.</td>\n",
       "      <td>Cancelled Flight</td>\n",
       "    </tr>\n",
       "    <tr>\n",
       "      <th>13</th>\n",
       "      <td>@united so you are saying that customer care does not report to anyone? Their response is humiliating for a company that serves the public.</td>\n",
       "      <td>Customer Service Issue</td>\n",
       "    </tr>\n",
       "    <tr>\n",
       "      <th>14</th>\n",
       "      <td>@USAirways little help to us! My husband has been on hold for an hour for something that take 5 minutes to complete.</td>\n",
       "      <td>Customer Service Issue</td>\n",
       "    </tr>\n",
       "    <tr>\n",
       "      <th>15</th>\n",
       "      <td>Noooo don't do it, please don't do it _Ù÷©RT @JetBlue: Our fleet's on fleek. http://t.co/lsxJI0oUvRÛ</td>\n",
       "      <td>Late Flight</td>\n",
       "    </tr>\n",
       "    <tr>\n",
       "      <th>16</th>\n",
       "      <td>@AmericanAir offered me a cot to sleep on?After they Cancelled Flightled my flight. A fucking cot. What about a hotel, like you're supposed to provide</td>\n",
       "      <td>Cancelled Flight</td>\n",
       "    </tr>\n",
       "    <tr>\n",
       "      <th>18</th>\n",
       "      <td>@united boarding a #plane would be much faster if you boarded back to front instead of front to back #MakesSense #efficiency #travel #flying</td>\n",
       "      <td>longlines</td>\n",
       "    </tr>\n",
       "    <tr>\n",
       "      <th>19</th>\n",
       "      <td>@USAirways tooooo many Cancelled Flightations! My chain of command hates me now</td>\n",
       "      <td>Cancelled Flight</td>\n",
       "    </tr>\n",
       "    <tr>\n",
       "      <th>20</th>\n",
       "      <td>@AmericanAir we are waiting flight 919 !\\nWe are at JFK for about 24h !! #NewYork #919 #viracopos #AmericanAirlines http://t.co/3FheS0lPMU</td>\n",
       "      <td>Late Flight</td>\n",
       "    </tr>\n",
       "    <tr>\n",
       "      <th>22</th>\n",
       "      <td>@SouthwestAir had to Cancelled Flight my flight because my Cavalli calves was interfering with the onboard equipment.</td>\n",
       "      <td>Cancelled Flight</td>\n",
       "    </tr>\n",
       "  </tbody>\n",
       "</table>\n",
       "</div>"
      ],
      "text/plain": [
       "                                                                                                                                                      text  \\\n",
       "0   @USAirways any guesstimate on hold times? Can't change my flight online, at 45 mins and counting...                                                      \n",
       "1   @USAirways unfortunately patience won't get me to my boat that leaves at 4 pm. I was on hold watching all flights fill up.                               \n",
       "2   @SouthwestAir okay I understand a delay one way. But both ways? C'mon #annoyed #flights                                                                  \n",
       "3   @USAirways your checkin at @PHLAirport is a #shitshow, and the agent behind the counter who tried to send me to the wrong destination=rude!              \n",
       "4   @SouthwestAir Why doesn't mean TSA PreCheck show up on my mobile boarding pass? My KTN is linked to my account.                                          \n",
       "5   @united flight was Cancelled Flighted after the last opportunity to rebook us on other flights this evening passed.                                      \n",
       "6   @JetBlue WHAT'S UP WITH WEBSITE CAN'T ACCESS FLIGHT INFO                                                                                                 \n",
       "8   @AmericanAir umm unexpected?? Unexpected meaning you guys didn't know you had a major staff shortage ??                                                  \n",
       "9   @AmericanAir the app doesn't allow Canadian address. I used the mobile Canadian site and it will not let you select a passenger.                         \n",
       "10  @AmericanAir probs the worst customer service ever. Replied to complaint I submitted 6 weeks ago bout damaged bag... Not even replacing it!              \n",
       "11  @united really 1st flt frm IAD 2 IAH is - Late Flight &amp; -going via Nashville? #inconvenience. Downgraded but not on ticket                           \n",
       "12  @AmericanAir Any info for Cancelled Flightled flight 1046 tomorrow morning out of DFW? Can't get calls through to speak with anyone.                     \n",
       "13  @united so you are saying that customer care does not report to anyone? Their response is humiliating for a company that serves the public.              \n",
       "14  @USAirways little help to us! My husband has been on hold for an hour for something that take 5 minutes to complete.                                     \n",
       "15  Noooo don't do it, please don't do it _Ù÷©RT @JetBlue: Our fleet's on fleek. http://t.co/lsxJI0oUvRÛ                                                   \n",
       "16  @AmericanAir offered me a cot to sleep on?After they Cancelled Flightled my flight. A fucking cot. What about a hotel, like you're supposed to provide   \n",
       "18  @united boarding a #plane would be much faster if you boarded back to front instead of front to back #MakesSense #efficiency #travel #flying             \n",
       "19  @USAirways tooooo many Cancelled Flightations! My chain of command hates me now                                                                          \n",
       "20  @AmericanAir we are waiting flight 919 !\\nWe are at JFK for about 24h !! #NewYork #919 #viracopos #AmericanAirlines http://t.co/3FheS0lPMU               \n",
       "22  @SouthwestAir had to Cancelled Flight my flight because my Cavalli calves was interfering with the onboard equipment.                                    \n",
       "\n",
       "                 negativereason  \n",
       "0   Customer Service Issue       \n",
       "1   Late Flight                  \n",
       "2   Late Flight                  \n",
       "3   Flight Attendant Complaints  \n",
       "4   Flight Booking Problems      \n",
       "5   Cancelled Flight             \n",
       "6   Flight Booking Problems      \n",
       "8   Customer Service Issue       \n",
       "9   Flight Booking Problems      \n",
       "10  Customer Service Issue       \n",
       "11  Late Flight                  \n",
       "12  Cancelled Flight             \n",
       "13  Customer Service Issue       \n",
       "14  Customer Service Issue       \n",
       "15  Late Flight                  \n",
       "16  Cancelled Flight             \n",
       "18  longlines                    \n",
       "19  Cancelled Flight             \n",
       "20  Late Flight                  \n",
       "22  Cancelled Flight             "
      ]
     },
     "execution_count": 116,
     "metadata": {},
     "output_type": "execute_result"
    }
   ],
   "source": [
    "Tweet_airline[['text', 'negativereason']].head(20)"
   ]
  },
  {
   "cell_type": "code",
   "execution_count": 22,
   "metadata": {},
   "outputs": [],
   "source": [
    "import gensim\n",
    "from gensim import corpora, models\n",
    "from gensim.utils import simple_preprocess\n",
    "from gensim.models import CoherenceModel\n",
    "from gensim.parsing.preprocessing import STOPWORDS\n",
    "from nltk.stem import WordNetLemmatizer, SnowballStemmer\n",
    "from nltk.stem.porter import *\n",
    "import numpy as np\n",
    "np.random.seed(2018)\n",
    "import nltk\n",
    "from nltk import PorterStemmer\n",
    "#nltk.download('wordnet')"
   ]
  },
  {
   "cell_type": "code",
   "execution_count": 23,
   "metadata": {},
   "outputs": [],
   "source": [
    "Tweet_airline['tokenized'] = Tweet_airline['clean_text'].apply(lambda row: tokenize(row))"
   ]
  },
  {
   "cell_type": "code",
   "execution_count": 118,
   "metadata": {},
   "outputs": [
    {
     "data": {
      "text/html": [
       "<div>\n",
       "<style scoped>\n",
       "    .dataframe tbody tr th:only-of-type {\n",
       "        vertical-align: middle;\n",
       "    }\n",
       "\n",
       "    .dataframe tbody tr th {\n",
       "        vertical-align: top;\n",
       "    }\n",
       "\n",
       "    .dataframe thead th {\n",
       "        text-align: right;\n",
       "    }\n",
       "</style>\n",
       "<table border=\"1\" class=\"dataframe\">\n",
       "  <thead>\n",
       "    <tr style=\"text-align: right;\">\n",
       "      <th></th>\n",
       "      <th>clean_text</th>\n",
       "      <th>tokenized</th>\n",
       "    </tr>\n",
       "  </thead>\n",
       "  <tbody>\n",
       "    <tr>\n",
       "      <th>0</th>\n",
       "      <td>any guesstimate on hold times cant change my flight online at mins and counting</td>\n",
       "      <td>[any, guesstimate, on, hold, times, cant, change, my, flight, online, at, mins, and, counting]</td>\n",
       "    </tr>\n",
       "    <tr>\n",
       "      <th>1</th>\n",
       "      <td>unfortunately patience wont get me to my boat that leaves at pm i was on hold watching all flights fill up</td>\n",
       "      <td>[unfortunately, patience, wont, get, me, to, my, boat, that, leaves, at, pm, i, was, on, hold, watching, all, flights, fill, up]</td>\n",
       "    </tr>\n",
       "    <tr>\n",
       "      <th>2</th>\n",
       "      <td>okay i understand a delay one way but both ways cmon annoyed flights</td>\n",
       "      <td>[okay, i, understand, a, delay, one, way, but, both, ways, cmon, annoyed, flights]</td>\n",
       "    </tr>\n",
       "    <tr>\n",
       "      <th>3</th>\n",
       "      <td>your checkin at is a shitshow and the agent behind the counter who tried to send me to the wrong destinationrude</td>\n",
       "      <td>[your, checkin, at, is, a, shitshow, and, the, agent, behind, the, counter, who, tried, to, send, me, to, the, wrong, destinationrude]</td>\n",
       "    </tr>\n",
       "    <tr>\n",
       "      <th>4</th>\n",
       "      <td>why doesnt mean tsa precheck show up on my mobile boarding pass my ktn is linked to my account</td>\n",
       "      <td>[why, doesnt, mean, tsa, precheck, show, up, on, my, mobile, boarding, pass, my, ktn, is, linked, to, my, account]</td>\n",
       "    </tr>\n",
       "  </tbody>\n",
       "</table>\n",
       "</div>"
      ],
      "text/plain": [
       "                                                                                                         clean_text  \\\n",
       "0  any guesstimate on hold times cant change my flight online at mins and counting                                    \n",
       "1  unfortunately patience wont get me to my boat that leaves at pm i was on hold watching all flights fill up         \n",
       "2  okay i understand a delay one way but both ways cmon annoyed flights                                               \n",
       "3  your checkin at is a shitshow and the agent behind the counter who tried to send me to the wrong destinationrude   \n",
       "4  why doesnt mean tsa precheck show up on my mobile boarding pass my ktn is linked to my account                     \n",
       "\n",
       "                                                                                                                                tokenized  \n",
       "0  [any, guesstimate, on, hold, times, cant, change, my, flight, online, at, mins, and, counting]                                          \n",
       "1  [unfortunately, patience, wont, get, me, to, my, boat, that, leaves, at, pm, i, was, on, hold, watching, all, flights, fill, up]        \n",
       "2  [okay, i, understand, a, delay, one, way, but, both, ways, cmon, annoyed, flights]                                                      \n",
       "3  [your, checkin, at, is, a, shitshow, and, the, agent, behind, the, counter, who, tried, to, send, me, to, the, wrong, destinationrude]  \n",
       "4  [why, doesnt, mean, tsa, precheck, show, up, on, my, mobile, boarding, pass, my, ktn, is, linked, to, my, account]                      "
      ]
     },
     "execution_count": 118,
     "metadata": {},
     "output_type": "execute_result"
    }
   ],
   "source": [
    "Tweet_airline[['clean_text', 'tokenized']].head()"
   ]
  },
  {
   "cell_type": "code",
   "execution_count": 25,
   "metadata": {},
   "outputs": [],
   "source": [
    "#preprocessing du texte pré-nettoyé : on tokenize, on enlève les stop-words, on lemmatize à partir de la catégorie du mot.\n",
    "lemmatizer = WordNetLemmatizer()\n",
    "\n",
    "from nltk.corpus import wordnet\n",
    "\n",
    "tag_dict = {\"J\": wordnet.ADJ,\n",
    "                \"N\": wordnet.NOUN,\n",
    "                \"V\": wordnet.VERB,\n",
    "                \"R\": wordnet.ADV}\n",
    "\n",
    "def get_wordnet_pos(word, tag_dict):\n",
    "    \"\"\"Map POS tag to first character lemmatize() accepts\"\"\"\n",
    "    tag = nltk.pos_tag([word])[0][1][0].upper()\n",
    "\n",
    "    return tag_dict.get(tag, wordnet.NOUN)\n",
    "\n",
    "def lemmatize(token):\n",
    "    return lemmatizer.lemmatize(token, get_wordnet_pos(token, tag_dict))\n",
    "\n",
    "def preprocess(text):\n",
    "    result = []\n",
    "    for token in gensim.utils.simple_preprocess(text):\n",
    "        if token not in gensim.parsing.preprocessing.STOPWORDS and len(token) > 3:\n",
    "            result.append(lemmatize(token))\n",
    "    return result"
   ]
  },
  {
   "cell_type": "code",
   "execution_count": 26,
   "metadata": {},
   "outputs": [],
   "source": [
    "Tweet_airline['tokenized_preprocessed'] = Tweet_airline['clean_text'].apply(lambda row: preprocess(row))"
   ]
  },
  {
   "cell_type": "code",
   "execution_count": 27,
   "metadata": {},
   "outputs": [
    {
     "data": {
      "text/html": [
       "<div>\n",
       "<style scoped>\n",
       "    .dataframe tbody tr th:only-of-type {\n",
       "        vertical-align: middle;\n",
       "    }\n",
       "\n",
       "    .dataframe tbody tr th {\n",
       "        vertical-align: top;\n",
       "    }\n",
       "\n",
       "    .dataframe thead th {\n",
       "        text-align: right;\n",
       "    }\n",
       "</style>\n",
       "<table border=\"1\" class=\"dataframe\">\n",
       "  <thead>\n",
       "    <tr style=\"text-align: right;\">\n",
       "      <th></th>\n",
       "      <th>tokenized</th>\n",
       "      <th>tokenized_preprocessed</th>\n",
       "    </tr>\n",
       "  </thead>\n",
       "  <tbody>\n",
       "    <tr>\n",
       "      <th>0</th>\n",
       "      <td>[any, guesstimate, on, hold, times, cant, change, my, flight, online, at, mins, and, counting]</td>\n",
       "      <td>[guesstimate, hold, time, change, flight, online, min, counting]</td>\n",
       "    </tr>\n",
       "    <tr>\n",
       "      <th>1</th>\n",
       "      <td>[unfortunately, patience, wont, get, me, to, my, boat, that, leaves, at, pm, i, was, on, hold, watching, all, flights, fill, up]</td>\n",
       "      <td>[unfortunately, patience, wont, boat, leaf, hold, watch, flight]</td>\n",
       "    </tr>\n",
       "    <tr>\n",
       "      <th>2</th>\n",
       "      <td>[okay, i, understand, a, delay, one, way, but, both, ways, cmon, annoyed, flights]</td>\n",
       "      <td>[okay, understand, delay, way, cmon, annoyed, flight]</td>\n",
       "    </tr>\n",
       "    <tr>\n",
       "      <th>3</th>\n",
       "      <td>[your, checkin, at, is, a, shitshow, and, the, agent, behind, the, counter, who, tried, to, send, me, to, the, wrong, destinationrude]</td>\n",
       "      <td>[checkin, shitshow, agent, counter, try, send, wrong, destinationrude]</td>\n",
       "    </tr>\n",
       "    <tr>\n",
       "      <th>4</th>\n",
       "      <td>[why, doesnt, mean, tsa, precheck, show, up, on, my, mobile, boarding, pass, my, ktn, is, linked, to, my, account]</td>\n",
       "      <td>[doesnt, mean, precheck, mobile, boarding, pas, link, account]</td>\n",
       "    </tr>\n",
       "  </tbody>\n",
       "</table>\n",
       "</div>"
      ],
      "text/plain": [
       "                                                                                                                                tokenized  \\\n",
       "0  [any, guesstimate, on, hold, times, cant, change, my, flight, online, at, mins, and, counting]                                           \n",
       "1  [unfortunately, patience, wont, get, me, to, my, boat, that, leaves, at, pm, i, was, on, hold, watching, all, flights, fill, up]         \n",
       "2  [okay, i, understand, a, delay, one, way, but, both, ways, cmon, annoyed, flights]                                                       \n",
       "3  [your, checkin, at, is, a, shitshow, and, the, agent, behind, the, counter, who, tried, to, send, me, to, the, wrong, destinationrude]   \n",
       "4  [why, doesnt, mean, tsa, precheck, show, up, on, my, mobile, boarding, pass, my, ktn, is, linked, to, my, account]                       \n",
       "\n",
       "                                                   tokenized_preprocessed  \n",
       "0  [guesstimate, hold, time, change, flight, online, min, counting]        \n",
       "1  [unfortunately, patience, wont, boat, leaf, hold, watch, flight]        \n",
       "2  [okay, understand, delay, way, cmon, annoyed, flight]                   \n",
       "3  [checkin, shitshow, agent, counter, try, send, wrong, destinationrude]  \n",
       "4  [doesnt, mean, precheck, mobile, boarding, pas, link, account]          "
      ]
     },
     "execution_count": 27,
     "metadata": {},
     "output_type": "execute_result"
    }
   ],
   "source": [
    "Tweet_airline[['tokenized', 'tokenized_preprocessed']].head()"
   ]
  },
  {
   "cell_type": "markdown",
   "metadata": {},
   "source": [
    " "
   ]
  },
  {
   "cell_type": "code",
   "execution_count": 28,
   "metadata": {},
   "outputs": [],
   "source": [
    "#on utilise également le stemming pour rapporter les mots à une racine invariable.\n",
    "stemmer = PorterStemmer()\n",
    "\n",
    "def stemming(text):\n",
    "    return [stemmer.stem(token) for token in text]\n",
    "\n",
    "Tweet_airline['stem'] = Tweet_airline['tokenized_preprocessed'].apply(lambda row: stemming(row))"
   ]
  },
  {
   "cell_type": "code",
   "execution_count": 29,
   "metadata": {
    "scrolled": true
   },
   "outputs": [
    {
     "data": {
      "text/html": [
       "<div>\n",
       "<style scoped>\n",
       "    .dataframe tbody tr th:only-of-type {\n",
       "        vertical-align: middle;\n",
       "    }\n",
       "\n",
       "    .dataframe tbody tr th {\n",
       "        vertical-align: top;\n",
       "    }\n",
       "\n",
       "    .dataframe thead th {\n",
       "        text-align: right;\n",
       "    }\n",
       "</style>\n",
       "<table border=\"1\" class=\"dataframe\">\n",
       "  <thead>\n",
       "    <tr style=\"text-align: right;\">\n",
       "      <th></th>\n",
       "      <th>tokenized</th>\n",
       "      <th>tokenized_preprocessed</th>\n",
       "      <th>stem</th>\n",
       "    </tr>\n",
       "  </thead>\n",
       "  <tbody>\n",
       "    <tr>\n",
       "      <th>0</th>\n",
       "      <td>[any, guesstimate, on, hold, times, cant, change, my, flight, online, at, mins, and, counting]</td>\n",
       "      <td>[guesstimate, hold, time, change, flight, online, min, counting]</td>\n",
       "      <td>[guesstim, hold, time, chang, flight, onlin, min, count]</td>\n",
       "    </tr>\n",
       "    <tr>\n",
       "      <th>1</th>\n",
       "      <td>[unfortunately, patience, wont, get, me, to, my, boat, that, leaves, at, pm, i, was, on, hold, watching, all, flights, fill, up]</td>\n",
       "      <td>[unfortunately, patience, wont, boat, leaf, hold, watch, flight]</td>\n",
       "      <td>[unfortun, patienc, wont, boat, leaf, hold, watch, flight]</td>\n",
       "    </tr>\n",
       "    <tr>\n",
       "      <th>2</th>\n",
       "      <td>[okay, i, understand, a, delay, one, way, but, both, ways, cmon, annoyed, flights]</td>\n",
       "      <td>[okay, understand, delay, way, cmon, annoyed, flight]</td>\n",
       "      <td>[okay, understand, delay, way, cmon, annoy, flight]</td>\n",
       "    </tr>\n",
       "    <tr>\n",
       "      <th>3</th>\n",
       "      <td>[your, checkin, at, is, a, shitshow, and, the, agent, behind, the, counter, who, tried, to, send, me, to, the, wrong, destinationrude]</td>\n",
       "      <td>[checkin, shitshow, agent, counter, try, send, wrong, destinationrude]</td>\n",
       "      <td>[checkin, shitshow, agent, counter, tri, send, wrong, destinationrud]</td>\n",
       "    </tr>\n",
       "    <tr>\n",
       "      <th>4</th>\n",
       "      <td>[why, doesnt, mean, tsa, precheck, show, up, on, my, mobile, boarding, pass, my, ktn, is, linked, to, my, account]</td>\n",
       "      <td>[doesnt, mean, precheck, mobile, boarding, pas, link, account]</td>\n",
       "      <td>[doesnt, mean, precheck, mobil, board, pa, link, account]</td>\n",
       "    </tr>\n",
       "  </tbody>\n",
       "</table>\n",
       "</div>"
      ],
      "text/plain": [
       "                                                                                                                                tokenized  \\\n",
       "0  [any, guesstimate, on, hold, times, cant, change, my, flight, online, at, mins, and, counting]                                           \n",
       "1  [unfortunately, patience, wont, get, me, to, my, boat, that, leaves, at, pm, i, was, on, hold, watching, all, flights, fill, up]         \n",
       "2  [okay, i, understand, a, delay, one, way, but, both, ways, cmon, annoyed, flights]                                                       \n",
       "3  [your, checkin, at, is, a, shitshow, and, the, agent, behind, the, counter, who, tried, to, send, me, to, the, wrong, destinationrude]   \n",
       "4  [why, doesnt, mean, tsa, precheck, show, up, on, my, mobile, boarding, pass, my, ktn, is, linked, to, my, account]                       \n",
       "\n",
       "                                                   tokenized_preprocessed  \\\n",
       "0  [guesstimate, hold, time, change, flight, online, min, counting]         \n",
       "1  [unfortunately, patience, wont, boat, leaf, hold, watch, flight]         \n",
       "2  [okay, understand, delay, way, cmon, annoyed, flight]                    \n",
       "3  [checkin, shitshow, agent, counter, try, send, wrong, destinationrude]   \n",
       "4  [doesnt, mean, precheck, mobile, boarding, pas, link, account]           \n",
       "\n",
       "                                                                    stem  \n",
       "0  [guesstim, hold, time, chang, flight, onlin, min, count]               \n",
       "1  [unfortun, patienc, wont, boat, leaf, hold, watch, flight]             \n",
       "2  [okay, understand, delay, way, cmon, annoy, flight]                    \n",
       "3  [checkin, shitshow, agent, counter, tri, send, wrong, destinationrud]  \n",
       "4  [doesnt, mean, precheck, mobil, board, pa, link, account]              "
      ]
     },
     "execution_count": 29,
     "metadata": {},
     "output_type": "execute_result"
    }
   ],
   "source": [
    "Tweet_airline[['tokenized', 'tokenized_preprocessed', 'stem']].head()"
   ]
  },
  {
   "cell_type": "code",
   "execution_count": 245,
   "metadata": {},
   "outputs": [],
   "source": [
    "#création du dictionnaire à partir des mots stemmatisés\n",
    "dictionary = gensim.corpora.Dictionary(Tweet_airline['stem'])"
   ]
  },
  {
   "cell_type": "code",
   "execution_count": 246,
   "metadata": {},
   "outputs": [
    {
     "data": {
      "text/plain": [
       "5593"
      ]
     },
     "execution_count": 246,
     "metadata": {},
     "output_type": "execute_result"
    }
   ],
   "source": [
    "len(dictionary)"
   ]
  },
  {
   "cell_type": "code",
   "execution_count": 247,
   "metadata": {},
   "outputs": [],
   "source": [
    "#on filtre le dictionnaire pour conserver les mots qui nous intéressent le plus\n",
    "dictionary.filter_extremes(no_below=1, no_above=0.25, keep_n=5300)"
   ]
  },
  {
   "cell_type": "code",
   "execution_count": 248,
   "metadata": {},
   "outputs": [
    {
     "data": {
      "text/plain": [
       "5300"
      ]
     },
     "execution_count": 248,
     "metadata": {},
     "output_type": "execute_result"
    }
   ],
   "source": [
    "len(dictionary)"
   ]
  },
  {
   "cell_type": "code",
   "execution_count": 249,
   "metadata": {},
   "outputs": [],
   "source": [
    "#On transforme les tweets en bag of words.\n",
    "bow_corpus = [dictionary.doc2bow(tweet) for tweet in Tweet_airline['stem']]"
   ]
  },
  {
   "cell_type": "markdown",
   "metadata": {},
   "source": [
    "On va maintenant chercher le nombre de thèmes qui nous assurent des différences maximales entre les thèmes. La mesure de cohérence du topic modeling va traduire une bonne représentation des thèmes dans l'espace. On fait donc varier le nombre de thèmes entre 3 et 11 et on regarde le nombre de topics qui maximise la valeur de cohérence."
   ]
  },
  {
   "cell_type": "code",
   "execution_count": 209,
   "metadata": {},
   "outputs": [],
   "source": [
    "def compute_coherence_values(dictionary, corpus, texts, limit, start=2, step=3):\n",
    "    \"\"\"\n",
    "    Compute c_v coherence for various number of topics\n",
    "\n",
    "    Parameters:\n",
    "    ----------\n",
    "    dictionary : Gensim dictionary\n",
    "    corpus : Gensim corpus\n",
    "    texts : List of input texts\n",
    "    limit : Max num of topics\n",
    "\n",
    "    Returns:\n",
    "    -------\n",
    "    model_list : List of LDA topic models\n",
    "    coherence_values : Coherence values corresponding to the LDA model with respective number of topics\n",
    "    \"\"\"\n",
    "    coherence_values = []\n",
    "    model_list = []\n",
    "    for num_topics in range(start, limit, step):\n",
    "        model = gensim.models.LdaMulticore(bow_corpus, num_topics=num_topics, id2word=dictionary, passes=50, workers=5)\n",
    "        model_list.append(model)\n",
    "        coherencemodel = CoherenceModel(model=model, texts=texts, dictionary=dictionary, coherence='c_v')\n",
    "        coherence_values.append(coherencemodel.get_coherence())\n",
    "\n",
    "    return model_list, coherence_values"
   ]
  },
  {
   "cell_type": "code",
   "execution_count": 255,
   "metadata": {},
   "outputs": [],
   "source": [
    "model_list, coherence_values = compute_coherence_values(dictionary=dictionary, corpus=bow_corpus, texts=Tweet_airline['stem'], start=3, limit=11, step=1)"
   ]
  },
  {
   "cell_type": "code",
   "execution_count": 256,
   "metadata": {},
   "outputs": [
    {
     "data": {
      "image/png": "[encoded data removed]",
      "text/plain": [
       "<Figure size 432x288 with 1 Axes>"
      ]
     },
     "metadata": {
      "needs_background": "light"
     },
     "output_type": "display_data"
    }
   ],
   "source": [
    "limit=11; start=3; step=1;\n",
    "x = range(start, limit, step)\n",
    "plt.plot(x, coherence_values)\n",
    "plt.xlabel(\"Num Topics\")\n",
    "plt.ylabel(\"Coherence score\")\n",
    "plt.legend((\"coherence_values\"), loc='best')\n",
    "plt.show()"
   ]
  },
  {
   "cell_type": "markdown",
   "metadata": {},
   "source": [
    "A partir de la mesure de cohérence entre les différents thèmes on peut voir qu'un nombre de 6 ou 7 thèmes permet de mieux les différencier entre eux. Par rapport au différents thèmes/types de problèmes proposés dans le dataset initial, nous avons décidé de conserver 6 thèmes principaux."
   ]
  },
  {
   "cell_type": "markdown",
   "metadata": {},
   "source": [
    "On cherche donc la composition des mots dans nos thèmes sachant que nous avons fixé le nombre de thèmes à 6. Nous itérons 200 fois."
   ]
  },
  {
   "cell_type": "code",
   "execution_count": 250,
   "metadata": {},
   "outputs": [],
   "source": [
    "lda_model = gensim.models.LdaMulticore(bow_corpus, num_topics=6, id2word=dictionary, passes=200, workers=5)"
   ]
  },
  {
   "cell_type": "code",
   "execution_count": 251,
   "metadata": {},
   "outputs": [
    {
     "name": "stdout",
     "output_type": "stream",
     "text": [
      "Topic: 0 \n",
      "Words: 0.060*\"delay\" + 0.039*\"hour\" + 0.029*\"late\" + 0.029*\"plane\" + 0.026*\"time\" + 0.022*\"wait\" + 0.021*\"gate\" + 0.016*\"board\" + 0.013*\"thank\" + 0.012*\"sit\"\n",
      "Topic: 1 \n",
      "Words: 0.056*\"miss\" + 0.047*\"seat\" + 0.040*\"connect\" + 0.020*\"delay\" + 0.017*\"go\" + 0.012*\"upgrad\" + 0.010*\"class\" + 0.009*\"problem\" + 0.008*\"plane\" + 0.007*\"happi\"\n",
      "Topic: 2 \n",
      "Words: 0.095*\"cancel\" + 0.047*\"flightl\" + 0.025*\"hour\" + 0.017*\"rebook\" + 0.014*\"hold\" + 0.014*\"stuck\" + 0.013*\"tomorrow\" + 0.012*\"wait\" + 0.010*\"home\" + 0.010*\"help\"\n",
      "Topic: 3 \n",
      "Words: 0.041*\"help\" + 0.036*\"hold\" + 0.028*\"phone\" + 0.024*\"hour\" + 0.024*\"tri\" + 0.023*\"book\" + 0.020*\"chang\" + 0.016*\"need\" + 0.016*\"time\" + 0.014*\"call\"\n",
      "Topic: 4 \n",
      "Words: 0.073*\"servic\" + 0.072*\"custom\" + 0.020*\"bad\" + 0.019*\"agent\" + 0.013*\"experi\" + 0.013*\"airlin\" + 0.011*\"rude\" + 0.010*\"care\" + 0.010*\"time\" + 0.010*\"unit\"\n",
      "Topic: 5 \n",
      "Words: 0.026*\"luggag\" + 0.025*\"bag\" + 0.024*\"lose\" + 0.019*\"baggag\" + 0.018*\"like\" + 0.014*\"look\" + 0.013*\"dont\" + 0.011*\"need\" + 0.011*\"day\" + 0.010*\"claim\"\n"
     ]
    }
   ],
   "source": [
    "for idx, topic in lda_model.print_topics(-1):\n",
    "    print('Topic: {} \\nWords: {}'.format(idx, topic))"
   ]
  },
  {
   "cell_type": "markdown",
   "metadata": {},
   "source": [
    "On peut donc connaître la proportion des mots dans chacun de nos 6 thèmes.\n",
    "On représente ci-dessous de manière plus visuelle cette proportion de mots dans nos thèmes."
   ]
  },
  {
   "cell_type": "code",
   "execution_count": 252,
   "metadata": {},
   "outputs": [
    {
     "data": {
      "image/png": "[encoded data removed]",
      "text/plain": [
       "<Figure size 720x720 with 6 Axes>"
      ]
     },
     "metadata": {
      "needs_background": "light"
     },
     "output_type": "display_data"
    }
   ],
   "source": [
    "from matplotlib import pyplot as plt\n",
    "from wordcloud import WordCloud, STOPWORDS\n",
    "import matplotlib.colors as mcolors\n",
    "\n",
    "cols = [color for name, color in mcolors.TABLEAU_COLORS.items()]  # more colors: 'mcolors.XKCD_COLORS'\n",
    "\n",
    "cloud = WordCloud(stopwords=stop,\n",
    "                  background_color='white',\n",
    "                  width=2500,\n",
    "                  height=1800,\n",
    "                  max_words=10,\n",
    "                  colormap='tab10',\n",
    "                  color_func=lambda *args, **kwargs: cols[i],\n",
    "                  prefer_horizontal=1.0)\n",
    "\n",
    "topics = lda_model.show_topics(formatted=False)\n",
    "\n",
    "fig, axes = plt.subplots(2, 3, figsize=(10,10), sharex=True, sharey=True)\n",
    "\n",
    "for i, ax in enumerate(axes.flatten()):\n",
    "    fig.add_subplot(ax)\n",
    "    topic_words = dict(topics[i][1])\n",
    "    cloud.generate_from_frequencies(topic_words, max_font_size=300)\n",
    "    plt.gca().imshow(cloud)\n",
    "    plt.gca().set_title('Topic ' + str(i), fontdict=dict(size=16))\n",
    "    plt.gca().axis('off')\n",
    "\n",
    "\n",
    "plt.subplots_adjust(wspace=0, hspace=0)\n",
    "plt.axis('off')\n",
    "plt.margins(x=0, y=0)\n",
    "plt.tight_layout()\n",
    "plt.show()"
   ]
  },
  {
   "cell_type": "markdown",
   "metadata": {},
   "source": [
    "On peut donc établir une correspondance entre nos thèmes supervisé et les thèmes non supervisés relevés avec le topic modeling.\n",
    "\n",
    "- Topic 0 : Late Flight\n",
    "- Topic 1 : Bad Flight\n",
    "- Topic 2 : Cancelled Flight\n",
    "- Topic 3 : Flight Booking Problems\n",
    "- Topic 4 : Customer Service Issue\n",
    "- Topic 5 : Lost Luggage"
   ]
  },
  {
   "cell_type": "markdown",
   "metadata": {},
   "source": [
    "Pour s'assurer que notre topic modeling est correct, nous pouvons utiliser t-SNE en 2D pour visualiser la séparation des différents thèmes entre eux."
   ]
  },
  {
   "cell_type": "code",
   "execution_count": 253,
   "metadata": {},
   "outputs": [
    {
     "name": "stdout",
     "output_type": "stream",
     "text": [
      "[t-SNE] Computing 91 nearest neighbors...\n",
      "[t-SNE] Indexed 7831 samples in 0.003s...\n",
      "[t-SNE] Computed neighbors for 7831 samples in 0.241s...\n",
      "[t-SNE] Computed conditional probabilities for sample 1000 / 7831\n",
      "[t-SNE] Computed conditional probabilities for sample 2000 / 7831\n",
      "[t-SNE] Computed conditional probabilities for sample 3000 / 7831\n",
      "[t-SNE] Computed conditional probabilities for sample 4000 / 7831\n",
      "[t-SNE] Computed conditional probabilities for sample 5000 / 7831\n",
      "[t-SNE] Computed conditional probabilities for sample 6000 / 7831\n",
      "[t-SNE] Computed conditional probabilities for sample 7000 / 7831\n",
      "[t-SNE] Computed conditional probabilities for sample 7831 / 7831\n",
      "[t-SNE] Mean sigma: 0.000652\n",
      "[t-SNE] KL divergence after 250 iterations with early exaggeration: 63.982113\n",
      "[t-SNE] KL divergence after 1000 iterations: 0.606520\n"
     ]
    },
    {
     "data": {
      "text/html": [
       "\n",
       "    <div class=\"bk-root\">\n",
       "        <a href=\"https://bokeh.pydata.org\" target=\"_blank\" class=\"bk-logo bk-logo-small bk-logo-notebook\"></a>\n",
       "        <span id=\"98931d18-c5a9-4c77-971b-25cc08fa473c\">Loading BokehJS ...</span>\n",
       "    </div>"
      ]
     },
     "metadata": {},
     "output_type": "display_data"
    },
    {
     "data": {
      "application/javascript": [
       "\n",
       "(function(root) {\n",
       "  function now() {\n",
       "    return new Date();\n",
       "  }\n",
       "\n",
       "  var force = true;\n",
       "\n",
       "  if (typeof (root._bokeh_onload_callbacks) === \"undefined\" || force === true) {\n",
       "    root._bokeh_onload_callbacks = [];\n",
       "    root._bokeh_is_loading = undefined;\n",
       "  }\n",
       "\n",
       "  var JS_MIME_TYPE = 'application/javascript';\n",
       "  var HTML_MIME_TYPE = 'text/html';\n",
       "  var EXEC_MIME_TYPE = 'application/vnd.bokehjs_exec.v0+json';\n",
       "  var CLASS_NAME = 'output_bokeh rendered_html';\n",
       "\n",
       "  /**\n",
       "   * Render data to the DOM node\n",
       "   */\n",
       "  function render(props, node) {\n",
       "    var script = document.createElement(\"script\");\n",
       "    node.appendChild(script);\n",
       "  }\n",
       "\n",
       "  /**\n",
       "   * Handle when an output is cleared or removed\n",
       "   */\n",
       "  function handleClearOutput(event, handle) {\n",
       "    var cell = handle.cell;\n",
       "\n",
       "    var id = cell.output_area._bokeh_element_id;\n",
       "    var server_id = cell.output_area._bokeh_server_id;\n",
       "    // Clean up Bokeh references\n",
       "    if (id != null && id in Bokeh.index) {\n",
       "      Bokeh.index[id].model.document.clear();\n",
       "      delete Bokeh.index[id];\n",
       "    }\n",
       "\n",
       "    if (server_id !== undefined) {\n",
       "      // Clean up Bokeh references\n",
       "      var cmd = \"from bokeh.io.state import curstate; print(curstate().uuid_to_server['\" + server_id + \"'].get_sessions()[0].document.roots[0]._id)\";\n",
       "      cell.notebook.kernel.execute(cmd, {\n",
       "        iopub: {\n",
       "          output: function(msg) {\n",
       "            var id = msg.content.text.trim();\n",
       "            if (id in Bokeh.index) {\n",
       "              Bokeh.index[id].model.document.clear();\n",
       "              delete Bokeh.index[id];\n",
       "            }\n",
       "          }\n",
       "        }\n",
       "      });\n",
       "      // Destroy server and session\n",
       "      var cmd = \"import bokeh.io.notebook as ion; ion.destroy_server('\" + server_id + \"')\";\n",
       "      cell.notebook.kernel.execute(cmd);\n",
       "    }\n",
       "  }\n",
       "\n",
       "  /**\n",
       "   * Handle when a new output is added\n",
       "   */\n",
       "  function handleAddOutput(event, handle) {\n",
       "    var output_area = handle.output_area;\n",
       "    var output = handle.output;\n",
       "\n",
       "    // limit handleAddOutput to display_data with EXEC_MIME_TYPE content only\n",
       "    if ((output.output_type != \"display_data\") || (!output.data.hasOwnProperty(EXEC_MIME_TYPE))) {\n",
       "      return\n",
       "    }\n",
       "\n",
       "    var toinsert = output_area.element.find(\".\" + CLASS_NAME.split(' ')[0]);\n",
       "\n",
       "    if (output.metadata[EXEC_MIME_TYPE][\"id\"] !== undefined) {\n",
       "      toinsert[toinsert.length - 1].firstChild.textContent = output.data[JS_MIME_TYPE];\n",
       "      // store reference to embed id on output_area\n",
       "      output_area._bokeh_element_id = output.metadata[EXEC_MIME_TYPE][\"id\"];\n",
       "    }\n",
       "    if (output.metadata[EXEC_MIME_TYPE][\"server_id\"] !== undefined) {\n",
       "      var bk_div = document.createElement(\"div\");\n",
       "      bk_div.innerHTML = output.data[HTML_MIME_TYPE];\n",
       "      var script_attrs = bk_div.children[0].attributes;\n",
       "      for (var i = 0; i < script_attrs.length; i++) {\n",
       "        toinsert[toinsert.length - 1].firstChild.setAttribute(script_attrs[i].name, script_attrs[i].value);\n",
       "      }\n",
       "      // store reference to server id on output_area\n",
       "      output_area._bokeh_server_id = output.metadata[EXEC_MIME_TYPE][\"server_id\"];\n",
       "    }\n",
       "  }\n",
       "\n",
       "  function register_renderer(events, OutputArea) {\n",
       "\n",
       "    function append_mime(data, metadata, element) {\n",
       "      // create a DOM node to render to\n",
       "      var toinsert = this.create_output_subarea(\n",
       "        metadata,\n",
       "        CLASS_NAME,\n",
       "        EXEC_MIME_TYPE\n",
       "      );\n",
       "      this.keyboard_manager.register_events(toinsert);\n",
       "      // Render to node\n",
       "      var props = {data: data, metadata: metadata[EXEC_MIME_TYPE]};\n",
       "      render(props, toinsert[toinsert.length - 1]);\n",
       "      element.append(toinsert);\n",
       "      return toinsert\n",
       "    }\n",
       "\n",
       "    /* Handle when an output is cleared or removed */\n",
       "    events.on('clear_output.CodeCell', handleClearOutput);\n",
       "    events.on('delete.Cell', handleClearOutput);\n",
       "\n",
       "    /* Handle when a new output is added */\n",
       "    events.on('output_added.OutputArea', handleAddOutput);\n",
       "\n",
       "    /**\n",
       "     * Register the mime type and append_mime function with output_area\n",
       "     */\n",
       "    OutputArea.prototype.register_mime_type(EXEC_MIME_TYPE, append_mime, {\n",
       "      /* Is output safe? */\n",
       "      safe: true,\n",
       "      /* Index of renderer in `output_area.display_order` */\n",
       "      index: 0\n",
       "    });\n",
       "  }\n",
       "\n",
       "  // register the mime type if in Jupyter Notebook environment and previously unregistered\n",
       "  if (root.Jupyter !== undefined) {\n",
       "    var events = require('base/js/events');\n",
       "    var OutputArea = require('notebook/js/outputarea').OutputArea;\n",
       "\n",
       "    if (OutputArea.prototype.mime_types().indexOf(EXEC_MIME_TYPE) == -1) {\n",
       "      register_renderer(events, OutputArea);\n",
       "    }\n",
       "  }\n",
       "\n",
       "  \n",
       "  if (typeof (root._bokeh_timeout) === \"undefined\" || force === true) {\n",
       "    root._bokeh_timeout = Date.now() + 5000;\n",
       "    root._bokeh_failed_load = false;\n",
       "  }\n",
       "\n",
       "  var NB_LOAD_WARNING = {'data': {'text/html':\n",
       "     \"<div style='background-color: #fdd'>\\n\"+\n",
       "     \"<p>\\n\"+\n",
       "     \"BokehJS does not appear to have successfully loaded. If loading BokehJS from CDN, this \\n\"+\n",
       "     \"may be due to a slow or bad network connection. Possible fixes:\\n\"+\n",
       "     \"</p>\\n\"+\n",
       "     \"<ul>\\n\"+\n",
       "     \"<li>re-rerun `output_notebook()` to attempt to load from CDN again, or</li>\\n\"+\n",
       "     \"<li>use INLINE resources instead, as so:</li>\\n\"+\n",
       "     \"</ul>\\n\"+\n",
       "     \"<code>\\n\"+\n",
       "     \"from bokeh.resources import INLINE\\n\"+\n",
       "     \"output_notebook(resources=INLINE)\\n\"+\n",
       "     \"</code>\\n\"+\n",
       "     \"</div>\"}};\n",
       "\n",
       "  function display_loaded() {\n",
       "    var el = document.getElementById(\"98931d18-c5a9-4c77-971b-25cc08fa473c\");\n",
       "    if (el != null) {\n",
       "      el.textContent = \"BokehJS is loading...\";\n",
       "    }\n",
       "    if (root.Bokeh !== undefined) {\n",
       "      if (el != null) {\n",
       "        el.textContent = \"BokehJS \" + root.Bokeh.version + \" successfully loaded.\";\n",
       "      }\n",
       "    } else if (Date.now() < root._bokeh_timeout) {\n",
       "      setTimeout(display_loaded, 100)\n",
       "    }\n",
       "  }\n",
       "\n",
       "\n",
       "  function run_callbacks() {\n",
       "    try {\n",
       "      root._bokeh_onload_callbacks.forEach(function(callback) { callback() });\n",
       "    }\n",
       "    finally {\n",
       "      delete root._bokeh_onload_callbacks\n",
       "    }\n",
       "    console.info(\"Bokeh: all callbacks have finished\");\n",
       "  }\n",
       "\n",
       "  function load_libs(js_urls, callback) {\n",
       "    root._bokeh_onload_callbacks.push(callback);\n",
       "    if (root._bokeh_is_loading > 0) {\n",
       "      console.log(\"Bokeh: BokehJS is being loaded, scheduling callback at\", now());\n",
       "      return null;\n",
       "    }\n",
       "    if (js_urls == null || js_urls.length === 0) {\n",
       "      run_callbacks();\n",
       "      return null;\n",
       "    }\n",
       "    console.log(\"Bokeh: BokehJS not loaded, scheduling load and callback at\", now());\n",
       "    root._bokeh_is_loading = js_urls.length;\n",
       "    for (var i = 0; i < js_urls.length; i++) {\n",
       "      var url = js_urls[i];\n",
       "      var s = document.createElement('script');\n",
       "      s.src = url;\n",
       "      s.async = false;\n",
       "      s.onreadystatechange = s.onload = function() {\n",
       "        root._bokeh_is_loading--;\n",
       "        if (root._bokeh_is_loading === 0) {\n",
       "          console.log(\"Bokeh: all BokehJS libraries loaded\");\n",
       "          run_callbacks()\n",
       "        }\n",
       "      };\n",
       "      s.onerror = function() {\n",
       "        console.warn(\"failed to load library \" + url);\n",
       "      };\n",
       "      console.log(\"Bokeh: injecting script tag for BokehJS library: \", url);\n",
       "      document.getElementsByTagName(\"head\")[0].appendChild(s);\n",
       "    }\n",
       "  };var element = document.getElementById(\"98931d18-c5a9-4c77-971b-25cc08fa473c\");\n",
       "  if (element == null) {\n",
       "    console.log(\"Bokeh: ERROR: autoload.js configured with elementid '98931d18-c5a9-4c77-971b-25cc08fa473c' but no matching script tag was found. \")\n",
       "    return false;\n",
       "  }\n",
       "\n",
       "  var js_urls = [\"https://cdn.pydata.org/bokeh/release/bokeh-0.13.0.min.js\", \"https://cdn.pydata.org/bokeh/release/bokeh-widgets-0.13.0.min.js\", \"https://cdn.pydata.org/bokeh/release/bokeh-tables-0.13.0.min.js\", \"https://cdn.pydata.org/bokeh/release/bokeh-gl-0.13.0.min.js\"];\n",
       "\n",
       "  var inline_js = [\n",
       "    function(Bokeh) {\n",
       "      Bokeh.set_log_level(\"info\");\n",
       "    },\n",
       "    \n",
       "    function(Bokeh) {\n",
       "      \n",
       "    },\n",
       "    function(Bokeh) {\n",
       "      console.log(\"Bokeh: injecting CSS: https://cdn.pydata.org/bokeh/release/bokeh-0.13.0.min.css\");\n",
       "      Bokeh.embed.inject_css(\"https://cdn.pydata.org/bokeh/release/bokeh-0.13.0.min.css\");\n",
       "      console.log(\"Bokeh: injecting CSS: https://cdn.pydata.org/bokeh/release/bokeh-widgets-0.13.0.min.css\");\n",
       "      Bokeh.embed.inject_css(\"https://cdn.pydata.org/bokeh/release/bokeh-widgets-0.13.0.min.css\");\n",
       "      console.log(\"Bokeh: injecting CSS: https://cdn.pydata.org/bokeh/release/bokeh-tables-0.13.0.min.css\");\n",
       "      Bokeh.embed.inject_css(\"https://cdn.pydata.org/bokeh/release/bokeh-tables-0.13.0.min.css\");\n",
       "    }\n",
       "  ];\n",
       "\n",
       "  function run_inline_js() {\n",
       "    \n",
       "    if ((root.Bokeh !== undefined) || (force === true)) {\n",
       "      for (var i = 0; i < inline_js.length; i++) {\n",
       "        inline_js[i].call(root, root.Bokeh);\n",
       "      }if (force === true) {\n",
       "        display_loaded();\n",
       "      }} else if (Date.now() < root._bokeh_timeout) {\n",
       "      setTimeout(run_inline_js, 100);\n",
       "    } else if (!root._bokeh_failed_load) {\n",
       "      console.log(\"Bokeh: BokehJS failed to load within specified timeout.\");\n",
       "      root._bokeh_failed_load = true;\n",
       "    } else if (force !== true) {\n",
       "      var cell = $(document.getElementById(\"98931d18-c5a9-4c77-971b-25cc08fa473c\")).parents('.cell').data().cell;\n",
       "      cell.output_area.append_execute_result(NB_LOAD_WARNING)\n",
       "    }\n",
       "\n",
       "  }\n",
       "\n",
       "  if (root._bokeh_is_loading === 0) {\n",
       "    console.log(\"Bokeh: BokehJS loaded, going straight to plotting\");\n",
       "    run_inline_js();\n",
       "  } else {\n",
       "    load_libs(js_urls, function() {\n",
       "      console.log(\"Bokeh: BokehJS plotting callback run at\", now());\n",
       "      run_inline_js();\n",
       "    });\n",
       "  }\n",
       "}(window));"
      ],
      "application/vnd.bokehjs_load.v0+json": "\n(function(root) {\n  function now() {\n    return new Date();\n  }\n\n  var force = true;\n\n  if (typeof (root._bokeh_onload_callbacks) === \"undefined\" || force === true) {\n    root._bokeh_onload_callbacks = [];\n    root._bokeh_is_loading = undefined;\n  }\n\n  \n\n  \n  if (typeof (root._bokeh_timeout) === \"undefined\" || force === true) {\n    root._bokeh_timeout = Date.now() + 5000;\n    root._bokeh_failed_load = false;\n  }\n\n  var NB_LOAD_WARNING = {'data': {'text/html':\n     \"<div style='background-color: #fdd'>\\n\"+\n     \"<p>\\n\"+\n     \"BokehJS does not appear to have successfully loaded. If loading BokehJS from CDN, this \\n\"+\n     \"may be due to a slow or bad network connection. Possible fixes:\\n\"+\n     \"</p>\\n\"+\n     \"<ul>\\n\"+\n     \"<li>re-rerun `output_notebook()` to attempt to load from CDN again, or</li>\\n\"+\n     \"<li>use INLINE resources instead, as so:</li>\\n\"+\n     \"</ul>\\n\"+\n     \"<code>\\n\"+\n     \"from bokeh.resources import INLINE\\n\"+\n     \"output_notebook(resources=INLINE)\\n\"+\n     \"</code>\\n\"+\n     \"</div>\"}};\n\n  function display_loaded() {\n    var el = document.getElementById(\"98931d18-c5a9-4c77-971b-25cc08fa473c\");\n    if (el != null) {\n      el.textContent = \"BokehJS is loading...\";\n    }\n    if (root.Bokeh !== undefined) {\n      if (el != null) {\n        el.textContent = \"BokehJS \" + root.Bokeh.version + \" successfully loaded.\";\n      }\n    } else if (Date.now() < root._bokeh_timeout) {\n      setTimeout(display_loaded, 100)\n    }\n  }\n\n\n  function run_callbacks() {\n    try {\n      root._bokeh_onload_callbacks.forEach(function(callback) { callback() });\n    }\n    finally {\n      delete root._bokeh_onload_callbacks\n    }\n    console.info(\"Bokeh: all callbacks have finished\");\n  }\n\n  function load_libs(js_urls, callback) {\n    root._bokeh_onload_callbacks.push(callback);\n    if (root._bokeh_is_loading > 0) {\n      console.log(\"Bokeh: BokehJS is being loaded, scheduling callback at\", now());\n      return null;\n    }\n    if (js_urls == null || js_urls.length === 0) {\n      run_callbacks();\n      return null;\n    }\n    console.log(\"Bokeh: BokehJS not loaded, scheduling load and callback at\", now());\n    root._bokeh_is_loading = js_urls.length;\n    for (var i = 0; i < js_urls.length; i++) {\n      var url = js_urls[i];\n      var s = document.createElement('script');\n      s.src = url;\n      s.async = false;\n      s.onreadystatechange = s.onload = function() {\n        root._bokeh_is_loading--;\n        if (root._bokeh_is_loading === 0) {\n          console.log(\"Bokeh: all BokehJS libraries loaded\");\n          run_callbacks()\n        }\n      };\n      s.onerror = function() {\n        console.warn(\"failed to load library \" + url);\n      };\n      console.log(\"Bokeh: injecting script tag for BokehJS library: \", url);\n      document.getElementsByTagName(\"head\")[0].appendChild(s);\n    }\n  };var element = document.getElementById(\"98931d18-c5a9-4c77-971b-25cc08fa473c\");\n  if (element == null) {\n    console.log(\"Bokeh: ERROR: autoload.js configured with elementid '98931d18-c5a9-4c77-971b-25cc08fa473c' but no matching script tag was found. \")\n    return false;\n  }\n\n  var js_urls = [\"https://cdn.pydata.org/bokeh/release/bokeh-0.13.0.min.js\", \"https://cdn.pydata.org/bokeh/release/bokeh-widgets-0.13.0.min.js\", \"https://cdn.pydata.org/bokeh/release/bokeh-tables-0.13.0.min.js\", \"https://cdn.pydata.org/bokeh/release/bokeh-gl-0.13.0.min.js\"];\n\n  var inline_js = [\n    function(Bokeh) {\n      Bokeh.set_log_level(\"info\");\n    },\n    \n    function(Bokeh) {\n      \n    },\n    function(Bokeh) {\n      console.log(\"Bokeh: injecting CSS: https://cdn.pydata.org/bokeh/release/bokeh-0.13.0.min.css\");\n      Bokeh.embed.inject_css(\"https://cdn.pydata.org/bokeh/release/bokeh-0.13.0.min.css\");\n      console.log(\"Bokeh: injecting CSS: https://cdn.pydata.org/bokeh/release/bokeh-widgets-0.13.0.min.css\");\n      Bokeh.embed.inject_css(\"https://cdn.pydata.org/bokeh/release/bokeh-widgets-0.13.0.min.css\");\n      console.log(\"Bokeh: injecting CSS: https://cdn.pydata.org/bokeh/release/bokeh-tables-0.13.0.min.css\");\n      Bokeh.embed.inject_css(\"https://cdn.pydata.org/bokeh/release/bokeh-tables-0.13.0.min.css\");\n    }\n  ];\n\n  function run_inline_js() {\n    \n    if ((root.Bokeh !== undefined) || (force === true)) {\n      for (var i = 0; i < inline_js.length; i++) {\n        inline_js[i].call(root, root.Bokeh);\n      }if (force === true) {\n        display_loaded();\n      }} else if (Date.now() < root._bokeh_timeout) {\n      setTimeout(run_inline_js, 100);\n    } else if (!root._bokeh_failed_load) {\n      console.log(\"Bokeh: BokehJS failed to load within specified timeout.\");\n      root._bokeh_failed_load = true;\n    } else if (force !== true) {\n      var cell = $(document.getElementById(\"98931d18-c5a9-4c77-971b-25cc08fa473c\")).parents('.cell').data().cell;\n      cell.output_area.append_execute_result(NB_LOAD_WARNING)\n    }\n\n  }\n\n  if (root._bokeh_is_loading === 0) {\n    console.log(\"Bokeh: BokehJS loaded, going straight to plotting\");\n    run_inline_js();\n  } else {\n    load_libs(js_urls, function() {\n      console.log(\"Bokeh: BokehJS plotting callback run at\", now());\n      run_inline_js();\n    });\n  }\n}(window));"
     },
     "metadata": {},
     "output_type": "display_data"
    },
    {
     "data": {
      "text/html": [
       "\n",
       "\n",
       "\n",
       "\n",
       "\n",
       "\n",
       "  <div class=\"bk-root\" id=\"23498834-09e7-42f1-94fd-b02246b9aade\"></div>\n"
      ]
     },
     "metadata": {},
     "output_type": "display_data"
    },
    {
     "data": {
      "application/javascript": [
       "(function(root) {\n",
       "  function embed_document(root) {\n",
       "    \n",
       "  var docs_json = {\"cd7c1c9d-62d2-4ec4-9123-294a033ca492\":{\"roots\":{\"references\":[{\"attributes\":{},\"id\":\"b885c2da-b4f1-40d3-9f91-551dbd9ed2f0\",\"type\":\"WheelZoomTool\"},{\"attributes\":{},\"id\":\"e2d7dd57-9a0e-42ca-938d-16b033b4209a\",\"type\":\"HelpTool\"},{\"attributes\":{},\"id\":\"2c0aa74e-1171-4517-a37e-15d9dcd03fe3\",\"type\":\"LinearScale\"},{\"attributes\":{\"callback\":null},\"id\":\"dfd6942b-42c0-464d-aaa0-90c9914a54b9\",\"type\":\"DataRange1d\"},{\"attributes\":{\"dimension\":1,\"plot\":{\"id\":\"7723a53f-d449-4660-a27b-d99368f7af50\",\"subtype\":\"Figure\",\"type\":\"Plot\"},\"ticker\":{\"id\":\"5d41a75c-162e-4a38-b36e-0a5b6c3279be\",\"type\":\"BasicTicker\"}},\"id\":\"8f083147-da33-446d-90d6-396acd7856e3\",\"type\":\"Grid\"},{\"attributes\":{},\"id\":\"ae439056-ebc4-42be-ae52-0b77c6d3d4ad\",\"type\":\"UnionRenderers\"},{\"attributes\":{\"callback\":null,\"data\":{\"fill_color\":[\"#d62728\",\"#9467bd\",\"#1f77b4\",\"#d62728\",\"#1f77b4\",\"#2ca02c\",\"#d62728\",\"#8c564b\",\"#1f77b4\",\"#9467bd\",\"#2ca02c\",\"#2ca02c\",\"#9467bd\",\"#1f77b4\",\"#2ca02c\",\"#2ca02c\",\"#8c564b\",\"#2ca02c\",\"#d62728\",\"#9467bd\",\"#d62728\",\"#d62728\",\"#1f77b4\",\"#9467bd\",\"#1f77b4\",\"#ff7f0e\",\"#9467bd\",\"#d62728\",\"#d62728\",\"#9467bd\",\"#9467bd\",\"#8c564b\",\"#9467bd\",\"#2ca02c\",\"#8c564b\",\"#1f77b4\",\"#1f77b4\",\"#9467bd\",\"#2ca02c\",\"#d62728\",\"#8c564b\",\"#9467bd\",\"#ff7f0e\",\"#d62728\",\"#8c564b\",\"#d62728\",\"#1f77b4\",\"#d62728\",\"#8c564b\",\"#d62728\",\"#1f77b4\",\"#2ca02c\",\"#d62728\",\"#d62728\",\"#1f77b4\",\"#9467bd\",\"#8c564b\",\"#8c564b\",\"#d62728\",\"#2ca02c\",\"#ff7f0e\",\"#2ca02c\",\"#8c564b\",\"#d62728\",\"#9467bd\",\"#9467bd\",\"#1f77b4\",\"#2ca02c\",\"#2ca02c\",\"#d62728\",\"#8c564b\",\"#2ca02c\",\"#ff7f0e\",\"#d62728\",\"#8c564b\",\"#1f77b4\",\"#8c564b\",\"#9467bd\",\"#d62728\",\"#9467bd\",\"#1f77b4\",\"#8c564b\",\"#d62728\",\"#9467bd\",\"#d62728\",\"#8c564b\",\"#ff7f0e\",\"#1f77b4\",\"#8c564b\",\"#8c564b\",\"#ff7f0e\",\"#d62728\",\"#ff7f0e\",\"#1f77b4\",\"#ff7f0e\",\"#ff7f0e\",\"#2ca02c\",\"#9467bd\",\"#1f77b4\",\"#d62728\",\"#8c564b\",\"#ff7f0e\",\"#2ca02c\",\"#8c564b\",\"#1f77b4\",\"#9467bd\",\"#d62728\",\"#1f77b4\",\"#1f77b4\",\"#1f77b4\",\"#1f77b4\",\"#9467bd\",\"#9467bd\",\"#d62728\",\"#1f77b4\",\"#9467bd\",\"#9467bd\",\"#8c564b\",\"#ff7f0e\",\"#d62728\",\"#2ca02c\",\"#1f77b4\",\"#d62728\",\"#ff7f0e\",\"#d62728\",\"#d62728\",\"#1f77b4\",\"#9467bd\",\"#ff7f0e\",\"#ff7f0e\",\"#1f77b4\",\"#d62728\",\"#d62728\",\"#d62728\",\"#1f77b4\",\"#8c564b\",\"#8c564b\",\"#9467bd\",\"#d62728\",\"#9467bd\",\"#2ca02c\",\"#d62728\",\"#9467bd\",\"#d62728\",\"#9467bd\",\"#2ca02c\",\"#2ca02c\",\"#2ca02c\",\"#2ca02c\",\"#1f77b4\",\"#1f77b4\",\"#1f77b4\",\"#8c564b\",\"#d62728\",\"#1f77b4\",\"#2ca02c\",\"#d62728\",\"#9467bd\",\"#d62728\",\"#d62728\",\"#2ca02c\",\"#d62728\",\"#d62728\",\"#d62728\",\"#d62728\",\"#1f77b4\",\"#2ca02c\",\"#9467bd\",\"#1f77b4\",\"#8c564b\",\"#ff7f0e\",\"#8c564b\",\"#d62728\",\"#d62728\",\"#1f77b4\",\"#ff7f0e\",\"#d62728\",\"#d62728\",\"#2ca02c\",\"#d62728\",\"#ff7f0e\",\"#d62728\",\"#1f77b4\",\"#1f77b4\",\"#d62728\",\"#2ca02c\",\"#1f77b4\",\"#1f77b4\",\"#2ca02c\",\"#d62728\",\"#ff7f0e\",\"#8c564b\",\"#ff7f0e\",\"#8c564b\",\"#9467bd\",\"#9467bd\",\"#9467bd\",\"#2ca02c\",\"#9467bd\",\"#9467bd\",\"#1f77b4\",\"#d62728\",\"#9467bd\",\"#1f77b4\",\"#8c564b\",\"#9467bd\",\"#d62728\",\"#8c564b\",\"#1f77b4\",\"#2ca02c\",\"#9467bd\",\"#d62728\",\"#9467bd\",\"#1f77b4\",\"#d62728\",\"#9467bd\",\"#8c564b\",\"#d62728\",\"#d62728\",\"#d62728\",\"#9467bd\",\"#1f77b4\",\"#1f77b4\",\"#8c564b\",\"#d62728\",\"#9467bd\",\"#d62728\",\"#1f77b4\",\"#d62728\",\"#d62728\",\"#d62728\",\"#1f77b4\",\"#d62728\",\"#1f77b4\",\"#d62728\",\"#9467bd\",\"#9467bd\",\"#9467bd\",\"#1f77b4\",\"#8c564b\",\"#9467bd\",\"#d62728\",\"#1f77b4\",\"#1f77b4\",\"#9467bd\",\"#d62728\",\"#d62728\",\"#d62728\",\"#1f77b4\",\"#8c564b\",\"#2ca02c\",\"#ff7f0e\",\"#8c564b\",\"#1f77b4\",\"#8c564b\",\"#d62728\",\"#1f77b4\",\"#2ca02c\",\"#1f77b4\",\"#d62728\",\"#1f77b4\",\"#9467bd\",\"#2ca02c\",\"#d62728\",\"#1f77b4\",\"#2ca02c\",\"#8c564b\",\"#1f77b4\",\"#d62728\",\"#8c564b\",\"#8c564b\",\"#1f77b4\",\"#2ca02c\",\"#d62728\",\"#9467bd\",\"#d62728\",\"#d62728\",\"#8c564b\",\"#d62728\",\"#ff7f0e\",\"#1f77b4\",\"#2ca02c\",\"#2ca02c\",\"#ff7f0e\",\"#ff7f0e\",\"#d62728\",\"#1f77b4\",\"#8c564b\",\"#ff7f0e\",\"#d62728\",\"#1f77b4\",\"#2ca02c\",\"#2ca02c\",\"#8c564b\",\"#d62728\",\"#1f77b4\",\"#9467bd\",\"#2ca02c\",\"#1f77b4\",\"#2ca02c\",\"#2ca02c\",\"#d62728\",\"#1f77b4\",\"#8c564b\",\"#d62728\",\"#d62728\",\"#9467bd\",\"#8c564b\",\"#1f77b4\",\"#ff7f0e\",\"#d62728\",\"#d62728\",\"#d62728\",\"#9467bd\",\"#9467bd\",\"#2ca02c\",\"#ff7f0e\",\"#8c564b\",\"#ff7f0e\",\"#8c564b\",\"#d62728\",\"#d62728\",\"#2ca02c\",\"#2ca02c\",\"#d62728\",\"#9467bd\",\"#1f77b4\",\"#9467bd\",\"#1f77b4\",\"#8c564b\",\"#d62728\",\"#9467bd\",\"#2ca02c\",\"#8c564b\",\"#8c564b\",\"#ff7f0e\",\"#1f77b4\",\"#1f77b4\",\"#1f77b4\",\"#1f77b4\",\"#1f77b4\",\"#1f77b4\",\"#8c564b\",\"#1f77b4\",\"#d62728\",\"#ff7f0e\",\"#1f77b4\",\"#ff7f0e\",\"#d62728\",\"#2ca02c\",\"#d62728\",\"#d62728\",\"#8c564b\",\"#9467bd\",\"#8c564b\",\"#ff7f0e\",\"#2ca02c\",\"#2ca02c\",\"#9467bd\",\"#2ca02c\",\"#ff7f0e\",\"#8c564b\",\"#1f77b4\",\"#8c564b\",\"#d62728\",\"#2ca02c\",\"#9467bd\",\"#d62728\",\"#d62728\",\"#9467bd\",\"#9467bd\",\"#8c564b\",\"#1f77b4\",\"#8c564b\",\"#9467bd\",\"#d62728\",\"#1f77b4\",\"#1f77b4\",\"#d62728\",\"#9467bd\",\"#2ca02c\",\"#8c564b\",\"#8c564b\",\"#1f77b4\",\"#d62728\",\"#9467bd\",\"#1f77b4\",\"#1f77b4\",\"#d62728\",\"#d62728\",\"#9467bd\",\"#8c564b\",\"#1f77b4\",\"#2ca02c\",\"#8c564b\",\"#9467bd\",\"#d62728\",\"#9467bd\",\"#1f77b4\",\"#2ca02c\",\"#9467bd\",\"#9467bd\",\"#1f77b4\",\"#8c564b\",\"#d62728\",\"#1f77b4\",\"#1f77b4\",\"#2ca02c\",\"#2ca02c\",\"#9467bd\",\"#2ca02c\",\"#d62728\",\"#9467bd\",\"#9467bd\",\"#ff7f0e\",\"#2ca02c\",\"#d62728\",\"#1f77b4\",\"#9467bd\",\"#d62728\",\"#9467bd\",\"#d62728\",\"#2ca02c\",\"#ff7f0e\",\"#d62728\",\"#2ca02c\",\"#9467bd\",\"#1f77b4\",\"#2ca02c\",\"#d62728\",\"#8c564b\",\"#d62728\",\"#d62728\",\"#1f77b4\",\"#8c564b\",\"#2ca02c\",\"#8c564b\",\"#2ca02c\",\"#2ca02c\",\"#1f77b4\",\"#1f77b4\",\"#d62728\",\"#1f77b4\",\"#2ca02c\",\"#2ca02c\",\"#ff7f0e\",\"#d62728\",\"#9467bd\",\"#1f77b4\",\"#d62728\",\"#d62728\",\"#1f77b4\",\"#9467bd\",\"#d62728\",\"#1f77b4\",\"#d62728\",\"#ff7f0e\",\"#2ca02c\",\"#1f77b4\",\"#2ca02c\",\"#8c564b\",\"#9467bd\",\"#9467bd\",\"#2ca02c\",\"#9467bd\",\"#2ca02c\",\"#9467bd\",\"#d62728\",\"#2ca02c\",\"#1f77b4\",\"#1f77b4\",\"#d62728\",\"#9467bd\",\"#1f77b4\",\"#9467bd\",\"#1f77b4\",\"#2ca02c\",\"#8c564b\",\"#1f77b4\",\"#d62728\",\"#1f77b4\",\"#8c564b\",\"#1f77b4\",\"#d62728\",\"#d62728\",\"#d62728\",\"#2ca02c\",\"#2ca02c\",\"#9467bd\",\"#1f77b4\",\"#ff7f0e\",\"#2ca02c\",\"#2ca02c\",\"#1f77b4\",\"#d62728\",\"#1f77b4\",\"#d62728\",\"#9467bd\",\"#2ca02c\",\"#2ca02c\",\"#ff7f0e\",\"#8c564b\",\"#d62728\",\"#ff7f0e\",\"#9467bd\",\"#2ca02c\",\"#8c564b\",\"#2ca02c\",\"#2ca02c\",\"#9467bd\",\"#d62728\",\"#1f77b4\",\"#8c564b\",\"#d62728\",\"#8c564b\",\"#2ca02c\",\"#9467bd\",\"#1f77b4\",\"#1f77b4\",\"#9467bd\",\"#8c564b\",\"#9467bd\",\"#8c564b\",\"#d62728\",\"#1f77b4\",\"#d62728\",\"#d62728\",\"#8c564b\",\"#2ca02c\",\"#9467bd\",\"#1f77b4\",\"#9467bd\",\"#1f77b4\",\"#ff7f0e\",\"#1f77b4\",\"#d62728\",\"#8c564b\",\"#1f77b4\",\"#ff7f0e\",\"#d62728\",\"#1f77b4\",\"#d62728\",\"#ff7f0e\",\"#9467bd\",\"#9467bd\",\"#8c564b\",\"#9467bd\",\"#9467bd\",\"#9467bd\",\"#d62728\",\"#9467bd\",\"#2ca02c\",\"#d62728\",\"#1f77b4\",\"#1f77b4\",\"#d62728\",\"#9467bd\",\"#d62728\",\"#ff7f0e\",\"#1f77b4\",\"#2ca02c\",\"#d62728\",\"#9467bd\",\"#d62728\",\"#d62728\",\"#9467bd\",\"#1f77b4\",\"#1f77b4\",\"#1f77b4\",\"#d62728\",\"#9467bd\",\"#9467bd\",\"#d62728\",\"#9467bd\",\"#d62728\",\"#2ca02c\",\"#d62728\",\"#2ca02c\",\"#d62728\",\"#1f77b4\",\"#1f77b4\",\"#1f77b4\",\"#9467bd\",\"#2ca02c\",\"#1f77b4\",\"#d62728\",\"#8c564b\",\"#9467bd\",\"#8c564b\",\"#1f77b4\",\"#d62728\",\"#1f77b4\",\"#d62728\",\"#d62728\",\"#1f77b4\",\"#9467bd\",\"#2ca02c\",\"#ff7f0e\",\"#2ca02c\",\"#9467bd\",\"#8c564b\",\"#ff7f0e\",\"#2ca02c\",\"#d62728\",\"#2ca02c\",\"#d62728\",\"#d62728\",\"#1f77b4\",\"#9467bd\",\"#1f77b4\",\"#1f77b4\",\"#2ca02c\",\"#8c564b\",\"#d62728\",\"#8c564b\",\"#8c564b\",\"#1f77b4\",\"#8c564b\",\"#ff7f0e\",\"#9467bd\",\"#d62728\",\"#1f77b4\",\"#9467bd\",\"#8c564b\",\"#8c564b\",\"#8c564b\",\"#9467bd\",\"#2ca02c\",\"#9467bd\",\"#1f77b4\",\"#8c564b\",\"#8c564b\",\"#2ca02c\",\"#d62728\",\"#1f77b4\",\"#2ca02c\",\"#8c564b\",\"#d62728\",\"#2ca02c\",\"#d62728\",\"#1f77b4\",\"#d62728\",\"#8c564b\",\"#ff7f0e\",\"#d62728\",\"#ff7f0e\",\"#1f77b4\",\"#d62728\",\"#2ca02c\",\"#9467bd\",\"#ff7f0e\",\"#8c564b\",\"#ff7f0e\",\"#8c564b\",\"#8c564b\",\"#9467bd\",\"#ff7f0e\",\"#d62728\",\"#2ca02c\",\"#8c564b\",\"#9467bd\",\"#d62728\",\"#2ca02c\",\"#2ca02c\",\"#2ca02c\",\"#8c564b\",\"#2ca02c\",\"#1f77b4\",\"#8c564b\",\"#1f77b4\",\"#1f77b4\",\"#8c564b\",\"#8c564b\",\"#1f77b4\",\"#1f77b4\",\"#2ca02c\",\"#1f77b4\",\"#d62728\",\"#2ca02c\",\"#9467bd\",\"#8c564b\",\"#ff7f0e\",\"#d62728\",\"#d62728\",\"#8c564b\",\"#d62728\",\"#d62728\",\"#d62728\",\"#8c564b\",\"#d62728\",\"#1f77b4\",\"#d62728\",\"#1f77b4\",\"#2ca02c\",\"#d62728\",\"#1f77b4\",\"#ff7f0e\",\"#ff7f0e\",\"#8c564b\",\"#8c564b\",\"#1f77b4\",\"#2ca02c\",\"#d62728\",\"#1f77b4\",\"#d62728\",\"#1f77b4\",\"#2ca02c\",\"#8c564b\",\"#d62728\",\"#9467bd\",\"#2ca02c\",\"#9467bd\",\"#2ca02c\",\"#ff7f0e\",\"#9467bd\",\"#9467bd\",\"#ff7f0e\",\"#d62728\",\"#d62728\",\"#ff7f0e\",\"#9467bd\",\"#2ca02c\",\"#1f77b4\",\"#1f77b4\",\"#1f77b4\",\"#2ca02c\",\"#1f77b4\",\"#ff7f0e\",\"#9467bd\",\"#d62728\",\"#1f77b4\",\"#1f77b4\",\"#2ca02c\",\"#1f77b4\",\"#2ca02c\",\"#d62728\",\"#8c564b\",\"#d62728\",\"#d62728\",\"#1f77b4\",\"#d62728\",\"#1f77b4\",\"#2ca02c\",\"#d62728\",\"#d62728\",\"#1f77b4\",\"#1f77b4\",\"#d62728\",\"#d62728\",\"#1f77b4\",\"#d62728\",\"#1f77b4\",\"#d62728\",\"#2ca02c\",\"#2ca02c\",\"#d62728\",\"#1f77b4\",\"#d62728\",\"#1f77b4\",\"#9467bd\",\"#8c564b\",\"#8c564b\",\"#8c564b\",\"#9467bd\",\"#9467bd\",\"#1f77b4\",\"#9467bd\",\"#1f77b4\",\"#1f77b4\",\"#8c564b\",\"#d62728\",\"#d62728\",\"#9467bd\",\"#1f77b4\",\"#ff7f0e\",\"#2ca02c\",\"#8c564b\",\"#2ca02c\",\"#2ca02c\",\"#8c564b\",\"#9467bd\",\"#d62728\",\"#8c564b\",\"#9467bd\",\"#8c564b\",\"#1f77b4\",\"#8c564b\",\"#2ca02c\",\"#1f77b4\",\"#8c564b\",\"#1f77b4\",\"#8c564b\",\"#d62728\",\"#2ca02c\",\"#2ca02c\",\"#1f77b4\",\"#d62728\",\"#d62728\",\"#2ca02c\",\"#2ca02c\",\"#d62728\",\"#ff7f0e\",\"#1f77b4\",\"#d62728\",\"#1f77b4\",\"#d62728\",\"#9467bd\",\"#9467bd\",\"#d62728\",\"#2ca02c\",\"#1f77b4\",\"#2ca02c\",\"#1f77b4\",\"#9467bd\",\"#d62728\",\"#ff7f0e\",\"#d62728\",\"#9467bd\",\"#9467bd\",\"#1f77b4\",\"#d62728\",\"#2ca02c\",\"#d62728\",\"#9467bd\",\"#9467bd\",\"#2ca02c\",\"#8c564b\",\"#2ca02c\",\"#9467bd\",\"#8c564b\",\"#d62728\",\"#9467bd\",\"#8c564b\",\"#1f77b4\",\"#9467bd\",\"#ff7f0e\",\"#8c564b\",\"#1f77b4\",\"#2ca02c\",\"#9467bd\",\"#1f77b4\",\"#2ca02c\",\"#9467bd\",\"#1f77b4\",\"#1f77b4\",\"#d62728\",\"#d62728\",\"#8c564b\",\"#1f77b4\",\"#2ca02c\",\"#2ca02c\",\"#1f77b4\",\"#1f77b4\",\"#d62728\",\"#d62728\",\"#9467bd\",\"#2ca02c\",\"#ff7f0e\",\"#2ca02c\",\"#9467bd\",\"#9467bd\",\"#ff7f0e\",\"#1f77b4\",\"#ff7f0e\",\"#2ca02c\",\"#ff7f0e\",\"#1f77b4\",\"#d62728\",\"#2ca02c\",\"#d62728\",\"#8c564b\",\"#8c564b\",\"#8c564b\",\"#9467bd\",\"#ff7f0e\",\"#d62728\",\"#2ca02c\",\"#8c564b\",\"#1f77b4\",\"#1f77b4\",\"#9467bd\",\"#9467bd\",\"#1f77b4\",\"#8c564b\",\"#9467bd\",\"#9467bd\",\"#1f77b4\",\"#d62728\",\"#1f77b4\",\"#d62728\",\"#d62728\",\"#d62728\",\"#1f77b4\",\"#1f77b4\",\"#d62728\",\"#d62728\",\"#1f77b4\",\"#8c564b\",\"#2ca02c\",\"#8c564b\",\"#ff7f0e\",\"#8c564b\",\"#9467bd\",\"#d62728\",\"#1f77b4\",\"#2ca02c\",\"#9467bd\",\"#2ca02c\",\"#2ca02c\",\"#1f77b4\",\"#d62728\",\"#2ca02c\",\"#ff7f0e\",\"#1f77b4\",\"#2ca02c\",\"#8c564b\",\"#d62728\",\"#2ca02c\",\"#d62728\",\"#1f77b4\",\"#1f77b4\",\"#1f77b4\",\"#d62728\",\"#1f77b4\",\"#1f77b4\",\"#1f77b4\",\"#9467bd\",\"#9467bd\",\"#d62728\",\"#8c564b\",\"#9467bd\",\"#2ca02c\",\"#9467bd\",\"#2ca02c\",\"#1f77b4\",\"#9467bd\",\"#d62728\",\"#d62728\",\"#8c564b\",\"#d62728\",\"#1f77b4\",\"#d62728\",\"#9467bd\",\"#9467bd\",\"#8c564b\",\"#1f77b4\",\"#1f77b4\",\"#9467bd\",\"#d62728\",\"#9467bd\",\"#1f77b4\",\"#8c564b\",\"#9467bd\",\"#d62728\",\"#9467bd\",\"#1f77b4\",\"#d62728\",\"#2ca02c\",\"#9467bd\",\"#1f77b4\",\"#8c564b\",\"#2ca02c\",\"#1f77b4\",\"#2ca02c\",\"#d62728\",\"#9467bd\",\"#1f77b4\",\"#ff7f0e\",\"#9467bd\",\"#d62728\",\"#d62728\",\"#9467bd\",\"#8c564b\",\"#2ca02c\",\"#d62728\",\"#8c564b\",\"#ff7f0e\",\"#1f77b4\",\"#9467bd\",\"#2ca02c\",\"#ff7f0e\",\"#9467bd\",\"#2ca02c\",\"#2ca02c\",\"#9467bd\",\"#d62728\",\"#9467bd\",\"#9467bd\",\"#9467bd\",\"#8c564b\",\"#d62728\",\"#1f77b4\",\"#2ca02c\",\"#1f77b4\",\"#8c564b\",\"#9467bd\",\"#d62728\",\"#d62728\",\"#ff7f0e\",\"#ff7f0e\",\"#1f77b4\",\"#1f77b4\",\"#2ca02c\",\"#d62728\",\"#1f77b4\",\"#2ca02c\",\"#1f77b4\",\"#9467bd\",\"#d62728\",\"#1f77b4\",\"#1f77b4\",\"#ff7f0e\",\"#ff7f0e\",\"#2ca02c\",\"#2ca02c\",\"#2ca02c\",\"#1f77b4\",\"#d62728\",\"#1f77b4\",\"#d62728\",\"#1f77b4\",\"#9467bd\",\"#9467bd\",\"#1f77b4\",\"#ff7f0e\",\"#2ca02c\",\"#2ca02c\",\"#1f77b4\",\"#8c564b\",\"#1f77b4\",\"#9467bd\",\"#2ca02c\",\"#1f77b4\",\"#d62728\",\"#d62728\",\"#8c564b\",\"#9467bd\",\"#9467bd\",\"#8c564b\",\"#8c564b\",\"#1f77b4\",\"#1f77b4\",\"#d62728\",\"#2ca02c\",\"#1f77b4\",\"#2ca02c\",\"#d62728\",\"#d62728\",\"#2ca02c\",\"#d62728\",\"#ff7f0e\",\"#d62728\",\"#9467bd\",\"#1f77b4\",\"#ff7f0e\",\"#8c564b\",\"#1f77b4\",\"#8c564b\",\"#2ca02c\",\"#d62728\",\"#2ca02c\",\"#9467bd\",\"#1f77b4\",\"#2ca02c\",\"#9467bd\",\"#9467bd\",\"#d62728\",\"#8c564b\",\"#1f77b4\",\"#9467bd\",\"#9467bd\",\"#d62728\",\"#d62728\",\"#2ca02c\",\"#2ca02c\",\"#8c564b\",\"#9467bd\",\"#9467bd\",\"#1f77b4\",\"#8c564b\",\"#2ca02c\",\"#d62728\",\"#d62728\",\"#d62728\",\"#d62728\",\"#9467bd\",\"#1f77b4\",\"#9467bd\",\"#1f77b4\",\"#1f77b4\",\"#2ca02c\",\"#1f77b4\",\"#1f77b4\",\"#ff7f0e\",\"#8c564b\",\"#9467bd\",\"#d62728\",\"#2ca02c\",\"#9467bd\",\"#d62728\",\"#ff7f0e\",\"#9467bd\",\"#d62728\",\"#9467bd\",\"#2ca02c\",\"#9467bd\",\"#9467bd\",\"#1f77b4\",\"#2ca02c\",\"#1f77b4\",\"#2ca02c\",\"#1f77b4\",\"#1f77b4\",\"#8c564b\",\"#8c564b\",\"#2ca02c\",\"#2ca02c\",\"#2ca02c\",\"#8c564b\",\"#2ca02c\",\"#d62728\",\"#9467bd\",\"#9467bd\",\"#2ca02c\",\"#1f77b4\",\"#2ca02c\",\"#8c564b\",\"#1f77b4\",\"#9467bd\",\"#1f77b4\",\"#2ca02c\",\"#8c564b\",\"#2ca02c\",\"#9467bd\",\"#d62728\",\"#d62728\",\"#1f77b4\",\"#1f77b4\",\"#8c564b\",\"#8c564b\",\"#1f77b4\",\"#ff7f0e\",\"#ff7f0e\",\"#2ca02c\",\"#2ca02c\",\"#ff7f0e\",\"#1f77b4\",\"#1f77b4\",\"#1f77b4\",\"#d62728\",\"#8c564b\",\"#2ca02c\",\"#2ca02c\",\"#1f77b4\",\"#ff7f0e\",\"#d62728\",\"#ff7f0e\",\"#9467bd\",\"#d62728\",\"#1f77b4\",\"#9467bd\",\"#1f77b4\",\"#1f77b4\",\"#1f77b4\",\"#d62728\",\"#1f77b4\",\"#9467bd\",\"#d62728\",\"#d62728\",\"#8c564b\",\"#9467bd\",\"#9467bd\",\"#9467bd\",\"#ff7f0e\",\"#1f77b4\",\"#9467bd\",\"#1f77b4\",\"#9467bd\",\"#d62728\",\"#8c564b\",\"#1f77b4\",\"#9467bd\",\"#8c564b\",\"#d62728\",\"#d62728\",\"#1f77b4\",\"#ff7f0e\",\"#ff7f0e\",\"#9467bd\",\"#d62728\",\"#2ca02c\",\"#8c564b\",\"#1f77b4\",\"#8c564b\",\"#1f77b4\",\"#9467bd\",\"#d62728\",\"#9467bd\",\"#d62728\",\"#d62728\",\"#2ca02c\",\"#8c564b\",\"#ff7f0e\",\"#9467bd\",\"#d62728\",\"#2ca02c\",\"#8c564b\",\"#d62728\",\"#d62728\",\"#1f77b4\",\"#1f77b4\",\"#2ca02c\",\"#ff7f0e\",\"#2ca02c\",\"#9467bd\",\"#1f77b4\",\"#ff7f0e\",\"#ff7f0e\",\"#8c564b\",\"#9467bd\",\"#2ca02c\",\"#d62728\",\"#d62728\",\"#8c564b\",\"#2ca02c\",\"#1f77b4\",\"#ff7f0e\",\"#8c564b\",\"#1f77b4\",\"#8c564b\",\"#d62728\",\"#8c564b\",\"#8c564b\",\"#9467bd\",\"#2ca02c\",\"#2ca02c\",\"#d62728\",\"#1f77b4\",\"#8c564b\",\"#9467bd\",\"#d62728\",\"#2ca02c\",\"#ff7f0e\",\"#d62728\",\"#d62728\",\"#8c564b\",\"#2ca02c\",\"#d62728\",\"#2ca02c\",\"#d62728\",\"#1f77b4\",\"#2ca02c\",\"#2ca02c\",\"#9467bd\",\"#9467bd\",\"#1f77b4\",\"#9467bd\",\"#8c564b\",\"#d62728\",\"#2ca02c\",\"#d62728\",\"#d62728\",\"#1f77b4\",\"#1f77b4\",\"#d62728\",\"#2ca02c\",\"#d62728\",\"#ff7f0e\",\"#9467bd\",\"#d62728\",\"#d62728\",\"#d62728\",\"#2ca02c\",\"#d62728\",\"#d62728\",\"#d62728\",\"#9467bd\",\"#d62728\",\"#9467bd\",\"#ff7f0e\",\"#d62728\",\"#d62728\",\"#1f77b4\",\"#9467bd\",\"#d62728\",\"#2ca02c\",\"#9467bd\",\"#1f77b4\",\"#d62728\",\"#8c564b\",\"#1f77b4\",\"#2ca02c\",\"#8c564b\",\"#9467bd\",\"#d62728\",\"#d62728\",\"#2ca02c\",\"#ff7f0e\",\"#d62728\",\"#9467bd\",\"#d62728\",\"#9467bd\",\"#ff7f0e\",\"#1f77b4\",\"#1f77b4\",\"#1f77b4\",\"#d62728\",\"#2ca02c\",\"#1f77b4\",\"#d62728\",\"#2ca02c\",\"#2ca02c\",\"#2ca02c\",\"#9467bd\",\"#9467bd\",\"#d62728\",\"#8c564b\",\"#9467bd\",\"#d62728\",\"#2ca02c\",\"#d62728\",\"#d62728\",\"#1f77b4\",\"#d62728\",\"#1f77b4\",\"#8c564b\",\"#9467bd\",\"#9467bd\",\"#d62728\",\"#1f77b4\",\"#2ca02c\",\"#2ca02c\",\"#1f77b4\",\"#9467bd\",\"#ff7f0e\",\"#1f77b4\",\"#d62728\",\"#1f77b4\",\"#ff7f0e\",\"#2ca02c\",\"#2ca02c\",\"#1f77b4\",\"#8c564b\",\"#2ca02c\",\"#2ca02c\",\"#1f77b4\",\"#8c564b\",\"#1f77b4\",\"#9467bd\",\"#1f77b4\",\"#8c564b\",\"#ff7f0e\",\"#9467bd\",\"#1f77b4\",\"#2ca02c\",\"#1f77b4\",\"#1f77b4\",\"#1f77b4\",\"#2ca02c\",\"#8c564b\",\"#2ca02c\",\"#1f77b4\",\"#9467bd\",\"#2ca02c\",\"#9467bd\",\"#8c564b\",\"#d62728\",\"#d62728\",\"#d62728\",\"#1f77b4\",\"#1f77b4\",\"#8c564b\",\"#d62728\",\"#d62728\",\"#d62728\",\"#d62728\",\"#1f77b4\",\"#9467bd\",\"#2ca02c\",\"#9467bd\",\"#9467bd\",\"#2ca02c\",\"#d62728\",\"#d62728\",\"#d62728\",\"#d62728\",\"#1f77b4\",\"#1f77b4\",\"#9467bd\",\"#1f77b4\",\"#2ca02c\",\"#8c564b\",\"#d62728\",\"#1f77b4\",\"#2ca02c\",\"#9467bd\",\"#ff7f0e\",\"#d62728\",\"#9467bd\",\"#d62728\",\"#9467bd\",\"#d62728\",\"#9467bd\",\"#8c564b\",\"#d62728\",\"#1f77b4\",\"#8c564b\",\"#9467bd\",\"#d62728\",\"#1f77b4\",\"#1f77b4\",\"#ff7f0e\",\"#8c564b\",\"#2ca02c\",\"#2ca02c\",\"#8c564b\",\"#d62728\",\"#2ca02c\",\"#d62728\",\"#2ca02c\",\"#d62728\",\"#2ca02c\",\"#d62728\",\"#d62728\",\"#ff7f0e\",\"#8c564b\",\"#1f77b4\",\"#2ca02c\",\"#1f77b4\",\"#ff7f0e\",\"#1f77b4\",\"#2ca02c\",\"#2ca02c\",\"#9467bd\",\"#8c564b\",\"#1f77b4\",\"#d62728\",\"#2ca02c\",\"#1f77b4\",\"#9467bd\",\"#d62728\",\"#d62728\",\"#d62728\",\"#d62728\",\"#8c564b\",\"#8c564b\",\"#ff7f0e\",\"#1f77b4\",\"#2ca02c\",\"#2ca02c\",\"#1f77b4\",\"#1f77b4\",\"#1f77b4\",\"#ff7f0e\",\"#ff7f0e\",\"#d62728\",\"#9467bd\",\"#d62728\",\"#d62728\",\"#d62728\",\"#1f77b4\",\"#9467bd\",\"#9467bd\",\"#d62728\",\"#9467bd\",\"#8c564b\",\"#8c564b\",\"#d62728\",\"#8c564b\",\"#1f77b4\",\"#1f77b4\",\"#8c564b\",\"#1f77b4\",\"#1f77b4\",\"#d62728\",\"#d62728\",\"#1f77b4\",\"#d62728\",\"#2ca02c\",\"#8c564b\",\"#d62728\",\"#9467bd\",\"#9467bd\",\"#1f77b4\",\"#1f77b4\",\"#d62728\",\"#ff7f0e\",\"#d62728\",\"#9467bd\",\"#1f77b4\",\"#d62728\",\"#d62728\",\"#8c564b\",\"#8c564b\",\"#2ca02c\",\"#1f77b4\",\"#1f77b4\",\"#8c564b\",\"#9467bd\",\"#8c564b\",\"#1f77b4\",\"#d62728\",\"#2ca02c\",\"#1f77b4\",\"#d62728\",\"#8c564b\",\"#d62728\",\"#2ca02c\",\"#1f77b4\",\"#1f77b4\",\"#d62728\",\"#1f77b4\",\"#ff7f0e\",\"#2ca02c\",\"#2ca02c\",\"#1f77b4\",\"#1f77b4\",\"#d62728\",\"#8c564b\",\"#2ca02c\",\"#9467bd\",\"#d62728\",\"#9467bd\",\"#1f77b4\",\"#2ca02c\",\"#8c564b\",\"#2ca02c\",\"#d62728\",\"#ff7f0e\",\"#1f77b4\",\"#9467bd\",\"#9467bd\",\"#2ca02c\",\"#ff7f0e\",\"#d62728\",\"#2ca02c\",\"#ff7f0e\",\"#9467bd\",\"#1f77b4\",\"#1f77b4\",\"#9467bd\",\"#d62728\",\"#2ca02c\",\"#9467bd\",\"#2ca02c\",\"#8c564b\",\"#9467bd\",\"#9467bd\",\"#8c564b\",\"#2ca02c\",\"#2ca02c\",\"#ff7f0e\",\"#d62728\",\"#1f77b4\",\"#9467bd\",\"#d62728\",\"#ff7f0e\",\"#1f77b4\",\"#8c564b\",\"#1f77b4\",\"#1f77b4\",\"#8c564b\",\"#8c564b\",\"#8c564b\",\"#d62728\",\"#1f77b4\",\"#8c564b\",\"#9467bd\",\"#2ca02c\",\"#1f77b4\",\"#2ca02c\",\"#9467bd\",\"#d62728\",\"#1f77b4\",\"#ff7f0e\",\"#1f77b4\",\"#ff7f0e\",\"#1f77b4\",\"#1f77b4\",\"#d62728\",\"#1f77b4\",\"#9467bd\",\"#1f77b4\",\"#1f77b4\",\"#d62728\",\"#2ca02c\",\"#8c564b\",\"#1f77b4\",\"#1f77b4\",\"#8c564b\",\"#9467bd\",\"#1f77b4\",\"#d62728\",\"#1f77b4\",\"#d62728\",\"#d62728\",\"#d62728\",\"#9467bd\",\"#1f77b4\",\"#ff7f0e\",\"#2ca02c\",\"#1f77b4\",\"#d62728\",\"#2ca02c\",\"#8c564b\",\"#8c564b\",\"#d62728\",\"#1f77b4\",\"#9467bd\",\"#d62728\",\"#2ca02c\",\"#ff7f0e\",\"#1f77b4\",\"#d62728\",\"#1f77b4\",\"#1f77b4\",\"#9467bd\",\"#8c564b\",\"#8c564b\",\"#2ca02c\",\"#d62728\",\"#d62728\",\"#1f77b4\",\"#d62728\",\"#2ca02c\",\"#ff7f0e\",\"#9467bd\",\"#1f77b4\",\"#d62728\",\"#2ca02c\",\"#1f77b4\",\"#2ca02c\",\"#2ca02c\",\"#d62728\",\"#d62728\",\"#8c564b\",\"#9467bd\",\"#2ca02c\",\"#2ca02c\",\"#d62728\",\"#ff7f0e\",\"#d62728\",\"#ff7f0e\",\"#8c564b\",\"#9467bd\",\"#d62728\",\"#d62728\",\"#9467bd\",\"#8c564b\",\"#d62728\",\"#d62728\",\"#1f77b4\",\"#9467bd\",\"#d62728\",\"#8c564b\",\"#2ca02c\",\"#d62728\",\"#9467bd\",\"#ff7f0e\",\"#8c564b\",\"#d62728\",\"#9467bd\",\"#ff7f0e\",\"#1f77b4\",\"#ff7f0e\",\"#9467bd\",\"#d62728\",\"#d62728\",\"#8c564b\",\"#d62728\",\"#9467bd\",\"#8c564b\",\"#8c564b\",\"#2ca02c\",\"#8c564b\",\"#1f77b4\",\"#9467bd\",\"#9467bd\",\"#9467bd\",\"#d62728\",\"#d62728\",\"#9467bd\",\"#d62728\",\"#1f77b4\",\"#d62728\",\"#9467bd\",\"#d62728\",\"#8c564b\",\"#2ca02c\",\"#ff7f0e\",\"#1f77b4\",\"#1f77b4\",\"#8c564b\",\"#9467bd\",\"#d62728\",\"#d62728\",\"#1f77b4\",\"#d62728\",\"#9467bd\",\"#d62728\",\"#2ca02c\",\"#2ca02c\",\"#8c564b\",\"#2ca02c\",\"#ff7f0e\",\"#8c564b\",\"#2ca02c\",\"#1f77b4\",\"#1f77b4\",\"#9467bd\",\"#1f77b4\",\"#ff7f0e\",\"#9467bd\",\"#1f77b4\",\"#d62728\",\"#1f77b4\",\"#1f77b4\",\"#1f77b4\",\"#d62728\",\"#2ca02c\",\"#9467bd\",\"#d62728\",\"#ff7f0e\",\"#1f77b4\",\"#1f77b4\",\"#9467bd\",\"#8c564b\",\"#1f77b4\",\"#9467bd\",\"#2ca02c\",\"#2ca02c\",\"#8c564b\",\"#d62728\",\"#1f77b4\",\"#ff7f0e\",\"#1f77b4\",\"#1f77b4\",\"#8c564b\",\"#d62728\",\"#1f77b4\",\"#9467bd\",\"#9467bd\",\"#8c564b\",\"#2ca02c\",\"#9467bd\",\"#9467bd\",\"#8c564b\",\"#8c564b\",\"#9467bd\",\"#1f77b4\",\"#ff7f0e\",\"#9467bd\",\"#d62728\",\"#1f77b4\",\"#8c564b\",\"#d62728\",\"#2ca02c\",\"#8c564b\",\"#d62728\",\"#9467bd\",\"#d62728\",\"#2ca02c\",\"#1f77b4\",\"#8c564b\",\"#d62728\",\"#d62728\",\"#9467bd\",\"#d62728\",\"#1f77b4\",\"#d62728\",\"#2ca02c\",\"#1f77b4\",\"#1f77b4\",\"#1f77b4\",\"#2ca02c\",\"#d62728\",\"#d62728\",\"#8c564b\",\"#1f77b4\",\"#d62728\",\"#9467bd\",\"#2ca02c\",\"#9467bd\",\"#d62728\",\"#9467bd\",\"#2ca02c\",\"#9467bd\",\"#d62728\",\"#d62728\",\"#9467bd\",\"#1f77b4\",\"#1f77b4\",\"#9467bd\",\"#9467bd\",\"#8c564b\",\"#9467bd\",\"#d62728\",\"#1f77b4\",\"#9467bd\",\"#d62728\",\"#d62728\",\"#2ca02c\",\"#d62728\",\"#9467bd\",\"#1f77b4\",\"#d62728\",\"#1f77b4\",\"#1f77b4\",\"#1f77b4\",\"#1f77b4\",\"#ff7f0e\",\"#d62728\",\"#1f77b4\",\"#d62728\",\"#ff7f0e\",\"#d62728\",\"#9467bd\",\"#ff7f0e\",\"#2ca02c\",\"#9467bd\",\"#1f77b4\",\"#9467bd\",\"#1f77b4\",\"#d62728\",\"#1f77b4\",\"#d62728\",\"#2ca02c\",\"#d62728\",\"#d62728\",\"#ff7f0e\",\"#2ca02c\",\"#1f77b4\",\"#8c564b\",\"#ff7f0e\",\"#9467bd\",\"#9467bd\",\"#1f77b4\",\"#d62728\",\"#d62728\",\"#8c564b\",\"#d62728\",\"#d62728\",\"#9467bd\",\"#2ca02c\",\"#2ca02c\",\"#1f77b4\",\"#1f77b4\",\"#9467bd\",\"#d62728\",\"#2ca02c\",\"#d62728\",\"#d62728\",\"#9467bd\",\"#2ca02c\",\"#2ca02c\",\"#8c564b\",\"#d62728\",\"#9467bd\",\"#9467bd\",\"#ff7f0e\",\"#2ca02c\",\"#d62728\",\"#ff7f0e\",\"#d62728\",\"#1f77b4\",\"#1f77b4\",\"#1f77b4\",\"#ff7f0e\",\"#1f77b4\",\"#9467bd\",\"#1f77b4\",\"#d62728\",\"#9467bd\",\"#d62728\",\"#1f77b4\",\"#1f77b4\",\"#1f77b4\",\"#ff7f0e\",\"#d62728\",\"#d62728\",\"#d62728\",\"#9467bd\",\"#9467bd\",\"#d62728\",\"#1f77b4\",\"#d62728\",\"#1f77b4\",\"#9467bd\",\"#2ca02c\",\"#d62728\",\"#1f77b4\",\"#9467bd\",\"#d62728\",\"#2ca02c\",\"#2ca02c\",\"#d62728\",\"#2ca02c\",\"#2ca02c\",\"#d62728\",\"#9467bd\",\"#ff7f0e\",\"#8c564b\",\"#2ca02c\",\"#9467bd\",\"#9467bd\",\"#2ca02c\",\"#9467bd\",\"#d62728\",\"#d62728\",\"#d62728\",\"#d62728\",\"#d62728\",\"#8c564b\",\"#9467bd\",\"#9467bd\",\"#d62728\",\"#2ca02c\",\"#d62728\",\"#8c564b\",\"#1f77b4\",\"#ff7f0e\",\"#9467bd\",\"#9467bd\",\"#9467bd\",\"#8c564b\",\"#1f77b4\",\"#d62728\",\"#9467bd\",\"#9467bd\",\"#ff7f0e\",\"#1f77b4\",\"#1f77b4\",\"#d62728\",\"#2ca02c\",\"#9467bd\",\"#ff7f0e\",\"#8c564b\",\"#d62728\",\"#8c564b\",\"#d62728\",\"#1f77b4\",\"#1f77b4\",\"#8c564b\",\"#9467bd\",\"#d62728\",\"#d62728\",\"#ff7f0e\",\"#9467bd\",\"#d62728\",\"#8c564b\",\"#9467bd\",\"#1f77b4\",\"#1f77b4\",\"#9467bd\",\"#2ca02c\",\"#ff7f0e\",\"#d62728\",\"#d62728\",\"#ff7f0e\",\"#1f77b4\",\"#9467bd\",\"#d62728\",\"#1f77b4\",\"#8c564b\",\"#d62728\",\"#1f77b4\",\"#1f77b4\",\"#9467bd\",\"#8c564b\",\"#1f77b4\",\"#1f77b4\",\"#2ca02c\",\"#9467bd\",\"#1f77b4\",\"#8c564b\",\"#d62728\",\"#1f77b4\",\"#2ca02c\",\"#8c564b\",\"#2ca02c\",\"#1f77b4\",\"#ff7f0e\",\"#2ca02c\",\"#d62728\",\"#8c564b\",\"#ff7f0e\",\"#2ca02c\",\"#1f77b4\",\"#8c564b\",\"#1f77b4\",\"#8c564b\",\"#8c564b\",\"#1f77b4\",\"#d62728\",\"#2ca02c\",\"#8c564b\",\"#d62728\",\"#9467bd\",\"#8c564b\",\"#d62728\",\"#9467bd\",\"#2ca02c\",\"#2ca02c\",\"#d62728\",\"#1f77b4\",\"#1f77b4\",\"#8c564b\",\"#d62728\",\"#9467bd\",\"#d62728\",\"#8c564b\",\"#2ca02c\",\"#9467bd\",\"#9467bd\",\"#8c564b\",\"#d62728\",\"#d62728\",\"#9467bd\",\"#1f77b4\",\"#d62728\",\"#2ca02c\",\"#d62728\",\"#d62728\",\"#1f77b4\",\"#d62728\",\"#1f77b4\",\"#d62728\",\"#1f77b4\",\"#d62728\",\"#d62728\",\"#8c564b\",\"#9467bd\",\"#9467bd\",\"#ff7f0e\",\"#d62728\",\"#2ca02c\",\"#8c564b\",\"#9467bd\",\"#1f77b4\",\"#d62728\",\"#d62728\",\"#1f77b4\",\"#1f77b4\",\"#d62728\",\"#d62728\",\"#1f77b4\",\"#8c564b\",\"#1f77b4\",\"#d62728\",\"#d62728\",\"#d62728\",\"#1f77b4\",\"#8c564b\",\"#9467bd\",\"#1f77b4\",\"#d62728\",\"#d62728\",\"#9467bd\",\"#2ca02c\",\"#2ca02c\",\"#d62728\",\"#1f77b4\",\"#1f77b4\",\"#8c564b\",\"#8c564b\",\"#d62728\",\"#9467bd\",\"#d62728\",\"#2ca02c\",\"#1f77b4\",\"#1f77b4\",\"#8c564b\",\"#1f77b4\",\"#2ca02c\",\"#d62728\",\"#d62728\",\"#9467bd\",\"#1f77b4\",\"#9467bd\",\"#8c564b\",\"#d62728\",\"#d62728\",\"#1f77b4\",\"#9467bd\",\"#8c564b\",\"#d62728\",\"#2ca02c\",\"#1f77b4\",\"#ff7f0e\",\"#9467bd\",\"#d62728\",\"#2ca02c\",\"#d62728\",\"#1f77b4\",\"#d62728\",\"#2ca02c\",\"#8c564b\",\"#1f77b4\",\"#d62728\",\"#8c564b\",\"#2ca02c\",\"#d62728\",\"#2ca02c\",\"#d62728\",\"#2ca02c\",\"#8c564b\",\"#9467bd\",\"#d62728\",\"#d62728\",\"#2ca02c\",\"#8c564b\",\"#d62728\",\"#ff7f0e\",\"#8c564b\",\"#8c564b\",\"#1f77b4\",\"#1f77b4\",\"#8c564b\",\"#9467bd\",\"#8c564b\",\"#d62728\",\"#2ca02c\",\"#2ca02c\",\"#1f77b4\",\"#8c564b\",\"#9467bd\",\"#8c564b\",\"#ff7f0e\",\"#d62728\",\"#2ca02c\",\"#d62728\",\"#ff7f0e\",\"#ff7f0e\",\"#1f77b4\",\"#d62728\",\"#2ca02c\",\"#9467bd\",\"#d62728\",\"#1f77b4\",\"#d62728\",\"#9467bd\",\"#9467bd\",\"#ff7f0e\",\"#d62728\",\"#9467bd\",\"#1f77b4\",\"#8c564b\",\"#d62728\",\"#d62728\",\"#1f77b4\",\"#1f77b4\",\"#1f77b4\",\"#8c564b\",\"#9467bd\",\"#d62728\",\"#8c564b\",\"#2ca02c\",\"#9467bd\",\"#1f77b4\",\"#9467bd\",\"#1f77b4\",\"#8c564b\",\"#9467bd\",\"#ff7f0e\",\"#9467bd\",\"#9467bd\",\"#d62728\",\"#9467bd\",\"#1f77b4\",\"#1f77b4\",\"#1f77b4\",\"#8c564b\",\"#9467bd\",\"#d62728\",\"#9467bd\",\"#d62728\",\"#9467bd\",\"#1f77b4\",\"#d62728\",\"#9467bd\",\"#ff7f0e\",\"#1f77b4\",\"#d62728\",\"#2ca02c\",\"#1f77b4\",\"#9467bd\",\"#2ca02c\",\"#8c564b\",\"#1f77b4\",\"#1f77b4\",\"#d62728\",\"#d62728\",\"#1f77b4\",\"#1f77b4\",\"#ff7f0e\",\"#2ca02c\",\"#2ca02c\",\"#2ca02c\",\"#d62728\",\"#2ca02c\",\"#1f77b4\",\"#1f77b4\",\"#8c564b\",\"#d62728\",\"#9467bd\",\"#1f77b4\",\"#2ca02c\",\"#9467bd\",\"#1f77b4\",\"#ff7f0e\",\"#d62728\",\"#9467bd\",\"#d62728\",\"#d62728\",\"#8c564b\",\"#d62728\",\"#8c564b\",\"#d62728\",\"#ff7f0e\",\"#2ca02c\",\"#9467bd\",\"#2ca02c\",\"#1f77b4\",\"#9467bd\",\"#1f77b4\",\"#9467bd\",\"#1f77b4\",\"#d62728\",\"#9467bd\",\"#ff7f0e\",\"#1f77b4\",\"#1f77b4\",\"#2ca02c\",\"#1f77b4\",\"#d62728\",\"#ff7f0e\",\"#d62728\",\"#ff7f0e\",\"#1f77b4\",\"#8c564b\",\"#8c564b\",\"#2ca02c\",\"#8c564b\",\"#d62728\",\"#8c564b\",\"#2ca02c\",\"#1f77b4\",\"#d62728\",\"#ff7f0e\",\"#d62728\",\"#d62728\",\"#9467bd\",\"#9467bd\",\"#2ca02c\",\"#8c564b\",\"#d62728\",\"#d62728\",\"#2ca02c\",\"#d62728\",\"#2ca02c\",\"#2ca02c\",\"#ff7f0e\",\"#d62728\",\"#8c564b\",\"#8c564b\",\"#d62728\",\"#d62728\",\"#d62728\",\"#d62728\",\"#2ca02c\",\"#2ca02c\",\"#8c564b\",\"#2ca02c\",\"#1f77b4\",\"#2ca02c\",\"#2ca02c\",\"#1f77b4\",\"#ff7f0e\",\"#1f77b4\",\"#2ca02c\",\"#9467bd\",\"#ff7f0e\",\"#8c564b\",\"#d62728\",\"#ff7f0e\",\"#d62728\",\"#d62728\",\"#1f77b4\",\"#d62728\",\"#d62728\",\"#d62728\",\"#d62728\",\"#8c564b\",\"#9467bd\",\"#9467bd\",\"#1f77b4\",\"#d62728\",\"#8c564b\",\"#d62728\",\"#1f77b4\",\"#8c564b\",\"#2ca02c\",\"#9467bd\",\"#1f77b4\",\"#ff7f0e\",\"#1f77b4\",\"#9467bd\",\"#d62728\",\"#d62728\",\"#1f77b4\",\"#8c564b\",\"#d62728\",\"#1f77b4\",\"#1f77b4\",\"#1f77b4\",\"#2ca02c\",\"#9467bd\",\"#1f77b4\",\"#d62728\",\"#9467bd\",\"#d62728\",\"#1f77b4\",\"#1f77b4\",\"#d62728\",\"#d62728\",\"#d62728\",\"#1f77b4\",\"#ff7f0e\",\"#d62728\",\"#ff7f0e\",\"#d62728\",\"#d62728\",\"#8c564b\",\"#2ca02c\",\"#2ca02c\",\"#ff7f0e\",\"#d62728\",\"#d62728\",\"#2ca02c\",\"#d62728\",\"#9467bd\",\"#1f77b4\",\"#1f77b4\",\"#d62728\",\"#d62728\",\"#d62728\",\"#2ca02c\",\"#1f77b4\",\"#d62728\",\"#d62728\",\"#2ca02c\",\"#1f77b4\",\"#1f77b4\",\"#2ca02c\",\"#9467bd\",\"#ff7f0e\",\"#8c564b\",\"#d62728\",\"#1f77b4\",\"#8c564b\",\"#9467bd\",\"#1f77b4\",\"#1f77b4\",\"#d62728\",\"#d62728\",\"#8c564b\",\"#1f77b4\",\"#2ca02c\",\"#9467bd\",\"#9467bd\",\"#2ca02c\",\"#ff7f0e\",\"#d62728\",\"#9467bd\",\"#8c564b\",\"#2ca02c\",\"#d62728\",\"#d62728\",\"#d62728\",\"#1f77b4\",\"#2ca02c\",\"#1f77b4\",\"#1f77b4\",\"#d62728\",\"#8c564b\",\"#1f77b4\",\"#2ca02c\",\"#9467bd\",\"#1f77b4\",\"#ff7f0e\",\"#d62728\",\"#2ca02c\",\"#9467bd\",\"#1f77b4\",\"#d62728\",\"#2ca02c\",\"#9467bd\",\"#1f77b4\",\"#2ca02c\",\"#8c564b\",\"#8c564b\",\"#9467bd\",\"#d62728\",\"#ff7f0e\",\"#2ca02c\",\"#2ca02c\",\"#2ca02c\",\"#ff7f0e\",\"#ff7f0e\",\"#d62728\",\"#ff7f0e\",\"#d62728\",\"#9467bd\",\"#9467bd\",\"#d62728\",\"#9467bd\",\"#8c564b\",\"#1f77b4\",\"#d62728\",\"#d62728\",\"#1f77b4\",\"#1f77b4\",\"#d62728\",\"#d62728\",\"#d62728\",\"#9467bd\",\"#d62728\",\"#8c564b\",\"#1f77b4\",\"#1f77b4\",\"#9467bd\",\"#d62728\",\"#2ca02c\",\"#9467bd\",\"#9467bd\",\"#1f77b4\",\"#1f77b4\",\"#8c564b\",\"#d62728\",\"#8c564b\",\"#9467bd\",\"#8c564b\",\"#2ca02c\",\"#ff7f0e\",\"#ff7f0e\",\"#2ca02c\",\"#d62728\",\"#2ca02c\",\"#1f77b4\",\"#9467bd\",\"#8c564b\",\"#2ca02c\",\"#9467bd\",\"#1f77b4\",\"#1f77b4\",\"#d62728\",\"#d62728\",\"#ff7f0e\",\"#9467bd\",\"#1f77b4\",\"#2ca02c\",\"#2ca02c\",\"#1f77b4\",\"#ff7f0e\",\"#2ca02c\",\"#d62728\",\"#2ca02c\",\"#d62728\",\"#2ca02c\",\"#d62728\",\"#d62728\",\"#9467bd\",\"#1f77b4\",\"#d62728\",\"#2ca02c\",\"#2ca02c\",\"#8c564b\",\"#9467bd\",\"#d62728\",\"#9467bd\",\"#9467bd\",\"#2ca02c\",\"#d62728\",\"#d62728\",\"#2ca02c\",\"#1f77b4\",\"#8c564b\",\"#9467bd\",\"#ff7f0e\",\"#9467bd\",\"#d62728\",\"#d62728\",\"#d62728\",\"#1f77b4\",\"#1f77b4\",\"#ff7f0e\",\"#1f77b4\",\"#d62728\",\"#9467bd\",\"#8c564b\",\"#9467bd\",\"#d62728\",\"#d62728\",\"#d62728\",\"#1f77b4\",\"#1f77b4\",\"#9467bd\",\"#1f77b4\",\"#9467bd\",\"#ff7f0e\",\"#1f77b4\",\"#1f77b4\",\"#d62728\",\"#1f77b4\",\"#d62728\",\"#1f77b4\",\"#1f77b4\",\"#9467bd\",\"#1f77b4\",\"#d62728\",\"#2ca02c\",\"#1f77b4\",\"#ff7f0e\",\"#9467bd\",\"#d62728\",\"#2ca02c\",\"#1f77b4\",\"#2ca02c\",\"#d62728\",\"#1f77b4\",\"#d62728\",\"#d62728\",\"#d62728\",\"#8c564b\",\"#8c564b\",\"#2ca02c\",\"#1f77b4\",\"#8c564b\",\"#1f77b4\",\"#8c564b\",\"#2ca02c\",\"#d62728\",\"#d62728\",\"#2ca02c\",\"#8c564b\",\"#d62728\",\"#2ca02c\",\"#d62728\",\"#1f77b4\",\"#9467bd\",\"#1f77b4\",\"#1f77b4\",\"#2ca02c\",\"#ff7f0e\",\"#d62728\",\"#2ca02c\",\"#2ca02c\",\"#8c564b\",\"#1f77b4\",\"#d62728\",\"#1f77b4\",\"#d62728\",\"#2ca02c\",\"#d62728\",\"#1f77b4\",\"#1f77b4\",\"#1f77b4\",\"#ff7f0e\",\"#8c564b\",\"#ff7f0e\",\"#1f77b4\",\"#d62728\",\"#9467bd\",\"#1f77b4\",\"#9467bd\",\"#1f77b4\",\"#8c564b\",\"#8c564b\",\"#ff7f0e\",\"#d62728\",\"#2ca02c\",\"#d62728\",\"#9467bd\",\"#8c564b\",\"#1f77b4\",\"#1f77b4\",\"#d62728\",\"#d62728\",\"#ff7f0e\",\"#ff7f0e\",\"#1f77b4\",\"#2ca02c\",\"#d62728\",\"#1f77b4\",\"#9467bd\",\"#9467bd\",\"#8c564b\",\"#d62728\",\"#d62728\",\"#2ca02c\",\"#9467bd\",\"#d62728\",\"#d62728\",\"#8c564b\",\"#9467bd\",\"#8c564b\",\"#2ca02c\",\"#1f77b4\",\"#d62728\",\"#1f77b4\",\"#9467bd\",\"#d62728\",\"#9467bd\",\"#d62728\",\"#d62728\",\"#2ca02c\",\"#1f77b4\",\"#ff7f0e\",\"#8c564b\",\"#8c564b\",\"#d62728\",\"#9467bd\",\"#1f77b4\",\"#1f77b4\",\"#2ca02c\",\"#2ca02c\",\"#1f77b4\",\"#1f77b4\",\"#9467bd\",\"#2ca02c\",\"#1f77b4\",\"#8c564b\",\"#1f77b4\",\"#9467bd\",\"#1f77b4\",\"#9467bd\",\"#2ca02c\",\"#9467bd\",\"#d62728\",\"#8c564b\",\"#9467bd\",\"#d62728\",\"#1f77b4\",\"#9467bd\",\"#2ca02c\",\"#1f77b4\",\"#8c564b\",\"#d62728\",\"#2ca02c\",\"#9467bd\",\"#9467bd\",\"#1f77b4\",\"#9467bd\",\"#1f77b4\",\"#9467bd\",\"#8c564b\",\"#8c564b\",\"#ff7f0e\",\"#2ca02c\",\"#d62728\",\"#ff7f0e\",\"#8c564b\",\"#ff7f0e\",\"#d62728\",\"#1f77b4\",\"#1f77b4\",\"#1f77b4\",\"#8c564b\",\"#1f77b4\",\"#d62728\",\"#d62728\",\"#d62728\",\"#9467bd\",\"#d62728\",\"#ff7f0e\",\"#1f77b4\",\"#ff7f0e\",\"#d62728\",\"#9467bd\",\"#1f77b4\",\"#1f77b4\",\"#8c564b\",\"#8c564b\",\"#ff7f0e\",\"#1f77b4\",\"#9467bd\",\"#2ca02c\",\"#9467bd\",\"#2ca02c\",\"#2ca02c\",\"#2ca02c\",\"#d62728\",\"#2ca02c\",\"#ff7f0e\",\"#1f77b4\",\"#d62728\",\"#9467bd\",\"#2ca02c\",\"#8c564b\",\"#8c564b\",\"#1f77b4\",\"#d62728\",\"#d62728\",\"#9467bd\",\"#9467bd\",\"#d62728\",\"#1f77b4\",\"#8c564b\",\"#1f77b4\",\"#d62728\",\"#1f77b4\",\"#2ca02c\",\"#ff7f0e\",\"#9467bd\",\"#ff7f0e\",\"#1f77b4\",\"#1f77b4\",\"#d62728\",\"#8c564b\",\"#9467bd\",\"#ff7f0e\",\"#1f77b4\",\"#d62728\",\"#1f77b4\",\"#9467bd\",\"#1f77b4\",\"#8c564b\",\"#d62728\",\"#d62728\",\"#9467bd\",\"#d62728\",\"#2ca02c\",\"#8c564b\",\"#d62728\",\"#9467bd\",\"#9467bd\",\"#2ca02c\",\"#ff7f0e\",\"#8c564b\",\"#9467bd\",\"#2ca02c\",\"#d62728\",\"#2ca02c\",\"#9467bd\",\"#d62728\",\"#9467bd\",\"#8c564b\",\"#ff7f0e\",\"#ff7f0e\",\"#9467bd\",\"#8c564b\",\"#2ca02c\",\"#8c564b\",\"#1f77b4\",\"#d62728\",\"#1f77b4\",\"#9467bd\",\"#9467bd\",\"#ff7f0e\",\"#1f77b4\",\"#9467bd\",\"#ff7f0e\",\"#8c564b\",\"#2ca02c\",\"#d62728\",\"#2ca02c\",\"#2ca02c\",\"#d62728\",\"#8c564b\",\"#d62728\",\"#2ca02c\",\"#ff7f0e\",\"#d62728\",\"#d62728\",\"#d62728\",\"#2ca02c\",\"#2ca02c\",\"#d62728\",\"#8c564b\",\"#d62728\",\"#d62728\",\"#9467bd\",\"#8c564b\",\"#1f77b4\",\"#ff7f0e\",\"#ff7f0e\",\"#ff7f0e\",\"#d62728\",\"#2ca02c\",\"#9467bd\",\"#9467bd\",\"#8c564b\",\"#d62728\",\"#8c564b\",\"#8c564b\",\"#2ca02c\",\"#9467bd\",\"#1f77b4\",\"#9467bd\",\"#d62728\",\"#d62728\",\"#d62728\",\"#8c564b\",\"#d62728\",\"#2ca02c\",\"#ff7f0e\",\"#2ca02c\",\"#2ca02c\",\"#1f77b4\",\"#d62728\",\"#2ca02c\",\"#d62728\",\"#2ca02c\",\"#d62728\",\"#9467bd\",\"#d62728\",\"#8c564b\",\"#2ca02c\",\"#8c564b\",\"#ff7f0e\",\"#8c564b\",\"#9467bd\",\"#8c564b\",\"#1f77b4\",\"#1f77b4\",\"#d62728\",\"#2ca02c\",\"#d62728\",\"#1f77b4\",\"#1f77b4\",\"#9467bd\",\"#2ca02c\",\"#d62728\",\"#ff7f0e\",\"#8c564b\",\"#9467bd\",\"#ff7f0e\",\"#2ca02c\",\"#2ca02c\",\"#1f77b4\",\"#8c564b\",\"#1f77b4\",\"#1f77b4\",\"#d62728\",\"#ff7f0e\",\"#d62728\",\"#ff7f0e\",\"#d62728\",\"#ff7f0e\",\"#9467bd\",\"#1f77b4\",\"#8c564b\",\"#2ca02c\",\"#8c564b\",\"#1f77b4\",\"#8c564b\",\"#2ca02c\",\"#d62728\",\"#1f77b4\",\"#9467bd\",\"#d62728\",\"#9467bd\",\"#8c564b\",\"#ff7f0e\",\"#d62728\",\"#ff7f0e\",\"#d62728\",\"#1f77b4\",\"#2ca02c\",\"#d62728\",\"#1f77b4\",\"#1f77b4\",\"#1f77b4\",\"#d62728\",\"#8c564b\",\"#d62728\",\"#1f77b4\",\"#d62728\",\"#2ca02c\",\"#d62728\",\"#d62728\",\"#d62728\",\"#2ca02c\",\"#9467bd\",\"#d62728\",\"#1f77b4\",\"#2ca02c\",\"#2ca02c\",\"#9467bd\",\"#d62728\",\"#d62728\",\"#2ca02c\",\"#2ca02c\",\"#8c564b\",\"#8c564b\",\"#d62728\",\"#1f77b4\",\"#8c564b\",\"#d62728\",\"#9467bd\",\"#ff7f0e\",\"#1f77b4\",\"#d62728\",\"#2ca02c\",\"#d62728\",\"#8c564b\",\"#9467bd\",\"#2ca02c\",\"#8c564b\",\"#d62728\",\"#2ca02c\",\"#9467bd\",\"#1f77b4\",\"#d62728\",\"#1f77b4\",\"#9467bd\",\"#8c564b\",\"#2ca02c\",\"#9467bd\",\"#2ca02c\",\"#9467bd\",\"#8c564b\",\"#9467bd\",\"#d62728\",\"#d62728\",\"#2ca02c\",\"#2ca02c\",\"#d62728\",\"#1f77b4\",\"#8c564b\",\"#1f77b4\",\"#9467bd\",\"#2ca02c\",\"#2ca02c\",\"#2ca02c\",\"#ff7f0e\",\"#d62728\",\"#9467bd\",\"#2ca02c\",\"#8c564b\",\"#1f77b4\",\"#9467bd\",\"#9467bd\",\"#2ca02c\",\"#1f77b4\",\"#1f77b4\",\"#d62728\",\"#d62728\",\"#8c564b\",\"#1f77b4\",\"#ff7f0e\",\"#2ca02c\",\"#d62728\",\"#1f77b4\",\"#1f77b4\",\"#8c564b\",\"#8c564b\",\"#d62728\",\"#2ca02c\",\"#2ca02c\",\"#1f77b4\",\"#9467bd\",\"#9467bd\",\"#ff7f0e\",\"#9467bd\",\"#ff7f0e\",\"#8c564b\",\"#8c564b\",\"#1f77b4\",\"#9467bd\",\"#2ca02c\",\"#d62728\",\"#8c564b\",\"#1f77b4\",\"#1f77b4\",\"#8c564b\",\"#1f77b4\",\"#2ca02c\",\"#d62728\",\"#8c564b\",\"#d62728\",\"#d62728\",\"#9467bd\",\"#ff7f0e\",\"#2ca02c\",\"#2ca02c\",\"#8c564b\",\"#d62728\",\"#9467bd\",\"#1f77b4\",\"#2ca02c\",\"#ff7f0e\",\"#1f77b4\",\"#d62728\",\"#1f77b4\",\"#ff7f0e\",\"#1f77b4\",\"#d62728\",\"#d62728\",\"#2ca02c\",\"#8c564b\",\"#8c564b\",\"#1f77b4\",\"#8c564b\",\"#9467bd\",\"#d62728\",\"#9467bd\",\"#1f77b4\",\"#d62728\",\"#2ca02c\",\"#d62728\",\"#ff7f0e\",\"#d62728\",\"#2ca02c\",\"#9467bd\",\"#9467bd\",\"#9467bd\",\"#9467bd\",\"#2ca02c\",\"#8c564b\",\"#ff7f0e\",\"#9467bd\",\"#1f77b4\",\"#2ca02c\",\"#1f77b4\",\"#1f77b4\",\"#1f77b4\",\"#1f77b4\",\"#d62728\",\"#d62728\",\"#ff7f0e\",\"#d62728\",\"#d62728\",\"#d62728\",\"#d62728\",\"#9467bd\",\"#d62728\",\"#2ca02c\",\"#9467bd\",\"#9467bd\",\"#1f77b4\",\"#d62728\",\"#ff7f0e\",\"#ff7f0e\",\"#9467bd\",\"#d62728\",\"#d62728\",\"#1f77b4\",\"#9467bd\",\"#1f77b4\",\"#ff7f0e\",\"#d62728\",\"#d62728\",\"#2ca02c\",\"#ff7f0e\",\"#2ca02c\",\"#8c564b\",\"#d62728\",\"#8c564b\",\"#1f77b4\",\"#2ca02c\",\"#1f77b4\",\"#1f77b4\",\"#8c564b\",\"#1f77b4\",\"#ff7f0e\",\"#1f77b4\",\"#8c564b\",\"#d62728\",\"#9467bd\",\"#d62728\",\"#1f77b4\",\"#1f77b4\",\"#2ca02c\",\"#9467bd\",\"#9467bd\",\"#2ca02c\",\"#d62728\",\"#2ca02c\",\"#ff7f0e\",\"#9467bd\",\"#ff7f0e\",\"#2ca02c\",\"#d62728\",\"#2ca02c\",\"#9467bd\",\"#d62728\",\"#d62728\",\"#8c564b\",\"#d62728\",\"#1f77b4\",\"#9467bd\",\"#9467bd\",\"#2ca02c\",\"#2ca02c\",\"#d62728\",\"#1f77b4\",\"#2ca02c\",\"#d62728\",\"#9467bd\",\"#1f77b4\",\"#d62728\",\"#1f77b4\",\"#8c564b\",\"#ff7f0e\",\"#8c564b\",\"#ff7f0e\",\"#2ca02c\",\"#2ca02c\",\"#1f77b4\",\"#2ca02c\",\"#8c564b\",\"#8c564b\",\"#9467bd\",\"#9467bd\",\"#9467bd\",\"#1f77b4\",\"#ff7f0e\",\"#9467bd\",\"#9467bd\",\"#1f77b4\",\"#d62728\",\"#8c564b\",\"#d62728\",\"#d62728\",\"#8c564b\",\"#1f77b4\",\"#d62728\",\"#d62728\",\"#d62728\",\"#2ca02c\",\"#2ca02c\",\"#1f77b4\",\"#1f77b4\",\"#9467bd\",\"#9467bd\",\"#8c564b\",\"#d62728\",\"#ff7f0e\",\"#d62728\",\"#d62728\",\"#8c564b\",\"#d62728\",\"#9467bd\",\"#2ca02c\",\"#d62728\",\"#d62728\",\"#2ca02c\",\"#2ca02c\",\"#9467bd\",\"#d62728\",\"#1f77b4\",\"#d62728\",\"#d62728\",\"#d62728\",\"#2ca02c\",\"#8c564b\",\"#8c564b\",\"#1f77b4\",\"#d62728\",\"#2ca02c\",\"#9467bd\",\"#9467bd\",\"#d62728\",\"#1f77b4\",\"#9467bd\",\"#1f77b4\",\"#d62728\",\"#1f77b4\",\"#2ca02c\",\"#1f77b4\",\"#d62728\",\"#8c564b\",\"#8c564b\",\"#1f77b4\",\"#8c564b\",\"#d62728\",\"#d62728\",\"#1f77b4\",\"#9467bd\",\"#ff7f0e\",\"#9467bd\",\"#9467bd\",\"#d62728\",\"#9467bd\",\"#2ca02c\",\"#8c564b\",\"#d62728\",\"#ff7f0e\",\"#ff7f0e\",\"#ff7f0e\",\"#d62728\",\"#1f77b4\",\"#1f77b4\",\"#d62728\",\"#2ca02c\",\"#d62728\",\"#9467bd\",\"#9467bd\",\"#1f77b4\",\"#8c564b\",\"#9467bd\",\"#d62728\",\"#2ca02c\",\"#d62728\",\"#d62728\",\"#8c564b\",\"#8c564b\",\"#9467bd\",\"#8c564b\",\"#1f77b4\",\"#2ca02c\",\"#d62728\",\"#1f77b4\",\"#ff7f0e\",\"#1f77b4\",\"#8c564b\",\"#1f77b4\",\"#9467bd\",\"#8c564b\",\"#1f77b4\",\"#9467bd\",\"#8c564b\",\"#ff7f0e\",\"#1f77b4\",\"#d62728\",\"#ff7f0e\",\"#1f77b4\",\"#d62728\",\"#d62728\",\"#8c564b\",\"#1f77b4\",\"#d62728\",\"#8c564b\",\"#9467bd\",\"#9467bd\",\"#1f77b4\",\"#8c564b\",\"#9467bd\",\"#d62728\",\"#d62728\",\"#9467bd\",\"#8c564b\",\"#d62728\",\"#1f77b4\",\"#9467bd\",\"#8c564b\",\"#9467bd\",\"#8c564b\",\"#9467bd\",\"#8c564b\",\"#8c564b\",\"#d62728\",\"#2ca02c\",\"#2ca02c\",\"#1f77b4\",\"#1f77b4\",\"#d62728\",\"#d62728\",\"#9467bd\",\"#ff7f0e\",\"#1f77b4\",\"#8c564b\",\"#9467bd\",\"#d62728\",\"#1f77b4\",\"#d62728\",\"#d62728\",\"#d62728\",\"#ff7f0e\",\"#1f77b4\",\"#1f77b4\",\"#9467bd\",\"#1f77b4\",\"#ff7f0e\",\"#d62728\",\"#2ca02c\",\"#d62728\",\"#1f77b4\",\"#2ca02c\",\"#9467bd\",\"#1f77b4\",\"#2ca02c\",\"#1f77b4\",\"#9467bd\",\"#2ca02c\",\"#d62728\",\"#2ca02c\",\"#8c564b\",\"#2ca02c\",\"#8c564b\",\"#2ca02c\",\"#1f77b4\",\"#2ca02c\",\"#8c564b\",\"#ff7f0e\",\"#2ca02c\",\"#1f77b4\",\"#d62728\",\"#d62728\",\"#8c564b\",\"#8c564b\",\"#ff7f0e\",\"#ff7f0e\",\"#1f77b4\",\"#2ca02c\",\"#9467bd\",\"#1f77b4\",\"#2ca02c\",\"#d62728\",\"#2ca02c\",\"#1f77b4\",\"#d62728\",\"#8c564b\",\"#1f77b4\",\"#9467bd\",\"#ff7f0e\",\"#1f77b4\",\"#ff7f0e\",\"#d62728\",\"#d62728\",\"#8c564b\",\"#8c564b\",\"#d62728\",\"#8c564b\",\"#d62728\",\"#d62728\",\"#8c564b\",\"#d62728\",\"#d62728\",\"#1f77b4\",\"#d62728\",\"#8c564b\",\"#9467bd\",\"#d62728\",\"#9467bd\",\"#1f77b4\",\"#8c564b\",\"#d62728\",\"#2ca02c\",\"#2ca02c\",\"#8c564b\",\"#1f77b4\",\"#d62728\",\"#1f77b4\",\"#1f77b4\",\"#1f77b4\",\"#9467bd\",\"#9467bd\",\"#8c564b\",\"#d62728\",\"#1f77b4\",\"#8c564b\",\"#2ca02c\",\"#1f77b4\",\"#1f77b4\",\"#d62728\",\"#9467bd\",\"#d62728\",\"#8c564b\",\"#d62728\",\"#1f77b4\",\"#9467bd\",\"#8c564b\",\"#2ca02c\",\"#8c564b\",\"#d62728\",\"#2ca02c\",\"#1f77b4\",\"#1f77b4\",\"#1f77b4\",\"#1f77b4\",\"#1f77b4\",\"#d62728\",\"#1f77b4\",\"#1f77b4\",\"#9467bd\",\"#2ca02c\",\"#1f77b4\",\"#d62728\",\"#2ca02c\",\"#d62728\",\"#2ca02c\",\"#8c564b\",\"#d62728\",\"#2ca02c\",\"#8c564b\",\"#2ca02c\",\"#d62728\",\"#1f77b4\",\"#ff7f0e\",\"#2ca02c\",\"#d62728\",\"#2ca02c\",\"#1f77b4\",\"#2ca02c\",\"#1f77b4\",\"#2ca02c\",\"#1f77b4\",\"#d62728\",\"#8c564b\",\"#9467bd\",\"#1f77b4\",\"#9467bd\",\"#ff7f0e\",\"#1f77b4\",\"#1f77b4\",\"#8c564b\",\"#2ca02c\",\"#d62728\",\"#ff7f0e\",\"#d62728\",\"#2ca02c\",\"#d62728\",\"#9467bd\",\"#9467bd\",\"#d62728\",\"#1f77b4\",\"#d62728\",\"#1f77b4\",\"#8c564b\",\"#d62728\",\"#1f77b4\",\"#1f77b4\",\"#9467bd\",\"#1f77b4\",\"#2ca02c\",\"#9467bd\",\"#2ca02c\",\"#d62728\",\"#d62728\",\"#d62728\",\"#9467bd\",\"#1f77b4\",\"#9467bd\",\"#2ca02c\",\"#1f77b4\",\"#ff7f0e\",\"#2ca02c\",\"#9467bd\",\"#d62728\",\"#8c564b\",\"#d62728\",\"#9467bd\",\"#8c564b\",\"#2ca02c\",\"#1f77b4\",\"#2ca02c\",\"#9467bd\",\"#2ca02c\",\"#8c564b\",\"#8c564b\",\"#2ca02c\",\"#2ca02c\",\"#1f77b4\",\"#8c564b\",\"#2ca02c\",\"#9467bd\",\"#9467bd\",\"#8c564b\",\"#2ca02c\",\"#d62728\",\"#2ca02c\",\"#ff7f0e\",\"#1f77b4\",\"#d62728\",\"#d62728\",\"#1f77b4\",\"#9467bd\",\"#ff7f0e\",\"#1f77b4\",\"#9467bd\",\"#9467bd\",\"#2ca02c\",\"#2ca02c\",\"#2ca02c\",\"#1f77b4\",\"#8c564b\",\"#ff7f0e\",\"#d62728\",\"#8c564b\",\"#d62728\",\"#8c564b\",\"#9467bd\",\"#ff7f0e\",\"#d62728\",\"#d62728\",\"#1f77b4\",\"#8c564b\",\"#ff7f0e\",\"#8c564b\",\"#d62728\",\"#ff7f0e\",\"#d62728\",\"#1f77b4\",\"#2ca02c\",\"#2ca02c\",\"#ff7f0e\",\"#ff7f0e\",\"#1f77b4\",\"#d62728\",\"#d62728\",\"#2ca02c\",\"#2ca02c\",\"#9467bd\",\"#d62728\",\"#2ca02c\",\"#1f77b4\",\"#d62728\",\"#1f77b4\",\"#9467bd\",\"#8c564b\",\"#1f77b4\",\"#1f77b4\",\"#d62728\",\"#d62728\",\"#2ca02c\",\"#1f77b4\",\"#1f77b4\",\"#8c564b\",\"#1f77b4\",\"#2ca02c\",\"#d62728\",\"#d62728\",\"#d62728\",\"#8c564b\",\"#2ca02c\",\"#d62728\",\"#2ca02c\",\"#2ca02c\",\"#d62728\",\"#d62728\",\"#1f77b4\",\"#8c564b\",\"#9467bd\",\"#2ca02c\",\"#1f77b4\",\"#1f77b4\",\"#d62728\",\"#d62728\",\"#d62728\",\"#8c564b\",\"#9467bd\",\"#ff7f0e\",\"#1f77b4\",\"#ff7f0e\",\"#9467bd\",\"#9467bd\",\"#1f77b4\",\"#2ca02c\",\"#d62728\",\"#d62728\",\"#1f77b4\",\"#8c564b\",\"#8c564b\",\"#1f77b4\",\"#d62728\",\"#d62728\",\"#9467bd\",\"#ff7f0e\",\"#2ca02c\",\"#2ca02c\",\"#9467bd\",\"#ff7f0e\",\"#9467bd\",\"#d62728\",\"#2ca02c\",\"#1f77b4\",\"#2ca02c\",\"#9467bd\",\"#1f77b4\",\"#ff7f0e\",\"#9467bd\",\"#2ca02c\",\"#9467bd\",\"#8c564b\",\"#9467bd\",\"#1f77b4\",\"#2ca02c\",\"#1f77b4\",\"#ff7f0e\",\"#1f77b4\",\"#d62728\",\"#9467bd\",\"#d62728\",\"#2ca02c\",\"#9467bd\",\"#2ca02c\",\"#2ca02c\",\"#d62728\",\"#8c564b\",\"#2ca02c\",\"#ff7f0e\",\"#8c564b\",\"#8c564b\",\"#1f77b4\",\"#2ca02c\",\"#2ca02c\",\"#ff7f0e\",\"#ff7f0e\",\"#8c564b\",\"#2ca02c\",\"#1f77b4\",\"#1f77b4\",\"#2ca02c\",\"#1f77b4\",\"#ff7f0e\",\"#d62728\",\"#8c564b\",\"#1f77b4\",\"#1f77b4\",\"#1f77b4\",\"#1f77b4\",\"#1f77b4\",\"#1f77b4\",\"#1f77b4\",\"#1f77b4\",\"#1f77b4\",\"#9467bd\",\"#9467bd\",\"#2ca02c\",\"#8c564b\",\"#d62728\",\"#9467bd\",\"#8c564b\",\"#1f77b4\",\"#8c564b\",\"#2ca02c\",\"#1f77b4\",\"#d62728\",\"#d62728\",\"#ff7f0e\",\"#d62728\",\"#2ca02c\",\"#2ca02c\",\"#d62728\",\"#2ca02c\",\"#1f77b4\",\"#1f77b4\",\"#d62728\",\"#1f77b4\",\"#9467bd\",\"#1f77b4\",\"#d62728\",\"#d62728\",\"#ff7f0e\",\"#9467bd\",\"#9467bd\",\"#1f77b4\",\"#9467bd\",\"#2ca02c\",\"#1f77b4\",\"#ff7f0e\",\"#1f77b4\",\"#8c564b\",\"#8c564b\",\"#d62728\",\"#d62728\",\"#2ca02c\",\"#8c564b\",\"#2ca02c\",\"#1f77b4\",\"#8c564b\",\"#1f77b4\",\"#d62728\",\"#d62728\",\"#1f77b4\",\"#2ca02c\",\"#ff7f0e\",\"#9467bd\",\"#9467bd\",\"#2ca02c\",\"#d62728\",\"#9467bd\",\"#1f77b4\",\"#1f77b4\",\"#8c564b\",\"#ff7f0e\",\"#2ca02c\",\"#2ca02c\",\"#d62728\",\"#d62728\",\"#ff7f0e\",\"#2ca02c\",\"#1f77b4\",\"#8c564b\",\"#9467bd\",\"#1f77b4\",\"#d62728\",\"#d62728\",\"#2ca02c\",\"#2ca02c\",\"#8c564b\",\"#2ca02c\",\"#d62728\",\"#8c564b\",\"#9467bd\",\"#d62728\",\"#2ca02c\",\"#1f77b4\",\"#2ca02c\",\"#9467bd\",\"#2ca02c\",\"#2ca02c\",\"#ff7f0e\",\"#d62728\",\"#d62728\",\"#8c564b\",\"#9467bd\",\"#8c564b\",\"#ff7f0e\",\"#9467bd\",\"#1f77b4\",\"#d62728\",\"#ff7f0e\",\"#d62728\",\"#ff7f0e\",\"#9467bd\",\"#ff7f0e\",\"#d62728\",\"#8c564b\",\"#d62728\",\"#9467bd\",\"#2ca02c\",\"#1f77b4\",\"#1f77b4\",\"#8c564b\",\"#2ca02c\",\"#d62728\",\"#d62728\",\"#d62728\",\"#8c564b\",\"#2ca02c\",\"#1f77b4\",\"#1f77b4\",\"#8c564b\",\"#d62728\",\"#d62728\",\"#1f77b4\",\"#d62728\",\"#1f77b4\",\"#ff7f0e\",\"#d62728\",\"#2ca02c\",\"#9467bd\",\"#2ca02c\",\"#d62728\",\"#2ca02c\",\"#1f77b4\",\"#9467bd\",\"#8c564b\",\"#d62728\",\"#1f77b4\",\"#ff7f0e\",\"#2ca02c\",\"#1f77b4\",\"#2ca02c\",\"#d62728\",\"#1f77b4\",\"#1f77b4\",\"#1f77b4\",\"#d62728\",\"#2ca02c\",\"#9467bd\",\"#ff7f0e\",\"#1f77b4\",\"#ff7f0e\",\"#d62728\",\"#2ca02c\",\"#8c564b\",\"#9467bd\",\"#9467bd\",\"#1f77b4\",\"#d62728\",\"#d62728\",\"#ff7f0e\",\"#1f77b4\",\"#8c564b\",\"#d62728\",\"#d62728\",\"#d62728\",\"#2ca02c\",\"#1f77b4\",\"#8c564b\",\"#9467bd\",\"#ff7f0e\",\"#8c564b\",\"#d62728\",\"#1f77b4\",\"#9467bd\",\"#d62728\",\"#2ca02c\",\"#8c564b\",\"#9467bd\",\"#9467bd\",\"#9467bd\",\"#1f77b4\",\"#8c564b\",\"#d62728\",\"#ff7f0e\",\"#9467bd\",\"#1f77b4\",\"#2ca02c\",\"#d62728\",\"#8c564b\",\"#9467bd\",\"#9467bd\",\"#8c564b\",\"#9467bd\",\"#9467bd\",\"#d62728\",\"#d62728\",\"#8c564b\",\"#2ca02c\",\"#9467bd\",\"#1f77b4\",\"#1f77b4\",\"#9467bd\",\"#8c564b\",\"#2ca02c\",\"#d62728\",\"#8c564b\",\"#2ca02c\",\"#9467bd\",\"#9467bd\",\"#9467bd\",\"#d62728\",\"#8c564b\",\"#d62728\",\"#9467bd\",\"#9467bd\",\"#d62728\",\"#8c564b\",\"#1f77b4\",\"#2ca02c\",\"#1f77b4\",\"#2ca02c\",\"#ff7f0e\",\"#2ca02c\",\"#8c564b\",\"#2ca02c\",\"#8c564b\",\"#d62728\",\"#8c564b\",\"#1f77b4\",\"#2ca02c\",\"#d62728\",\"#d62728\",\"#1f77b4\",\"#2ca02c\",\"#d62728\",\"#d62728\",\"#d62728\",\"#d62728\",\"#1f77b4\",\"#9467bd\",\"#2ca02c\",\"#ff7f0e\",\"#d62728\",\"#1f77b4\",\"#1f77b4\",\"#1f77b4\",\"#8c564b\",\"#ff7f0e\",\"#1f77b4\",\"#d62728\",\"#2ca02c\",\"#1f77b4\",\"#2ca02c\",\"#1f77b4\",\"#d62728\",\"#1f77b4\",\"#ff7f0e\",\"#8c564b\",\"#8c564b\",\"#1f77b4\",\"#1f77b4\",\"#8c564b\",\"#2ca02c\",\"#1f77b4\",\"#8c564b\",\"#8c564b\",\"#1f77b4\",\"#d62728\",\"#d62728\",\"#9467bd\",\"#d62728\",\"#9467bd\",\"#9467bd\",\"#d62728\",\"#1f77b4\",\"#8c564b\",\"#2ca02c\",\"#d62728\",\"#1f77b4\",\"#2ca02c\",\"#1f77b4\",\"#1f77b4\",\"#d62728\",\"#8c564b\",\"#1f77b4\",\"#d62728\",\"#2ca02c\",\"#d62728\",\"#2ca02c\",\"#2ca02c\",\"#d62728\",\"#d62728\",\"#9467bd\",\"#1f77b4\",\"#2ca02c\",\"#9467bd\",\"#d62728\",\"#8c564b\",\"#9467bd\",\"#8c564b\",\"#9467bd\",\"#8c564b\",\"#1f77b4\",\"#2ca02c\",\"#2ca02c\",\"#2ca02c\",\"#8c564b\",\"#9467bd\",\"#8c564b\",\"#8c564b\",\"#ff7f0e\",\"#9467bd\",\"#2ca02c\",\"#d62728\",\"#d62728\",\"#d62728\",\"#8c564b\",\"#1f77b4\",\"#d62728\",\"#2ca02c\",\"#9467bd\",\"#2ca02c\",\"#2ca02c\",\"#9467bd\",\"#1f77b4\",\"#8c564b\",\"#d62728\",\"#d62728\",\"#2ca02c\",\"#9467bd\",\"#9467bd\",\"#8c564b\",\"#d62728\",\"#d62728\",\"#9467bd\",\"#8c564b\",\"#2ca02c\",\"#2ca02c\",\"#1f77b4\",\"#9467bd\",\"#d62728\",\"#1f77b4\",\"#2ca02c\",\"#2ca02c\",\"#d62728\",\"#1f77b4\",\"#d62728\",\"#2ca02c\",\"#d62728\",\"#2ca02c\",\"#d62728\",\"#8c564b\",\"#1f77b4\",\"#1f77b4\",\"#2ca02c\",\"#8c564b\",\"#8c564b\",\"#9467bd\",\"#8c564b\",\"#8c564b\",\"#9467bd\",\"#8c564b\",\"#2ca02c\",\"#d62728\",\"#8c564b\",\"#8c564b\",\"#1f77b4\",\"#2ca02c\",\"#8c564b\",\"#8c564b\",\"#8c564b\",\"#8c564b\",\"#d62728\",\"#8c564b\",\"#8c564b\",\"#1f77b4\",\"#d62728\",\"#1f77b4\",\"#9467bd\",\"#ff7f0e\",\"#9467bd\",\"#1f77b4\",\"#9467bd\",\"#1f77b4\",\"#2ca02c\",\"#1f77b4\",\"#d62728\",\"#8c564b\",\"#1f77b4\",\"#1f77b4\",\"#8c564b\",\"#8c564b\",\"#d62728\",\"#8c564b\",\"#d62728\",\"#d62728\",\"#2ca02c\",\"#1f77b4\",\"#9467bd\",\"#d62728\",\"#8c564b\",\"#1f77b4\",\"#1f77b4\",\"#d62728\",\"#d62728\",\"#d62728\",\"#d62728\",\"#d62728\",\"#1f77b4\",\"#8c564b\",\"#d62728\",\"#8c564b\",\"#d62728\",\"#8c564b\",\"#2ca02c\",\"#9467bd\",\"#9467bd\",\"#ff7f0e\",\"#8c564b\",\"#1f77b4\",\"#1f77b4\",\"#1f77b4\",\"#ff7f0e\",\"#2ca02c\",\"#d62728\",\"#9467bd\",\"#2ca02c\",\"#9467bd\",\"#9467bd\",\"#1f77b4\",\"#1f77b4\",\"#2ca02c\",\"#9467bd\",\"#ff7f0e\",\"#ff7f0e\",\"#9467bd\",\"#2ca02c\",\"#2ca02c\",\"#9467bd\",\"#1f77b4\",\"#d62728\",\"#2ca02c\",\"#2ca02c\",\"#d62728\",\"#1f77b4\",\"#9467bd\",\"#2ca02c\",\"#1f77b4\",\"#d62728\",\"#1f77b4\",\"#1f77b4\",\"#d62728\",\"#ff7f0e\",\"#8c564b\",\"#8c564b\",\"#d62728\",\"#2ca02c\",\"#ff7f0e\",\"#8c564b\",\"#1f77b4\",\"#2ca02c\",\"#9467bd\",\"#d62728\",\"#ff7f0e\",\"#9467bd\",\"#2ca02c\",\"#8c564b\",\"#9467bd\",\"#1f77b4\",\"#d62728\",\"#8c564b\",\"#9467bd\",\"#2ca02c\",\"#2ca02c\",\"#ff7f0e\",\"#1f77b4\",\"#d62728\",\"#9467bd\",\"#d62728\",\"#1f77b4\",\"#d62728\",\"#9467bd\",\"#d62728\",\"#1f77b4\",\"#ff7f0e\",\"#d62728\",\"#1f77b4\",\"#9467bd\",\"#9467bd\",\"#9467bd\",\"#d62728\",\"#2ca02c\",\"#d62728\",\"#9467bd\",\"#1f77b4\",\"#d62728\",\"#8c564b\",\"#d62728\",\"#9467bd\",\"#ff7f0e\",\"#2ca02c\",\"#1f77b4\",\"#1f77b4\",\"#9467bd\",\"#9467bd\",\"#9467bd\",\"#9467bd\",\"#2ca02c\",\"#2ca02c\",\"#1f77b4\",\"#ff7f0e\",\"#9467bd\",\"#9467bd\",\"#d62728\",\"#1f77b4\",\"#2ca02c\",\"#1f77b4\",\"#1f77b4\",\"#8c564b\",\"#d62728\",\"#9467bd\",\"#1f77b4\",\"#1f77b4\",\"#d62728\",\"#d62728\",\"#1f77b4\",\"#ff7f0e\",\"#ff7f0e\",\"#1f77b4\",\"#9467bd\",\"#9467bd\",\"#d62728\",\"#d62728\",\"#1f77b4\",\"#1f77b4\",\"#d62728\",\"#8c564b\",\"#1f77b4\",\"#1f77b4\",\"#ff7f0e\",\"#ff7f0e\",\"#ff7f0e\",\"#d62728\",\"#1f77b4\",\"#1f77b4\",\"#1f77b4\",\"#8c564b\",\"#9467bd\",\"#d62728\",\"#1f77b4\",\"#ff7f0e\",\"#9467bd\",\"#1f77b4\",\"#ff7f0e\",\"#8c564b\",\"#8c564b\",\"#1f77b4\",\"#2ca02c\",\"#8c564b\",\"#8c564b\",\"#2ca02c\",\"#9467bd\",\"#d62728\",\"#d62728\",\"#1f77b4\",\"#ff7f0e\",\"#d62728\",\"#9467bd\",\"#1f77b4\",\"#9467bd\",\"#1f77b4\",\"#9467bd\",\"#1f77b4\",\"#d62728\",\"#1f77b4\",\"#d62728\",\"#1f77b4\",\"#1f77b4\",\"#2ca02c\",\"#8c564b\",\"#9467bd\",\"#d62728\",\"#d62728\",\"#d62728\",\"#ff7f0e\",\"#d62728\",\"#d62728\",\"#8c564b\",\"#2ca02c\",\"#9467bd\",\"#1f77b4\",\"#1f77b4\",\"#9467bd\",\"#8c564b\",\"#2ca02c\",\"#ff7f0e\",\"#8c564b\",\"#1f77b4\",\"#8c564b\",\"#1f77b4\",\"#9467bd\",\"#9467bd\",\"#1f77b4\",\"#2ca02c\",\"#1f77b4\",\"#d62728\",\"#1f77b4\",\"#2ca02c\",\"#8c564b\",\"#d62728\",\"#1f77b4\",\"#d62728\",\"#d62728\",\"#1f77b4\",\"#9467bd\",\"#ff7f0e\",\"#8c564b\",\"#8c564b\",\"#1f77b4\",\"#8c564b\",\"#2ca02c\",\"#2ca02c\",\"#d62728\",\"#8c564b\",\"#8c564b\",\"#d62728\",\"#2ca02c\",\"#9467bd\",\"#1f77b4\",\"#8c564b\",\"#9467bd\",\"#d62728\",\"#1f77b4\",\"#2ca02c\",\"#9467bd\",\"#8c564b\",\"#1f77b4\",\"#d62728\",\"#1f77b4\",\"#2ca02c\",\"#8c564b\",\"#8c564b\",\"#d62728\",\"#8c564b\",\"#9467bd\",\"#9467bd\",\"#d62728\",\"#2ca02c\",\"#2ca02c\",\"#9467bd\",\"#1f77b4\",\"#2ca02c\",\"#d62728\",\"#8c564b\",\"#8c564b\",\"#1f77b4\",\"#1f77b4\",\"#9467bd\",\"#9467bd\",\"#1f77b4\",\"#8c564b\",\"#ff7f0e\",\"#d62728\",\"#8c564b\",\"#d62728\",\"#d62728\",\"#d62728\",\"#ff7f0e\",\"#d62728\",\"#8c564b\",\"#d62728\",\"#9467bd\",\"#9467bd\",\"#ff7f0e\",\"#2ca02c\",\"#8c564b\",\"#d62728\",\"#2ca02c\",\"#2ca02c\",\"#9467bd\",\"#1f77b4\",\"#9467bd\",\"#ff7f0e\",\"#8c564b\",\"#1f77b4\",\"#8c564b\",\"#d62728\",\"#d62728\",\"#8c564b\",\"#2ca02c\",\"#9467bd\",\"#1f77b4\",\"#ff7f0e\",\"#9467bd\",\"#d62728\",\"#1f77b4\",\"#2ca02c\",\"#2ca02c\",\"#2ca02c\",\"#2ca02c\",\"#2ca02c\",\"#9467bd\",\"#8c564b\",\"#9467bd\",\"#ff7f0e\",\"#ff7f0e\",\"#1f77b4\",\"#8c564b\",\"#d62728\",\"#8c564b\",\"#8c564b\",\"#1f77b4\",\"#2ca02c\",\"#1f77b4\",\"#9467bd\",\"#2ca02c\",\"#d62728\",\"#1f77b4\",\"#9467bd\",\"#9467bd\",\"#d62728\",\"#d62728\",\"#1f77b4\",\"#9467bd\",\"#9467bd\",\"#9467bd\",\"#9467bd\",\"#1f77b4\",\"#9467bd\",\"#1f77b4\",\"#ff7f0e\",\"#d62728\",\"#8c564b\",\"#2ca02c\",\"#ff7f0e\",\"#1f77b4\",\"#9467bd\",\"#2ca02c\",\"#2ca02c\",\"#8c564b\",\"#1f77b4\",\"#9467bd\",\"#2ca02c\",\"#1f77b4\",\"#d62728\",\"#1f77b4\",\"#9467bd\",\"#d62728\",\"#ff7f0e\",\"#9467bd\",\"#8c564b\",\"#1f77b4\",\"#8c564b\",\"#9467bd\",\"#1f77b4\",\"#1f77b4\",\"#8c564b\",\"#8c564b\",\"#1f77b4\",\"#9467bd\",\"#2ca02c\",\"#1f77b4\",\"#1f77b4\",\"#d62728\",\"#d62728\",\"#9467bd\",\"#d62728\",\"#2ca02c\",\"#d62728\",\"#2ca02c\",\"#9467bd\",\"#9467bd\",\"#1f77b4\",\"#1f77b4\",\"#9467bd\",\"#2ca02c\",\"#8c564b\",\"#d62728\",\"#ff7f0e\",\"#2ca02c\",\"#2ca02c\",\"#1f77b4\",\"#9467bd\",\"#ff7f0e\",\"#d62728\",\"#1f77b4\",\"#1f77b4\",\"#ff7f0e\",\"#2ca02c\",\"#d62728\",\"#2ca02c\",\"#2ca02c\",\"#2ca02c\",\"#1f77b4\",\"#d62728\",\"#d62728\",\"#8c564b\",\"#8c564b\",\"#d62728\",\"#9467bd\",\"#1f77b4\",\"#9467bd\",\"#1f77b4\",\"#d62728\",\"#8c564b\",\"#1f77b4\",\"#d62728\",\"#d62728\",\"#d62728\",\"#8c564b\",\"#8c564b\",\"#8c564b\",\"#d62728\",\"#1f77b4\",\"#1f77b4\",\"#8c564b\",\"#8c564b\",\"#d62728\",\"#8c564b\",\"#d62728\",\"#2ca02c\",\"#2ca02c\",\"#8c564b\",\"#ff7f0e\",\"#1f77b4\",\"#d62728\",\"#9467bd\",\"#d62728\",\"#9467bd\",\"#1f77b4\",\"#2ca02c\",\"#1f77b4\",\"#d62728\",\"#ff7f0e\",\"#ff7f0e\",\"#2ca02c\",\"#2ca02c\",\"#2ca02c\",\"#d62728\",\"#1f77b4\",\"#d62728\",\"#2ca02c\",\"#9467bd\",\"#2ca02c\",\"#ff7f0e\",\"#1f77b4\",\"#d62728\",\"#d62728\",\"#8c564b\",\"#d62728\",\"#d62728\",\"#2ca02c\",\"#8c564b\",\"#d62728\",\"#1f77b4\",\"#2ca02c\",\"#ff7f0e\",\"#9467bd\",\"#8c564b\",\"#d62728\",\"#d62728\",\"#8c564b\",\"#2ca02c\",\"#9467bd\",\"#8c564b\",\"#2ca02c\",\"#8c564b\",\"#1f77b4\",\"#ff7f0e\",\"#1f77b4\",\"#ff7f0e\",\"#d62728\",\"#9467bd\",\"#d62728\",\"#1f77b4\",\"#d62728\",\"#8c564b\",\"#2ca02c\",\"#1f77b4\",\"#9467bd\",\"#9467bd\",\"#ff7f0e\",\"#8c564b\",\"#2ca02c\",\"#ff7f0e\",\"#d62728\",\"#d62728\",\"#1f77b4\",\"#2ca02c\",\"#2ca02c\",\"#1f77b4\",\"#1f77b4\",\"#d62728\",\"#d62728\",\"#ff7f0e\",\"#8c564b\",\"#8c564b\",\"#1f77b4\",\"#2ca02c\",\"#d62728\",\"#1f77b4\",\"#d62728\",\"#8c564b\",\"#2ca02c\",\"#d62728\",\"#2ca02c\",\"#d62728\",\"#ff7f0e\",\"#d62728\",\"#2ca02c\",\"#d62728\",\"#d62728\",\"#1f77b4\",\"#8c564b\",\"#9467bd\",\"#2ca02c\",\"#9467bd\",\"#9467bd\",\"#d62728\",\"#d62728\",\"#8c564b\",\"#1f77b4\",\"#ff7f0e\",\"#1f77b4\",\"#1f77b4\",\"#2ca02c\",\"#1f77b4\",\"#1f77b4\",\"#d62728\",\"#8c564b\",\"#1f77b4\",\"#1f77b4\",\"#d62728\",\"#1f77b4\",\"#8c564b\",\"#9467bd\",\"#2ca02c\",\"#d62728\",\"#9467bd\",\"#1f77b4\",\"#1f77b4\",\"#9467bd\",\"#2ca02c\",\"#1f77b4\",\"#d62728\",\"#8c564b\",\"#d62728\",\"#2ca02c\",\"#1f77b4\",\"#ff7f0e\",\"#2ca02c\",\"#ff7f0e\",\"#2ca02c\",\"#d62728\",\"#9467bd\",\"#1f77b4\",\"#8c564b\",\"#8c564b\",\"#9467bd\",\"#d62728\",\"#1f77b4\",\"#8c564b\",\"#2ca02c\",\"#1f77b4\",\"#1f77b4\",\"#9467bd\",\"#8c564b\",\"#d62728\",\"#1f77b4\",\"#8c564b\",\"#1f77b4\",\"#8c564b\",\"#9467bd\",\"#1f77b4\",\"#9467bd\",\"#2ca02c\",\"#8c564b\",\"#9467bd\",\"#8c564b\",\"#d62728\",\"#d62728\",\"#8c564b\",\"#d62728\",\"#2ca02c\",\"#8c564b\",\"#1f77b4\",\"#ff7f0e\",\"#d62728\",\"#1f77b4\",\"#1f77b4\",\"#1f77b4\",\"#d62728\",\"#1f77b4\",\"#8c564b\",\"#8c564b\",\"#8c564b\",\"#2ca02c\",\"#d62728\",\"#9467bd\",\"#9467bd\",\"#d62728\",\"#9467bd\",\"#1f77b4\",\"#d62728\",\"#8c564b\",\"#d62728\",\"#1f77b4\",\"#8c564b\",\"#1f77b4\",\"#8c564b\",\"#1f77b4\",\"#2ca02c\",\"#9467bd\",\"#d62728\",\"#1f77b4\",\"#d62728\",\"#d62728\",\"#ff7f0e\",\"#ff7f0e\",\"#d62728\",\"#2ca02c\",\"#1f77b4\",\"#1f77b4\",\"#d62728\",\"#d62728\",\"#1f77b4\",\"#2ca02c\",\"#8c564b\",\"#d62728\",\"#ff7f0e\",\"#9467bd\",\"#1f77b4\",\"#9467bd\",\"#1f77b4\",\"#d62728\",\"#ff7f0e\",\"#2ca02c\",\"#1f77b4\",\"#2ca02c\",\"#9467bd\",\"#d62728\",\"#d62728\",\"#1f77b4\",\"#d62728\",\"#2ca02c\",\"#9467bd\",\"#d62728\",\"#1f77b4\",\"#1f77b4\",\"#d62728\",\"#1f77b4\",\"#1f77b4\",\"#d62728\",\"#9467bd\",\"#1f77b4\",\"#9467bd\",\"#9467bd\",\"#1f77b4\",\"#d62728\",\"#8c564b\",\"#2ca02c\",\"#8c564b\",\"#9467bd\",\"#8c564b\",\"#9467bd\",\"#1f77b4\",\"#8c564b\",\"#9467bd\",\"#8c564b\",\"#d62728\",\"#d62728\",\"#d62728\",\"#ff7f0e\",\"#d62728\",\"#8c564b\",\"#ff7f0e\",\"#2ca02c\",\"#d62728\",\"#d62728\",\"#9467bd\",\"#2ca02c\",\"#1f77b4\",\"#9467bd\",\"#1f77b4\",\"#1f77b4\",\"#9467bd\",\"#ff7f0e\",\"#9467bd\",\"#2ca02c\",\"#1f77b4\",\"#d62728\",\"#d62728\",\"#2ca02c\",\"#8c564b\",\"#9467bd\",\"#d62728\",\"#d62728\",\"#2ca02c\",\"#1f77b4\",\"#d62728\",\"#9467bd\",\"#d62728\",\"#1f77b4\",\"#ff7f0e\",\"#d62728\",\"#9467bd\",\"#8c564b\",\"#d62728\",\"#1f77b4\",\"#9467bd\",\"#ff7f0e\",\"#d62728\",\"#1f77b4\",\"#d62728\",\"#8c564b\",\"#d62728\",\"#8c564b\",\"#1f77b4\",\"#9467bd\",\"#ff7f0e\",\"#8c564b\",\"#1f77b4\",\"#9467bd\",\"#ff7f0e\",\"#ff7f0e\",\"#1f77b4\",\"#d62728\",\"#d62728\",\"#d62728\",\"#1f77b4\",\"#9467bd\",\"#1f77b4\",\"#8c564b\",\"#8c564b\",\"#8c564b\",\"#d62728\",\"#9467bd\",\"#8c564b\",\"#1f77b4\",\"#2ca02c\",\"#2ca02c\",\"#d62728\",\"#8c564b\",\"#8c564b\",\"#2ca02c\",\"#1f77b4\",\"#d62728\",\"#9467bd\",\"#8c564b\",\"#2ca02c\",\"#ff7f0e\",\"#ff7f0e\",\"#1f77b4\",\"#d62728\",\"#d62728\",\"#1f77b4\",\"#8c564b\",\"#2ca02c\",\"#9467bd\",\"#ff7f0e\",\"#1f77b4\",\"#d62728\",\"#9467bd\",\"#d62728\",\"#d62728\",\"#9467bd\",\"#1f77b4\",\"#d62728\",\"#d62728\",\"#8c564b\",\"#8c564b\",\"#9467bd\",\"#d62728\",\"#8c564b\",\"#2ca02c\",\"#d62728\",\"#d62728\",\"#2ca02c\",\"#ff7f0e\",\"#9467bd\",\"#9467bd\",\"#8c564b\",\"#d62728\",\"#8c564b\",\"#9467bd\",\"#2ca02c\",\"#d62728\",\"#9467bd\",\"#2ca02c\",\"#d62728\",\"#1f77b4\",\"#8c564b\",\"#9467bd\",\"#d62728\",\"#1f77b4\",\"#ff7f0e\",\"#9467bd\",\"#ff7f0e\",\"#9467bd\",\"#9467bd\",\"#8c564b\",\"#2ca02c\",\"#1f77b4\",\"#ff7f0e\",\"#9467bd\",\"#2ca02c\",\"#2ca02c\",\"#9467bd\",\"#2ca02c\",\"#9467bd\",\"#8c564b\",\"#1f77b4\",\"#d62728\",\"#1f77b4\",\"#9467bd\",\"#d62728\",\"#1f77b4\",\"#1f77b4\",\"#8c564b\",\"#8c564b\",\"#8c564b\",\"#d62728\",\"#ff7f0e\",\"#8c564b\",\"#d62728\",\"#1f77b4\",\"#ff7f0e\",\"#1f77b4\",\"#d62728\",\"#9467bd\",\"#9467bd\",\"#8c564b\",\"#1f77b4\",\"#2ca02c\",\"#2ca02c\",\"#d62728\",\"#8c564b\",\"#2ca02c\",\"#d62728\",\"#9467bd\",\"#8c564b\",\"#1f77b4\",\"#d62728\",\"#2ca02c\",\"#d62728\",\"#1f77b4\",\"#1f77b4\",\"#2ca02c\",\"#d62728\",\"#1f77b4\",\"#9467bd\",\"#8c564b\",\"#2ca02c\",\"#d62728\",\"#d62728\",\"#d62728\",\"#ff7f0e\",\"#9467bd\",\"#d62728\",\"#ff7f0e\",\"#d62728\",\"#1f77b4\",\"#9467bd\",\"#8c564b\",\"#1f77b4\",\"#1f77b4\",\"#d62728\",\"#8c564b\",\"#9467bd\",\"#9467bd\",\"#1f77b4\",\"#ff7f0e\",\"#ff7f0e\",\"#8c564b\",\"#2ca02c\",\"#2ca02c\",\"#d62728\",\"#8c564b\",\"#d62728\",\"#8c564b\",\"#ff7f0e\",\"#d62728\",\"#9467bd\",\"#9467bd\",\"#2ca02c\",\"#ff7f0e\",\"#1f77b4\",\"#8c564b\",\"#1f77b4\",\"#8c564b\",\"#d62728\",\"#2ca02c\",\"#8c564b\",\"#d62728\",\"#9467bd\",\"#1f77b4\",\"#d62728\",\"#1f77b4\",\"#2ca02c\",\"#8c564b\",\"#ff7f0e\",\"#8c564b\",\"#d62728\",\"#2ca02c\",\"#d62728\",\"#2ca02c\",\"#d62728\",\"#8c564b\",\"#ff7f0e\",\"#8c564b\",\"#2ca02c\",\"#d62728\",\"#9467bd\",\"#2ca02c\",\"#d62728\",\"#8c564b\",\"#9467bd\",\"#d62728\",\"#d62728\",\"#ff7f0e\",\"#8c564b\",\"#1f77b4\",\"#1f77b4\",\"#9467bd\",\"#1f77b4\",\"#2ca02c\",\"#1f77b4\",\"#9467bd\",\"#9467bd\",\"#8c564b\",\"#1f77b4\",\"#9467bd\",\"#9467bd\",\"#d62728\",\"#2ca02c\",\"#8c564b\",\"#ff7f0e\",\"#8c564b\",\"#1f77b4\",\"#8c564b\",\"#1f77b4\",\"#d62728\",\"#ff7f0e\",\"#2ca02c\",\"#d62728\",\"#d62728\",\"#8c564b\",\"#ff7f0e\",\"#8c564b\",\"#d62728\",\"#1f77b4\",\"#8c564b\",\"#8c564b\",\"#2ca02c\",\"#d62728\",\"#d62728\",\"#2ca02c\",\"#9467bd\",\"#2ca02c\",\"#9467bd\",\"#1f77b4\",\"#1f77b4\",\"#1f77b4\",\"#1f77b4\",\"#8c564b\",\"#1f77b4\",\"#1f77b4\",\"#9467bd\",\"#ff7f0e\",\"#8c564b\",\"#1f77b4\",\"#ff7f0e\",\"#d62728\",\"#d62728\",\"#9467bd\",\"#1f77b4\",\"#2ca02c\",\"#2ca02c\",\"#2ca02c\",\"#d62728\",\"#8c564b\",\"#ff7f0e\",\"#1f77b4\",\"#d62728\",\"#9467bd\",\"#d62728\",\"#8c564b\",\"#2ca02c\",\"#9467bd\",\"#1f77b4\",\"#9467bd\",\"#d62728\",\"#9467bd\",\"#9467bd\",\"#d62728\",\"#d62728\",\"#d62728\",\"#d62728\",\"#9467bd\",\"#8c564b\",\"#9467bd\",\"#d62728\",\"#9467bd\",\"#d62728\",\"#d62728\",\"#ff7f0e\",\"#2ca02c\",\"#d62728\",\"#8c564b\",\"#8c564b\",\"#d62728\",\"#2ca02c\",\"#9467bd\",\"#2ca02c\",\"#8c564b\",\"#d62728\",\"#d62728\",\"#1f77b4\",\"#1f77b4\",\"#d62728\",\"#2ca02c\",\"#d62728\",\"#d62728\",\"#d62728\",\"#ff7f0e\",\"#8c564b\",\"#d62728\",\"#2ca02c\",\"#9467bd\",\"#2ca02c\",\"#1f77b4\",\"#ff7f0e\",\"#1f77b4\",\"#d62728\",\"#ff7f0e\",\"#2ca02c\",\"#d62728\",\"#d62728\",\"#9467bd\",\"#1f77b4\",\"#d62728\",\"#1f77b4\",\"#1f77b4\",\"#ff7f0e\",\"#8c564b\",\"#d62728\",\"#d62728\",\"#d62728\",\"#2ca02c\",\"#9467bd\",\"#8c564b\",\"#1f77b4\",\"#1f77b4\",\"#d62728\",\"#ff7f0e\",\"#2ca02c\",\"#d62728\",\"#d62728\",\"#8c564b\",\"#9467bd\",\"#1f77b4\",\"#d62728\",\"#d62728\",\"#8c564b\",\"#1f77b4\",\"#1f77b4\",\"#1f77b4\",\"#ff7f0e\",\"#2ca02c\",\"#2ca02c\",\"#ff7f0e\",\"#1f77b4\",\"#ff7f0e\",\"#d62728\",\"#9467bd\",\"#2ca02c\",\"#ff7f0e\",\"#d62728\",\"#9467bd\",\"#2ca02c\",\"#2ca02c\",\"#ff7f0e\",\"#2ca02c\",\"#1f77b4\",\"#d62728\",\"#d62728\",\"#d62728\",\"#9467bd\",\"#ff7f0e\",\"#9467bd\",\"#d62728\",\"#1f77b4\",\"#8c564b\",\"#1f77b4\",\"#ff7f0e\",\"#9467bd\",\"#2ca02c\",\"#1f77b4\",\"#9467bd\",\"#2ca02c\",\"#d62728\",\"#1f77b4\",\"#9467bd\",\"#2ca02c\",\"#9467bd\",\"#2ca02c\",\"#9467bd\",\"#2ca02c\",\"#d62728\",\"#1f77b4\",\"#8c564b\",\"#2ca02c\",\"#1f77b4\",\"#1f77b4\",\"#9467bd\",\"#2ca02c\",\"#8c564b\",\"#1f77b4\",\"#2ca02c\",\"#1f77b4\",\"#8c564b\",\"#2ca02c\",\"#1f77b4\",\"#ff7f0e\",\"#d62728\",\"#2ca02c\",\"#1f77b4\",\"#d62728\",\"#9467bd\",\"#1f77b4\",\"#2ca02c\",\"#8c564b\",\"#d62728\",\"#9467bd\",\"#d62728\",\"#9467bd\",\"#9467bd\",\"#1f77b4\",\"#2ca02c\",\"#d62728\",\"#1f77b4\",\"#d62728\",\"#1f77b4\",\"#2ca02c\",\"#1f77b4\",\"#1f77b4\",\"#d62728\",\"#2ca02c\",\"#9467bd\",\"#9467bd\",\"#1f77b4\",\"#ff7f0e\",\"#1f77b4\",\"#8c564b\",\"#d62728\",\"#d62728\",\"#2ca02c\",\"#2ca02c\",\"#ff7f0e\",\"#8c564b\",\"#9467bd\",\"#d62728\",\"#ff7f0e\",\"#d62728\",\"#1f77b4\",\"#8c564b\",\"#9467bd\",\"#1f77b4\",\"#d62728\",\"#8c564b\",\"#1f77b4\",\"#1f77b4\",\"#9467bd\",\"#8c564b\",\"#2ca02c\",\"#9467bd\",\"#1f77b4\",\"#1f77b4\",\"#8c564b\",\"#d62728\",\"#9467bd\",\"#1f77b4\",\"#2ca02c\",\"#1f77b4\",\"#1f77b4\",\"#1f77b4\",\"#ff7f0e\",\"#8c564b\",\"#2ca02c\",\"#d62728\",\"#2ca02c\",\"#9467bd\",\"#1f77b4\",\"#1f77b4\",\"#1f77b4\",\"#1f77b4\",\"#d62728\",\"#d62728\",\"#8c564b\",\"#1f77b4\",\"#9467bd\",\"#1f77b4\",\"#2ca02c\",\"#8c564b\",\"#ff7f0e\",\"#d62728\",\"#9467bd\",\"#d62728\",\"#1f77b4\",\"#1f77b4\",\"#9467bd\",\"#d62728\",\"#d62728\",\"#8c564b\",\"#8c564b\",\"#1f77b4\",\"#1f77b4\",\"#d62728\",\"#ff7f0e\",\"#2ca02c\",\"#8c564b\",\"#2ca02c\",\"#8c564b\",\"#2ca02c\",\"#8c564b\",\"#2ca02c\",\"#d62728\",\"#d62728\",\"#1f77b4\",\"#d62728\",\"#1f77b4\",\"#9467bd\",\"#9467bd\",\"#2ca02c\",\"#d62728\",\"#1f77b4\",\"#8c564b\",\"#9467bd\",\"#1f77b4\",\"#1f77b4\",\"#1f77b4\",\"#1f77b4\",\"#8c564b\",\"#1f77b4\",\"#1f77b4\",\"#2ca02c\",\"#8c564b\",\"#2ca02c\",\"#2ca02c\",\"#8c564b\",\"#2ca02c\",\"#1f77b4\",\"#1f77b4\",\"#9467bd\",\"#1f77b4\",\"#1f77b4\",\"#ff7f0e\",\"#2ca02c\",\"#ff7f0e\",\"#d62728\",\"#1f77b4\",\"#8c564b\",\"#ff7f0e\",\"#1f77b4\",\"#d62728\",\"#d62728\",\"#8c564b\",\"#8c564b\",\"#d62728\",\"#ff7f0e\",\"#1f77b4\",\"#1f77b4\",\"#2ca02c\",\"#d62728\",\"#1f77b4\",\"#8c564b\",\"#9467bd\",\"#8c564b\",\"#2ca02c\",\"#1f77b4\",\"#ff7f0e\",\"#1f77b4\",\"#d62728\",\"#2ca02c\",\"#9467bd\",\"#1f77b4\",\"#9467bd\",\"#8c564b\",\"#d62728\",\"#2ca02c\",\"#ff7f0e\",\"#1f77b4\",\"#1f77b4\",\"#d62728\",\"#d62728\",\"#9467bd\",\"#d62728\",\"#d62728\",\"#1f77b4\",\"#ff7f0e\",\"#d62728\",\"#d62728\",\"#2ca02c\",\"#d62728\",\"#8c564b\",\"#d62728\",\"#2ca02c\",\"#9467bd\",\"#1f77b4\",\"#1f77b4\",\"#1f77b4\",\"#1f77b4\",\"#2ca02c\",\"#9467bd\",\"#d62728\",\"#d62728\",\"#8c564b\",\"#9467bd\",\"#2ca02c\",\"#d62728\",\"#d62728\",\"#2ca02c\",\"#d62728\",\"#d62728\",\"#1f77b4\",\"#ff7f0e\",\"#2ca02c\",\"#9467bd\",\"#2ca02c\",\"#9467bd\",\"#2ca02c\",\"#9467bd\",\"#2ca02c\",\"#ff7f0e\",\"#9467bd\",\"#9467bd\",\"#8c564b\",\"#d62728\",\"#d62728\",\"#1f77b4\",\"#9467bd\",\"#9467bd\",\"#8c564b\",\"#8c564b\",\"#d62728\",\"#d62728\",\"#8c564b\",\"#1f77b4\",\"#d62728\",\"#8c564b\",\"#d62728\",\"#9467bd\",\"#2ca02c\",\"#ff7f0e\",\"#9467bd\",\"#2ca02c\",\"#8c564b\",\"#8c564b\",\"#1f77b4\",\"#8c564b\",\"#2ca02c\",\"#2ca02c\",\"#8c564b\",\"#d62728\",\"#1f77b4\",\"#1f77b4\",\"#2ca02c\",\"#2ca02c\",\"#1f77b4\",\"#d62728\",\"#9467bd\",\"#1f77b4\",\"#d62728\",\"#d62728\",\"#9467bd\",\"#1f77b4\",\"#d62728\",\"#ff7f0e\",\"#d62728\",\"#2ca02c\",\"#1f77b4\",\"#1f77b4\",\"#2ca02c\",\"#d62728\",\"#1f77b4\",\"#8c564b\",\"#9467bd\",\"#d62728\",\"#2ca02c\",\"#1f77b4\",\"#d62728\",\"#1f77b4\",\"#8c564b\",\"#d62728\",\"#8c564b\",\"#1f77b4\",\"#ff7f0e\",\"#9467bd\",\"#8c564b\",\"#9467bd\",\"#1f77b4\",\"#2ca02c\",\"#9467bd\",\"#ff7f0e\",\"#d62728\",\"#ff7f0e\",\"#1f77b4\",\"#8c564b\",\"#9467bd\",\"#d62728\",\"#d62728\",\"#d62728\",\"#d62728\",\"#d62728\",\"#8c564b\",\"#1f77b4\",\"#1f77b4\",\"#8c564b\",\"#9467bd\",\"#2ca02c\",\"#1f77b4\",\"#ff7f0e\",\"#8c564b\",\"#ff7f0e\",\"#8c564b\",\"#8c564b\",\"#8c564b\",\"#1f77b4\",\"#1f77b4\",\"#d62728\",\"#1f77b4\",\"#d62728\",\"#8c564b\",\"#1f77b4\",\"#1f77b4\",\"#8c564b\",\"#d62728\",\"#1f77b4\",\"#d62728\",\"#8c564b\",\"#1f77b4\",\"#d62728\",\"#1f77b4\",\"#ff7f0e\",\"#2ca02c\",\"#d62728\",\"#1f77b4\",\"#9467bd\",\"#1f77b4\",\"#1f77b4\",\"#d62728\",\"#8c564b\",\"#1f77b4\",\"#d62728\",\"#d62728\",\"#d62728\",\"#d62728\",\"#8c564b\",\"#2ca02c\",\"#ff7f0e\",\"#1f77b4\",\"#d62728\",\"#1f77b4\",\"#9467bd\",\"#9467bd\",\"#8c564b\",\"#1f77b4\",\"#d62728\",\"#1f77b4\",\"#9467bd\",\"#1f77b4\",\"#d62728\",\"#ff7f0e\",\"#1f77b4\",\"#1f77b4\",\"#d62728\",\"#d62728\",\"#1f77b4\",\"#8c564b\",\"#d62728\",\"#2ca02c\",\"#8c564b\",\"#d62728\",\"#d62728\",\"#8c564b\",\"#2ca02c\",\"#9467bd\",\"#1f77b4\",\"#d62728\",\"#9467bd\",\"#ff7f0e\",\"#d62728\",\"#8c564b\",\"#d62728\",\"#d62728\",\"#8c564b\",\"#d62728\",\"#8c564b\",\"#8c564b\",\"#d62728\",\"#1f77b4\",\"#8c564b\",\"#1f77b4\",\"#1f77b4\",\"#8c564b\",\"#8c564b\",\"#ff7f0e\",\"#d62728\",\"#9467bd\",\"#1f77b4\",\"#8c564b\",\"#2ca02c\",\"#8c564b\",\"#1f77b4\",\"#ff7f0e\",\"#1f77b4\",\"#9467bd\",\"#9467bd\",\"#d62728\",\"#8c564b\",\"#d62728\",\"#8c564b\",\"#9467bd\",\"#9467bd\",\"#9467bd\",\"#8c564b\",\"#1f77b4\",\"#ff7f0e\",\"#d62728\",\"#8c564b\",\"#d62728\",\"#8c564b\",\"#8c564b\",\"#1f77b4\",\"#8c564b\",\"#1f77b4\",\"#2ca02c\",\"#9467bd\",\"#2ca02c\",\"#9467bd\",\"#8c564b\",\"#1f77b4\",\"#8c564b\",\"#1f77b4\",\"#8c564b\",\"#d62728\",\"#1f77b4\",\"#2ca02c\",\"#8c564b\",\"#d62728\",\"#1f77b4\",\"#9467bd\",\"#1f77b4\",\"#1f77b4\",\"#ff7f0e\",\"#9467bd\",\"#2ca02c\",\"#1f77b4\",\"#9467bd\",\"#2ca02c\",\"#d62728\",\"#ff7f0e\",\"#1f77b4\",\"#d62728\",\"#d62728\",\"#2ca02c\",\"#8c564b\",\"#d62728\",\"#1f77b4\",\"#2ca02c\",\"#ff7f0e\",\"#ff7f0e\",\"#1f77b4\",\"#8c564b\",\"#d62728\",\"#2ca02c\",\"#2ca02c\",\"#1f77b4\",\"#8c564b\",\"#9467bd\",\"#d62728\",\"#8c564b\",\"#9467bd\",\"#2ca02c\",\"#8c564b\",\"#8c564b\",\"#2ca02c\",\"#d62728\",\"#1f77b4\",\"#8c564b\",\"#1f77b4\",\"#d62728\",\"#d62728\",\"#1f77b4\",\"#1f77b4\",\"#d62728\",\"#8c564b\",\"#1f77b4\",\"#d62728\",\"#1f77b4\",\"#1f77b4\",\"#2ca02c\",\"#9467bd\",\"#d62728\",\"#1f77b4\",\"#d62728\",\"#9467bd\",\"#8c564b\",\"#1f77b4\",\"#d62728\",\"#1f77b4\",\"#d62728\",\"#2ca02c\",\"#2ca02c\",\"#9467bd\",\"#d62728\",\"#8c564b\",\"#2ca02c\",\"#1f77b4\",\"#d62728\",\"#ff7f0e\",\"#9467bd\",\"#2ca02c\",\"#d62728\",\"#8c564b\",\"#2ca02c\",\"#2ca02c\",\"#d62728\",\"#8c564b\",\"#2ca02c\",\"#9467bd\",\"#2ca02c\",\"#d62728\",\"#1f77b4\",\"#d62728\",\"#ff7f0e\",\"#1f77b4\",\"#1f77b4\",\"#1f77b4\",\"#9467bd\",\"#1f77b4\",\"#2ca02c\",\"#d62728\",\"#8c564b\",\"#9467bd\",\"#1f77b4\",\"#8c564b\",\"#8c564b\",\"#d62728\",\"#2ca02c\",\"#2ca02c\",\"#1f77b4\",\"#8c564b\",\"#d62728\",\"#8c564b\",\"#2ca02c\",\"#d62728\",\"#8c564b\",\"#9467bd\",\"#2ca02c\",\"#1f77b4\",\"#8c564b\",\"#d62728\",\"#d62728\",\"#1f77b4\",\"#1f77b4\",\"#9467bd\",\"#d62728\",\"#1f77b4\",\"#2ca02c\",\"#ff7f0e\",\"#1f77b4\",\"#d62728\",\"#d62728\",\"#1f77b4\",\"#1f77b4\",\"#8c564b\",\"#1f77b4\",\"#1f77b4\",\"#d62728\",\"#9467bd\",\"#9467bd\",\"#ff7f0e\",\"#8c564b\",\"#9467bd\",\"#1f77b4\",\"#9467bd\",\"#ff7f0e\",\"#1f77b4\",\"#ff7f0e\",\"#1f77b4\",\"#d62728\",\"#8c564b\",\"#d62728\",\"#d62728\",\"#d62728\",\"#d62728\",\"#d62728\",\"#9467bd\",\"#9467bd\",\"#d62728\",\"#2ca02c\",\"#d62728\",\"#8c564b\",\"#d62728\",\"#ff7f0e\",\"#8c564b\",\"#9467bd\",\"#2ca02c\",\"#2ca02c\",\"#d62728\",\"#8c564b\",\"#d62728\",\"#d62728\",\"#9467bd\",\"#d62728\",\"#ff7f0e\",\"#ff7f0e\",\"#1f77b4\",\"#1f77b4\",\"#9467bd\",\"#8c564b\",\"#2ca02c\",\"#d62728\",\"#d62728\",\"#ff7f0e\",\"#d62728\",\"#1f77b4\",\"#8c564b\",\"#9467bd\",\"#8c564b\",\"#8c564b\",\"#8c564b\",\"#9467bd\",\"#d62728\",\"#d62728\",\"#ff7f0e\",\"#1f77b4\",\"#1f77b4\",\"#2ca02c\",\"#1f77b4\",\"#d62728\",\"#ff7f0e\",\"#9467bd\",\"#1f77b4\",\"#8c564b\",\"#d62728\",\"#8c564b\",\"#8c564b\",\"#d62728\",\"#1f77b4\",\"#2ca02c\",\"#1f77b4\",\"#ff7f0e\",\"#9467bd\",\"#2ca02c\",\"#1f77b4\",\"#1f77b4\",\"#1f77b4\",\"#d62728\",\"#d62728\",\"#2ca02c\",\"#2ca02c\",\"#2ca02c\",\"#d62728\",\"#8c564b\",\"#1f77b4\",\"#d62728\",\"#1f77b4\",\"#8c564b\",\"#8c564b\",\"#9467bd\",\"#1f77b4\",\"#1f77b4\",\"#1f77b4\",\"#8c564b\",\"#d62728\",\"#d62728\",\"#9467bd\",\"#8c564b\",\"#d62728\",\"#d62728\",\"#8c564b\",\"#1f77b4\",\"#d62728\",\"#d62728\",\"#2ca02c\",\"#d62728\",\"#8c564b\",\"#8c564b\",\"#1f77b4\",\"#2ca02c\",\"#2ca02c\",\"#1f77b4\",\"#8c564b\",\"#2ca02c\",\"#8c564b\",\"#d62728\",\"#ff7f0e\",\"#d62728\",\"#ff7f0e\",\"#1f77b4\",\"#1f77b4\",\"#8c564b\",\"#1f77b4\",\"#9467bd\",\"#9467bd\",\"#8c564b\",\"#8c564b\",\"#d62728\",\"#2ca02c\",\"#d62728\",\"#1f77b4\",\"#1f77b4\",\"#9467bd\",\"#1f77b4\",\"#8c564b\",\"#9467bd\",\"#8c564b\",\"#8c564b\",\"#d62728\",\"#8c564b\",\"#2ca02c\",\"#8c564b\",\"#d62728\",\"#9467bd\",\"#8c564b\",\"#d62728\",\"#2ca02c\",\"#1f77b4\",\"#2ca02c\",\"#1f77b4\",\"#2ca02c\",\"#1f77b4\",\"#d62728\",\"#1f77b4\",\"#1f77b4\",\"#2ca02c\",\"#d62728\",\"#d62728\",\"#1f77b4\",\"#9467bd\",\"#8c564b\",\"#1f77b4\",\"#1f77b4\",\"#1f77b4\",\"#d62728\",\"#8c564b\",\"#ff7f0e\",\"#1f77b4\",\"#9467bd\",\"#2ca02c\",\"#d62728\",\"#1f77b4\",\"#d62728\",\"#2ca02c\",\"#d62728\",\"#1f77b4\",\"#2ca02c\",\"#d62728\",\"#1f77b4\",\"#8c564b\",\"#8c564b\",\"#9467bd\",\"#ff7f0e\",\"#1f77b4\",\"#d62728\",\"#8c564b\",\"#d62728\",\"#1f77b4\",\"#d62728\",\"#8c564b\",\"#8c564b\",\"#8c564b\",\"#9467bd\",\"#d62728\",\"#8c564b\",\"#ff7f0e\",\"#8c564b\",\"#1f77b4\",\"#1f77b4\",\"#ff7f0e\",\"#1f77b4\",\"#8c564b\",\"#d62728\",\"#1f77b4\",\"#1f77b4\",\"#1f77b4\",\"#d62728\",\"#1f77b4\",\"#d62728\",\"#d62728\",\"#ff7f0e\",\"#2ca02c\",\"#1f77b4\",\"#ff7f0e\",\"#8c564b\",\"#9467bd\",\"#2ca02c\",\"#1f77b4\",\"#2ca02c\",\"#8c564b\",\"#d62728\",\"#1f77b4\",\"#1f77b4\",\"#8c564b\",\"#9467bd\",\"#ff7f0e\",\"#d62728\",\"#1f77b4\",\"#8c564b\",\"#d62728\",\"#1f77b4\",\"#2ca02c\",\"#8c564b\",\"#9467bd\",\"#9467bd\",\"#8c564b\",\"#8c564b\",\"#9467bd\",\"#1f77b4\",\"#9467bd\",\"#8c564b\",\"#1f77b4\",\"#d62728\",\"#1f77b4\",\"#9467bd\",\"#9467bd\",\"#d62728\",\"#8c564b\",\"#ff7f0e\",\"#d62728\",\"#d62728\",\"#2ca02c\",\"#8c564b\",\"#9467bd\",\"#9467bd\",\"#1f77b4\",\"#8c564b\",\"#1f77b4\",\"#ff7f0e\",\"#1f77b4\",\"#d62728\",\"#d62728\",\"#2ca02c\",\"#8c564b\",\"#d62728\",\"#2ca02c\",\"#d62728\",\"#9467bd\",\"#1f77b4\",\"#2ca02c\",\"#d62728\",\"#1f77b4\",\"#d62728\",\"#2ca02c\",\"#8c564b\",\"#1f77b4\",\"#d62728\",\"#1f77b4\",\"#8c564b\",\"#2ca02c\",\"#9467bd\",\"#ff7f0e\",\"#2ca02c\",\"#1f77b4\",\"#9467bd\",\"#8c564b\",\"#9467bd\",\"#8c564b\",\"#d62728\",\"#d62728\",\"#2ca02c\",\"#8c564b\",\"#9467bd\",\"#1f77b4\",\"#1f77b4\",\"#9467bd\",\"#ff7f0e\",\"#d62728\",\"#1f77b4\",\"#2ca02c\",\"#1f77b4\",\"#8c564b\",\"#d62728\",\"#d62728\",\"#d62728\",\"#1f77b4\",\"#1f77b4\",\"#ff7f0e\",\"#1f77b4\",\"#2ca02c\",\"#2ca02c\",\"#d62728\",\"#1f77b4\",\"#2ca02c\",\"#ff7f0e\",\"#d62728\",\"#d62728\",\"#ff7f0e\",\"#2ca02c\",\"#1f77b4\",\"#d62728\",\"#9467bd\",\"#9467bd\",\"#8c564b\",\"#2ca02c\",\"#d62728\",\"#9467bd\",\"#9467bd\",\"#9467bd\",\"#1f77b4\",\"#d62728\",\"#1f77b4\",\"#1f77b4\",\"#1f77b4\",\"#d62728\",\"#8c564b\",\"#9467bd\",\"#d62728\",\"#d62728\",\"#8c564b\",\"#1f77b4\",\"#9467bd\",\"#9467bd\",\"#2ca02c\",\"#d62728\",\"#ff7f0e\",\"#ff7f0e\",\"#1f77b4\",\"#9467bd\",\"#1f77b4\",\"#2ca02c\",\"#2ca02c\",\"#8c564b\",\"#2ca02c\",\"#8c564b\",\"#8c564b\",\"#d62728\",\"#1f77b4\",\"#d62728\",\"#ff7f0e\",\"#8c564b\",\"#1f77b4\",\"#9467bd\",\"#2ca02c\",\"#8c564b\",\"#1f77b4\",\"#8c564b\",\"#d62728\",\"#1f77b4\",\"#2ca02c\",\"#d62728\",\"#9467bd\",\"#9467bd\",\"#8c564b\",\"#d62728\",\"#d62728\",\"#8c564b\",\"#1f77b4\",\"#1f77b4\",\"#ff7f0e\",\"#9467bd\",\"#1f77b4\",\"#d62728\",\"#d62728\",\"#1f77b4\",\"#ff7f0e\",\"#1f77b4\",\"#ff7f0e\",\"#8c564b\",\"#2ca02c\",\"#2ca02c\",\"#2ca02c\",\"#2ca02c\",\"#1f77b4\",\"#9467bd\",\"#d62728\",\"#1f77b4\",\"#d62728\",\"#9467bd\",\"#8c564b\",\"#1f77b4\",\"#d62728\",\"#1f77b4\",\"#2ca02c\",\"#1f77b4\",\"#2ca02c\",\"#d62728\",\"#d62728\",\"#1f77b4\",\"#1f77b4\",\"#d62728\",\"#d62728\",\"#d62728\",\"#d62728\",\"#d62728\",\"#ff7f0e\",\"#8c564b\",\"#9467bd\",\"#1f77b4\",\"#1f77b4\",\"#1f77b4\",\"#2ca02c\",\"#1f77b4\",\"#8c564b\",\"#1f77b4\",\"#1f77b4\",\"#9467bd\",\"#8c564b\",\"#2ca02c\",\"#1f77b4\",\"#9467bd\",\"#d62728\",\"#1f77b4\",\"#8c564b\",\"#9467bd\",\"#9467bd\",\"#d62728\",\"#ff7f0e\",\"#9467bd\",\"#1f77b4\",\"#d62728\",\"#ff7f0e\",\"#1f77b4\",\"#d62728\",\"#2ca02c\",\"#8c564b\",\"#2ca02c\",\"#1f77b4\",\"#1f77b4\",\"#d62728\",\"#d62728\",\"#2ca02c\",\"#9467bd\",\"#ff7f0e\",\"#d62728\",\"#2ca02c\",\"#8c564b\",\"#9467bd\",\"#8c564b\",\"#2ca02c\",\"#ff7f0e\",\"#1f77b4\",\"#9467bd\",\"#8c564b\",\"#1f77b4\",\"#8c564b\",\"#2ca02c\",\"#8c564b\",\"#d62728\",\"#8c564b\",\"#2ca02c\",\"#d62728\",\"#d62728\",\"#8c564b\",\"#1f77b4\",\"#d62728\",\"#9467bd\",\"#2ca02c\",\"#8c564b\",\"#8c564b\",\"#9467bd\",\"#9467bd\",\"#2ca02c\",\"#d62728\",\"#2ca02c\",\"#2ca02c\",\"#d62728\",\"#2ca02c\",\"#d62728\",\"#d62728\",\"#1f77b4\",\"#9467bd\",\"#8c564b\",\"#d62728\",\"#1f77b4\",\"#1f77b4\",\"#8c564b\",\"#9467bd\",\"#2ca02c\",\"#1f77b4\",\"#d62728\",\"#1f77b4\",\"#d62728\",\"#1f77b4\",\"#1f77b4\",\"#2ca02c\",\"#ff7f0e\",\"#2ca02c\",\"#1f77b4\",\"#d62728\",\"#2ca02c\",\"#1f77b4\",\"#2ca02c\",\"#d62728\",\"#d62728\",\"#2ca02c\",\"#1f77b4\",\"#ff7f0e\",\"#d62728\",\"#1f77b4\",\"#d62728\",\"#1f77b4\",\"#ff7f0e\",\"#2ca02c\",\"#1f77b4\",\"#8c564b\",\"#9467bd\",\"#8c564b\",\"#9467bd\",\"#1f77b4\",\"#1f77b4\",\"#8c564b\",\"#8c564b\",\"#1f77b4\",\"#2ca02c\",\"#d62728\",\"#8c564b\",\"#1f77b4\",\"#8c564b\",\"#8c564b\",\"#9467bd\",\"#8c564b\",\"#1f77b4\",\"#9467bd\",\"#d62728\",\"#d62728\",\"#d62728\",\"#1f77b4\",\"#8c564b\",\"#d62728\",\"#1f77b4\",\"#d62728\",\"#9467bd\",\"#1f77b4\",\"#9467bd\",\"#8c564b\",\"#2ca02c\",\"#1f77b4\",\"#ff7f0e\",\"#1f77b4\",\"#9467bd\",\"#9467bd\",\"#1f77b4\",\"#1f77b4\",\"#1f77b4\",\"#1f77b4\",\"#1f77b4\",\"#9467bd\",\"#2ca02c\",\"#9467bd\",\"#d62728\",\"#1f77b4\",\"#1f77b4\",\"#d62728\",\"#d62728\",\"#1f77b4\",\"#9467bd\",\"#d62728\",\"#ff7f0e\",\"#1f77b4\",\"#1f77b4\",\"#2ca02c\",\"#ff7f0e\",\"#8c564b\",\"#9467bd\",\"#d62728\",\"#9467bd\",\"#d62728\",\"#d62728\",\"#9467bd\",\"#2ca02c\",\"#1f77b4\",\"#d62728\",\"#2ca02c\",\"#8c564b\",\"#1f77b4\",\"#d62728\",\"#ff7f0e\",\"#d62728\",\"#8c564b\",\"#2ca02c\",\"#d62728\",\"#1f77b4\",\"#8c564b\",\"#2ca02c\",\"#d62728\",\"#1f77b4\",\"#d62728\",\"#d62728\",\"#d62728\",\"#d62728\",\"#9467bd\",\"#d62728\",\"#8c564b\",\"#ff7f0e\",\"#1f77b4\",\"#9467bd\",\"#8c564b\",\"#2ca02c\",\"#1f77b4\",\"#ff7f0e\",\"#d62728\",\"#8c564b\",\"#8c564b\",\"#ff7f0e\",\"#d62728\",\"#2ca02c\",\"#2ca02c\",\"#2ca02c\",\"#d62728\",\"#1f77b4\",\"#8c564b\",\"#1f77b4\",\"#9467bd\",\"#d62728\",\"#d62728\",\"#9467bd\",\"#d62728\",\"#1f77b4\",\"#d62728\",\"#d62728\",\"#d62728\",\"#1f77b4\",\"#d62728\",\"#8c564b\",\"#ff7f0e\",\"#1f77b4\",\"#9467bd\",\"#2ca02c\",\"#8c564b\",\"#2ca02c\",\"#d62728\",\"#1f77b4\",\"#1f77b4\",\"#2ca02c\",\"#d62728\",\"#8c564b\",\"#8c564b\",\"#9467bd\",\"#8c564b\",\"#9467bd\",\"#d62728\",\"#9467bd\",\"#d62728\",\"#d62728\",\"#1f77b4\",\"#1f77b4\",\"#8c564b\",\"#1f77b4\",\"#d62728\",\"#1f77b4\",\"#2ca02c\",\"#ff7f0e\",\"#2ca02c\",\"#9467bd\",\"#8c564b\",\"#d62728\",\"#8c564b\",\"#1f77b4\",\"#d62728\",\"#9467bd\",\"#d62728\",\"#9467bd\",\"#8c564b\",\"#ff7f0e\",\"#1f77b4\",\"#2ca02c\",\"#1f77b4\",\"#9467bd\",\"#9467bd\",\"#1f77b4\",\"#9467bd\",\"#8c564b\",\"#2ca02c\",\"#d62728\",\"#1f77b4\",\"#8c564b\",\"#1f77b4\",\"#2ca02c\",\"#9467bd\",\"#9467bd\",\"#8c564b\",\"#d62728\",\"#1f77b4\",\"#d62728\",\"#1f77b4\",\"#2ca02c\",\"#1f77b4\",\"#ff7f0e\",\"#d62728\",\"#8c564b\",\"#1f77b4\",\"#d62728\",\"#9467bd\",\"#d62728\",\"#d62728\",\"#2ca02c\",\"#d62728\",\"#ff7f0e\",\"#2ca02c\",\"#9467bd\",\"#8c564b\",\"#d62728\",\"#8c564b\",\"#2ca02c\",\"#2ca02c\",\"#8c564b\",\"#2ca02c\",\"#2ca02c\",\"#1f77b4\",\"#1f77b4\",\"#d62728\",\"#2ca02c\",\"#8c564b\",\"#1f77b4\",\"#1f77b4\",\"#8c564b\",\"#d62728\",\"#1f77b4\",\"#d62728\",\"#8c564b\",\"#1f77b4\",\"#8c564b\",\"#2ca02c\",\"#1f77b4\",\"#8c564b\",\"#1f77b4\",\"#1f77b4\",\"#1f77b4\",\"#1f77b4\",\"#1f77b4\",\"#2ca02c\",\"#1f77b4\",\"#8c564b\",\"#2ca02c\",\"#8c564b\",\"#2ca02c\",\"#1f77b4\",\"#2ca02c\",\"#8c564b\",\"#d62728\",\"#d62728\",\"#2ca02c\",\"#2ca02c\",\"#9467bd\",\"#8c564b\",\"#8c564b\",\"#d62728\",\"#2ca02c\",\"#d62728\",\"#d62728\",\"#d62728\",\"#9467bd\",\"#d62728\",\"#d62728\",\"#d62728\",\"#d62728\",\"#8c564b\",\"#9467bd\",\"#1f77b4\",\"#2ca02c\",\"#d62728\",\"#9467bd\",\"#1f77b4\",\"#1f77b4\",\"#d62728\",\"#8c564b\",\"#ff7f0e\",\"#d62728\",\"#9467bd\",\"#8c564b\",\"#9467bd\",\"#d62728\",\"#ff7f0e\",\"#2ca02c\",\"#ff7f0e\",\"#2ca02c\",\"#1f77b4\",\"#ff7f0e\",\"#9467bd\",\"#8c564b\",\"#2ca02c\",\"#2ca02c\",\"#2ca02c\",\"#1f77b4\",\"#1f77b4\",\"#1f77b4\",\"#1f77b4\",\"#9467bd\",\"#2ca02c\",\"#2ca02c\",\"#2ca02c\",\"#1f77b4\",\"#2ca02c\",\"#d62728\",\"#9467bd\",\"#1f77b4\",\"#d62728\",\"#9467bd\",\"#1f77b4\",\"#1f77b4\",\"#d62728\",\"#d62728\",\"#2ca02c\",\"#ff7f0e\",\"#1f77b4\",\"#2ca02c\",\"#8c564b\",\"#2ca02c\",\"#d62728\",\"#8c564b\",\"#8c564b\",\"#d62728\",\"#d62728\",\"#d62728\",\"#2ca02c\",\"#8c564b\",\"#1f77b4\",\"#8c564b\",\"#2ca02c\",\"#2ca02c\",\"#1f77b4\",\"#1f77b4\",\"#2ca02c\",\"#2ca02c\",\"#1f77b4\",\"#9467bd\",\"#d62728\",\"#9467bd\",\"#1f77b4\",\"#1f77b4\",\"#1f77b4\",\"#d62728\",\"#d62728\",\"#8c564b\",\"#d62728\",\"#8c564b\",\"#1f77b4\",\"#d62728\",\"#8c564b\",\"#d62728\",\"#d62728\",\"#1f77b4\",\"#2ca02c\",\"#d62728\",\"#1f77b4\",\"#d62728\",\"#2ca02c\",\"#9467bd\",\"#1f77b4\",\"#1f77b4\",\"#d62728\",\"#d62728\",\"#d62728\",\"#1f77b4\",\"#8c564b\",\"#1f77b4\",\"#d62728\",\"#d62728\",\"#d62728\",\"#1f77b4\",\"#d62728\",\"#d62728\",\"#d62728\",\"#2ca02c\",\"#2ca02c\",\"#1f77b4\",\"#1f77b4\",\"#ff7f0e\",\"#9467bd\",\"#9467bd\",\"#1f77b4\",\"#9467bd\",\"#1f77b4\",\"#1f77b4\",\"#8c564b\",\"#8c564b\",\"#1f77b4\",\"#ff7f0e\",\"#d62728\",\"#1f77b4\",\"#8c564b\",\"#ff7f0e\",\"#d62728\",\"#d62728\",\"#ff7f0e\",\"#ff7f0e\",\"#ff7f0e\",\"#d62728\",\"#2ca02c\",\"#8c564b\",\"#d62728\",\"#d62728\",\"#9467bd\",\"#9467bd\",\"#ff7f0e\",\"#d62728\",\"#8c564b\",\"#1f77b4\",\"#8c564b\",\"#1f77b4\",\"#2ca02c\",\"#d62728\",\"#1f77b4\",\"#d62728\",\"#ff7f0e\",\"#8c564b\",\"#1f77b4\",\"#d62728\",\"#ff7f0e\",\"#8c564b\",\"#2ca02c\",\"#1f77b4\",\"#d62728\",\"#9467bd\",\"#ff7f0e\",\"#1f77b4\",\"#8c564b\",\"#8c564b\",\"#1f77b4\",\"#9467bd\",\"#9467bd\",\"#d62728\",\"#ff7f0e\",\"#9467bd\",\"#1f77b4\",\"#1f77b4\",\"#8c564b\",\"#d62728\",\"#d62728\",\"#d62728\",\"#1f77b4\",\"#9467bd\",\"#ff7f0e\",\"#9467bd\",\"#d62728\",\"#8c564b\",\"#8c564b\",\"#8c564b\",\"#9467bd\",\"#d62728\",\"#1f77b4\",\"#ff7f0e\",\"#8c564b\",\"#9467bd\",\"#2ca02c\",\"#9467bd\",\"#d62728\",\"#d62728\",\"#9467bd\",\"#d62728\",\"#d62728\",\"#d62728\",\"#d62728\",\"#1f77b4\",\"#1f77b4\",\"#2ca02c\",\"#9467bd\",\"#1f77b4\",\"#8c564b\",\"#2ca02c\",\"#ff7f0e\",\"#1f77b4\",\"#d62728\",\"#8c564b\",\"#8c564b\",\"#9467bd\",\"#9467bd\",\"#1f77b4\",\"#2ca02c\",\"#1f77b4\",\"#ff7f0e\",\"#9467bd\",\"#1f77b4\",\"#1f77b4\",\"#d62728\",\"#1f77b4\",\"#d62728\",\"#1f77b4\",\"#d62728\",\"#2ca02c\",\"#9467bd\",\"#2ca02c\",\"#1f77b4\",\"#d62728\",\"#2ca02c\",\"#1f77b4\",\"#d62728\",\"#8c564b\",\"#d62728\",\"#d62728\",\"#2ca02c\",\"#8c564b\",\"#2ca02c\",\"#2ca02c\",\"#8c564b\",\"#d62728\",\"#d62728\",\"#2ca02c\",\"#d62728\",\"#9467bd\",\"#ff7f0e\",\"#1f77b4\",\"#2ca02c\",\"#8c564b\",\"#1f77b4\",\"#ff7f0e\",\"#1f77b4\",\"#9467bd\",\"#d62728\",\"#d62728\",\"#9467bd\",\"#d62728\",\"#9467bd\",\"#ff7f0e\",\"#8c564b\",\"#2ca02c\",\"#1f77b4\",\"#1f77b4\",\"#2ca02c\",\"#2ca02c\",\"#9467bd\",\"#2ca02c\",\"#9467bd\",\"#d62728\",\"#ff7f0e\",\"#2ca02c\",\"#d62728\",\"#ff7f0e\",\"#9467bd\",\"#1f77b4\",\"#d62728\",\"#d62728\",\"#8c564b\",\"#2ca02c\",\"#d62728\",\"#d62728\",\"#1f77b4\",\"#d62728\",\"#d62728\",\"#ff7f0e\",\"#2ca02c\",\"#9467bd\",\"#8c564b\",\"#9467bd\",\"#8c564b\",\"#8c564b\",\"#ff7f0e\",\"#1f77b4\",\"#1f77b4\",\"#1f77b4\",\"#ff7f0e\",\"#2ca02c\",\"#2ca02c\",\"#2ca02c\",\"#1f77b4\",\"#ff7f0e\",\"#1f77b4\",\"#9467bd\",\"#9467bd\",\"#ff7f0e\",\"#d62728\",\"#9467bd\",\"#2ca02c\",\"#d62728\",\"#9467bd\",\"#d62728\",\"#9467bd\",\"#d62728\",\"#2ca02c\",\"#9467bd\",\"#9467bd\",\"#ff7f0e\",\"#9467bd\",\"#1f77b4\",\"#9467bd\",\"#1f77b4\",\"#9467bd\",\"#1f77b4\",\"#d62728\",\"#1f77b4\",\"#1f77b4\",\"#d62728\",\"#d62728\",\"#d62728\",\"#9467bd\",\"#1f77b4\",\"#9467bd\",\"#9467bd\",\"#8c564b\",\"#d62728\",\"#1f77b4\",\"#1f77b4\",\"#1f77b4\",\"#8c564b\",\"#d62728\",\"#1f77b4\",\"#1f77b4\",\"#d62728\",\"#9467bd\",\"#9467bd\",\"#d62728\",\"#1f77b4\",\"#1f77b4\",\"#9467bd\",\"#ff7f0e\",\"#d62728\",\"#d62728\",\"#8c564b\",\"#9467bd\",\"#2ca02c\",\"#9467bd\",\"#ff7f0e\",\"#1f77b4\",\"#1f77b4\",\"#d62728\",\"#d62728\",\"#1f77b4\",\"#1f77b4\",\"#9467bd\",\"#d62728\",\"#d62728\",\"#2ca02c\",\"#9467bd\",\"#1f77b4\",\"#8c564b\",\"#2ca02c\",\"#ff7f0e\",\"#1f77b4\",\"#8c564b\",\"#ff7f0e\",\"#2ca02c\",\"#1f77b4\",\"#d62728\",\"#8c564b\",\"#2ca02c\",\"#8c564b\",\"#d62728\",\"#1f77b4\",\"#8c564b\",\"#9467bd\",\"#2ca02c\",\"#8c564b\",\"#d62728\",\"#1f77b4\",\"#ff7f0e\",\"#d62728\",\"#d62728\",\"#d62728\",\"#2ca02c\",\"#9467bd\",\"#9467bd\",\"#d62728\",\"#8c564b\",\"#1f77b4\",\"#ff7f0e\",\"#9467bd\",\"#d62728\",\"#ff7f0e\",\"#8c564b\",\"#8c564b\",\"#d62728\",\"#d62728\",\"#9467bd\",\"#9467bd\",\"#1f77b4\",\"#9467bd\",\"#d62728\",\"#1f77b4\",\"#1f77b4\",\"#d62728\",\"#2ca02c\",\"#9467bd\",\"#8c564b\",\"#d62728\",\"#1f77b4\",\"#9467bd\",\"#9467bd\",\"#d62728\",\"#2ca02c\",\"#8c564b\",\"#8c564b\",\"#1f77b4\",\"#d62728\",\"#2ca02c\",\"#2ca02c\",\"#ff7f0e\",\"#2ca02c\",\"#d62728\",\"#2ca02c\",\"#9467bd\",\"#d62728\",\"#9467bd\",\"#2ca02c\",\"#8c564b\",\"#d62728\",\"#9467bd\",\"#1f77b4\",\"#d62728\",\"#1f77b4\",\"#d62728\",\"#ff7f0e\",\"#d62728\",\"#9467bd\",\"#ff7f0e\",\"#d62728\",\"#9467bd\",\"#ff7f0e\",\"#2ca02c\",\"#d62728\",\"#1f77b4\",\"#8c564b\",\"#8c564b\",\"#8c564b\",\"#8c564b\",\"#d62728\",\"#1f77b4\",\"#9467bd\",\"#1f77b4\",\"#ff7f0e\",\"#d62728\",\"#9467bd\",\"#9467bd\",\"#9467bd\",\"#2ca02c\",\"#1f77b4\",\"#9467bd\",\"#8c564b\",\"#2ca02c\",\"#d62728\",\"#1f77b4\",\"#1f77b4\",\"#1f77b4\",\"#1f77b4\",\"#9467bd\",\"#d62728\",\"#1f77b4\",\"#8c564b\",\"#d62728\",\"#8c564b\",\"#9467bd\",\"#d62728\",\"#ff7f0e\",\"#1f77b4\",\"#d62728\",\"#1f77b4\",\"#2ca02c\",\"#1f77b4\",\"#d62728\",\"#1f77b4\",\"#d62728\",\"#9467bd\",\"#ff7f0e\",\"#ff7f0e\",\"#1f77b4\",\"#8c564b\",\"#1f77b4\",\"#ff7f0e\",\"#8c564b\",\"#2ca02c\",\"#9467bd\",\"#1f77b4\",\"#9467bd\",\"#2ca02c\",\"#9467bd\",\"#1f77b4\",\"#2ca02c\",\"#d62728\",\"#d62728\",\"#1f77b4\",\"#ff7f0e\",\"#9467bd\",\"#2ca02c\",\"#d62728\",\"#ff7f0e\",\"#1f77b4\",\"#1f77b4\",\"#2ca02c\",\"#d62728\",\"#1f77b4\",\"#1f77b4\",\"#9467bd\",\"#1f77b4\",\"#2ca02c\",\"#2ca02c\",\"#2ca02c\",\"#1f77b4\",\"#9467bd\",\"#2ca02c\",\"#2ca02c\",\"#1f77b4\",\"#d62728\",\"#1f77b4\",\"#8c564b\",\"#d62728\",\"#8c564b\",\"#2ca02c\",\"#8c564b\",\"#1f77b4\",\"#1f77b4\",\"#d62728\",\"#d62728\",\"#8c564b\",\"#9467bd\",\"#d62728\",\"#d62728\",\"#2ca02c\",\"#1f77b4\",\"#9467bd\",\"#1f77b4\",\"#8c564b\",\"#1f77b4\",\"#d62728\",\"#2ca02c\",\"#1f77b4\",\"#d62728\",\"#d62728\",\"#d62728\",\"#9467bd\",\"#d62728\",\"#1f77b4\",\"#8c564b\",\"#8c564b\",\"#1f77b4\",\"#ff7f0e\",\"#1f77b4\",\"#d62728\",\"#1f77b4\",\"#1f77b4\",\"#1f77b4\",\"#9467bd\",\"#d62728\",\"#d62728\",\"#ff7f0e\",\"#ff7f0e\",\"#9467bd\",\"#d62728\",\"#2ca02c\",\"#1f77b4\",\"#d62728\",\"#d62728\",\"#ff7f0e\",\"#d62728\",\"#2ca02c\",\"#ff7f0e\",\"#d62728\",\"#9467bd\",\"#1f77b4\",\"#d62728\",\"#2ca02c\",\"#d62728\",\"#1f77b4\",\"#2ca02c\",\"#8c564b\",\"#ff7f0e\",\"#1f77b4\",\"#1f77b4\",\"#8c564b\",\"#2ca02c\",\"#2ca02c\",\"#d62728\",\"#2ca02c\",\"#1f77b4\",\"#8c564b\",\"#1f77b4\",\"#d62728\",\"#2ca02c\",\"#d62728\",\"#8c564b\",\"#2ca02c\",\"#ff7f0e\",\"#2ca02c\",\"#2ca02c\",\"#1f77b4\",\"#ff7f0e\",\"#d62728\",\"#9467bd\",\"#d62728\",\"#8c564b\",\"#ff7f0e\",\"#d62728\",\"#9467bd\",\"#1f77b4\",\"#1f77b4\",\"#1f77b4\",\"#9467bd\",\"#2ca02c\",\"#2ca02c\",\"#ff7f0e\",\"#9467bd\",\"#9467bd\",\"#1f77b4\",\"#1f77b4\",\"#1f77b4\",\"#d62728\",\"#8c564b\",\"#8c564b\",\"#1f77b4\",\"#8c564b\",\"#8c564b\",\"#2ca02c\",\"#8c564b\",\"#8c564b\",\"#ff7f0e\",\"#ff7f0e\",\"#2ca02c\",\"#1f77b4\",\"#2ca02c\",\"#8c564b\",\"#1f77b4\",\"#9467bd\",\"#1f77b4\",\"#d62728\",\"#1f77b4\",\"#9467bd\",\"#1f77b4\",\"#1f77b4\",\"#ff7f0e\",\"#1f77b4\",\"#8c564b\",\"#2ca02c\",\"#9467bd\",\"#ff7f0e\",\"#9467bd\",\"#2ca02c\",\"#ff7f0e\",\"#9467bd\",\"#9467bd\",\"#d62728\",\"#1f77b4\",\"#9467bd\",\"#8c564b\",\"#d62728\",\"#d62728\",\"#d62728\",\"#d62728\",\"#1f77b4\",\"#2ca02c\",\"#1f77b4\",\"#2ca02c\",\"#1f77b4\",\"#d62728\",\"#9467bd\",\"#8c564b\",\"#8c564b\",\"#2ca02c\",\"#1f77b4\",\"#ff7f0e\",\"#d62728\",\"#8c564b\",\"#2ca02c\",\"#1f77b4\",\"#d62728\",\"#1f77b4\",\"#9467bd\",\"#1f77b4\",\"#2ca02c\",\"#1f77b4\",\"#1f77b4\",\"#8c564b\",\"#d62728\",\"#1f77b4\",\"#2ca02c\",\"#9467bd\",\"#8c564b\",\"#1f77b4\",\"#d62728\",\"#2ca02c\",\"#2ca02c\",\"#d62728\",\"#d62728\",\"#1f77b4\",\"#ff7f0e\",\"#2ca02c\",\"#2ca02c\",\"#2ca02c\",\"#d62728\",\"#1f77b4\",\"#9467bd\",\"#1f77b4\",\"#9467bd\",\"#2ca02c\",\"#ff7f0e\",\"#d62728\",\"#1f77b4\",\"#9467bd\",\"#1f77b4\",\"#d62728\",\"#d62728\",\"#d62728\",\"#9467bd\",\"#8c564b\",\"#ff7f0e\",\"#2ca02c\",\"#9467bd\",\"#ff7f0e\",\"#1f77b4\",\"#9467bd\",\"#1f77b4\",\"#8c564b\",\"#2ca02c\",\"#1f77b4\",\"#8c564b\",\"#d62728\",\"#8c564b\",\"#2ca02c\",\"#d62728\",\"#d62728\",\"#1f77b4\",\"#d62728\",\"#9467bd\",\"#2ca02c\",\"#2ca02c\",\"#1f77b4\",\"#ff7f0e\",\"#d62728\",\"#1f77b4\",\"#ff7f0e\",\"#8c564b\",\"#d62728\",\"#ff7f0e\",\"#9467bd\",\"#d62728\",\"#2ca02c\",\"#1f77b4\",\"#2ca02c\",\"#9467bd\",\"#1f77b4\",\"#1f77b4\",\"#d62728\",\"#9467bd\",\"#ff7f0e\",\"#1f77b4\",\"#ff7f0e\",\"#9467bd\",\"#8c564b\",\"#ff7f0e\",\"#2ca02c\",\"#9467bd\",\"#9467bd\",\"#d62728\",\"#2ca02c\",\"#8c564b\",\"#d62728\",\"#d62728\",\"#8c564b\",\"#d62728\",\"#d62728\",\"#9467bd\",\"#ff7f0e\",\"#d62728\",\"#d62728\",\"#8c564b\",\"#1f77b4\",\"#1f77b4\",\"#2ca02c\",\"#8c564b\",\"#9467bd\",\"#8c564b\",\"#2ca02c\",\"#1f77b4\",\"#d62728\",\"#d62728\",\"#2ca02c\",\"#d62728\",\"#ff7f0e\",\"#1f77b4\",\"#1f77b4\",\"#1f77b4\",\"#8c564b\",\"#9467bd\",\"#8c564b\",\"#9467bd\",\"#8c564b\",\"#9467bd\",\"#1f77b4\",\"#2ca02c\",\"#8c564b\",\"#d62728\",\"#1f77b4\",\"#1f77b4\",\"#d62728\",\"#d62728\",\"#8c564b\",\"#8c564b\",\"#2ca02c\",\"#d62728\",\"#9467bd\",\"#8c564b\",\"#d62728\",\"#d62728\",\"#1f77b4\",\"#d62728\",\"#2ca02c\",\"#2ca02c\",\"#d62728\",\"#8c564b\",\"#1f77b4\",\"#ff7f0e\",\"#1f77b4\",\"#1f77b4\",\"#1f77b4\",\"#9467bd\",\"#d62728\",\"#8c564b\",\"#2ca02c\",\"#1f77b4\",\"#2ca02c\",\"#8c564b\",\"#d62728\",\"#1f77b4\",\"#d62728\",\"#8c564b\",\"#2ca02c\",\"#ff7f0e\",\"#2ca02c\",\"#2ca02c\",\"#9467bd\",\"#9467bd\",\"#9467bd\",\"#d62728\",\"#8c564b\",\"#d62728\",\"#1f77b4\",\"#9467bd\",\"#d62728\",\"#9467bd\",\"#d62728\",\"#1f77b4\",\"#8c564b\",\"#2ca02c\",\"#8c564b\",\"#d62728\",\"#d62728\",\"#ff7f0e\",\"#1f77b4\",\"#9467bd\",\"#ff7f0e\",\"#ff7f0e\",\"#8c564b\",\"#1f77b4\",\"#d62728\",\"#2ca02c\",\"#1f77b4\",\"#1f77b4\",\"#9467bd\",\"#ff7f0e\",\"#1f77b4\",\"#d62728\",\"#d62728\",\"#2ca02c\",\"#d62728\",\"#8c564b\",\"#ff7f0e\",\"#2ca02c\",\"#d62728\",\"#d62728\",\"#ff7f0e\",\"#8c564b\",\"#9467bd\",\"#9467bd\",\"#ff7f0e\",\"#9467bd\",\"#d62728\",\"#d62728\",\"#8c564b\",\"#9467bd\",\"#8c564b\",\"#8c564b\",\"#9467bd\",\"#8c564b\",\"#1f77b4\",\"#d62728\",\"#2ca02c\",\"#9467bd\",\"#9467bd\",\"#8c564b\",\"#1f77b4\",\"#1f77b4\",\"#8c564b\",\"#1f77b4\",\"#d62728\",\"#d62728\",\"#9467bd\",\"#1f77b4\",\"#1f77b4\",\"#ff7f0e\",\"#2ca02c\",\"#d62728\",\"#2ca02c\",\"#1f77b4\",\"#1f77b4\",\"#1f77b4\",\"#1f77b4\",\"#d62728\",\"#d62728\",\"#8c564b\",\"#1f77b4\",\"#8c564b\",\"#1f77b4\",\"#9467bd\",\"#d62728\",\"#9467bd\",\"#1f77b4\",\"#1f77b4\",\"#8c564b\",\"#1f77b4\",\"#2ca02c\",\"#1f77b4\",\"#ff7f0e\",\"#1f77b4\",\"#8c564b\",\"#8c564b\",\"#9467bd\",\"#1f77b4\",\"#9467bd\",\"#ff7f0e\",\"#8c564b\",\"#1f77b4\",\"#d62728\",\"#1f77b4\",\"#d62728\",\"#1f77b4\",\"#d62728\",\"#1f77b4\",\"#d62728\",\"#1f77b4\",\"#2ca02c\",\"#d62728\",\"#d62728\",\"#2ca02c\",\"#1f77b4\",\"#9467bd\",\"#2ca02c\",\"#d62728\",\"#d62728\",\"#2ca02c\",\"#8c564b\",\"#8c564b\",\"#1f77b4\",\"#8c564b\",\"#2ca02c\",\"#2ca02c\",\"#8c564b\",\"#9467bd\",\"#9467bd\",\"#ff7f0e\",\"#2ca02c\",\"#1f77b4\",\"#8c564b\",\"#2ca02c\",\"#8c564b\",\"#9467bd\",\"#2ca02c\",\"#1f77b4\",\"#9467bd\",\"#d62728\",\"#d62728\",\"#1f77b4\",\"#2ca02c\",\"#9467bd\",\"#ff7f0e\",\"#d62728\",\"#9467bd\",\"#d62728\",\"#d62728\",\"#8c564b\",\"#2ca02c\",\"#9467bd\",\"#9467bd\",\"#2ca02c\",\"#d62728\",\"#d62728\",\"#8c564b\",\"#9467bd\",\"#ff7f0e\",\"#9467bd\",\"#8c564b\",\"#9467bd\",\"#2ca02c\",\"#ff7f0e\",\"#1f77b4\",\"#d62728\",\"#1f77b4\",\"#8c564b\",\"#d62728\",\"#d62728\",\"#d62728\",\"#9467bd\",\"#8c564b\",\"#d62728\",\"#d62728\",\"#1f77b4\",\"#ff7f0e\",\"#1f77b4\",\"#2ca02c\",\"#d62728\",\"#d62728\",\"#d62728\",\"#d62728\",\"#d62728\",\"#2ca02c\",\"#ff7f0e\",\"#2ca02c\",\"#1f77b4\",\"#1f77b4\",\"#1f77b4\",\"#ff7f0e\",\"#d62728\",\"#1f77b4\",\"#8c564b\",\"#8c564b\",\"#8c564b\",\"#1f77b4\",\"#1f77b4\",\"#ff7f0e\",\"#1f77b4\",\"#d62728\",\"#2ca02c\",\"#8c564b\",\"#ff7f0e\",\"#9467bd\",\"#8c564b\",\"#ff7f0e\",\"#1f77b4\",\"#9467bd\",\"#1f77b4\",\"#8c564b\",\"#d62728\",\"#1f77b4\",\"#1f77b4\",\"#d62728\",\"#2ca02c\",\"#9467bd\",\"#8c564b\",\"#1f77b4\",\"#1f77b4\",\"#8c564b\",\"#2ca02c\",\"#2ca02c\",\"#1f77b4\",\"#d62728\",\"#8c564b\",\"#2ca02c\",\"#8c564b\",\"#1f77b4\",\"#1f77b4\",\"#2ca02c\",\"#9467bd\",\"#8c564b\",\"#1f77b4\",\"#8c564b\",\"#1f77b4\",\"#d62728\",\"#d62728\",\"#d62728\",\"#9467bd\",\"#d62728\",\"#2ca02c\",\"#9467bd\",\"#9467bd\",\"#ff7f0e\",\"#1f77b4\",\"#1f77b4\",\"#9467bd\",\"#9467bd\",\"#1f77b4\",\"#1f77b4\",\"#1f77b4\",\"#d62728\",\"#ff7f0e\",\"#2ca02c\",\"#1f77b4\",\"#d62728\",\"#8c564b\",\"#d62728\",\"#d62728\",\"#2ca02c\",\"#1f77b4\",\"#8c564b\",\"#1f77b4\",\"#8c564b\",\"#2ca02c\",\"#9467bd\",\"#9467bd\",\"#9467bd\",\"#d62728\",\"#8c564b\",\"#ff7f0e\",\"#ff7f0e\",\"#1f77b4\",\"#2ca02c\",\"#2ca02c\",\"#2ca02c\",\"#1f77b4\",\"#9467bd\",\"#d62728\",\"#2ca02c\",\"#9467bd\",\"#d62728\",\"#2ca02c\",\"#1f77b4\",\"#1f77b4\",\"#1f77b4\",\"#2ca02c\",\"#1f77b4\",\"#9467bd\",\"#d62728\",\"#9467bd\",\"#d62728\",\"#d62728\",\"#1f77b4\",\"#ff7f0e\",\"#2ca02c\",\"#9467bd\",\"#1f77b4\",\"#8c564b\",\"#1f77b4\",\"#9467bd\",\"#9467bd\",\"#d62728\",\"#d62728\",\"#8c564b\",\"#2ca02c\",\"#8c564b\",\"#d62728\",\"#9467bd\",\"#8c564b\",\"#d62728\",\"#1f77b4\",\"#d62728\",\"#1f77b4\",\"#d62728\",\"#2ca02c\",\"#2ca02c\",\"#d62728\",\"#8c564b\",\"#8c564b\",\"#1f77b4\",\"#2ca02c\",\"#9467bd\",\"#8c564b\",\"#d62728\",\"#8c564b\",\"#d62728\",\"#ff7f0e\",\"#8c564b\",\"#1f77b4\",\"#d62728\",\"#2ca02c\",\"#d62728\",\"#8c564b\",\"#8c564b\",\"#d62728\",\"#1f77b4\",\"#d62728\",\"#2ca02c\",\"#1f77b4\",\"#9467bd\",\"#1f77b4\",\"#8c564b\",\"#9467bd\",\"#9467bd\",\"#9467bd\",\"#2ca02c\",\"#d62728\",\"#8c564b\",\"#d62728\",\"#d62728\",\"#d62728\",\"#1f77b4\",\"#8c564b\",\"#9467bd\",\"#2ca02c\",\"#1f77b4\",\"#8c564b\",\"#2ca02c\",\"#1f77b4\",\"#d62728\",\"#d62728\",\"#2ca02c\",\"#2ca02c\",\"#2ca02c\",\"#8c564b\",\"#9467bd\",\"#2ca02c\",\"#ff7f0e\",\"#1f77b4\",\"#d62728\",\"#ff7f0e\",\"#1f77b4\",\"#2ca02c\",\"#d62728\",\"#d62728\",\"#2ca02c\",\"#d62728\",\"#9467bd\",\"#2ca02c\",\"#d62728\",\"#2ca02c\",\"#2ca02c\",\"#d62728\",\"#1f77b4\",\"#9467bd\",\"#d62728\",\"#ff7f0e\",\"#d62728\",\"#1f77b4\",\"#d62728\",\"#d62728\",\"#d62728\",\"#1f77b4\",\"#d62728\",\"#d62728\",\"#2ca02c\",\"#9467bd\",\"#2ca02c\",\"#d62728\",\"#ff7f0e\",\"#1f77b4\",\"#1f77b4\",\"#9467bd\",\"#1f77b4\",\"#d62728\",\"#d62728\",\"#9467bd\",\"#8c564b\",\"#8c564b\",\"#d62728\",\"#1f77b4\",\"#d62728\",\"#1f77b4\",\"#1f77b4\",\"#2ca02c\",\"#2ca02c\",\"#1f77b4\",\"#d62728\",\"#2ca02c\",\"#1f77b4\",\"#1f77b4\",\"#9467bd\",\"#d62728\",\"#ff7f0e\",\"#1f77b4\",\"#1f77b4\",\"#1f77b4\",\"#d62728\",\"#d62728\",\"#2ca02c\",\"#8c564b\",\"#d62728\",\"#8c564b\",\"#1f77b4\",\"#d62728\",\"#9467bd\",\"#8c564b\",\"#d62728\",\"#8c564b\",\"#2ca02c\",\"#2ca02c\",\"#8c564b\",\"#8c564b\",\"#d62728\",\"#2ca02c\",\"#1f77b4\",\"#2ca02c\",\"#8c564b\",\"#d62728\",\"#2ca02c\",\"#d62728\",\"#ff7f0e\",\"#d62728\",\"#1f77b4\",\"#2ca02c\",\"#ff7f0e\",\"#2ca02c\",\"#8c564b\",\"#2ca02c\",\"#d62728\",\"#d62728\",\"#d62728\",\"#ff7f0e\",\"#9467bd\",\"#2ca02c\",\"#1f77b4\",\"#9467bd\",\"#1f77b4\",\"#d62728\",\"#8c564b\",\"#d62728\",\"#d62728\",\"#9467bd\",\"#d62728\",\"#8c564b\",\"#ff7f0e\",\"#2ca02c\",\"#d62728\",\"#2ca02c\",\"#9467bd\",\"#2ca02c\",\"#d62728\",\"#1f77b4\",\"#9467bd\",\"#8c564b\",\"#d62728\",\"#2ca02c\",\"#1f77b4\",\"#8c564b\",\"#2ca02c\",\"#8c564b\",\"#d62728\",\"#d62728\",\"#9467bd\"],\"line_color\":[\"#d62728\",\"#9467bd\",\"#1f77b4\",\"#d62728\",\"#1f77b4\",\"#2ca02c\",\"#d62728\",\"#8c564b\",\"#1f77b4\",\"#9467bd\",\"#2ca02c\",\"#2ca02c\",\"#9467bd\",\"#1f77b4\",\"#2ca02c\",\"#2ca02c\",\"#8c564b\",\"#2ca02c\",\"#d62728\",\"#9467bd\",\"#d62728\",\"#d62728\",\"#1f77b4\",\"#9467bd\",\"#1f77b4\",\"#ff7f0e\",\"#9467bd\",\"#d62728\",\"#d62728\",\"#9467bd\",\"#9467bd\",\"#8c564b\",\"#9467bd\",\"#2ca02c\",\"#8c564b\",\"#1f77b4\",\"#1f77b4\",\"#9467bd\",\"#2ca02c\",\"#d62728\",\"#8c564b\",\"#9467bd\",\"#ff7f0e\",\"#d62728\",\"#8c564b\",\"#d62728\",\"#1f77b4\",\"#d62728\",\"#8c564b\",\"#d62728\",\"#1f77b4\",\"#2ca02c\",\"#d62728\",\"#d62728\",\"#1f77b4\",\"#9467bd\",\"#8c564b\",\"#8c564b\",\"#d62728\",\"#2ca02c\",\"#ff7f0e\",\"#2ca02c\",\"#8c564b\",\"#d62728\",\"#9467bd\",\"#9467bd\",\"#1f77b4\",\"#2ca02c\",\"#2ca02c\",\"#d62728\",\"#8c564b\",\"#2ca02c\",\"#ff7f0e\",\"#d62728\",\"#8c564b\",\"#1f77b4\",\"#8c564b\",\"#9467bd\",\"#d62728\",\"#9467bd\",\"#1f77b4\",\"#8c564b\",\"#d62728\",\"#9467bd\",\"#d62728\",\"#8c564b\",\"#ff7f0e\",\"#1f77b4\",\"#8c564b\",\"#8c564b\",\"#ff7f0e\",\"#d62728\",\"#ff7f0e\",\"#1f77b4\",\"#ff7f0e\",\"#ff7f0e\",\"#2ca02c\",\"#9467bd\",\"#1f77b4\",\"#d62728\",\"#8c564b\",\"#ff7f0e\",\"#2ca02c\",\"#8c564b\",\"#1f77b4\",\"#9467bd\",\"#d62728\",\"#1f77b4\",\"#1f77b4\",\"#1f77b4\",\"#1f77b4\",\"#9467bd\",\"#9467bd\",\"#d62728\",\"#1f77b4\",\"#9467bd\",\"#9467bd\",\"#8c564b\",\"#ff7f0e\",\"#d62728\",\"#2ca02c\",\"#1f77b4\",\"#d62728\",\"#ff7f0e\",\"#d62728\",\"#d62728\",\"#1f77b4\",\"#9467bd\",\"#ff7f0e\",\"#ff7f0e\",\"#1f77b4\",\"#d62728\",\"#d62728\",\"#d62728\",\"#1f77b4\",\"#8c564b\",\"#8c564b\",\"#9467bd\",\"#d62728\",\"#9467bd\",\"#2ca02c\",\"#d62728\",\"#9467bd\",\"#d62728\",\"#9467bd\",\"#2ca02c\",\"#2ca02c\",\"#2ca02c\",\"#2ca02c\",\"#1f77b4\",\"#1f77b4\",\"#1f77b4\",\"#8c564b\",\"#d62728\",\"#1f77b4\",\"#2ca02c\",\"#d62728\",\"#9467bd\",\"#d62728\",\"#d62728\",\"#2ca02c\",\"#d62728\",\"#d62728\",\"#d62728\",\"#d62728\",\"#1f77b4\",\"#2ca02c\",\"#9467bd\",\"#1f77b4\",\"#8c564b\",\"#ff7f0e\",\"#8c564b\",\"#d62728\",\"#d62728\",\"#1f77b4\",\"#ff7f0e\",\"#d62728\",\"#d62728\",\"#2ca02c\",\"#d62728\",\"#ff7f0e\",\"#d62728\",\"#1f77b4\",\"#1f77b4\",\"#d62728\",\"#2ca02c\",\"#1f77b4\",\"#1f77b4\",\"#2ca02c\",\"#d62728\",\"#ff7f0e\",\"#8c564b\",\"#ff7f0e\",\"#8c564b\",\"#9467bd\",\"#9467bd\",\"#9467bd\",\"#2ca02c\",\"#9467bd\",\"#9467bd\",\"#1f77b4\",\"#d62728\",\"#9467bd\",\"#1f77b4\",\"#8c564b\",\"#9467bd\",\"#d62728\",\"#8c564b\",\"#1f77b4\",\"#2ca02c\",\"#9467bd\",\"#d62728\",\"#9467bd\",\"#1f77b4\",\"#d62728\",\"#9467bd\",\"#8c564b\",\"#d62728\",\"#d62728\",\"#d62728\",\"#9467bd\",\"#1f77b4\",\"#1f77b4\",\"#8c564b\",\"#d62728\",\"#9467bd\",\"#d62728\",\"#1f77b4\",\"#d62728\",\"#d62728\",\"#d62728\",\"#1f77b4\",\"#d62728\",\"#1f77b4\",\"#d62728\",\"#9467bd\",\"#9467bd\",\"#9467bd\",\"#1f77b4\",\"#8c564b\",\"#9467bd\",\"#d62728\",\"#1f77b4\",\"#1f77b4\",\"#9467bd\",\"#d62728\",\"#d62728\",\"#d62728\",\"#1f77b4\",\"#8c564b\",\"#2ca02c\",\"#ff7f0e\",\"#8c564b\",\"#1f77b4\",\"#8c564b\",\"#d62728\",\"#1f77b4\",\"#2ca02c\",\"#1f77b4\",\"#d62728\",\"#1f77b4\",\"#9467bd\",\"#2ca02c\",\"#d62728\",\"#1f77b4\",\"#2ca02c\",\"#8c564b\",\"#1f77b4\",\"#d62728\",\"#8c564b\",\"#8c564b\",\"#1f77b4\",\"#2ca02c\",\"#d62728\",\"#9467bd\",\"#d62728\",\"#d62728\",\"#8c564b\",\"#d62728\",\"#ff7f0e\",\"#1f77b4\",\"#2ca02c\",\"#2ca02c\",\"#ff7f0e\",\"#ff7f0e\",\"#d62728\",\"#1f77b4\",\"#8c564b\",\"#ff7f0e\",\"#d62728\",\"#1f77b4\",\"#2ca02c\",\"#2ca02c\",\"#8c564b\",\"#d62728\",\"#1f77b4\",\"#9467bd\",\"#2ca02c\",\"#1f77b4\",\"#2ca02c\",\"#2ca02c\",\"#d62728\",\"#1f77b4\",\"#8c564b\",\"#d62728\",\"#d62728\",\"#9467bd\",\"#8c564b\",\"#1f77b4\",\"#ff7f0e\",\"#d62728\",\"#d62728\",\"#d62728\",\"#9467bd\",\"#9467bd\",\"#2ca02c\",\"#ff7f0e\",\"#8c564b\",\"#ff7f0e\",\"#8c564b\",\"#d62728\",\"#d62728\",\"#2ca02c\",\"#2ca02c\",\"#d62728\",\"#9467bd\",\"#1f77b4\",\"#9467bd\",\"#1f77b4\",\"#8c564b\",\"#d62728\",\"#9467bd\",\"#2ca02c\",\"#8c564b\",\"#8c564b\",\"#ff7f0e\",\"#1f77b4\",\"#1f77b4\",\"#1f77b4\",\"#1f77b4\",\"#1f77b4\",\"#1f77b4\",\"#8c564b\",\"#1f77b4\",\"#d62728\",\"#ff7f0e\",\"#1f77b4\",\"#ff7f0e\",\"#d62728\",\"#2ca02c\",\"#d62728\",\"#d62728\",\"#8c564b\",\"#9467bd\",\"#8c564b\",\"#ff7f0e\",\"#2ca02c\",\"#2ca02c\",\"#9467bd\",\"#2ca02c\",\"#ff7f0e\",\"#8c564b\",\"#1f77b4\",\"#8c564b\",\"#d62728\",\"#2ca02c\",\"#9467bd\",\"#d62728\",\"#d62728\",\"#9467bd\",\"#9467bd\",\"#8c564b\",\"#1f77b4\",\"#8c564b\",\"#9467bd\",\"#d62728\",\"#1f77b4\",\"#1f77b4\",\"#d62728\",\"#9467bd\",\"#2ca02c\",\"#8c564b\",\"#8c564b\",\"#1f77b4\",\"#d62728\",\"#9467bd\",\"#1f77b4\",\"#1f77b4\",\"#d62728\",\"#d62728\",\"#9467bd\",\"#8c564b\",\"#1f77b4\",\"#2ca02c\",\"#8c564b\",\"#9467bd\",\"#d62728\",\"#9467bd\",\"#1f77b4\",\"#2ca02c\",\"#9467bd\",\"#9467bd\",\"#1f77b4\",\"#8c564b\",\"#d62728\",\"#1f77b4\",\"#1f77b4\",\"#2ca02c\",\"#2ca02c\",\"#9467bd\",\"#2ca02c\",\"#d62728\",\"#9467bd\",\"#9467bd\",\"#ff7f0e\",\"#2ca02c\",\"#d62728\",\"#1f77b4\",\"#9467bd\",\"#d62728\",\"#9467bd\",\"#d62728\",\"#2ca02c\",\"#ff7f0e\",\"#d62728\",\"#2ca02c\",\"#9467bd\",\"#1f77b4\",\"#2ca02c\",\"#d62728\",\"#8c564b\",\"#d62728\",\"#d62728\",\"#1f77b4\",\"#8c564b\",\"#2ca02c\",\"#8c564b\",\"#2ca02c\",\"#2ca02c\",\"#1f77b4\",\"#1f77b4\",\"#d62728\",\"#1f77b4\",\"#2ca02c\",\"#2ca02c\",\"#ff7f0e\",\"#d62728\",\"#9467bd\",\"#1f77b4\",\"#d62728\",\"#d62728\",\"#1f77b4\",\"#9467bd\",\"#d62728\",\"#1f77b4\",\"#d62728\",\"#ff7f0e\",\"#2ca02c\",\"#1f77b4\",\"#2ca02c\",\"#8c564b\",\"#9467bd\",\"#9467bd\",\"#2ca02c\",\"#9467bd\",\"#2ca02c\",\"#9467bd\",\"#d62728\",\"#2ca02c\",\"#1f77b4\",\"#1f77b4\",\"#d62728\",\"#9467bd\",\"#1f77b4\",\"#9467bd\",\"#1f77b4\",\"#2ca02c\",\"#8c564b\",\"#1f77b4\",\"#d62728\",\"#1f77b4\",\"#8c564b\",\"#1f77b4\",\"#d62728\",\"#d62728\",\"#d62728\",\"#2ca02c\",\"#2ca02c\",\"#9467bd\",\"#1f77b4\",\"#ff7f0e\",\"#2ca02c\",\"#2ca02c\",\"#1f77b4\",\"#d62728\",\"#1f77b4\",\"#d62728\",\"#9467bd\",\"#2ca02c\",\"#2ca02c\",\"#ff7f0e\",\"#8c564b\",\"#d62728\",\"#ff7f0e\",\"#9467bd\",\"#2ca02c\",\"#8c564b\",\"#2ca02c\",\"#2ca02c\",\"#9467bd\",\"#d62728\",\"#1f77b4\",\"#8c564b\",\"#d62728\",\"#8c564b\",\"#2ca02c\",\"#9467bd\",\"#1f77b4\",\"#1f77b4\",\"#9467bd\",\"#8c564b\",\"#9467bd\",\"#8c564b\",\"#d62728\",\"#1f77b4\",\"#d62728\",\"#d62728\",\"#8c564b\",\"#2ca02c\",\"#9467bd\",\"#1f77b4\",\"#9467bd\",\"#1f77b4\",\"#ff7f0e\",\"#1f77b4\",\"#d62728\",\"#8c564b\",\"#1f77b4\",\"#ff7f0e\",\"#d62728\",\"#1f77b4\",\"#d62728\",\"#ff7f0e\",\"#9467bd\",\"#9467bd\",\"#8c564b\",\"#9467bd\",\"#9467bd\",\"#9467bd\",\"#d62728\",\"#9467bd\",\"#2ca02c\",\"#d62728\",\"#1f77b4\",\"#1f77b4\",\"#d62728\",\"#9467bd\",\"#d62728\",\"#ff7f0e\",\"#1f77b4\",\"#2ca02c\",\"#d62728\",\"#9467bd\",\"#d62728\",\"#d62728\",\"#9467bd\",\"#1f77b4\",\"#1f77b4\",\"#1f77b4\",\"#d62728\",\"#9467bd\",\"#9467bd\",\"#d62728\",\"#9467bd\",\"#d62728\",\"#2ca02c\",\"#d62728\",\"#2ca02c\",\"#d62728\",\"#1f77b4\",\"#1f77b4\",\"#1f77b4\",\"#9467bd\",\"#2ca02c\",\"#1f77b4\",\"#d62728\",\"#8c564b\",\"#9467bd\",\"#8c564b\",\"#1f77b4\",\"#d62728\",\"#1f77b4\",\"#d62728\",\"#d62728\",\"#1f77b4\",\"#9467bd\",\"#2ca02c\",\"#ff7f0e\",\"#2ca02c\",\"#9467bd\",\"#8c564b\",\"#ff7f0e\",\"#2ca02c\",\"#d62728\",\"#2ca02c\",\"#d62728\",\"#d62728\",\"#1f77b4\",\"#9467bd\",\"#1f77b4\",\"#1f77b4\",\"#2ca02c\",\"#8c564b\",\"#d62728\",\"#8c564b\",\"#8c564b\",\"#1f77b4\",\"#8c564b\",\"#ff7f0e\",\"#9467bd\",\"#d62728\",\"#1f77b4\",\"#9467bd\",\"#8c564b\",\"#8c564b\",\"#8c564b\",\"#9467bd\",\"#2ca02c\",\"#9467bd\",\"#1f77b4\",\"#8c564b\",\"#8c564b\",\"#2ca02c\",\"#d62728\",\"#1f77b4\",\"#2ca02c\",\"#8c564b\",\"#d62728\",\"#2ca02c\",\"#d62728\",\"#1f77b4\",\"#d62728\",\"#8c564b\",\"#ff7f0e\",\"#d62728\",\"#ff7f0e\",\"#1f77b4\",\"#d62728\",\"#2ca02c\",\"#9467bd\",\"#ff7f0e\",\"#8c564b\",\"#ff7f0e\",\"#8c564b\",\"#8c564b\",\"#9467bd\",\"#ff7f0e\",\"#d62728\",\"#2ca02c\",\"#8c564b\",\"#9467bd\",\"#d62728\",\"#2ca02c\",\"#2ca02c\",\"#2ca02c\",\"#8c564b\",\"#2ca02c\",\"#1f77b4\",\"#8c564b\",\"#1f77b4\",\"#1f77b4\",\"#8c564b\",\"#8c564b\",\"#1f77b4\",\"#1f77b4\",\"#2ca02c\",\"#1f77b4\",\"#d62728\",\"#2ca02c\",\"#9467bd\",\"#8c564b\",\"#ff7f0e\",\"#d62728\",\"#d62728\",\"#8c564b\",\"#d62728\",\"#d62728\",\"#d62728\",\"#8c564b\",\"#d62728\",\"#1f77b4\",\"#d62728\",\"#1f77b4\",\"#2ca02c\",\"#d62728\",\"#1f77b4\",\"#ff7f0e\",\"#ff7f0e\",\"#8c564b\",\"#8c564b\",\"#1f77b4\",\"#2ca02c\",\"#d62728\",\"#1f77b4\",\"#d62728\",\"#1f77b4\",\"#2ca02c\",\"#8c564b\",\"#d62728\",\"#9467bd\",\"#2ca02c\",\"#9467bd\",\"#2ca02c\",\"#ff7f0e\",\"#9467bd\",\"#9467bd\",\"#ff7f0e\",\"#d62728\",\"#d62728\",\"#ff7f0e\",\"#9467bd\",\"#2ca02c\",\"#1f77b4\",\"#1f77b4\",\"#1f77b4\",\"#2ca02c\",\"#1f77b4\",\"#ff7f0e\",\"#9467bd\",\"#d62728\",\"#1f77b4\",\"#1f77b4\",\"#2ca02c\",\"#1f77b4\",\"#2ca02c\",\"#d62728\",\"#8c564b\",\"#d62728\",\"#d62728\",\"#1f77b4\",\"#d62728\",\"#1f77b4\",\"#2ca02c\",\"#d62728\",\"#d62728\",\"#1f77b4\",\"#1f77b4\",\"#d62728\",\"#d62728\",\"#1f77b4\",\"#d62728\",\"#1f77b4\",\"#d62728\",\"#2ca02c\",\"#2ca02c\",\"#d62728\",\"#1f77b4\",\"#d62728\",\"#1f77b4\",\"#9467bd\",\"#8c564b\",\"#8c564b\",\"#8c564b\",\"#9467bd\",\"#9467bd\",\"#1f77b4\",\"#9467bd\",\"#1f77b4\",\"#1f77b4\",\"#8c564b\",\"#d62728\",\"#d62728\",\"#9467bd\",\"#1f77b4\",\"#ff7f0e\",\"#2ca02c\",\"#8c564b\",\"#2ca02c\",\"#2ca02c\",\"#8c564b\",\"#9467bd\",\"#d62728\",\"#8c564b\",\"#9467bd\",\"#8c564b\",\"#1f77b4\",\"#8c564b\",\"#2ca02c\",\"#1f77b4\",\"#8c564b\",\"#1f77b4\",\"#8c564b\",\"#d62728\",\"#2ca02c\",\"#2ca02c\",\"#1f77b4\",\"#d62728\",\"#d62728\",\"#2ca02c\",\"#2ca02c\",\"#d62728\",\"#ff7f0e\",\"#1f77b4\",\"#d62728\",\"#1f77b4\",\"#d62728\",\"#9467bd\",\"#9467bd\",\"#d62728\",\"#2ca02c\",\"#1f77b4\",\"#2ca02c\",\"#1f77b4\",\"#9467bd\",\"#d62728\",\"#ff7f0e\",\"#d62728\",\"#9467bd\",\"#9467bd\",\"#1f77b4\",\"#d62728\",\"#2ca02c\",\"#d62728\",\"#9467bd\",\"#9467bd\",\"#2ca02c\",\"#8c564b\",\"#2ca02c\",\"#9467bd\",\"#8c564b\",\"#d62728\",\"#9467bd\",\"#8c564b\",\"#1f77b4\",\"#9467bd\",\"#ff7f0e\",\"#8c564b\",\"#1f77b4\",\"#2ca02c\",\"#9467bd\",\"#1f77b4\",\"#2ca02c\",\"#9467bd\",\"#1f77b4\",\"#1f77b4\",\"#d62728\",\"#d62728\",\"#8c564b\",\"#1f77b4\",\"#2ca02c\",\"#2ca02c\",\"#1f77b4\",\"#1f77b4\",\"#d62728\",\"#d62728\",\"#9467bd\",\"#2ca02c\",\"#ff7f0e\",\"#2ca02c\",\"#9467bd\",\"#9467bd\",\"#ff7f0e\",\"#1f77b4\",\"#ff7f0e\",\"#2ca02c\",\"#ff7f0e\",\"#1f77b4\",\"#d62728\",\"#2ca02c\",\"#d62728\",\"#8c564b\",\"#8c564b\",\"#8c564b\",\"#9467bd\",\"#ff7f0e\",\"#d62728\",\"#2ca02c\",\"#8c564b\",\"#1f77b4\",\"#1f77b4\",\"#9467bd\",\"#9467bd\",\"#1f77b4\",\"#8c564b\",\"#9467bd\",\"#9467bd\",\"#1f77b4\",\"#d62728\",\"#1f77b4\",\"#d62728\",\"#d62728\",\"#d62728\",\"#1f77b4\",\"#1f77b4\",\"#d62728\",\"#d62728\",\"#1f77b4\",\"#8c564b\",\"#2ca02c\",\"#8c564b\",\"#ff7f0e\",\"#8c564b\",\"#9467bd\",\"#d62728\",\"#1f77b4\",\"#2ca02c\",\"#9467bd\",\"#2ca02c\",\"#2ca02c\",\"#1f77b4\",\"#d62728\",\"#2ca02c\",\"#ff7f0e\",\"#1f77b4\",\"#2ca02c\",\"#8c564b\",\"#d62728\",\"#2ca02c\",\"#d62728\",\"#1f77b4\",\"#1f77b4\",\"#1f77b4\",\"#d62728\",\"#1f77b4\",\"#1f77b4\",\"#1f77b4\",\"#9467bd\",\"#9467bd\",\"#d62728\",\"#8c564b\",\"#9467bd\",\"#2ca02c\",\"#9467bd\",\"#2ca02c\",\"#1f77b4\",\"#9467bd\",\"#d62728\",\"#d62728\",\"#8c564b\",\"#d62728\",\"#1f77b4\",\"#d62728\",\"#9467bd\",\"#9467bd\",\"#8c564b\",\"#1f77b4\",\"#1f77b4\",\"#9467bd\",\"#d62728\",\"#9467bd\",\"#1f77b4\",\"#8c564b\",\"#9467bd\",\"#d62728\",\"#9467bd\",\"#1f77b4\",\"#d62728\",\"#2ca02c\",\"#9467bd\",\"#1f77b4\",\"#8c564b\",\"#2ca02c\",\"#1f77b4\",\"#2ca02c\",\"#d62728\",\"#9467bd\",\"#1f77b4\",\"#ff7f0e\",\"#9467bd\",\"#d62728\",\"#d62728\",\"#9467bd\",\"#8c564b\",\"#2ca02c\",\"#d62728\",\"#8c564b\",\"#ff7f0e\",\"#1f77b4\",\"#9467bd\",\"#2ca02c\",\"#ff7f0e\",\"#9467bd\",\"#2ca02c\",\"#2ca02c\",\"#9467bd\",\"#d62728\",\"#9467bd\",\"#9467bd\",\"#9467bd\",\"#8c564b\",\"#d62728\",\"#1f77b4\",\"#2ca02c\",\"#1f77b4\",\"#8c564b\",\"#9467bd\",\"#d62728\",\"#d62728\",\"#ff7f0e\",\"#ff7f0e\",\"#1f77b4\",\"#1f77b4\",\"#2ca02c\",\"#d62728\",\"#1f77b4\",\"#2ca02c\",\"#1f77b4\",\"#9467bd\",\"#d62728\",\"#1f77b4\",\"#1f77b4\",\"#ff7f0e\",\"#ff7f0e\",\"#2ca02c\",\"#2ca02c\",\"#2ca02c\",\"#1f77b4\",\"#d62728\",\"#1f77b4\",\"#d62728\",\"#1f77b4\",\"#9467bd\",\"#9467bd\",\"#1f77b4\",\"#ff7f0e\",\"#2ca02c\",\"#2ca02c\",\"#1f77b4\",\"#8c564b\",\"#1f77b4\",\"#9467bd\",\"#2ca02c\",\"#1f77b4\",\"#d62728\",\"#d62728\",\"#8c564b\",\"#9467bd\",\"#9467bd\",\"#8c564b\",\"#8c564b\",\"#1f77b4\",\"#1f77b4\",\"#d62728\",\"#2ca02c\",\"#1f77b4\",\"#2ca02c\",\"#d62728\",\"#d62728\",\"#2ca02c\",\"#d62728\",\"#ff7f0e\",\"#d62728\",\"#9467bd\",\"#1f77b4\",\"#ff7f0e\",\"#8c564b\",\"#1f77b4\",\"#8c564b\",\"#2ca02c\",\"#d62728\",\"#2ca02c\",\"#9467bd\",\"#1f77b4\",\"#2ca02c\",\"#9467bd\",\"#9467bd\",\"#d62728\",\"#8c564b\",\"#1f77b4\",\"#9467bd\",\"#9467bd\",\"#d62728\",\"#d62728\",\"#2ca02c\",\"#2ca02c\",\"#8c564b\",\"#9467bd\",\"#9467bd\",\"#1f77b4\",\"#8c564b\",\"#2ca02c\",\"#d62728\",\"#d62728\",\"#d62728\",\"#d62728\",\"#9467bd\",\"#1f77b4\",\"#9467bd\",\"#1f77b4\",\"#1f77b4\",\"#2ca02c\",\"#1f77b4\",\"#1f77b4\",\"#ff7f0e\",\"#8c564b\",\"#9467bd\",\"#d62728\",\"#2ca02c\",\"#9467bd\",\"#d62728\",\"#ff7f0e\",\"#9467bd\",\"#d62728\",\"#9467bd\",\"#2ca02c\",\"#9467bd\",\"#9467bd\",\"#1f77b4\",\"#2ca02c\",\"#1f77b4\",\"#2ca02c\",\"#1f77b4\",\"#1f77b4\",\"#8c564b\",\"#8c564b\",\"#2ca02c\",\"#2ca02c\",\"#2ca02c\",\"#8c564b\",\"#2ca02c\",\"#d62728\",\"#9467bd\",\"#9467bd\",\"#2ca02c\",\"#1f77b4\",\"#2ca02c\",\"#8c564b\",\"#1f77b4\",\"#9467bd\",\"#1f77b4\",\"#2ca02c\",\"#8c564b\",\"#2ca02c\",\"#9467bd\",\"#d62728\",\"#d62728\",\"#1f77b4\",\"#1f77b4\",\"#8c564b\",\"#8c564b\",\"#1f77b4\",\"#ff7f0e\",\"#ff7f0e\",\"#2ca02c\",\"#2ca02c\",\"#ff7f0e\",\"#1f77b4\",\"#1f77b4\",\"#1f77b4\",\"#d62728\",\"#8c564b\",\"#2ca02c\",\"#2ca02c\",\"#1f77b4\",\"#ff7f0e\",\"#d62728\",\"#ff7f0e\",\"#9467bd\",\"#d62728\",\"#1f77b4\",\"#9467bd\",\"#1f77b4\",\"#1f77b4\",\"#1f77b4\",\"#d62728\",\"#1f77b4\",\"#9467bd\",\"#d62728\",\"#d62728\",\"#8c564b\",\"#9467bd\",\"#9467bd\",\"#9467bd\",\"#ff7f0e\",\"#1f77b4\",\"#9467bd\",\"#1f77b4\",\"#9467bd\",\"#d62728\",\"#8c564b\",\"#1f77b4\",\"#9467bd\",\"#8c564b\",\"#d62728\",\"#d62728\",\"#1f77b4\",\"#ff7f0e\",\"#ff7f0e\",\"#9467bd\",\"#d62728\",\"#2ca02c\",\"#8c564b\",\"#1f77b4\",\"#8c564b\",\"#1f77b4\",\"#9467bd\",\"#d62728\",\"#9467bd\",\"#d62728\",\"#d62728\",\"#2ca02c\",\"#8c564b\",\"#ff7f0e\",\"#9467bd\",\"#d62728\",\"#2ca02c\",\"#8c564b\",\"#d62728\",\"#d62728\",\"#1f77b4\",\"#1f77b4\",\"#2ca02c\",\"#ff7f0e\",\"#2ca02c\",\"#9467bd\",\"#1f77b4\",\"#ff7f0e\",\"#ff7f0e\",\"#8c564b\",\"#9467bd\",\"#2ca02c\",\"#d62728\",\"#d62728\",\"#8c564b\",\"#2ca02c\",\"#1f77b4\",\"#ff7f0e\",\"#8c564b\",\"#1f77b4\",\"#8c564b\",\"#d62728\",\"#8c564b\",\"#8c564b\",\"#9467bd\",\"#2ca02c\",\"#2ca02c\",\"#d62728\",\"#1f77b4\",\"#8c564b\",\"#9467bd\",\"#d62728\",\"#2ca02c\",\"#ff7f0e\",\"#d62728\",\"#d62728\",\"#8c564b\",\"#2ca02c\",\"#d62728\",\"#2ca02c\",\"#d62728\",\"#1f77b4\",\"#2ca02c\",\"#2ca02c\",\"#9467bd\",\"#9467bd\",\"#1f77b4\",\"#9467bd\",\"#8c564b\",\"#d62728\",\"#2ca02c\",\"#d62728\",\"#d62728\",\"#1f77b4\",\"#1f77b4\",\"#d62728\",\"#2ca02c\",\"#d62728\",\"#ff7f0e\",\"#9467bd\",\"#d62728\",\"#d62728\",\"#d62728\",\"#2ca02c\",\"#d62728\",\"#d62728\",\"#d62728\",\"#9467bd\",\"#d62728\",\"#9467bd\",\"#ff7f0e\",\"#d62728\",\"#d62728\",\"#1f77b4\",\"#9467bd\",\"#d62728\",\"#2ca02c\",\"#9467bd\",\"#1f77b4\",\"#d62728\",\"#8c564b\",\"#1f77b4\",\"#2ca02c\",\"#8c564b\",\"#9467bd\",\"#d62728\",\"#d62728\",\"#2ca02c\",\"#ff7f0e\",\"#d62728\",\"#9467bd\",\"#d62728\",\"#9467bd\",\"#ff7f0e\",\"#1f77b4\",\"#1f77b4\",\"#1f77b4\",\"#d62728\",\"#2ca02c\",\"#1f77b4\",\"#d62728\",\"#2ca02c\",\"#2ca02c\",\"#2ca02c\",\"#9467bd\",\"#9467bd\",\"#d62728\",\"#8c564b\",\"#9467bd\",\"#d62728\",\"#2ca02c\",\"#d62728\",\"#d62728\",\"#1f77b4\",\"#d62728\",\"#1f77b4\",\"#8c564b\",\"#9467bd\",\"#9467bd\",\"#d62728\",\"#1f77b4\",\"#2ca02c\",\"#2ca02c\",\"#1f77b4\",\"#9467bd\",\"#ff7f0e\",\"#1f77b4\",\"#d62728\",\"#1f77b4\",\"#ff7f0e\",\"#2ca02c\",\"#2ca02c\",\"#1f77b4\",\"#8c564b\",\"#2ca02c\",\"#2ca02c\",\"#1f77b4\",\"#8c564b\",\"#1f77b4\",\"#9467bd\",\"#1f77b4\",\"#8c564b\",\"#ff7f0e\",\"#9467bd\",\"#1f77b4\",\"#2ca02c\",\"#1f77b4\",\"#1f77b4\",\"#1f77b4\",\"#2ca02c\",\"#8c564b\",\"#2ca02c\",\"#1f77b4\",\"#9467bd\",\"#2ca02c\",\"#9467bd\",\"#8c564b\",\"#d62728\",\"#d62728\",\"#d62728\",\"#1f77b4\",\"#1f77b4\",\"#8c564b\",\"#d62728\",\"#d62728\",\"#d62728\",\"#d62728\",\"#1f77b4\",\"#9467bd\",\"#2ca02c\",\"#9467bd\",\"#9467bd\",\"#2ca02c\",\"#d62728\",\"#d62728\",\"#d62728\",\"#d62728\",\"#1f77b4\",\"#1f77b4\",\"#9467bd\",\"#1f77b4\",\"#2ca02c\",\"#8c564b\",\"#d62728\",\"#1f77b4\",\"#2ca02c\",\"#9467bd\",\"#ff7f0e\",\"#d62728\",\"#9467bd\",\"#d62728\",\"#9467bd\",\"#d62728\",\"#9467bd\",\"#8c564b\",\"#d62728\",\"#1f77b4\",\"#8c564b\",\"#9467bd\",\"#d62728\",\"#1f77b4\",\"#1f77b4\",\"#ff7f0e\",\"#8c564b\",\"#2ca02c\",\"#2ca02c\",\"#8c564b\",\"#d62728\",\"#2ca02c\",\"#d62728\",\"#2ca02c\",\"#d62728\",\"#2ca02c\",\"#d62728\",\"#d62728\",\"#ff7f0e\",\"#8c564b\",\"#1f77b4\",\"#2ca02c\",\"#1f77b4\",\"#ff7f0e\",\"#1f77b4\",\"#2ca02c\",\"#2ca02c\",\"#9467bd\",\"#8c564b\",\"#1f77b4\",\"#d62728\",\"#2ca02c\",\"#1f77b4\",\"#9467bd\",\"#d62728\",\"#d62728\",\"#d62728\",\"#d62728\",\"#8c564b\",\"#8c564b\",\"#ff7f0e\",\"#1f77b4\",\"#2ca02c\",\"#2ca02c\",\"#1f77b4\",\"#1f77b4\",\"#1f77b4\",\"#ff7f0e\",\"#ff7f0e\",\"#d62728\",\"#9467bd\",\"#d62728\",\"#d62728\",\"#d62728\",\"#1f77b4\",\"#9467bd\",\"#9467bd\",\"#d62728\",\"#9467bd\",\"#8c564b\",\"#8c564b\",\"#d62728\",\"#8c564b\",\"#1f77b4\",\"#1f77b4\",\"#8c564b\",\"#1f77b4\",\"#1f77b4\",\"#d62728\",\"#d62728\",\"#1f77b4\",\"#d62728\",\"#2ca02c\",\"#8c564b\",\"#d62728\",\"#9467bd\",\"#9467bd\",\"#1f77b4\",\"#1f77b4\",\"#d62728\",\"#ff7f0e\",\"#d62728\",\"#9467bd\",\"#1f77b4\",\"#d62728\",\"#d62728\",\"#8c564b\",\"#8c564b\",\"#2ca02c\",\"#1f77b4\",\"#1f77b4\",\"#8c564b\",\"#9467bd\",\"#8c564b\",\"#1f77b4\",\"#d62728\",\"#2ca02c\",\"#1f77b4\",\"#d62728\",\"#8c564b\",\"#d62728\",\"#2ca02c\",\"#1f77b4\",\"#1f77b4\",\"#d62728\",\"#1f77b4\",\"#ff7f0e\",\"#2ca02c\",\"#2ca02c\",\"#1f77b4\",\"#1f77b4\",\"#d62728\",\"#8c564b\",\"#2ca02c\",\"#9467bd\",\"#d62728\",\"#9467bd\",\"#1f77b4\",\"#2ca02c\",\"#8c564b\",\"#2ca02c\",\"#d62728\",\"#ff7f0e\",\"#1f77b4\",\"#9467bd\",\"#9467bd\",\"#2ca02c\",\"#ff7f0e\",\"#d62728\",\"#2ca02c\",\"#ff7f0e\",\"#9467bd\",\"#1f77b4\",\"#1f77b4\",\"#9467bd\",\"#d62728\",\"#2ca02c\",\"#9467bd\",\"#2ca02c\",\"#8c564b\",\"#9467bd\",\"#9467bd\",\"#8c564b\",\"#2ca02c\",\"#2ca02c\",\"#ff7f0e\",\"#d62728\",\"#1f77b4\",\"#9467bd\",\"#d62728\",\"#ff7f0e\",\"#1f77b4\",\"#8c564b\",\"#1f77b4\",\"#1f77b4\",\"#8c564b\",\"#8c564b\",\"#8c564b\",\"#d62728\",\"#1f77b4\",\"#8c564b\",\"#9467bd\",\"#2ca02c\",\"#1f77b4\",\"#2ca02c\",\"#9467bd\",\"#d62728\",\"#1f77b4\",\"#ff7f0e\",\"#1f77b4\",\"#ff7f0e\",\"#1f77b4\",\"#1f77b4\",\"#d62728\",\"#1f77b4\",\"#9467bd\",\"#1f77b4\",\"#1f77b4\",\"#d62728\",\"#2ca02c\",\"#8c564b\",\"#1f77b4\",\"#1f77b4\",\"#8c564b\",\"#9467bd\",\"#1f77b4\",\"#d62728\",\"#1f77b4\",\"#d62728\",\"#d62728\",\"#d62728\",\"#9467bd\",\"#1f77b4\",\"#ff7f0e\",\"#2ca02c\",\"#1f77b4\",\"#d62728\",\"#2ca02c\",\"#8c564b\",\"#8c564b\",\"#d62728\",\"#1f77b4\",\"#9467bd\",\"#d62728\",\"#2ca02c\",\"#ff7f0e\",\"#1f77b4\",\"#d62728\",\"#1f77b4\",\"#1f77b4\",\"#9467bd\",\"#8c564b\",\"#8c564b\",\"#2ca02c\",\"#d62728\",\"#d62728\",\"#1f77b4\",\"#d62728\",\"#2ca02c\",\"#ff7f0e\",\"#9467bd\",\"#1f77b4\",\"#d62728\",\"#2ca02c\",\"#1f77b4\",\"#2ca02c\",\"#2ca02c\",\"#d62728\",\"#d62728\",\"#8c564b\",\"#9467bd\",\"#2ca02c\",\"#2ca02c\",\"#d62728\",\"#ff7f0e\",\"#d62728\",\"#ff7f0e\",\"#8c564b\",\"#9467bd\",\"#d62728\",\"#d62728\",\"#9467bd\",\"#8c564b\",\"#d62728\",\"#d62728\",\"#1f77b4\",\"#9467bd\",\"#d62728\",\"#8c564b\",\"#2ca02c\",\"#d62728\",\"#9467bd\",\"#ff7f0e\",\"#8c564b\",\"#d62728\",\"#9467bd\",\"#ff7f0e\",\"#1f77b4\",\"#ff7f0e\",\"#9467bd\",\"#d62728\",\"#d62728\",\"#8c564b\",\"#d62728\",\"#9467bd\",\"#8c564b\",\"#8c564b\",\"#2ca02c\",\"#8c564b\",\"#1f77b4\",\"#9467bd\",\"#9467bd\",\"#9467bd\",\"#d62728\",\"#d62728\",\"#9467bd\",\"#d62728\",\"#1f77b4\",\"#d62728\",\"#9467bd\",\"#d62728\",\"#8c564b\",\"#2ca02c\",\"#ff7f0e\",\"#1f77b4\",\"#1f77b4\",\"#8c564b\",\"#9467bd\",\"#d62728\",\"#d62728\",\"#1f77b4\",\"#d62728\",\"#9467bd\",\"#d62728\",\"#2ca02c\",\"#2ca02c\",\"#8c564b\",\"#2ca02c\",\"#ff7f0e\",\"#8c564b\",\"#2ca02c\",\"#1f77b4\",\"#1f77b4\",\"#9467bd\",\"#1f77b4\",\"#ff7f0e\",\"#9467bd\",\"#1f77b4\",\"#d62728\",\"#1f77b4\",\"#1f77b4\",\"#1f77b4\",\"#d62728\",\"#2ca02c\",\"#9467bd\",\"#d62728\",\"#ff7f0e\",\"#1f77b4\",\"#1f77b4\",\"#9467bd\",\"#8c564b\",\"#1f77b4\",\"#9467bd\",\"#2ca02c\",\"#2ca02c\",\"#8c564b\",\"#d62728\",\"#1f77b4\",\"#ff7f0e\",\"#1f77b4\",\"#1f77b4\",\"#8c564b\",\"#d62728\",\"#1f77b4\",\"#9467bd\",\"#9467bd\",\"#8c564b\",\"#2ca02c\",\"#9467bd\",\"#9467bd\",\"#8c564b\",\"#8c564b\",\"#9467bd\",\"#1f77b4\",\"#ff7f0e\",\"#9467bd\",\"#d62728\",\"#1f77b4\",\"#8c564b\",\"#d62728\",\"#2ca02c\",\"#8c564b\",\"#d62728\",\"#9467bd\",\"#d62728\",\"#2ca02c\",\"#1f77b4\",\"#8c564b\",\"#d62728\",\"#d62728\",\"#9467bd\",\"#d62728\",\"#1f77b4\",\"#d62728\",\"#2ca02c\",\"#1f77b4\",\"#1f77b4\",\"#1f77b4\",\"#2ca02c\",\"#d62728\",\"#d62728\",\"#8c564b\",\"#1f77b4\",\"#d62728\",\"#9467bd\",\"#2ca02c\",\"#9467bd\",\"#d62728\",\"#9467bd\",\"#2ca02c\",\"#9467bd\",\"#d62728\",\"#d62728\",\"#9467bd\",\"#1f77b4\",\"#1f77b4\",\"#9467bd\",\"#9467bd\",\"#8c564b\",\"#9467bd\",\"#d62728\",\"#1f77b4\",\"#9467bd\",\"#d62728\",\"#d62728\",\"#2ca02c\",\"#d62728\",\"#9467bd\",\"#1f77b4\",\"#d62728\",\"#1f77b4\",\"#1f77b4\",\"#1f77b4\",\"#1f77b4\",\"#ff7f0e\",\"#d62728\",\"#1f77b4\",\"#d62728\",\"#ff7f0e\",\"#d62728\",\"#9467bd\",\"#ff7f0e\",\"#2ca02c\",\"#9467bd\",\"#1f77b4\",\"#9467bd\",\"#1f77b4\",\"#d62728\",\"#1f77b4\",\"#d62728\",\"#2ca02c\",\"#d62728\",\"#d62728\",\"#ff7f0e\",\"#2ca02c\",\"#1f77b4\",\"#8c564b\",\"#ff7f0e\",\"#9467bd\",\"#9467bd\",\"#1f77b4\",\"#d62728\",\"#d62728\",\"#8c564b\",\"#d62728\",\"#d62728\",\"#9467bd\",\"#2ca02c\",\"#2ca02c\",\"#1f77b4\",\"#1f77b4\",\"#9467bd\",\"#d62728\",\"#2ca02c\",\"#d62728\",\"#d62728\",\"#9467bd\",\"#2ca02c\",\"#2ca02c\",\"#8c564b\",\"#d62728\",\"#9467bd\",\"#9467bd\",\"#ff7f0e\",\"#2ca02c\",\"#d62728\",\"#ff7f0e\",\"#d62728\",\"#1f77b4\",\"#1f77b4\",\"#1f77b4\",\"#ff7f0e\",\"#1f77b4\",\"#9467bd\",\"#1f77b4\",\"#d62728\",\"#9467bd\",\"#d62728\",\"#1f77b4\",\"#1f77b4\",\"#1f77b4\",\"#ff7f0e\",\"#d62728\",\"#d62728\",\"#d62728\",\"#9467bd\",\"#9467bd\",\"#d62728\",\"#1f77b4\",\"#d62728\",\"#1f77b4\",\"#9467bd\",\"#2ca02c\",\"#d62728\",\"#1f77b4\",\"#9467bd\",\"#d62728\",\"#2ca02c\",\"#2ca02c\",\"#d62728\",\"#2ca02c\",\"#2ca02c\",\"#d62728\",\"#9467bd\",\"#ff7f0e\",\"#8c564b\",\"#2ca02c\",\"#9467bd\",\"#9467bd\",\"#2ca02c\",\"#9467bd\",\"#d62728\",\"#d62728\",\"#d62728\",\"#d62728\",\"#d62728\",\"#8c564b\",\"#9467bd\",\"#9467bd\",\"#d62728\",\"#2ca02c\",\"#d62728\",\"#8c564b\",\"#1f77b4\",\"#ff7f0e\",\"#9467bd\",\"#9467bd\",\"#9467bd\",\"#8c564b\",\"#1f77b4\",\"#d62728\",\"#9467bd\",\"#9467bd\",\"#ff7f0e\",\"#1f77b4\",\"#1f77b4\",\"#d62728\",\"#2ca02c\",\"#9467bd\",\"#ff7f0e\",\"#8c564b\",\"#d62728\",\"#8c564b\",\"#d62728\",\"#1f77b4\",\"#1f77b4\",\"#8c564b\",\"#9467bd\",\"#d62728\",\"#d62728\",\"#ff7f0e\",\"#9467bd\",\"#d62728\",\"#8c564b\",\"#9467bd\",\"#1f77b4\",\"#1f77b4\",\"#9467bd\",\"#2ca02c\",\"#ff7f0e\",\"#d62728\",\"#d62728\",\"#ff7f0e\",\"#1f77b4\",\"#9467bd\",\"#d62728\",\"#1f77b4\",\"#8c564b\",\"#d62728\",\"#1f77b4\",\"#1f77b4\",\"#9467bd\",\"#8c564b\",\"#1f77b4\",\"#1f77b4\",\"#2ca02c\",\"#9467bd\",\"#1f77b4\",\"#8c564b\",\"#d62728\",\"#1f77b4\",\"#2ca02c\",\"#8c564b\",\"#2ca02c\",\"#1f77b4\",\"#ff7f0e\",\"#2ca02c\",\"#d62728\",\"#8c564b\",\"#ff7f0e\",\"#2ca02c\",\"#1f77b4\",\"#8c564b\",\"#1f77b4\",\"#8c564b\",\"#8c564b\",\"#1f77b4\",\"#d62728\",\"#2ca02c\",\"#8c564b\",\"#d62728\",\"#9467bd\",\"#8c564b\",\"#d62728\",\"#9467bd\",\"#2ca02c\",\"#2ca02c\",\"#d62728\",\"#1f77b4\",\"#1f77b4\",\"#8c564b\",\"#d62728\",\"#9467bd\",\"#d62728\",\"#8c564b\",\"#2ca02c\",\"#9467bd\",\"#9467bd\",\"#8c564b\",\"#d62728\",\"#d62728\",\"#9467bd\",\"#1f77b4\",\"#d62728\",\"#2ca02c\",\"#d62728\",\"#d62728\",\"#1f77b4\",\"#d62728\",\"#1f77b4\",\"#d62728\",\"#1f77b4\",\"#d62728\",\"#d62728\",\"#8c564b\",\"#9467bd\",\"#9467bd\",\"#ff7f0e\",\"#d62728\",\"#2ca02c\",\"#8c564b\",\"#9467bd\",\"#1f77b4\",\"#d62728\",\"#d62728\",\"#1f77b4\",\"#1f77b4\",\"#d62728\",\"#d62728\",\"#1f77b4\",\"#8c564b\",\"#1f77b4\",\"#d62728\",\"#d62728\",\"#d62728\",\"#1f77b4\",\"#8c564b\",\"#9467bd\",\"#1f77b4\",\"#d62728\",\"#d62728\",\"#9467bd\",\"#2ca02c\",\"#2ca02c\",\"#d62728\",\"#1f77b4\",\"#1f77b4\",\"#8c564b\",\"#8c564b\",\"#d62728\",\"#9467bd\",\"#d62728\",\"#2ca02c\",\"#1f77b4\",\"#1f77b4\",\"#8c564b\",\"#1f77b4\",\"#2ca02c\",\"#d62728\",\"#d62728\",\"#9467bd\",\"#1f77b4\",\"#9467bd\",\"#8c564b\",\"#d62728\",\"#d62728\",\"#1f77b4\",\"#9467bd\",\"#8c564b\",\"#d62728\",\"#2ca02c\",\"#1f77b4\",\"#ff7f0e\",\"#9467bd\",\"#d62728\",\"#2ca02c\",\"#d62728\",\"#1f77b4\",\"#d62728\",\"#2ca02c\",\"#8c564b\",\"#1f77b4\",\"#d62728\",\"#8c564b\",\"#2ca02c\",\"#d62728\",\"#2ca02c\",\"#d62728\",\"#2ca02c\",\"#8c564b\",\"#9467bd\",\"#d62728\",\"#d62728\",\"#2ca02c\",\"#8c564b\",\"#d62728\",\"#ff7f0e\",\"#8c564b\",\"#8c564b\",\"#1f77b4\",\"#1f77b4\",\"#8c564b\",\"#9467bd\",\"#8c564b\",\"#d62728\",\"#2ca02c\",\"#2ca02c\",\"#1f77b4\",\"#8c564b\",\"#9467bd\",\"#8c564b\",\"#ff7f0e\",\"#d62728\",\"#2ca02c\",\"#d62728\",\"#ff7f0e\",\"#ff7f0e\",\"#1f77b4\",\"#d62728\",\"#2ca02c\",\"#9467bd\",\"#d62728\",\"#1f77b4\",\"#d62728\",\"#9467bd\",\"#9467bd\",\"#ff7f0e\",\"#d62728\",\"#9467bd\",\"#1f77b4\",\"#8c564b\",\"#d62728\",\"#d62728\",\"#1f77b4\",\"#1f77b4\",\"#1f77b4\",\"#8c564b\",\"#9467bd\",\"#d62728\",\"#8c564b\",\"#2ca02c\",\"#9467bd\",\"#1f77b4\",\"#9467bd\",\"#1f77b4\",\"#8c564b\",\"#9467bd\",\"#ff7f0e\",\"#9467bd\",\"#9467bd\",\"#d62728\",\"#9467bd\",\"#1f77b4\",\"#1f77b4\",\"#1f77b4\",\"#8c564b\",\"#9467bd\",\"#d62728\",\"#9467bd\",\"#d62728\",\"#9467bd\",\"#1f77b4\",\"#d62728\",\"#9467bd\",\"#ff7f0e\",\"#1f77b4\",\"#d62728\",\"#2ca02c\",\"#1f77b4\",\"#9467bd\",\"#2ca02c\",\"#8c564b\",\"#1f77b4\",\"#1f77b4\",\"#d62728\",\"#d62728\",\"#1f77b4\",\"#1f77b4\",\"#ff7f0e\",\"#2ca02c\",\"#2ca02c\",\"#2ca02c\",\"#d62728\",\"#2ca02c\",\"#1f77b4\",\"#1f77b4\",\"#8c564b\",\"#d62728\",\"#9467bd\",\"#1f77b4\",\"#2ca02c\",\"#9467bd\",\"#1f77b4\",\"#ff7f0e\",\"#d62728\",\"#9467bd\",\"#d62728\",\"#d62728\",\"#8c564b\",\"#d62728\",\"#8c564b\",\"#d62728\",\"#ff7f0e\",\"#2ca02c\",\"#9467bd\",\"#2ca02c\",\"#1f77b4\",\"#9467bd\",\"#1f77b4\",\"#9467bd\",\"#1f77b4\",\"#d62728\",\"#9467bd\",\"#ff7f0e\",\"#1f77b4\",\"#1f77b4\",\"#2ca02c\",\"#1f77b4\",\"#d62728\",\"#ff7f0e\",\"#d62728\",\"#ff7f0e\",\"#1f77b4\",\"#8c564b\",\"#8c564b\",\"#2ca02c\",\"#8c564b\",\"#d62728\",\"#8c564b\",\"#2ca02c\",\"#1f77b4\",\"#d62728\",\"#ff7f0e\",\"#d62728\",\"#d62728\",\"#9467bd\",\"#9467bd\",\"#2ca02c\",\"#8c564b\",\"#d62728\",\"#d62728\",\"#2ca02c\",\"#d62728\",\"#2ca02c\",\"#2ca02c\",\"#ff7f0e\",\"#d62728\",\"#8c564b\",\"#8c564b\",\"#d62728\",\"#d62728\",\"#d62728\",\"#d62728\",\"#2ca02c\",\"#2ca02c\",\"#8c564b\",\"#2ca02c\",\"#1f77b4\",\"#2ca02c\",\"#2ca02c\",\"#1f77b4\",\"#ff7f0e\",\"#1f77b4\",\"#2ca02c\",\"#9467bd\",\"#ff7f0e\",\"#8c564b\",\"#d62728\",\"#ff7f0e\",\"#d62728\",\"#d62728\",\"#1f77b4\",\"#d62728\",\"#d62728\",\"#d62728\",\"#d62728\",\"#8c564b\",\"#9467bd\",\"#9467bd\",\"#1f77b4\",\"#d62728\",\"#8c564b\",\"#d62728\",\"#1f77b4\",\"#8c564b\",\"#2ca02c\",\"#9467bd\",\"#1f77b4\",\"#ff7f0e\",\"#1f77b4\",\"#9467bd\",\"#d62728\",\"#d62728\",\"#1f77b4\",\"#8c564b\",\"#d62728\",\"#1f77b4\",\"#1f77b4\",\"#1f77b4\",\"#2ca02c\",\"#9467bd\",\"#1f77b4\",\"#d62728\",\"#9467bd\",\"#d62728\",\"#1f77b4\",\"#1f77b4\",\"#d62728\",\"#d62728\",\"#d62728\",\"#1f77b4\",\"#ff7f0e\",\"#d62728\",\"#ff7f0e\",\"#d62728\",\"#d62728\",\"#8c564b\",\"#2ca02c\",\"#2ca02c\",\"#ff7f0e\",\"#d62728\",\"#d62728\",\"#2ca02c\",\"#d62728\",\"#9467bd\",\"#1f77b4\",\"#1f77b4\",\"#d62728\",\"#d62728\",\"#d62728\",\"#2ca02c\",\"#1f77b4\",\"#d62728\",\"#d62728\",\"#2ca02c\",\"#1f77b4\",\"#1f77b4\",\"#2ca02c\",\"#9467bd\",\"#ff7f0e\",\"#8c564b\",\"#d62728\",\"#1f77b4\",\"#8c564b\",\"#9467bd\",\"#1f77b4\",\"#1f77b4\",\"#d62728\",\"#d62728\",\"#8c564b\",\"#1f77b4\",\"#2ca02c\",\"#9467bd\",\"#9467bd\",\"#2ca02c\",\"#ff7f0e\",\"#d62728\",\"#9467bd\",\"#8c564b\",\"#2ca02c\",\"#d62728\",\"#d62728\",\"#d62728\",\"#1f77b4\",\"#2ca02c\",\"#1f77b4\",\"#1f77b4\",\"#d62728\",\"#8c564b\",\"#1f77b4\",\"#2ca02c\",\"#9467bd\",\"#1f77b4\",\"#ff7f0e\",\"#d62728\",\"#2ca02c\",\"#9467bd\",\"#1f77b4\",\"#d62728\",\"#2ca02c\",\"#9467bd\",\"#1f77b4\",\"#2ca02c\",\"#8c564b\",\"#8c564b\",\"#9467bd\",\"#d62728\",\"#ff7f0e\",\"#2ca02c\",\"#2ca02c\",\"#2ca02c\",\"#ff7f0e\",\"#ff7f0e\",\"#d62728\",\"#ff7f0e\",\"#d62728\",\"#9467bd\",\"#9467bd\",\"#d62728\",\"#9467bd\",\"#8c564b\",\"#1f77b4\",\"#d62728\",\"#d62728\",\"#1f77b4\",\"#1f77b4\",\"#d62728\",\"#d62728\",\"#d62728\",\"#9467bd\",\"#d62728\",\"#8c564b\",\"#1f77b4\",\"#1f77b4\",\"#9467bd\",\"#d62728\",\"#2ca02c\",\"#9467bd\",\"#9467bd\",\"#1f77b4\",\"#1f77b4\",\"#8c564b\",\"#d62728\",\"#8c564b\",\"#9467bd\",\"#8c564b\",\"#2ca02c\",\"#ff7f0e\",\"#ff7f0e\",\"#2ca02c\",\"#d62728\",\"#2ca02c\",\"#1f77b4\",\"#9467bd\",\"#8c564b\",\"#2ca02c\",\"#9467bd\",\"#1f77b4\",\"#1f77b4\",\"#d62728\",\"#d62728\",\"#ff7f0e\",\"#9467bd\",\"#1f77b4\",\"#2ca02c\",\"#2ca02c\",\"#1f77b4\",\"#ff7f0e\",\"#2ca02c\",\"#d62728\",\"#2ca02c\",\"#d62728\",\"#2ca02c\",\"#d62728\",\"#d62728\",\"#9467bd\",\"#1f77b4\",\"#d62728\",\"#2ca02c\",\"#2ca02c\",\"#8c564b\",\"#9467bd\",\"#d62728\",\"#9467bd\",\"#9467bd\",\"#2ca02c\",\"#d62728\",\"#d62728\",\"#2ca02c\",\"#1f77b4\",\"#8c564b\",\"#9467bd\",\"#ff7f0e\",\"#9467bd\",\"#d62728\",\"#d62728\",\"#d62728\",\"#1f77b4\",\"#1f77b4\",\"#ff7f0e\",\"#1f77b4\",\"#d62728\",\"#9467bd\",\"#8c564b\",\"#9467bd\",\"#d62728\",\"#d62728\",\"#d62728\",\"#1f77b4\",\"#1f77b4\",\"#9467bd\",\"#1f77b4\",\"#9467bd\",\"#ff7f0e\",\"#1f77b4\",\"#1f77b4\",\"#d62728\",\"#1f77b4\",\"#d62728\",\"#1f77b4\",\"#1f77b4\",\"#9467bd\",\"#1f77b4\",\"#d62728\",\"#2ca02c\",\"#1f77b4\",\"#ff7f0e\",\"#9467bd\",\"#d62728\",\"#2ca02c\",\"#1f77b4\",\"#2ca02c\",\"#d62728\",\"#1f77b4\",\"#d62728\",\"#d62728\",\"#d62728\",\"#8c564b\",\"#8c564b\",\"#2ca02c\",\"#1f77b4\",\"#8c564b\",\"#1f77b4\",\"#8c564b\",\"#2ca02c\",\"#d62728\",\"#d62728\",\"#2ca02c\",\"#8c564b\",\"#d62728\",\"#2ca02c\",\"#d62728\",\"#1f77b4\",\"#9467bd\",\"#1f77b4\",\"#1f77b4\",\"#2ca02c\",\"#ff7f0e\",\"#d62728\",\"#2ca02c\",\"#2ca02c\",\"#8c564b\",\"#1f77b4\",\"#d62728\",\"#1f77b4\",\"#d62728\",\"#2ca02c\",\"#d62728\",\"#1f77b4\",\"#1f77b4\",\"#1f77b4\",\"#ff7f0e\",\"#8c564b\",\"#ff7f0e\",\"#1f77b4\",\"#d62728\",\"#9467bd\",\"#1f77b4\",\"#9467bd\",\"#1f77b4\",\"#8c564b\",\"#8c564b\",\"#ff7f0e\",\"#d62728\",\"#2ca02c\",\"#d62728\",\"#9467bd\",\"#8c564b\",\"#1f77b4\",\"#1f77b4\",\"#d62728\",\"#d62728\",\"#ff7f0e\",\"#ff7f0e\",\"#1f77b4\",\"#2ca02c\",\"#d62728\",\"#1f77b4\",\"#9467bd\",\"#9467bd\",\"#8c564b\",\"#d62728\",\"#d62728\",\"#2ca02c\",\"#9467bd\",\"#d62728\",\"#d62728\",\"#8c564b\",\"#9467bd\",\"#8c564b\",\"#2ca02c\",\"#1f77b4\",\"#d62728\",\"#1f77b4\",\"#9467bd\",\"#d62728\",\"#9467bd\",\"#d62728\",\"#d62728\",\"#2ca02c\",\"#1f77b4\",\"#ff7f0e\",\"#8c564b\",\"#8c564b\",\"#d62728\",\"#9467bd\",\"#1f77b4\",\"#1f77b4\",\"#2ca02c\",\"#2ca02c\",\"#1f77b4\",\"#1f77b4\",\"#9467bd\",\"#2ca02c\",\"#1f77b4\",\"#8c564b\",\"#1f77b4\",\"#9467bd\",\"#1f77b4\",\"#9467bd\",\"#2ca02c\",\"#9467bd\",\"#d62728\",\"#8c564b\",\"#9467bd\",\"#d62728\",\"#1f77b4\",\"#9467bd\",\"#2ca02c\",\"#1f77b4\",\"#8c564b\",\"#d62728\",\"#2ca02c\",\"#9467bd\",\"#9467bd\",\"#1f77b4\",\"#9467bd\",\"#1f77b4\",\"#9467bd\",\"#8c564b\",\"#8c564b\",\"#ff7f0e\",\"#2ca02c\",\"#d62728\",\"#ff7f0e\",\"#8c564b\",\"#ff7f0e\",\"#d62728\",\"#1f77b4\",\"#1f77b4\",\"#1f77b4\",\"#8c564b\",\"#1f77b4\",\"#d62728\",\"#d62728\",\"#d62728\",\"#9467bd\",\"#d62728\",\"#ff7f0e\",\"#1f77b4\",\"#ff7f0e\",\"#d62728\",\"#9467bd\",\"#1f77b4\",\"#1f77b4\",\"#8c564b\",\"#8c564b\",\"#ff7f0e\",\"#1f77b4\",\"#9467bd\",\"#2ca02c\",\"#9467bd\",\"#2ca02c\",\"#2ca02c\",\"#2ca02c\",\"#d62728\",\"#2ca02c\",\"#ff7f0e\",\"#1f77b4\",\"#d62728\",\"#9467bd\",\"#2ca02c\",\"#8c564b\",\"#8c564b\",\"#1f77b4\",\"#d62728\",\"#d62728\",\"#9467bd\",\"#9467bd\",\"#d62728\",\"#1f77b4\",\"#8c564b\",\"#1f77b4\",\"#d62728\",\"#1f77b4\",\"#2ca02c\",\"#ff7f0e\",\"#9467bd\",\"#ff7f0e\",\"#1f77b4\",\"#1f77b4\",\"#d62728\",\"#8c564b\",\"#9467bd\",\"#ff7f0e\",\"#1f77b4\",\"#d62728\",\"#1f77b4\",\"#9467bd\",\"#1f77b4\",\"#8c564b\",\"#d62728\",\"#d62728\",\"#9467bd\",\"#d62728\",\"#2ca02c\",\"#8c564b\",\"#d62728\",\"#9467bd\",\"#9467bd\",\"#2ca02c\",\"#ff7f0e\",\"#8c564b\",\"#9467bd\",\"#2ca02c\",\"#d62728\",\"#2ca02c\",\"#9467bd\",\"#d62728\",\"#9467bd\",\"#8c564b\",\"#ff7f0e\",\"#ff7f0e\",\"#9467bd\",\"#8c564b\",\"#2ca02c\",\"#8c564b\",\"#1f77b4\",\"#d62728\",\"#1f77b4\",\"#9467bd\",\"#9467bd\",\"#ff7f0e\",\"#1f77b4\",\"#9467bd\",\"#ff7f0e\",\"#8c564b\",\"#2ca02c\",\"#d62728\",\"#2ca02c\",\"#2ca02c\",\"#d62728\",\"#8c564b\",\"#d62728\",\"#2ca02c\",\"#ff7f0e\",\"#d62728\",\"#d62728\",\"#d62728\",\"#2ca02c\",\"#2ca02c\",\"#d62728\",\"#8c564b\",\"#d62728\",\"#d62728\",\"#9467bd\",\"#8c564b\",\"#1f77b4\",\"#ff7f0e\",\"#ff7f0e\",\"#ff7f0e\",\"#d62728\",\"#2ca02c\",\"#9467bd\",\"#9467bd\",\"#8c564b\",\"#d62728\",\"#8c564b\",\"#8c564b\",\"#2ca02c\",\"#9467bd\",\"#1f77b4\",\"#9467bd\",\"#d62728\",\"#d62728\",\"#d62728\",\"#8c564b\",\"#d62728\",\"#2ca02c\",\"#ff7f0e\",\"#2ca02c\",\"#2ca02c\",\"#1f77b4\",\"#d62728\",\"#2ca02c\",\"#d62728\",\"#2ca02c\",\"#d62728\",\"#9467bd\",\"#d62728\",\"#8c564b\",\"#2ca02c\",\"#8c564b\",\"#ff7f0e\",\"#8c564b\",\"#9467bd\",\"#8c564b\",\"#1f77b4\",\"#1f77b4\",\"#d62728\",\"#2ca02c\",\"#d62728\",\"#1f77b4\",\"#1f77b4\",\"#9467bd\",\"#2ca02c\",\"#d62728\",\"#ff7f0e\",\"#8c564b\",\"#9467bd\",\"#ff7f0e\",\"#2ca02c\",\"#2ca02c\",\"#1f77b4\",\"#8c564b\",\"#1f77b4\",\"#1f77b4\",\"#d62728\",\"#ff7f0e\",\"#d62728\",\"#ff7f0e\",\"#d62728\",\"#ff7f0e\",\"#9467bd\",\"#1f77b4\",\"#8c564b\",\"#2ca02c\",\"#8c564b\",\"#1f77b4\",\"#8c564b\",\"#2ca02c\",\"#d62728\",\"#1f77b4\",\"#9467bd\",\"#d62728\",\"#9467bd\",\"#8c564b\",\"#ff7f0e\",\"#d62728\",\"#ff7f0e\",\"#d62728\",\"#1f77b4\",\"#2ca02c\",\"#d62728\",\"#1f77b4\",\"#1f77b4\",\"#1f77b4\",\"#d62728\",\"#8c564b\",\"#d62728\",\"#1f77b4\",\"#d62728\",\"#2ca02c\",\"#d62728\",\"#d62728\",\"#d62728\",\"#2ca02c\",\"#9467bd\",\"#d62728\",\"#1f77b4\",\"#2ca02c\",\"#2ca02c\",\"#9467bd\",\"#d62728\",\"#d62728\",\"#2ca02c\",\"#2ca02c\",\"#8c564b\",\"#8c564b\",\"#d62728\",\"#1f77b4\",\"#8c564b\",\"#d62728\",\"#9467bd\",\"#ff7f0e\",\"#1f77b4\",\"#d62728\",\"#2ca02c\",\"#d62728\",\"#8c564b\",\"#9467bd\",\"#2ca02c\",\"#8c564b\",\"#d62728\",\"#2ca02c\",\"#9467bd\",\"#1f77b4\",\"#d62728\",\"#1f77b4\",\"#9467bd\",\"#8c564b\",\"#2ca02c\",\"#9467bd\",\"#2ca02c\",\"#9467bd\",\"#8c564b\",\"#9467bd\",\"#d62728\",\"#d62728\",\"#2ca02c\",\"#2ca02c\",\"#d62728\",\"#1f77b4\",\"#8c564b\",\"#1f77b4\",\"#9467bd\",\"#2ca02c\",\"#2ca02c\",\"#2ca02c\",\"#ff7f0e\",\"#d62728\",\"#9467bd\",\"#2ca02c\",\"#8c564b\",\"#1f77b4\",\"#9467bd\",\"#9467bd\",\"#2ca02c\",\"#1f77b4\",\"#1f77b4\",\"#d62728\",\"#d62728\",\"#8c564b\",\"#1f77b4\",\"#ff7f0e\",\"#2ca02c\",\"#d62728\",\"#1f77b4\",\"#1f77b4\",\"#8c564b\",\"#8c564b\",\"#d62728\",\"#2ca02c\",\"#2ca02c\",\"#1f77b4\",\"#9467bd\",\"#9467bd\",\"#ff7f0e\",\"#9467bd\",\"#ff7f0e\",\"#8c564b\",\"#8c564b\",\"#1f77b4\",\"#9467bd\",\"#2ca02c\",\"#d62728\",\"#8c564b\",\"#1f77b4\",\"#1f77b4\",\"#8c564b\",\"#1f77b4\",\"#2ca02c\",\"#d62728\",\"#8c564b\",\"#d62728\",\"#d62728\",\"#9467bd\",\"#ff7f0e\",\"#2ca02c\",\"#2ca02c\",\"#8c564b\",\"#d62728\",\"#9467bd\",\"#1f77b4\",\"#2ca02c\",\"#ff7f0e\",\"#1f77b4\",\"#d62728\",\"#1f77b4\",\"#ff7f0e\",\"#1f77b4\",\"#d62728\",\"#d62728\",\"#2ca02c\",\"#8c564b\",\"#8c564b\",\"#1f77b4\",\"#8c564b\",\"#9467bd\",\"#d62728\",\"#9467bd\",\"#1f77b4\",\"#d62728\",\"#2ca02c\",\"#d62728\",\"#ff7f0e\",\"#d62728\",\"#2ca02c\",\"#9467bd\",\"#9467bd\",\"#9467bd\",\"#9467bd\",\"#2ca02c\",\"#8c564b\",\"#ff7f0e\",\"#9467bd\",\"#1f77b4\",\"#2ca02c\",\"#1f77b4\",\"#1f77b4\",\"#1f77b4\",\"#1f77b4\",\"#d62728\",\"#d62728\",\"#ff7f0e\",\"#d62728\",\"#d62728\",\"#d62728\",\"#d62728\",\"#9467bd\",\"#d62728\",\"#2ca02c\",\"#9467bd\",\"#9467bd\",\"#1f77b4\",\"#d62728\",\"#ff7f0e\",\"#ff7f0e\",\"#9467bd\",\"#d62728\",\"#d62728\",\"#1f77b4\",\"#9467bd\",\"#1f77b4\",\"#ff7f0e\",\"#d62728\",\"#d62728\",\"#2ca02c\",\"#ff7f0e\",\"#2ca02c\",\"#8c564b\",\"#d62728\",\"#8c564b\",\"#1f77b4\",\"#2ca02c\",\"#1f77b4\",\"#1f77b4\",\"#8c564b\",\"#1f77b4\",\"#ff7f0e\",\"#1f77b4\",\"#8c564b\",\"#d62728\",\"#9467bd\",\"#d62728\",\"#1f77b4\",\"#1f77b4\",\"#2ca02c\",\"#9467bd\",\"#9467bd\",\"#2ca02c\",\"#d62728\",\"#2ca02c\",\"#ff7f0e\",\"#9467bd\",\"#ff7f0e\",\"#2ca02c\",\"#d62728\",\"#2ca02c\",\"#9467bd\",\"#d62728\",\"#d62728\",\"#8c564b\",\"#d62728\",\"#1f77b4\",\"#9467bd\",\"#9467bd\",\"#2ca02c\",\"#2ca02c\",\"#d62728\",\"#1f77b4\",\"#2ca02c\",\"#d62728\",\"#9467bd\",\"#1f77b4\",\"#d62728\",\"#1f77b4\",\"#8c564b\",\"#ff7f0e\",\"#8c564b\",\"#ff7f0e\",\"#2ca02c\",\"#2ca02c\",\"#1f77b4\",\"#2ca02c\",\"#8c564b\",\"#8c564b\",\"#9467bd\",\"#9467bd\",\"#9467bd\",\"#1f77b4\",\"#ff7f0e\",\"#9467bd\",\"#9467bd\",\"#1f77b4\",\"#d62728\",\"#8c564b\",\"#d62728\",\"#d62728\",\"#8c564b\",\"#1f77b4\",\"#d62728\",\"#d62728\",\"#d62728\",\"#2ca02c\",\"#2ca02c\",\"#1f77b4\",\"#1f77b4\",\"#9467bd\",\"#9467bd\",\"#8c564b\",\"#d62728\",\"#ff7f0e\",\"#d62728\",\"#d62728\",\"#8c564b\",\"#d62728\",\"#9467bd\",\"#2ca02c\",\"#d62728\",\"#d62728\",\"#2ca02c\",\"#2ca02c\",\"#9467bd\",\"#d62728\",\"#1f77b4\",\"#d62728\",\"#d62728\",\"#d62728\",\"#2ca02c\",\"#8c564b\",\"#8c564b\",\"#1f77b4\",\"#d62728\",\"#2ca02c\",\"#9467bd\",\"#9467bd\",\"#d62728\",\"#1f77b4\",\"#9467bd\",\"#1f77b4\",\"#d62728\",\"#1f77b4\",\"#2ca02c\",\"#1f77b4\",\"#d62728\",\"#8c564b\",\"#8c564b\",\"#1f77b4\",\"#8c564b\",\"#d62728\",\"#d62728\",\"#1f77b4\",\"#9467bd\",\"#ff7f0e\",\"#9467bd\",\"#9467bd\",\"#d62728\",\"#9467bd\",\"#2ca02c\",\"#8c564b\",\"#d62728\",\"#ff7f0e\",\"#ff7f0e\",\"#ff7f0e\",\"#d62728\",\"#1f77b4\",\"#1f77b4\",\"#d62728\",\"#2ca02c\",\"#d62728\",\"#9467bd\",\"#9467bd\",\"#1f77b4\",\"#8c564b\",\"#9467bd\",\"#d62728\",\"#2ca02c\",\"#d62728\",\"#d62728\",\"#8c564b\",\"#8c564b\",\"#9467bd\",\"#8c564b\",\"#1f77b4\",\"#2ca02c\",\"#d62728\",\"#1f77b4\",\"#ff7f0e\",\"#1f77b4\",\"#8c564b\",\"#1f77b4\",\"#9467bd\",\"#8c564b\",\"#1f77b4\",\"#9467bd\",\"#8c564b\",\"#ff7f0e\",\"#1f77b4\",\"#d62728\",\"#ff7f0e\",\"#1f77b4\",\"#d62728\",\"#d62728\",\"#8c564b\",\"#1f77b4\",\"#d62728\",\"#8c564b\",\"#9467bd\",\"#9467bd\",\"#1f77b4\",\"#8c564b\",\"#9467bd\",\"#d62728\",\"#d62728\",\"#9467bd\",\"#8c564b\",\"#d62728\",\"#1f77b4\",\"#9467bd\",\"#8c564b\",\"#9467bd\",\"#8c564b\",\"#9467bd\",\"#8c564b\",\"#8c564b\",\"#d62728\",\"#2ca02c\",\"#2ca02c\",\"#1f77b4\",\"#1f77b4\",\"#d62728\",\"#d62728\",\"#9467bd\",\"#ff7f0e\",\"#1f77b4\",\"#8c564b\",\"#9467bd\",\"#d62728\",\"#1f77b4\",\"#d62728\",\"#d62728\",\"#d62728\",\"#ff7f0e\",\"#1f77b4\",\"#1f77b4\",\"#9467bd\",\"#1f77b4\",\"#ff7f0e\",\"#d62728\",\"#2ca02c\",\"#d62728\",\"#1f77b4\",\"#2ca02c\",\"#9467bd\",\"#1f77b4\",\"#2ca02c\",\"#1f77b4\",\"#9467bd\",\"#2ca02c\",\"#d62728\",\"#2ca02c\",\"#8c564b\",\"#2ca02c\",\"#8c564b\",\"#2ca02c\",\"#1f77b4\",\"#2ca02c\",\"#8c564b\",\"#ff7f0e\",\"#2ca02c\",\"#1f77b4\",\"#d62728\",\"#d62728\",\"#8c564b\",\"#8c564b\",\"#ff7f0e\",\"#ff7f0e\",\"#1f77b4\",\"#2ca02c\",\"#9467bd\",\"#1f77b4\",\"#2ca02c\",\"#d62728\",\"#2ca02c\",\"#1f77b4\",\"#d62728\",\"#8c564b\",\"#1f77b4\",\"#9467bd\",\"#ff7f0e\",\"#1f77b4\",\"#ff7f0e\",\"#d62728\",\"#d62728\",\"#8c564b\",\"#8c564b\",\"#d62728\",\"#8c564b\",\"#d62728\",\"#d62728\",\"#8c564b\",\"#d62728\",\"#d62728\",\"#1f77b4\",\"#d62728\",\"#8c564b\",\"#9467bd\",\"#d62728\",\"#9467bd\",\"#1f77b4\",\"#8c564b\",\"#d62728\",\"#2ca02c\",\"#2ca02c\",\"#8c564b\",\"#1f77b4\",\"#d62728\",\"#1f77b4\",\"#1f77b4\",\"#1f77b4\",\"#9467bd\",\"#9467bd\",\"#8c564b\",\"#d62728\",\"#1f77b4\",\"#8c564b\",\"#2ca02c\",\"#1f77b4\",\"#1f77b4\",\"#d62728\",\"#9467bd\",\"#d62728\",\"#8c564b\",\"#d62728\",\"#1f77b4\",\"#9467bd\",\"#8c564b\",\"#2ca02c\",\"#8c564b\",\"#d62728\",\"#2ca02c\",\"#1f77b4\",\"#1f77b4\",\"#1f77b4\",\"#1f77b4\",\"#1f77b4\",\"#d62728\",\"#1f77b4\",\"#1f77b4\",\"#9467bd\",\"#2ca02c\",\"#1f77b4\",\"#d62728\",\"#2ca02c\",\"#d62728\",\"#2ca02c\",\"#8c564b\",\"#d62728\",\"#2ca02c\",\"#8c564b\",\"#2ca02c\",\"#d62728\",\"#1f77b4\",\"#ff7f0e\",\"#2ca02c\",\"#d62728\",\"#2ca02c\",\"#1f77b4\",\"#2ca02c\",\"#1f77b4\",\"#2ca02c\",\"#1f77b4\",\"#d62728\",\"#8c564b\",\"#9467bd\",\"#1f77b4\",\"#9467bd\",\"#ff7f0e\",\"#1f77b4\",\"#1f77b4\",\"#8c564b\",\"#2ca02c\",\"#d62728\",\"#ff7f0e\",\"#d62728\",\"#2ca02c\",\"#d62728\",\"#9467bd\",\"#9467bd\",\"#d62728\",\"#1f77b4\",\"#d62728\",\"#1f77b4\",\"#8c564b\",\"#d62728\",\"#1f77b4\",\"#1f77b4\",\"#9467bd\",\"#1f77b4\",\"#2ca02c\",\"#9467bd\",\"#2ca02c\",\"#d62728\",\"#d62728\",\"#d62728\",\"#9467bd\",\"#1f77b4\",\"#9467bd\",\"#2ca02c\",\"#1f77b4\",\"#ff7f0e\",\"#2ca02c\",\"#9467bd\",\"#d62728\",\"#8c564b\",\"#d62728\",\"#9467bd\",\"#8c564b\",\"#2ca02c\",\"#1f77b4\",\"#2ca02c\",\"#9467bd\",\"#2ca02c\",\"#8c564b\",\"#8c564b\",\"#2ca02c\",\"#2ca02c\",\"#1f77b4\",\"#8c564b\",\"#2ca02c\",\"#9467bd\",\"#9467bd\",\"#8c564b\",\"#2ca02c\",\"#d62728\",\"#2ca02c\",\"#ff7f0e\",\"#1f77b4\",\"#d62728\",\"#d62728\",\"#1f77b4\",\"#9467bd\",\"#ff7f0e\",\"#1f77b4\",\"#9467bd\",\"#9467bd\",\"#2ca02c\",\"#2ca02c\",\"#2ca02c\",\"#1f77b4\",\"#8c564b\",\"#ff7f0e\",\"#d62728\",\"#8c564b\",\"#d62728\",\"#8c564b\",\"#9467bd\",\"#ff7f0e\",\"#d62728\",\"#d62728\",\"#1f77b4\",\"#8c564b\",\"#ff7f0e\",\"#8c564b\",\"#d62728\",\"#ff7f0e\",\"#d62728\",\"#1f77b4\",\"#2ca02c\",\"#2ca02c\",\"#ff7f0e\",\"#ff7f0e\",\"#1f77b4\",\"#d62728\",\"#d62728\",\"#2ca02c\",\"#2ca02c\",\"#9467bd\",\"#d62728\",\"#2ca02c\",\"#1f77b4\",\"#d62728\",\"#1f77b4\",\"#9467bd\",\"#8c564b\",\"#1f77b4\",\"#1f77b4\",\"#d62728\",\"#d62728\",\"#2ca02c\",\"#1f77b4\",\"#1f77b4\",\"#8c564b\",\"#1f77b4\",\"#2ca02c\",\"#d62728\",\"#d62728\",\"#d62728\",\"#8c564b\",\"#2ca02c\",\"#d62728\",\"#2ca02c\",\"#2ca02c\",\"#d62728\",\"#d62728\",\"#1f77b4\",\"#8c564b\",\"#9467bd\",\"#2ca02c\",\"#1f77b4\",\"#1f77b4\",\"#d62728\",\"#d62728\",\"#d62728\",\"#8c564b\",\"#9467bd\",\"#ff7f0e\",\"#1f77b4\",\"#ff7f0e\",\"#9467bd\",\"#9467bd\",\"#1f77b4\",\"#2ca02c\",\"#d62728\",\"#d62728\",\"#1f77b4\",\"#8c564b\",\"#8c564b\",\"#1f77b4\",\"#d62728\",\"#d62728\",\"#9467bd\",\"#ff7f0e\",\"#2ca02c\",\"#2ca02c\",\"#9467bd\",\"#ff7f0e\",\"#9467bd\",\"#d62728\",\"#2ca02c\",\"#1f77b4\",\"#2ca02c\",\"#9467bd\",\"#1f77b4\",\"#ff7f0e\",\"#9467bd\",\"#2ca02c\",\"#9467bd\",\"#8c564b\",\"#9467bd\",\"#1f77b4\",\"#2ca02c\",\"#1f77b4\",\"#ff7f0e\",\"#1f77b4\",\"#d62728\",\"#9467bd\",\"#d62728\",\"#2ca02c\",\"#9467bd\",\"#2ca02c\",\"#2ca02c\",\"#d62728\",\"#8c564b\",\"#2ca02c\",\"#ff7f0e\",\"#8c564b\",\"#8c564b\",\"#1f77b4\",\"#2ca02c\",\"#2ca02c\",\"#ff7f0e\",\"#ff7f0e\",\"#8c564b\",\"#2ca02c\",\"#1f77b4\",\"#1f77b4\",\"#2ca02c\",\"#1f77b4\",\"#ff7f0e\",\"#d62728\",\"#8c564b\",\"#1f77b4\",\"#1f77b4\",\"#1f77b4\",\"#1f77b4\",\"#1f77b4\",\"#1f77b4\",\"#1f77b4\",\"#1f77b4\",\"#1f77b4\",\"#9467bd\",\"#9467bd\",\"#2ca02c\",\"#8c564b\",\"#d62728\",\"#9467bd\",\"#8c564b\",\"#1f77b4\",\"#8c564b\",\"#2ca02c\",\"#1f77b4\",\"#d62728\",\"#d62728\",\"#ff7f0e\",\"#d62728\",\"#2ca02c\",\"#2ca02c\",\"#d62728\",\"#2ca02c\",\"#1f77b4\",\"#1f77b4\",\"#d62728\",\"#1f77b4\",\"#9467bd\",\"#1f77b4\",\"#d62728\",\"#d62728\",\"#ff7f0e\",\"#9467bd\",\"#9467bd\",\"#1f77b4\",\"#9467bd\",\"#2ca02c\",\"#1f77b4\",\"#ff7f0e\",\"#1f77b4\",\"#8c564b\",\"#8c564b\",\"#d62728\",\"#d62728\",\"#2ca02c\",\"#8c564b\",\"#2ca02c\",\"#1f77b4\",\"#8c564b\",\"#1f77b4\",\"#d62728\",\"#d62728\",\"#1f77b4\",\"#2ca02c\",\"#ff7f0e\",\"#9467bd\",\"#9467bd\",\"#2ca02c\",\"#d62728\",\"#9467bd\",\"#1f77b4\",\"#1f77b4\",\"#8c564b\",\"#ff7f0e\",\"#2ca02c\",\"#2ca02c\",\"#d62728\",\"#d62728\",\"#ff7f0e\",\"#2ca02c\",\"#1f77b4\",\"#8c564b\",\"#9467bd\",\"#1f77b4\",\"#d62728\",\"#d62728\",\"#2ca02c\",\"#2ca02c\",\"#8c564b\",\"#2ca02c\",\"#d62728\",\"#8c564b\",\"#9467bd\",\"#d62728\",\"#2ca02c\",\"#1f77b4\",\"#2ca02c\",\"#9467bd\",\"#2ca02c\",\"#2ca02c\",\"#ff7f0e\",\"#d62728\",\"#d62728\",\"#8c564b\",\"#9467bd\",\"#8c564b\",\"#ff7f0e\",\"#9467bd\",\"#1f77b4\",\"#d62728\",\"#ff7f0e\",\"#d62728\",\"#ff7f0e\",\"#9467bd\",\"#ff7f0e\",\"#d62728\",\"#8c564b\",\"#d62728\",\"#9467bd\",\"#2ca02c\",\"#1f77b4\",\"#1f77b4\",\"#8c564b\",\"#2ca02c\",\"#d62728\",\"#d62728\",\"#d62728\",\"#8c564b\",\"#2ca02c\",\"#1f77b4\",\"#1f77b4\",\"#8c564b\",\"#d62728\",\"#d62728\",\"#1f77b4\",\"#d62728\",\"#1f77b4\",\"#ff7f0e\",\"#d62728\",\"#2ca02c\",\"#9467bd\",\"#2ca02c\",\"#d62728\",\"#2ca02c\",\"#1f77b4\",\"#9467bd\",\"#8c564b\",\"#d62728\",\"#1f77b4\",\"#ff7f0e\",\"#2ca02c\",\"#1f77b4\",\"#2ca02c\",\"#d62728\",\"#1f77b4\",\"#1f77b4\",\"#1f77b4\",\"#d62728\",\"#2ca02c\",\"#9467bd\",\"#ff7f0e\",\"#1f77b4\",\"#ff7f0e\",\"#d62728\",\"#2ca02c\",\"#8c564b\",\"#9467bd\",\"#9467bd\",\"#1f77b4\",\"#d62728\",\"#d62728\",\"#ff7f0e\",\"#1f77b4\",\"#8c564b\",\"#d62728\",\"#d62728\",\"#d62728\",\"#2ca02c\",\"#1f77b4\",\"#8c564b\",\"#9467bd\",\"#ff7f0e\",\"#8c564b\",\"#d62728\",\"#1f77b4\",\"#9467bd\",\"#d62728\",\"#2ca02c\",\"#8c564b\",\"#9467bd\",\"#9467bd\",\"#9467bd\",\"#1f77b4\",\"#8c564b\",\"#d62728\",\"#ff7f0e\",\"#9467bd\",\"#1f77b4\",\"#2ca02c\",\"#d62728\",\"#8c564b\",\"#9467bd\",\"#9467bd\",\"#8c564b\",\"#9467bd\",\"#9467bd\",\"#d62728\",\"#d62728\",\"#8c564b\",\"#2ca02c\",\"#9467bd\",\"#1f77b4\",\"#1f77b4\",\"#9467bd\",\"#8c564b\",\"#2ca02c\",\"#d62728\",\"#8c564b\",\"#2ca02c\",\"#9467bd\",\"#9467bd\",\"#9467bd\",\"#d62728\",\"#8c564b\",\"#d62728\",\"#9467bd\",\"#9467bd\",\"#d62728\",\"#8c564b\",\"#1f77b4\",\"#2ca02c\",\"#1f77b4\",\"#2ca02c\",\"#ff7f0e\",\"#2ca02c\",\"#8c564b\",\"#2ca02c\",\"#8c564b\",\"#d62728\",\"#8c564b\",\"#1f77b4\",\"#2ca02c\",\"#d62728\",\"#d62728\",\"#1f77b4\",\"#2ca02c\",\"#d62728\",\"#d62728\",\"#d62728\",\"#d62728\",\"#1f77b4\",\"#9467bd\",\"#2ca02c\",\"#ff7f0e\",\"#d62728\",\"#1f77b4\",\"#1f77b4\",\"#1f77b4\",\"#8c564b\",\"#ff7f0e\",\"#1f77b4\",\"#d62728\",\"#2ca02c\",\"#1f77b4\",\"#2ca02c\",\"#1f77b4\",\"#d62728\",\"#1f77b4\",\"#ff7f0e\",\"#8c564b\",\"#8c564b\",\"#1f77b4\",\"#1f77b4\",\"#8c564b\",\"#2ca02c\",\"#1f77b4\",\"#8c564b\",\"#8c564b\",\"#1f77b4\",\"#d62728\",\"#d62728\",\"#9467bd\",\"#d62728\",\"#9467bd\",\"#9467bd\",\"#d62728\",\"#1f77b4\",\"#8c564b\",\"#2ca02c\",\"#d62728\",\"#1f77b4\",\"#2ca02c\",\"#1f77b4\",\"#1f77b4\",\"#d62728\",\"#8c564b\",\"#1f77b4\",\"#d62728\",\"#2ca02c\",\"#d62728\",\"#2ca02c\",\"#2ca02c\",\"#d62728\",\"#d62728\",\"#9467bd\",\"#1f77b4\",\"#2ca02c\",\"#9467bd\",\"#d62728\",\"#8c564b\",\"#9467bd\",\"#8c564b\",\"#9467bd\",\"#8c564b\",\"#1f77b4\",\"#2ca02c\",\"#2ca02c\",\"#2ca02c\",\"#8c564b\",\"#9467bd\",\"#8c564b\",\"#8c564b\",\"#ff7f0e\",\"#9467bd\",\"#2ca02c\",\"#d62728\",\"#d62728\",\"#d62728\",\"#8c564b\",\"#1f77b4\",\"#d62728\",\"#2ca02c\",\"#9467bd\",\"#2ca02c\",\"#2ca02c\",\"#9467bd\",\"#1f77b4\",\"#8c564b\",\"#d62728\",\"#d62728\",\"#2ca02c\",\"#9467bd\",\"#9467bd\",\"#8c564b\",\"#d62728\",\"#d62728\",\"#9467bd\",\"#8c564b\",\"#2ca02c\",\"#2ca02c\",\"#1f77b4\",\"#9467bd\",\"#d62728\",\"#1f77b4\",\"#2ca02c\",\"#2ca02c\",\"#d62728\",\"#1f77b4\",\"#d62728\",\"#2ca02c\",\"#d62728\",\"#2ca02c\",\"#d62728\",\"#8c564b\",\"#1f77b4\",\"#1f77b4\",\"#2ca02c\",\"#8c564b\",\"#8c564b\",\"#9467bd\",\"#8c564b\",\"#8c564b\",\"#9467bd\",\"#8c564b\",\"#2ca02c\",\"#d62728\",\"#8c564b\",\"#8c564b\",\"#1f77b4\",\"#2ca02c\",\"#8c564b\",\"#8c564b\",\"#8c564b\",\"#8c564b\",\"#d62728\",\"#8c564b\",\"#8c564b\",\"#1f77b4\",\"#d62728\",\"#1f77b4\",\"#9467bd\",\"#ff7f0e\",\"#9467bd\",\"#1f77b4\",\"#9467bd\",\"#1f77b4\",\"#2ca02c\",\"#1f77b4\",\"#d62728\",\"#8c564b\",\"#1f77b4\",\"#1f77b4\",\"#8c564b\",\"#8c564b\",\"#d62728\",\"#8c564b\",\"#d62728\",\"#d62728\",\"#2ca02c\",\"#1f77b4\",\"#9467bd\",\"#d62728\",\"#8c564b\",\"#1f77b4\",\"#1f77b4\",\"#d62728\",\"#d62728\",\"#d62728\",\"#d62728\",\"#d62728\",\"#1f77b4\",\"#8c564b\",\"#d62728\",\"#8c564b\",\"#d62728\",\"#8c564b\",\"#2ca02c\",\"#9467bd\",\"#9467bd\",\"#ff7f0e\",\"#8c564b\",\"#1f77b4\",\"#1f77b4\",\"#1f77b4\",\"#ff7f0e\",\"#2ca02c\",\"#d62728\",\"#9467bd\",\"#2ca02c\",\"#9467bd\",\"#9467bd\",\"#1f77b4\",\"#1f77b4\",\"#2ca02c\",\"#9467bd\",\"#ff7f0e\",\"#ff7f0e\",\"#9467bd\",\"#2ca02c\",\"#2ca02c\",\"#9467bd\",\"#1f77b4\",\"#d62728\",\"#2ca02c\",\"#2ca02c\",\"#d62728\",\"#1f77b4\",\"#9467bd\",\"#2ca02c\",\"#1f77b4\",\"#d62728\",\"#1f77b4\",\"#1f77b4\",\"#d62728\",\"#ff7f0e\",\"#8c564b\",\"#8c564b\",\"#d62728\",\"#2ca02c\",\"#ff7f0e\",\"#8c564b\",\"#1f77b4\",\"#2ca02c\",\"#9467bd\",\"#d62728\",\"#ff7f0e\",\"#9467bd\",\"#2ca02c\",\"#8c564b\",\"#9467bd\",\"#1f77b4\",\"#d62728\",\"#8c564b\",\"#9467bd\",\"#2ca02c\",\"#2ca02c\",\"#ff7f0e\",\"#1f77b4\",\"#d62728\",\"#9467bd\",\"#d62728\",\"#1f77b4\",\"#d62728\",\"#9467bd\",\"#d62728\",\"#1f77b4\",\"#ff7f0e\",\"#d62728\",\"#1f77b4\",\"#9467bd\",\"#9467bd\",\"#9467bd\",\"#d62728\",\"#2ca02c\",\"#d62728\",\"#9467bd\",\"#1f77b4\",\"#d62728\",\"#8c564b\",\"#d62728\",\"#9467bd\",\"#ff7f0e\",\"#2ca02c\",\"#1f77b4\",\"#1f77b4\",\"#9467bd\",\"#9467bd\",\"#9467bd\",\"#9467bd\",\"#2ca02c\",\"#2ca02c\",\"#1f77b4\",\"#ff7f0e\",\"#9467bd\",\"#9467bd\",\"#d62728\",\"#1f77b4\",\"#2ca02c\",\"#1f77b4\",\"#1f77b4\",\"#8c564b\",\"#d62728\",\"#9467bd\",\"#1f77b4\",\"#1f77b4\",\"#d62728\",\"#d62728\",\"#1f77b4\",\"#ff7f0e\",\"#ff7f0e\",\"#1f77b4\",\"#9467bd\",\"#9467bd\",\"#d62728\",\"#d62728\",\"#1f77b4\",\"#1f77b4\",\"#d62728\",\"#8c564b\",\"#1f77b4\",\"#1f77b4\",\"#ff7f0e\",\"#ff7f0e\",\"#ff7f0e\",\"#d62728\",\"#1f77b4\",\"#1f77b4\",\"#1f77b4\",\"#8c564b\",\"#9467bd\",\"#d62728\",\"#1f77b4\",\"#ff7f0e\",\"#9467bd\",\"#1f77b4\",\"#ff7f0e\",\"#8c564b\",\"#8c564b\",\"#1f77b4\",\"#2ca02c\",\"#8c564b\",\"#8c564b\",\"#2ca02c\",\"#9467bd\",\"#d62728\",\"#d62728\",\"#1f77b4\",\"#ff7f0e\",\"#d62728\",\"#9467bd\",\"#1f77b4\",\"#9467bd\",\"#1f77b4\",\"#9467bd\",\"#1f77b4\",\"#d62728\",\"#1f77b4\",\"#d62728\",\"#1f77b4\",\"#1f77b4\",\"#2ca02c\",\"#8c564b\",\"#9467bd\",\"#d62728\",\"#d62728\",\"#d62728\",\"#ff7f0e\",\"#d62728\",\"#d62728\",\"#8c564b\",\"#2ca02c\",\"#9467bd\",\"#1f77b4\",\"#1f77b4\",\"#9467bd\",\"#8c564b\",\"#2ca02c\",\"#ff7f0e\",\"#8c564b\",\"#1f77b4\",\"#8c564b\",\"#1f77b4\",\"#9467bd\",\"#9467bd\",\"#1f77b4\",\"#2ca02c\",\"#1f77b4\",\"#d62728\",\"#1f77b4\",\"#2ca02c\",\"#8c564b\",\"#d62728\",\"#1f77b4\",\"#d62728\",\"#d62728\",\"#1f77b4\",\"#9467bd\",\"#ff7f0e\",\"#8c564b\",\"#8c564b\",\"#1f77b4\",\"#8c564b\",\"#2ca02c\",\"#2ca02c\",\"#d62728\",\"#8c564b\",\"#8c564b\",\"#d62728\",\"#2ca02c\",\"#9467bd\",\"#1f77b4\",\"#8c564b\",\"#9467bd\",\"#d62728\",\"#1f77b4\",\"#2ca02c\",\"#9467bd\",\"#8c564b\",\"#1f77b4\",\"#d62728\",\"#1f77b4\",\"#2ca02c\",\"#8c564b\",\"#8c564b\",\"#d62728\",\"#8c564b\",\"#9467bd\",\"#9467bd\",\"#d62728\",\"#2ca02c\",\"#2ca02c\",\"#9467bd\",\"#1f77b4\",\"#2ca02c\",\"#d62728\",\"#8c564b\",\"#8c564b\",\"#1f77b4\",\"#1f77b4\",\"#9467bd\",\"#9467bd\",\"#1f77b4\",\"#8c564b\",\"#ff7f0e\",\"#d62728\",\"#8c564b\",\"#d62728\",\"#d62728\",\"#d62728\",\"#ff7f0e\",\"#d62728\",\"#8c564b\",\"#d62728\",\"#9467bd\",\"#9467bd\",\"#ff7f0e\",\"#2ca02c\",\"#8c564b\",\"#d62728\",\"#2ca02c\",\"#2ca02c\",\"#9467bd\",\"#1f77b4\",\"#9467bd\",\"#ff7f0e\",\"#8c564b\",\"#1f77b4\",\"#8c564b\",\"#d62728\",\"#d62728\",\"#8c564b\",\"#2ca02c\",\"#9467bd\",\"#1f77b4\",\"#ff7f0e\",\"#9467bd\",\"#d62728\",\"#1f77b4\",\"#2ca02c\",\"#2ca02c\",\"#2ca02c\",\"#2ca02c\",\"#2ca02c\",\"#9467bd\",\"#8c564b\",\"#9467bd\",\"#ff7f0e\",\"#ff7f0e\",\"#1f77b4\",\"#8c564b\",\"#d62728\",\"#8c564b\",\"#8c564b\",\"#1f77b4\",\"#2ca02c\",\"#1f77b4\",\"#9467bd\",\"#2ca02c\",\"#d62728\",\"#1f77b4\",\"#9467bd\",\"#9467bd\",\"#d62728\",\"#d62728\",\"#1f77b4\",\"#9467bd\",\"#9467bd\",\"#9467bd\",\"#9467bd\",\"#1f77b4\",\"#9467bd\",\"#1f77b4\",\"#ff7f0e\",\"#d62728\",\"#8c564b\",\"#2ca02c\",\"#ff7f0e\",\"#1f77b4\",\"#9467bd\",\"#2ca02c\",\"#2ca02c\",\"#8c564b\",\"#1f77b4\",\"#9467bd\",\"#2ca02c\",\"#1f77b4\",\"#d62728\",\"#1f77b4\",\"#9467bd\",\"#d62728\",\"#ff7f0e\",\"#9467bd\",\"#8c564b\",\"#1f77b4\",\"#8c564b\",\"#9467bd\",\"#1f77b4\",\"#1f77b4\",\"#8c564b\",\"#8c564b\",\"#1f77b4\",\"#9467bd\",\"#2ca02c\",\"#1f77b4\",\"#1f77b4\",\"#d62728\",\"#d62728\",\"#9467bd\",\"#d62728\",\"#2ca02c\",\"#d62728\",\"#2ca02c\",\"#9467bd\",\"#9467bd\",\"#1f77b4\",\"#1f77b4\",\"#9467bd\",\"#2ca02c\",\"#8c564b\",\"#d62728\",\"#ff7f0e\",\"#2ca02c\",\"#2ca02c\",\"#1f77b4\",\"#9467bd\",\"#ff7f0e\",\"#d62728\",\"#1f77b4\",\"#1f77b4\",\"#ff7f0e\",\"#2ca02c\",\"#d62728\",\"#2ca02c\",\"#2ca02c\",\"#2ca02c\",\"#1f77b4\",\"#d62728\",\"#d62728\",\"#8c564b\",\"#8c564b\",\"#d62728\",\"#9467bd\",\"#1f77b4\",\"#9467bd\",\"#1f77b4\",\"#d62728\",\"#8c564b\",\"#1f77b4\",\"#d62728\",\"#d62728\",\"#d62728\",\"#8c564b\",\"#8c564b\",\"#8c564b\",\"#d62728\",\"#1f77b4\",\"#1f77b4\",\"#8c564b\",\"#8c564b\",\"#d62728\",\"#8c564b\",\"#d62728\",\"#2ca02c\",\"#2ca02c\",\"#8c564b\",\"#ff7f0e\",\"#1f77b4\",\"#d62728\",\"#9467bd\",\"#d62728\",\"#9467bd\",\"#1f77b4\",\"#2ca02c\",\"#1f77b4\",\"#d62728\",\"#ff7f0e\",\"#ff7f0e\",\"#2ca02c\",\"#2ca02c\",\"#2ca02c\",\"#d62728\",\"#1f77b4\",\"#d62728\",\"#2ca02c\",\"#9467bd\",\"#2ca02c\",\"#ff7f0e\",\"#1f77b4\",\"#d62728\",\"#d62728\",\"#8c564b\",\"#d62728\",\"#d62728\",\"#2ca02c\",\"#8c564b\",\"#d62728\",\"#1f77b4\",\"#2ca02c\",\"#ff7f0e\",\"#9467bd\",\"#8c564b\",\"#d62728\",\"#d62728\",\"#8c564b\",\"#2ca02c\",\"#9467bd\",\"#8c564b\",\"#2ca02c\",\"#8c564b\",\"#1f77b4\",\"#ff7f0e\",\"#1f77b4\",\"#ff7f0e\",\"#d62728\",\"#9467bd\",\"#d62728\",\"#1f77b4\",\"#d62728\",\"#8c564b\",\"#2ca02c\",\"#1f77b4\",\"#9467bd\",\"#9467bd\",\"#ff7f0e\",\"#8c564b\",\"#2ca02c\",\"#ff7f0e\",\"#d62728\",\"#d62728\",\"#1f77b4\",\"#2ca02c\",\"#2ca02c\",\"#1f77b4\",\"#1f77b4\",\"#d62728\",\"#d62728\",\"#ff7f0e\",\"#8c564b\",\"#8c564b\",\"#1f77b4\",\"#2ca02c\",\"#d62728\",\"#1f77b4\",\"#d62728\",\"#8c564b\",\"#2ca02c\",\"#d62728\",\"#2ca02c\",\"#d62728\",\"#ff7f0e\",\"#d62728\",\"#2ca02c\",\"#d62728\",\"#d62728\",\"#1f77b4\",\"#8c564b\",\"#9467bd\",\"#2ca02c\",\"#9467bd\",\"#9467bd\",\"#d62728\",\"#d62728\",\"#8c564b\",\"#1f77b4\",\"#ff7f0e\",\"#1f77b4\",\"#1f77b4\",\"#2ca02c\",\"#1f77b4\",\"#1f77b4\",\"#d62728\",\"#8c564b\",\"#1f77b4\",\"#1f77b4\",\"#d62728\",\"#1f77b4\",\"#8c564b\",\"#9467bd\",\"#2ca02c\",\"#d62728\",\"#9467bd\",\"#1f77b4\",\"#1f77b4\",\"#9467bd\",\"#2ca02c\",\"#1f77b4\",\"#d62728\",\"#8c564b\",\"#d62728\",\"#2ca02c\",\"#1f77b4\",\"#ff7f0e\",\"#2ca02c\",\"#ff7f0e\",\"#2ca02c\",\"#d62728\",\"#9467bd\",\"#1f77b4\",\"#8c564b\",\"#8c564b\",\"#9467bd\",\"#d62728\",\"#1f77b4\",\"#8c564b\",\"#2ca02c\",\"#1f77b4\",\"#1f77b4\",\"#9467bd\",\"#8c564b\",\"#d62728\",\"#1f77b4\",\"#8c564b\",\"#1f77b4\",\"#8c564b\",\"#9467bd\",\"#1f77b4\",\"#9467bd\",\"#2ca02c\",\"#8c564b\",\"#9467bd\",\"#8c564b\",\"#d62728\",\"#d62728\",\"#8c564b\",\"#d62728\",\"#2ca02c\",\"#8c564b\",\"#1f77b4\",\"#ff7f0e\",\"#d62728\",\"#1f77b4\",\"#1f77b4\",\"#1f77b4\",\"#d62728\",\"#1f77b4\",\"#8c564b\",\"#8c564b\",\"#8c564b\",\"#2ca02c\",\"#d62728\",\"#9467bd\",\"#9467bd\",\"#d62728\",\"#9467bd\",\"#1f77b4\",\"#d62728\",\"#8c564b\",\"#d62728\",\"#1f77b4\",\"#8c564b\",\"#1f77b4\",\"#8c564b\",\"#1f77b4\",\"#2ca02c\",\"#9467bd\",\"#d62728\",\"#1f77b4\",\"#d62728\",\"#d62728\",\"#ff7f0e\",\"#ff7f0e\",\"#d62728\",\"#2ca02c\",\"#1f77b4\",\"#1f77b4\",\"#d62728\",\"#d62728\",\"#1f77b4\",\"#2ca02c\",\"#8c564b\",\"#d62728\",\"#ff7f0e\",\"#9467bd\",\"#1f77b4\",\"#9467bd\",\"#1f77b4\",\"#d62728\",\"#ff7f0e\",\"#2ca02c\",\"#1f77b4\",\"#2ca02c\",\"#9467bd\",\"#d62728\",\"#d62728\",\"#1f77b4\",\"#d62728\",\"#2ca02c\",\"#9467bd\",\"#d62728\",\"#1f77b4\",\"#1f77b4\",\"#d62728\",\"#1f77b4\",\"#1f77b4\",\"#d62728\",\"#9467bd\",\"#1f77b4\",\"#9467bd\",\"#9467bd\",\"#1f77b4\",\"#d62728\",\"#8c564b\",\"#2ca02c\",\"#8c564b\",\"#9467bd\",\"#8c564b\",\"#9467bd\",\"#1f77b4\",\"#8c564b\",\"#9467bd\",\"#8c564b\",\"#d62728\",\"#d62728\",\"#d62728\",\"#ff7f0e\",\"#d62728\",\"#8c564b\",\"#ff7f0e\",\"#2ca02c\",\"#d62728\",\"#d62728\",\"#9467bd\",\"#2ca02c\",\"#1f77b4\",\"#9467bd\",\"#1f77b4\",\"#1f77b4\",\"#9467bd\",\"#ff7f0e\",\"#9467bd\",\"#2ca02c\",\"#1f77b4\",\"#d62728\",\"#d62728\",\"#2ca02c\",\"#8c564b\",\"#9467bd\",\"#d62728\",\"#d62728\",\"#2ca02c\",\"#1f77b4\",\"#d62728\",\"#9467bd\",\"#d62728\",\"#1f77b4\",\"#ff7f0e\",\"#d62728\",\"#9467bd\",\"#8c564b\",\"#d62728\",\"#1f77b4\",\"#9467bd\",\"#ff7f0e\",\"#d62728\",\"#1f77b4\",\"#d62728\",\"#8c564b\",\"#d62728\",\"#8c564b\",\"#1f77b4\",\"#9467bd\",\"#ff7f0e\",\"#8c564b\",\"#1f77b4\",\"#9467bd\",\"#ff7f0e\",\"#ff7f0e\",\"#1f77b4\",\"#d62728\",\"#d62728\",\"#d62728\",\"#1f77b4\",\"#9467bd\",\"#1f77b4\",\"#8c564b\",\"#8c564b\",\"#8c564b\",\"#d62728\",\"#9467bd\",\"#8c564b\",\"#1f77b4\",\"#2ca02c\",\"#2ca02c\",\"#d62728\",\"#8c564b\",\"#8c564b\",\"#2ca02c\",\"#1f77b4\",\"#d62728\",\"#9467bd\",\"#8c564b\",\"#2ca02c\",\"#ff7f0e\",\"#ff7f0e\",\"#1f77b4\",\"#d62728\",\"#d62728\",\"#1f77b4\",\"#8c564b\",\"#2ca02c\",\"#9467bd\",\"#ff7f0e\",\"#1f77b4\",\"#d62728\",\"#9467bd\",\"#d62728\",\"#d62728\",\"#9467bd\",\"#1f77b4\",\"#d62728\",\"#d62728\",\"#8c564b\",\"#8c564b\",\"#9467bd\",\"#d62728\",\"#8c564b\",\"#2ca02c\",\"#d62728\",\"#d62728\",\"#2ca02c\",\"#ff7f0e\",\"#9467bd\",\"#9467bd\",\"#8c564b\",\"#d62728\",\"#8c564b\",\"#9467bd\",\"#2ca02c\",\"#d62728\",\"#9467bd\",\"#2ca02c\",\"#d62728\",\"#1f77b4\",\"#8c564b\",\"#9467bd\",\"#d62728\",\"#1f77b4\",\"#ff7f0e\",\"#9467bd\",\"#ff7f0e\",\"#9467bd\",\"#9467bd\",\"#8c564b\",\"#2ca02c\",\"#1f77b4\",\"#ff7f0e\",\"#9467bd\",\"#2ca02c\",\"#2ca02c\",\"#9467bd\",\"#2ca02c\",\"#9467bd\",\"#8c564b\",\"#1f77b4\",\"#d62728\",\"#1f77b4\",\"#9467bd\",\"#d62728\",\"#1f77b4\",\"#1f77b4\",\"#8c564b\",\"#8c564b\",\"#8c564b\",\"#d62728\",\"#ff7f0e\",\"#8c564b\",\"#d62728\",\"#1f77b4\",\"#ff7f0e\",\"#1f77b4\",\"#d62728\",\"#9467bd\",\"#9467bd\",\"#8c564b\",\"#1f77b4\",\"#2ca02c\",\"#2ca02c\",\"#d62728\",\"#8c564b\",\"#2ca02c\",\"#d62728\",\"#9467bd\",\"#8c564b\",\"#1f77b4\",\"#d62728\",\"#2ca02c\",\"#d62728\",\"#1f77b4\",\"#1f77b4\",\"#2ca02c\",\"#d62728\",\"#1f77b4\",\"#9467bd\",\"#8c564b\",\"#2ca02c\",\"#d62728\",\"#d62728\",\"#d62728\",\"#ff7f0e\",\"#9467bd\",\"#d62728\",\"#ff7f0e\",\"#d62728\",\"#1f77b4\",\"#9467bd\",\"#8c564b\",\"#1f77b4\",\"#1f77b4\",\"#d62728\",\"#8c564b\",\"#9467bd\",\"#9467bd\",\"#1f77b4\",\"#ff7f0e\",\"#ff7f0e\",\"#8c564b\",\"#2ca02c\",\"#2ca02c\",\"#d62728\",\"#8c564b\",\"#d62728\",\"#8c564b\",\"#ff7f0e\",\"#d62728\",\"#9467bd\",\"#9467bd\",\"#2ca02c\",\"#ff7f0e\",\"#1f77b4\",\"#8c564b\",\"#1f77b4\",\"#8c564b\",\"#d62728\",\"#2ca02c\",\"#8c564b\",\"#d62728\",\"#9467bd\",\"#1f77b4\",\"#d62728\",\"#1f77b4\",\"#2ca02c\",\"#8c564b\",\"#ff7f0e\",\"#8c564b\",\"#d62728\",\"#2ca02c\",\"#d62728\",\"#2ca02c\",\"#d62728\",\"#8c564b\",\"#ff7f0e\",\"#8c564b\",\"#2ca02c\",\"#d62728\",\"#9467bd\",\"#2ca02c\",\"#d62728\",\"#8c564b\",\"#9467bd\",\"#d62728\",\"#d62728\",\"#ff7f0e\",\"#8c564b\",\"#1f77b4\",\"#1f77b4\",\"#9467bd\",\"#1f77b4\",\"#2ca02c\",\"#1f77b4\",\"#9467bd\",\"#9467bd\",\"#8c564b\",\"#1f77b4\",\"#9467bd\",\"#9467bd\",\"#d62728\",\"#2ca02c\",\"#8c564b\",\"#ff7f0e\",\"#8c564b\",\"#1f77b4\",\"#8c564b\",\"#1f77b4\",\"#d62728\",\"#ff7f0e\",\"#2ca02c\",\"#d62728\",\"#d62728\",\"#8c564b\",\"#ff7f0e\",\"#8c564b\",\"#d62728\",\"#1f77b4\",\"#8c564b\",\"#8c564b\",\"#2ca02c\",\"#d62728\",\"#d62728\",\"#2ca02c\",\"#9467bd\",\"#2ca02c\",\"#9467bd\",\"#1f77b4\",\"#1f77b4\",\"#1f77b4\",\"#1f77b4\",\"#8c564b\",\"#1f77b4\",\"#1f77b4\",\"#9467bd\",\"#ff7f0e\",\"#8c564b\",\"#1f77b4\",\"#ff7f0e\",\"#d62728\",\"#d62728\",\"#9467bd\",\"#1f77b4\",\"#2ca02c\",\"#2ca02c\",\"#2ca02c\",\"#d62728\",\"#8c564b\",\"#ff7f0e\",\"#1f77b4\",\"#d62728\",\"#9467bd\",\"#d62728\",\"#8c564b\",\"#2ca02c\",\"#9467bd\",\"#1f77b4\",\"#9467bd\",\"#d62728\",\"#9467bd\",\"#9467bd\",\"#d62728\",\"#d62728\",\"#d62728\",\"#d62728\",\"#9467bd\",\"#8c564b\",\"#9467bd\",\"#d62728\",\"#9467bd\",\"#d62728\",\"#d62728\",\"#ff7f0e\",\"#2ca02c\",\"#d62728\",\"#8c564b\",\"#8c564b\",\"#d62728\",\"#2ca02c\",\"#9467bd\",\"#2ca02c\",\"#8c564b\",\"#d62728\",\"#d62728\",\"#1f77b4\",\"#1f77b4\",\"#d62728\",\"#2ca02c\",\"#d62728\",\"#d62728\",\"#d62728\",\"#ff7f0e\",\"#8c564b\",\"#d62728\",\"#2ca02c\",\"#9467bd\",\"#2ca02c\",\"#1f77b4\",\"#ff7f0e\",\"#1f77b4\",\"#d62728\",\"#ff7f0e\",\"#2ca02c\",\"#d62728\",\"#d62728\",\"#9467bd\",\"#1f77b4\",\"#d62728\",\"#1f77b4\",\"#1f77b4\",\"#ff7f0e\",\"#8c564b\",\"#d62728\",\"#d62728\",\"#d62728\",\"#2ca02c\",\"#9467bd\",\"#8c564b\",\"#1f77b4\",\"#1f77b4\",\"#d62728\",\"#ff7f0e\",\"#2ca02c\",\"#d62728\",\"#d62728\",\"#8c564b\",\"#9467bd\",\"#1f77b4\",\"#d62728\",\"#d62728\",\"#8c564b\",\"#1f77b4\",\"#1f77b4\",\"#1f77b4\",\"#ff7f0e\",\"#2ca02c\",\"#2ca02c\",\"#ff7f0e\",\"#1f77b4\",\"#ff7f0e\",\"#d62728\",\"#9467bd\",\"#2ca02c\",\"#ff7f0e\",\"#d62728\",\"#9467bd\",\"#2ca02c\",\"#2ca02c\",\"#ff7f0e\",\"#2ca02c\",\"#1f77b4\",\"#d62728\",\"#d62728\",\"#d62728\",\"#9467bd\",\"#ff7f0e\",\"#9467bd\",\"#d62728\",\"#1f77b4\",\"#8c564b\",\"#1f77b4\",\"#ff7f0e\",\"#9467bd\",\"#2ca02c\",\"#1f77b4\",\"#9467bd\",\"#2ca02c\",\"#d62728\",\"#1f77b4\",\"#9467bd\",\"#2ca02c\",\"#9467bd\",\"#2ca02c\",\"#9467bd\",\"#2ca02c\",\"#d62728\",\"#1f77b4\",\"#8c564b\",\"#2ca02c\",\"#1f77b4\",\"#1f77b4\",\"#9467bd\",\"#2ca02c\",\"#8c564b\",\"#1f77b4\",\"#2ca02c\",\"#1f77b4\",\"#8c564b\",\"#2ca02c\",\"#1f77b4\",\"#ff7f0e\",\"#d62728\",\"#2ca02c\",\"#1f77b4\",\"#d62728\",\"#9467bd\",\"#1f77b4\",\"#2ca02c\",\"#8c564b\",\"#d62728\",\"#9467bd\",\"#d62728\",\"#9467bd\",\"#9467bd\",\"#1f77b4\",\"#2ca02c\",\"#d62728\",\"#1f77b4\",\"#d62728\",\"#1f77b4\",\"#2ca02c\",\"#1f77b4\",\"#1f77b4\",\"#d62728\",\"#2ca02c\",\"#9467bd\",\"#9467bd\",\"#1f77b4\",\"#ff7f0e\",\"#1f77b4\",\"#8c564b\",\"#d62728\",\"#d62728\",\"#2ca02c\",\"#2ca02c\",\"#ff7f0e\",\"#8c564b\",\"#9467bd\",\"#d62728\",\"#ff7f0e\",\"#d62728\",\"#1f77b4\",\"#8c564b\",\"#9467bd\",\"#1f77b4\",\"#d62728\",\"#8c564b\",\"#1f77b4\",\"#1f77b4\",\"#9467bd\",\"#8c564b\",\"#2ca02c\",\"#9467bd\",\"#1f77b4\",\"#1f77b4\",\"#8c564b\",\"#d62728\",\"#9467bd\",\"#1f77b4\",\"#2ca02c\",\"#1f77b4\",\"#1f77b4\",\"#1f77b4\",\"#ff7f0e\",\"#8c564b\",\"#2ca02c\",\"#d62728\",\"#2ca02c\",\"#9467bd\",\"#1f77b4\",\"#1f77b4\",\"#1f77b4\",\"#1f77b4\",\"#d62728\",\"#d62728\",\"#8c564b\",\"#1f77b4\",\"#9467bd\",\"#1f77b4\",\"#2ca02c\",\"#8c564b\",\"#ff7f0e\",\"#d62728\",\"#9467bd\",\"#d62728\",\"#1f77b4\",\"#1f77b4\",\"#9467bd\",\"#d62728\",\"#d62728\",\"#8c564b\",\"#8c564b\",\"#1f77b4\",\"#1f77b4\",\"#d62728\",\"#ff7f0e\",\"#2ca02c\",\"#8c564b\",\"#2ca02c\",\"#8c564b\",\"#2ca02c\",\"#8c564b\",\"#2ca02c\",\"#d62728\",\"#d62728\",\"#1f77b4\",\"#d62728\",\"#1f77b4\",\"#9467bd\",\"#9467bd\",\"#2ca02c\",\"#d62728\",\"#1f77b4\",\"#8c564b\",\"#9467bd\",\"#1f77b4\",\"#1f77b4\",\"#1f77b4\",\"#1f77b4\",\"#8c564b\",\"#1f77b4\",\"#1f77b4\",\"#2ca02c\",\"#8c564b\",\"#2ca02c\",\"#2ca02c\",\"#8c564b\",\"#2ca02c\",\"#1f77b4\",\"#1f77b4\",\"#9467bd\",\"#1f77b4\",\"#1f77b4\",\"#ff7f0e\",\"#2ca02c\",\"#ff7f0e\",\"#d62728\",\"#1f77b4\",\"#8c564b\",\"#ff7f0e\",\"#1f77b4\",\"#d62728\",\"#d62728\",\"#8c564b\",\"#8c564b\",\"#d62728\",\"#ff7f0e\",\"#1f77b4\",\"#1f77b4\",\"#2ca02c\",\"#d62728\",\"#1f77b4\",\"#8c564b\",\"#9467bd\",\"#8c564b\",\"#2ca02c\",\"#1f77b4\",\"#ff7f0e\",\"#1f77b4\",\"#d62728\",\"#2ca02c\",\"#9467bd\",\"#1f77b4\",\"#9467bd\",\"#8c564b\",\"#d62728\",\"#2ca02c\",\"#ff7f0e\",\"#1f77b4\",\"#1f77b4\",\"#d62728\",\"#d62728\",\"#9467bd\",\"#d62728\",\"#d62728\",\"#1f77b4\",\"#ff7f0e\",\"#d62728\",\"#d62728\",\"#2ca02c\",\"#d62728\",\"#8c564b\",\"#d62728\",\"#2ca02c\",\"#9467bd\",\"#1f77b4\",\"#1f77b4\",\"#1f77b4\",\"#1f77b4\",\"#2ca02c\",\"#9467bd\",\"#d62728\",\"#d62728\",\"#8c564b\",\"#9467bd\",\"#2ca02c\",\"#d62728\",\"#d62728\",\"#2ca02c\",\"#d62728\",\"#d62728\",\"#1f77b4\",\"#ff7f0e\",\"#2ca02c\",\"#9467bd\",\"#2ca02c\",\"#9467bd\",\"#2ca02c\",\"#9467bd\",\"#2ca02c\",\"#ff7f0e\",\"#9467bd\",\"#9467bd\",\"#8c564b\",\"#d62728\",\"#d62728\",\"#1f77b4\",\"#9467bd\",\"#9467bd\",\"#8c564b\",\"#8c564b\",\"#d62728\",\"#d62728\",\"#8c564b\",\"#1f77b4\",\"#d62728\",\"#8c564b\",\"#d62728\",\"#9467bd\",\"#2ca02c\",\"#ff7f0e\",\"#9467bd\",\"#2ca02c\",\"#8c564b\",\"#8c564b\",\"#1f77b4\",\"#8c564b\",\"#2ca02c\",\"#2ca02c\",\"#8c564b\",\"#d62728\",\"#1f77b4\",\"#1f77b4\",\"#2ca02c\",\"#2ca02c\",\"#1f77b4\",\"#d62728\",\"#9467bd\",\"#1f77b4\",\"#d62728\",\"#d62728\",\"#9467bd\",\"#1f77b4\",\"#d62728\",\"#ff7f0e\",\"#d62728\",\"#2ca02c\",\"#1f77b4\",\"#1f77b4\",\"#2ca02c\",\"#d62728\",\"#1f77b4\",\"#8c564b\",\"#9467bd\",\"#d62728\",\"#2ca02c\",\"#1f77b4\",\"#d62728\",\"#1f77b4\",\"#8c564b\",\"#d62728\",\"#8c564b\",\"#1f77b4\",\"#ff7f0e\",\"#9467bd\",\"#8c564b\",\"#9467bd\",\"#1f77b4\",\"#2ca02c\",\"#9467bd\",\"#ff7f0e\",\"#d62728\",\"#ff7f0e\",\"#1f77b4\",\"#8c564b\",\"#9467bd\",\"#d62728\",\"#d62728\",\"#d62728\",\"#d62728\",\"#d62728\",\"#8c564b\",\"#1f77b4\",\"#1f77b4\",\"#8c564b\",\"#9467bd\",\"#2ca02c\",\"#1f77b4\",\"#ff7f0e\",\"#8c564b\",\"#ff7f0e\",\"#8c564b\",\"#8c564b\",\"#8c564b\",\"#1f77b4\",\"#1f77b4\",\"#d62728\",\"#1f77b4\",\"#d62728\",\"#8c564b\",\"#1f77b4\",\"#1f77b4\",\"#8c564b\",\"#d62728\",\"#1f77b4\",\"#d62728\",\"#8c564b\",\"#1f77b4\",\"#d62728\",\"#1f77b4\",\"#ff7f0e\",\"#2ca02c\",\"#d62728\",\"#1f77b4\",\"#9467bd\",\"#1f77b4\",\"#1f77b4\",\"#d62728\",\"#8c564b\",\"#1f77b4\",\"#d62728\",\"#d62728\",\"#d62728\",\"#d62728\",\"#8c564b\",\"#2ca02c\",\"#ff7f0e\",\"#1f77b4\",\"#d62728\",\"#1f77b4\",\"#9467bd\",\"#9467bd\",\"#8c564b\",\"#1f77b4\",\"#d62728\",\"#1f77b4\",\"#9467bd\",\"#1f77b4\",\"#d62728\",\"#ff7f0e\",\"#1f77b4\",\"#1f77b4\",\"#d62728\",\"#d62728\",\"#1f77b4\",\"#8c564b\",\"#d62728\",\"#2ca02c\",\"#8c564b\",\"#d62728\",\"#d62728\",\"#8c564b\",\"#2ca02c\",\"#9467bd\",\"#1f77b4\",\"#d62728\",\"#9467bd\",\"#ff7f0e\",\"#d62728\",\"#8c564b\",\"#d62728\",\"#d62728\",\"#8c564b\",\"#d62728\",\"#8c564b\",\"#8c564b\",\"#d62728\",\"#1f77b4\",\"#8c564b\",\"#1f77b4\",\"#1f77b4\",\"#8c564b\",\"#8c564b\",\"#ff7f0e\",\"#d62728\",\"#9467bd\",\"#1f77b4\",\"#8c564b\",\"#2ca02c\",\"#8c564b\",\"#1f77b4\",\"#ff7f0e\",\"#1f77b4\",\"#9467bd\",\"#9467bd\",\"#d62728\",\"#8c564b\",\"#d62728\",\"#8c564b\",\"#9467bd\",\"#9467bd\",\"#9467bd\",\"#8c564b\",\"#1f77b4\",\"#ff7f0e\",\"#d62728\",\"#8c564b\",\"#d62728\",\"#8c564b\",\"#8c564b\",\"#1f77b4\",\"#8c564b\",\"#1f77b4\",\"#2ca02c\",\"#9467bd\",\"#2ca02c\",\"#9467bd\",\"#8c564b\",\"#1f77b4\",\"#8c564b\",\"#1f77b4\",\"#8c564b\",\"#d62728\",\"#1f77b4\",\"#2ca02c\",\"#8c564b\",\"#d62728\",\"#1f77b4\",\"#9467bd\",\"#1f77b4\",\"#1f77b4\",\"#ff7f0e\",\"#9467bd\",\"#2ca02c\",\"#1f77b4\",\"#9467bd\",\"#2ca02c\",\"#d62728\",\"#ff7f0e\",\"#1f77b4\",\"#d62728\",\"#d62728\",\"#2ca02c\",\"#8c564b\",\"#d62728\",\"#1f77b4\",\"#2ca02c\",\"#ff7f0e\",\"#ff7f0e\",\"#1f77b4\",\"#8c564b\",\"#d62728\",\"#2ca02c\",\"#2ca02c\",\"#1f77b4\",\"#8c564b\",\"#9467bd\",\"#d62728\",\"#8c564b\",\"#9467bd\",\"#2ca02c\",\"#8c564b\",\"#8c564b\",\"#2ca02c\",\"#d62728\",\"#1f77b4\",\"#8c564b\",\"#1f77b4\",\"#d62728\",\"#d62728\",\"#1f77b4\",\"#1f77b4\",\"#d62728\",\"#8c564b\",\"#1f77b4\",\"#d62728\",\"#1f77b4\",\"#1f77b4\",\"#2ca02c\",\"#9467bd\",\"#d62728\",\"#1f77b4\",\"#d62728\",\"#9467bd\",\"#8c564b\",\"#1f77b4\",\"#d62728\",\"#1f77b4\",\"#d62728\",\"#2ca02c\",\"#2ca02c\",\"#9467bd\",\"#d62728\",\"#8c564b\",\"#2ca02c\",\"#1f77b4\",\"#d62728\",\"#ff7f0e\",\"#9467bd\",\"#2ca02c\",\"#d62728\",\"#8c564b\",\"#2ca02c\",\"#2ca02c\",\"#d62728\",\"#8c564b\",\"#2ca02c\",\"#9467bd\",\"#2ca02c\",\"#d62728\",\"#1f77b4\",\"#d62728\",\"#ff7f0e\",\"#1f77b4\",\"#1f77b4\",\"#1f77b4\",\"#9467bd\",\"#1f77b4\",\"#2ca02c\",\"#d62728\",\"#8c564b\",\"#9467bd\",\"#1f77b4\",\"#8c564b\",\"#8c564b\",\"#d62728\",\"#2ca02c\",\"#2ca02c\",\"#1f77b4\",\"#8c564b\",\"#d62728\",\"#8c564b\",\"#2ca02c\",\"#d62728\",\"#8c564b\",\"#9467bd\",\"#2ca02c\",\"#1f77b4\",\"#8c564b\",\"#d62728\",\"#d62728\",\"#1f77b4\",\"#1f77b4\",\"#9467bd\",\"#d62728\",\"#1f77b4\",\"#2ca02c\",\"#ff7f0e\",\"#1f77b4\",\"#d62728\",\"#d62728\",\"#1f77b4\",\"#1f77b4\",\"#8c564b\",\"#1f77b4\",\"#1f77b4\",\"#d62728\",\"#9467bd\",\"#9467bd\",\"#ff7f0e\",\"#8c564b\",\"#9467bd\",\"#1f77b4\",\"#9467bd\",\"#ff7f0e\",\"#1f77b4\",\"#ff7f0e\",\"#1f77b4\",\"#d62728\",\"#8c564b\",\"#d62728\",\"#d62728\",\"#d62728\",\"#d62728\",\"#d62728\",\"#9467bd\",\"#9467bd\",\"#d62728\",\"#2ca02c\",\"#d62728\",\"#8c564b\",\"#d62728\",\"#ff7f0e\",\"#8c564b\",\"#9467bd\",\"#2ca02c\",\"#2ca02c\",\"#d62728\",\"#8c564b\",\"#d62728\",\"#d62728\",\"#9467bd\",\"#d62728\",\"#ff7f0e\",\"#ff7f0e\",\"#1f77b4\",\"#1f77b4\",\"#9467bd\",\"#8c564b\",\"#2ca02c\",\"#d62728\",\"#d62728\",\"#ff7f0e\",\"#d62728\",\"#1f77b4\",\"#8c564b\",\"#9467bd\",\"#8c564b\",\"#8c564b\",\"#8c564b\",\"#9467bd\",\"#d62728\",\"#d62728\",\"#ff7f0e\",\"#1f77b4\",\"#1f77b4\",\"#2ca02c\",\"#1f77b4\",\"#d62728\",\"#ff7f0e\",\"#9467bd\",\"#1f77b4\",\"#8c564b\",\"#d62728\",\"#8c564b\",\"#8c564b\",\"#d62728\",\"#1f77b4\",\"#2ca02c\",\"#1f77b4\",\"#ff7f0e\",\"#9467bd\",\"#2ca02c\",\"#1f77b4\",\"#1f77b4\",\"#1f77b4\",\"#d62728\",\"#d62728\",\"#2ca02c\",\"#2ca02c\",\"#2ca02c\",\"#d62728\",\"#8c564b\",\"#1f77b4\",\"#d62728\",\"#1f77b4\",\"#8c564b\",\"#8c564b\",\"#9467bd\",\"#1f77b4\",\"#1f77b4\",\"#1f77b4\",\"#8c564b\",\"#d62728\",\"#d62728\",\"#9467bd\",\"#8c564b\",\"#d62728\",\"#d62728\",\"#8c564b\",\"#1f77b4\",\"#d62728\",\"#d62728\",\"#2ca02c\",\"#d62728\",\"#8c564b\",\"#8c564b\",\"#1f77b4\",\"#2ca02c\",\"#2ca02c\",\"#1f77b4\",\"#8c564b\",\"#2ca02c\",\"#8c564b\",\"#d62728\",\"#ff7f0e\",\"#d62728\",\"#ff7f0e\",\"#1f77b4\",\"#1f77b4\",\"#8c564b\",\"#1f77b4\",\"#9467bd\",\"#9467bd\",\"#8c564b\",\"#8c564b\",\"#d62728\",\"#2ca02c\",\"#d62728\",\"#1f77b4\",\"#1f77b4\",\"#9467bd\",\"#1f77b4\",\"#8c564b\",\"#9467bd\",\"#8c564b\",\"#8c564b\",\"#d62728\",\"#8c564b\",\"#2ca02c\",\"#8c564b\",\"#d62728\",\"#9467bd\",\"#8c564b\",\"#d62728\",\"#2ca02c\",\"#1f77b4\",\"#2ca02c\",\"#1f77b4\",\"#2ca02c\",\"#1f77b4\",\"#d62728\",\"#1f77b4\",\"#1f77b4\",\"#2ca02c\",\"#d62728\",\"#d62728\",\"#1f77b4\",\"#9467bd\",\"#8c564b\",\"#1f77b4\",\"#1f77b4\",\"#1f77b4\",\"#d62728\",\"#8c564b\",\"#ff7f0e\",\"#1f77b4\",\"#9467bd\",\"#2ca02c\",\"#d62728\",\"#1f77b4\",\"#d62728\",\"#2ca02c\",\"#d62728\",\"#1f77b4\",\"#2ca02c\",\"#d62728\",\"#1f77b4\",\"#8c564b\",\"#8c564b\",\"#9467bd\",\"#ff7f0e\",\"#1f77b4\",\"#d62728\",\"#8c564b\",\"#d62728\",\"#1f77b4\",\"#d62728\",\"#8c564b\",\"#8c564b\",\"#8c564b\",\"#9467bd\",\"#d62728\",\"#8c564b\",\"#ff7f0e\",\"#8c564b\",\"#1f77b4\",\"#1f77b4\",\"#ff7f0e\",\"#1f77b4\",\"#8c564b\",\"#d62728\",\"#1f77b4\",\"#1f77b4\",\"#1f77b4\",\"#d62728\",\"#1f77b4\",\"#d62728\",\"#d62728\",\"#ff7f0e\",\"#2ca02c\",\"#1f77b4\",\"#ff7f0e\",\"#8c564b\",\"#9467bd\",\"#2ca02c\",\"#1f77b4\",\"#2ca02c\",\"#8c564b\",\"#d62728\",\"#1f77b4\",\"#1f77b4\",\"#8c564b\",\"#9467bd\",\"#ff7f0e\",\"#d62728\",\"#1f77b4\",\"#8c564b\",\"#d62728\",\"#1f77b4\",\"#2ca02c\",\"#8c564b\",\"#9467bd\",\"#9467bd\",\"#8c564b\",\"#8c564b\",\"#9467bd\",\"#1f77b4\",\"#9467bd\",\"#8c564b\",\"#1f77b4\",\"#d62728\",\"#1f77b4\",\"#9467bd\",\"#9467bd\",\"#d62728\",\"#8c564b\",\"#ff7f0e\",\"#d62728\",\"#d62728\",\"#2ca02c\",\"#8c564b\",\"#9467bd\",\"#9467bd\",\"#1f77b4\",\"#8c564b\",\"#1f77b4\",\"#ff7f0e\",\"#1f77b4\",\"#d62728\",\"#d62728\",\"#2ca02c\",\"#8c564b\",\"#d62728\",\"#2ca02c\",\"#d62728\",\"#9467bd\",\"#1f77b4\",\"#2ca02c\",\"#d62728\",\"#1f77b4\",\"#d62728\",\"#2ca02c\",\"#8c564b\",\"#1f77b4\",\"#d62728\",\"#1f77b4\",\"#8c564b\",\"#2ca02c\",\"#9467bd\",\"#ff7f0e\",\"#2ca02c\",\"#1f77b4\",\"#9467bd\",\"#8c564b\",\"#9467bd\",\"#8c564b\",\"#d62728\",\"#d62728\",\"#2ca02c\",\"#8c564b\",\"#9467bd\",\"#1f77b4\",\"#1f77b4\",\"#9467bd\",\"#ff7f0e\",\"#d62728\",\"#1f77b4\",\"#2ca02c\",\"#1f77b4\",\"#8c564b\",\"#d62728\",\"#d62728\",\"#d62728\",\"#1f77b4\",\"#1f77b4\",\"#ff7f0e\",\"#1f77b4\",\"#2ca02c\",\"#2ca02c\",\"#d62728\",\"#1f77b4\",\"#2ca02c\",\"#ff7f0e\",\"#d62728\",\"#d62728\",\"#ff7f0e\",\"#2ca02c\",\"#1f77b4\",\"#d62728\",\"#9467bd\",\"#9467bd\",\"#8c564b\",\"#2ca02c\",\"#d62728\",\"#9467bd\",\"#9467bd\",\"#9467bd\",\"#1f77b4\",\"#d62728\",\"#1f77b4\",\"#1f77b4\",\"#1f77b4\",\"#d62728\",\"#8c564b\",\"#9467bd\",\"#d62728\",\"#d62728\",\"#8c564b\",\"#1f77b4\",\"#9467bd\",\"#9467bd\",\"#2ca02c\",\"#d62728\",\"#ff7f0e\",\"#ff7f0e\",\"#1f77b4\",\"#9467bd\",\"#1f77b4\",\"#2ca02c\",\"#2ca02c\",\"#8c564b\",\"#2ca02c\",\"#8c564b\",\"#8c564b\",\"#d62728\",\"#1f77b4\",\"#d62728\",\"#ff7f0e\",\"#8c564b\",\"#1f77b4\",\"#9467bd\",\"#2ca02c\",\"#8c564b\",\"#1f77b4\",\"#8c564b\",\"#d62728\",\"#1f77b4\",\"#2ca02c\",\"#d62728\",\"#9467bd\",\"#9467bd\",\"#8c564b\",\"#d62728\",\"#d62728\",\"#8c564b\",\"#1f77b4\",\"#1f77b4\",\"#ff7f0e\",\"#9467bd\",\"#1f77b4\",\"#d62728\",\"#d62728\",\"#1f77b4\",\"#ff7f0e\",\"#1f77b4\",\"#ff7f0e\",\"#8c564b\",\"#2ca02c\",\"#2ca02c\",\"#2ca02c\",\"#2ca02c\",\"#1f77b4\",\"#9467bd\",\"#d62728\",\"#1f77b4\",\"#d62728\",\"#9467bd\",\"#8c564b\",\"#1f77b4\",\"#d62728\",\"#1f77b4\",\"#2ca02c\",\"#1f77b4\",\"#2ca02c\",\"#d62728\",\"#d62728\",\"#1f77b4\",\"#1f77b4\",\"#d62728\",\"#d62728\",\"#d62728\",\"#d62728\",\"#d62728\",\"#ff7f0e\",\"#8c564b\",\"#9467bd\",\"#1f77b4\",\"#1f77b4\",\"#1f77b4\",\"#2ca02c\",\"#1f77b4\",\"#8c564b\",\"#1f77b4\",\"#1f77b4\",\"#9467bd\",\"#8c564b\",\"#2ca02c\",\"#1f77b4\",\"#9467bd\",\"#d62728\",\"#1f77b4\",\"#8c564b\",\"#9467bd\",\"#9467bd\",\"#d62728\",\"#ff7f0e\",\"#9467bd\",\"#1f77b4\",\"#d62728\",\"#ff7f0e\",\"#1f77b4\",\"#d62728\",\"#2ca02c\",\"#8c564b\",\"#2ca02c\",\"#1f77b4\",\"#1f77b4\",\"#d62728\",\"#d62728\",\"#2ca02c\",\"#9467bd\",\"#ff7f0e\",\"#d62728\",\"#2ca02c\",\"#8c564b\",\"#9467bd\",\"#8c564b\",\"#2ca02c\",\"#ff7f0e\",\"#1f77b4\",\"#9467bd\",\"#8c564b\",\"#1f77b4\",\"#8c564b\",\"#2ca02c\",\"#8c564b\",\"#d62728\",\"#8c564b\",\"#2ca02c\",\"#d62728\",\"#d62728\",\"#8c564b\",\"#1f77b4\",\"#d62728\",\"#9467bd\",\"#2ca02c\",\"#8c564b\",\"#8c564b\",\"#9467bd\",\"#9467bd\",\"#2ca02c\",\"#d62728\",\"#2ca02c\",\"#2ca02c\",\"#d62728\",\"#2ca02c\",\"#d62728\",\"#d62728\",\"#1f77b4\",\"#9467bd\",\"#8c564b\",\"#d62728\",\"#1f77b4\",\"#1f77b4\",\"#8c564b\",\"#9467bd\",\"#2ca02c\",\"#1f77b4\",\"#d62728\",\"#1f77b4\",\"#d62728\",\"#1f77b4\",\"#1f77b4\",\"#2ca02c\",\"#ff7f0e\",\"#2ca02c\",\"#1f77b4\",\"#d62728\",\"#2ca02c\",\"#1f77b4\",\"#2ca02c\",\"#d62728\",\"#d62728\",\"#2ca02c\",\"#1f77b4\",\"#ff7f0e\",\"#d62728\",\"#1f77b4\",\"#d62728\",\"#1f77b4\",\"#ff7f0e\",\"#2ca02c\",\"#1f77b4\",\"#8c564b\",\"#9467bd\",\"#8c564b\",\"#9467bd\",\"#1f77b4\",\"#1f77b4\",\"#8c564b\",\"#8c564b\",\"#1f77b4\",\"#2ca02c\",\"#d62728\",\"#8c564b\",\"#1f77b4\",\"#8c564b\",\"#8c564b\",\"#9467bd\",\"#8c564b\",\"#1f77b4\",\"#9467bd\",\"#d62728\",\"#d62728\",\"#d62728\",\"#1f77b4\",\"#8c564b\",\"#d62728\",\"#1f77b4\",\"#d62728\",\"#9467bd\",\"#1f77b4\",\"#9467bd\",\"#8c564b\",\"#2ca02c\",\"#1f77b4\",\"#ff7f0e\",\"#1f77b4\",\"#9467bd\",\"#9467bd\",\"#1f77b4\",\"#1f77b4\",\"#1f77b4\",\"#1f77b4\",\"#1f77b4\",\"#9467bd\",\"#2ca02c\",\"#9467bd\",\"#d62728\",\"#1f77b4\",\"#1f77b4\",\"#d62728\",\"#d62728\",\"#1f77b4\",\"#9467bd\",\"#d62728\",\"#ff7f0e\",\"#1f77b4\",\"#1f77b4\",\"#2ca02c\",\"#ff7f0e\",\"#8c564b\",\"#9467bd\",\"#d62728\",\"#9467bd\",\"#d62728\",\"#d62728\",\"#9467bd\",\"#2ca02c\",\"#1f77b4\",\"#d62728\",\"#2ca02c\",\"#8c564b\",\"#1f77b4\",\"#d62728\",\"#ff7f0e\",\"#d62728\",\"#8c564b\",\"#2ca02c\",\"#d62728\",\"#1f77b4\",\"#8c564b\",\"#2ca02c\",\"#d62728\",\"#1f77b4\",\"#d62728\",\"#d62728\",\"#d62728\",\"#d62728\",\"#9467bd\",\"#d62728\",\"#8c564b\",\"#ff7f0e\",\"#1f77b4\",\"#9467bd\",\"#8c564b\",\"#2ca02c\",\"#1f77b4\",\"#ff7f0e\",\"#d62728\",\"#8c564b\",\"#8c564b\",\"#ff7f0e\",\"#d62728\",\"#2ca02c\",\"#2ca02c\",\"#2ca02c\",\"#d62728\",\"#1f77b4\",\"#8c564b\",\"#1f77b4\",\"#9467bd\",\"#d62728\",\"#d62728\",\"#9467bd\",\"#d62728\",\"#1f77b4\",\"#d62728\",\"#d62728\",\"#d62728\",\"#1f77b4\",\"#d62728\",\"#8c564b\",\"#ff7f0e\",\"#1f77b4\",\"#9467bd\",\"#2ca02c\",\"#8c564b\",\"#2ca02c\",\"#d62728\",\"#1f77b4\",\"#1f77b4\",\"#2ca02c\",\"#d62728\",\"#8c564b\",\"#8c564b\",\"#9467bd\",\"#8c564b\",\"#9467bd\",\"#d62728\",\"#9467bd\",\"#d62728\",\"#d62728\",\"#1f77b4\",\"#1f77b4\",\"#8c564b\",\"#1f77b4\",\"#d62728\",\"#1f77b4\",\"#2ca02c\",\"#ff7f0e\",\"#2ca02c\",\"#9467bd\",\"#8c564b\",\"#d62728\",\"#8c564b\",\"#1f77b4\",\"#d62728\",\"#9467bd\",\"#d62728\",\"#9467bd\",\"#8c564b\",\"#ff7f0e\",\"#1f77b4\",\"#2ca02c\",\"#1f77b4\",\"#9467bd\",\"#9467bd\",\"#1f77b4\",\"#9467bd\",\"#8c564b\",\"#2ca02c\",\"#d62728\",\"#1f77b4\",\"#8c564b\",\"#1f77b4\",\"#2ca02c\",\"#9467bd\",\"#9467bd\",\"#8c564b\",\"#d62728\",\"#1f77b4\",\"#d62728\",\"#1f77b4\",\"#2ca02c\",\"#1f77b4\",\"#ff7f0e\",\"#d62728\",\"#8c564b\",\"#1f77b4\",\"#d62728\",\"#9467bd\",\"#d62728\",\"#d62728\",\"#2ca02c\",\"#d62728\",\"#ff7f0e\",\"#2ca02c\",\"#9467bd\",\"#8c564b\",\"#d62728\",\"#8c564b\",\"#2ca02c\",\"#2ca02c\",\"#8c564b\",\"#2ca02c\",\"#2ca02c\",\"#1f77b4\",\"#1f77b4\",\"#d62728\",\"#2ca02c\",\"#8c564b\",\"#1f77b4\",\"#1f77b4\",\"#8c564b\",\"#d62728\",\"#1f77b4\",\"#d62728\",\"#8c564b\",\"#1f77b4\",\"#8c564b\",\"#2ca02c\",\"#1f77b4\",\"#8c564b\",\"#1f77b4\",\"#1f77b4\",\"#1f77b4\",\"#1f77b4\",\"#1f77b4\",\"#2ca02c\",\"#1f77b4\",\"#8c564b\",\"#2ca02c\",\"#8c564b\",\"#2ca02c\",\"#1f77b4\",\"#2ca02c\",\"#8c564b\",\"#d62728\",\"#d62728\",\"#2ca02c\",\"#2ca02c\",\"#9467bd\",\"#8c564b\",\"#8c564b\",\"#d62728\",\"#2ca02c\",\"#d62728\",\"#d62728\",\"#d62728\",\"#9467bd\",\"#d62728\",\"#d62728\",\"#d62728\",\"#d62728\",\"#8c564b\",\"#9467bd\",\"#1f77b4\",\"#2ca02c\",\"#d62728\",\"#9467bd\",\"#1f77b4\",\"#1f77b4\",\"#d62728\",\"#8c564b\",\"#ff7f0e\",\"#d62728\",\"#9467bd\",\"#8c564b\",\"#9467bd\",\"#d62728\",\"#ff7f0e\",\"#2ca02c\",\"#ff7f0e\",\"#2ca02c\",\"#1f77b4\",\"#ff7f0e\",\"#9467bd\",\"#8c564b\",\"#2ca02c\",\"#2ca02c\",\"#2ca02c\",\"#1f77b4\",\"#1f77b4\",\"#1f77b4\",\"#1f77b4\",\"#9467bd\",\"#2ca02c\",\"#2ca02c\",\"#2ca02c\",\"#1f77b4\",\"#2ca02c\",\"#d62728\",\"#9467bd\",\"#1f77b4\",\"#d62728\",\"#9467bd\",\"#1f77b4\",\"#1f77b4\",\"#d62728\",\"#d62728\",\"#2ca02c\",\"#ff7f0e\",\"#1f77b4\",\"#2ca02c\",\"#8c564b\",\"#2ca02c\",\"#d62728\",\"#8c564b\",\"#8c564b\",\"#d62728\",\"#d62728\",\"#d62728\",\"#2ca02c\",\"#8c564b\",\"#1f77b4\",\"#8c564b\",\"#2ca02c\",\"#2ca02c\",\"#1f77b4\",\"#1f77b4\",\"#2ca02c\",\"#2ca02c\",\"#1f77b4\",\"#9467bd\",\"#d62728\",\"#9467bd\",\"#1f77b4\",\"#1f77b4\",\"#1f77b4\",\"#d62728\",\"#d62728\",\"#8c564b\",\"#d62728\",\"#8c564b\",\"#1f77b4\",\"#d62728\",\"#8c564b\",\"#d62728\",\"#d62728\",\"#1f77b4\",\"#2ca02c\",\"#d62728\",\"#1f77b4\",\"#d62728\",\"#2ca02c\",\"#9467bd\",\"#1f77b4\",\"#1f77b4\",\"#d62728\",\"#d62728\",\"#d62728\",\"#1f77b4\",\"#8c564b\",\"#1f77b4\",\"#d62728\",\"#d62728\",\"#d62728\",\"#1f77b4\",\"#d62728\",\"#d62728\",\"#d62728\",\"#2ca02c\",\"#2ca02c\",\"#1f77b4\",\"#1f77b4\",\"#ff7f0e\",\"#9467bd\",\"#9467bd\",\"#1f77b4\",\"#9467bd\",\"#1f77b4\",\"#1f77b4\",\"#8c564b\",\"#8c564b\",\"#1f77b4\",\"#ff7f0e\",\"#d62728\",\"#1f77b4\",\"#8c564b\",\"#ff7f0e\",\"#d62728\",\"#d62728\",\"#ff7f0e\",\"#ff7f0e\",\"#ff7f0e\",\"#d62728\",\"#2ca02c\",\"#8c564b\",\"#d62728\",\"#d62728\",\"#9467bd\",\"#9467bd\",\"#ff7f0e\",\"#d62728\",\"#8c564b\",\"#1f77b4\",\"#8c564b\",\"#1f77b4\",\"#2ca02c\",\"#d62728\",\"#1f77b4\",\"#d62728\",\"#ff7f0e\",\"#8c564b\",\"#1f77b4\",\"#d62728\",\"#ff7f0e\",\"#8c564b\",\"#2ca02c\",\"#1f77b4\",\"#d62728\",\"#9467bd\",\"#ff7f0e\",\"#1f77b4\",\"#8c564b\",\"#8c564b\",\"#1f77b4\",\"#9467bd\",\"#9467bd\",\"#d62728\",\"#ff7f0e\",\"#9467bd\",\"#1f77b4\",\"#1f77b4\",\"#8c564b\",\"#d62728\",\"#d62728\",\"#d62728\",\"#1f77b4\",\"#9467bd\",\"#ff7f0e\",\"#9467bd\",\"#d62728\",\"#8c564b\",\"#8c564b\",\"#8c564b\",\"#9467bd\",\"#d62728\",\"#1f77b4\",\"#ff7f0e\",\"#8c564b\",\"#9467bd\",\"#2ca02c\",\"#9467bd\",\"#d62728\",\"#d62728\",\"#9467bd\",\"#d62728\",\"#d62728\",\"#d62728\",\"#d62728\",\"#1f77b4\",\"#1f77b4\",\"#2ca02c\",\"#9467bd\",\"#1f77b4\",\"#8c564b\",\"#2ca02c\",\"#ff7f0e\",\"#1f77b4\",\"#d62728\",\"#8c564b\",\"#8c564b\",\"#9467bd\",\"#9467bd\",\"#1f77b4\",\"#2ca02c\",\"#1f77b4\",\"#ff7f0e\",\"#9467bd\",\"#1f77b4\",\"#1f77b4\",\"#d62728\",\"#1f77b4\",\"#d62728\",\"#1f77b4\",\"#d62728\",\"#2ca02c\",\"#9467bd\",\"#2ca02c\",\"#1f77b4\",\"#d62728\",\"#2ca02c\",\"#1f77b4\",\"#d62728\",\"#8c564b\",\"#d62728\",\"#d62728\",\"#2ca02c\",\"#8c564b\",\"#2ca02c\",\"#2ca02c\",\"#8c564b\",\"#d62728\",\"#d62728\",\"#2ca02c\",\"#d62728\",\"#9467bd\",\"#ff7f0e\",\"#1f77b4\",\"#2ca02c\",\"#8c564b\",\"#1f77b4\",\"#ff7f0e\",\"#1f77b4\",\"#9467bd\",\"#d62728\",\"#d62728\",\"#9467bd\",\"#d62728\",\"#9467bd\",\"#ff7f0e\",\"#8c564b\",\"#2ca02c\",\"#1f77b4\",\"#1f77b4\",\"#2ca02c\",\"#2ca02c\",\"#9467bd\",\"#2ca02c\",\"#9467bd\",\"#d62728\",\"#ff7f0e\",\"#2ca02c\",\"#d62728\",\"#ff7f0e\",\"#9467bd\",\"#1f77b4\",\"#d62728\",\"#d62728\",\"#8c564b\",\"#2ca02c\",\"#d62728\",\"#d62728\",\"#1f77b4\",\"#d62728\",\"#d62728\",\"#ff7f0e\",\"#2ca02c\",\"#9467bd\",\"#8c564b\",\"#9467bd\",\"#8c564b\",\"#8c564b\",\"#ff7f0e\",\"#1f77b4\",\"#1f77b4\",\"#1f77b4\",\"#ff7f0e\",\"#2ca02c\",\"#2ca02c\",\"#2ca02c\",\"#1f77b4\",\"#ff7f0e\",\"#1f77b4\",\"#9467bd\",\"#9467bd\",\"#ff7f0e\",\"#d62728\",\"#9467bd\",\"#2ca02c\",\"#d62728\",\"#9467bd\",\"#d62728\",\"#9467bd\",\"#d62728\",\"#2ca02c\",\"#9467bd\",\"#9467bd\",\"#ff7f0e\",\"#9467bd\",\"#1f77b4\",\"#9467bd\",\"#1f77b4\",\"#9467bd\",\"#1f77b4\",\"#d62728\",\"#1f77b4\",\"#1f77b4\",\"#d62728\",\"#d62728\",\"#d62728\",\"#9467bd\",\"#1f77b4\",\"#9467bd\",\"#9467bd\",\"#8c564b\",\"#d62728\",\"#1f77b4\",\"#1f77b4\",\"#1f77b4\",\"#8c564b\",\"#d62728\",\"#1f77b4\",\"#1f77b4\",\"#d62728\",\"#9467bd\",\"#9467bd\",\"#d62728\",\"#1f77b4\",\"#1f77b4\",\"#9467bd\",\"#ff7f0e\",\"#d62728\",\"#d62728\",\"#8c564b\",\"#9467bd\",\"#2ca02c\",\"#9467bd\",\"#ff7f0e\",\"#1f77b4\",\"#1f77b4\",\"#d62728\",\"#d62728\",\"#1f77b4\",\"#1f77b4\",\"#9467bd\",\"#d62728\",\"#d62728\",\"#2ca02c\",\"#9467bd\",\"#1f77b4\",\"#8c564b\",\"#2ca02c\",\"#ff7f0e\",\"#1f77b4\",\"#8c564b\",\"#ff7f0e\",\"#2ca02c\",\"#1f77b4\",\"#d62728\",\"#8c564b\",\"#2ca02c\",\"#8c564b\",\"#d62728\",\"#1f77b4\",\"#8c564b\",\"#9467bd\",\"#2ca02c\",\"#8c564b\",\"#d62728\",\"#1f77b4\",\"#ff7f0e\",\"#d62728\",\"#d62728\",\"#d62728\",\"#2ca02c\",\"#9467bd\",\"#9467bd\",\"#d62728\",\"#8c564b\",\"#1f77b4\",\"#ff7f0e\",\"#9467bd\",\"#d62728\",\"#ff7f0e\",\"#8c564b\",\"#8c564b\",\"#d62728\",\"#d62728\",\"#9467bd\",\"#9467bd\",\"#1f77b4\",\"#9467bd\",\"#d62728\",\"#1f77b4\",\"#1f77b4\",\"#d62728\",\"#2ca02c\",\"#9467bd\",\"#8c564b\",\"#d62728\",\"#1f77b4\",\"#9467bd\",\"#9467bd\",\"#d62728\",\"#2ca02c\",\"#8c564b\",\"#8c564b\",\"#1f77b4\",\"#d62728\",\"#2ca02c\",\"#2ca02c\",\"#ff7f0e\",\"#2ca02c\",\"#d62728\",\"#2ca02c\",\"#9467bd\",\"#d62728\",\"#9467bd\",\"#2ca02c\",\"#8c564b\",\"#d62728\",\"#9467bd\",\"#1f77b4\",\"#d62728\",\"#1f77b4\",\"#d62728\",\"#ff7f0e\",\"#d62728\",\"#9467bd\",\"#ff7f0e\",\"#d62728\",\"#9467bd\",\"#ff7f0e\",\"#2ca02c\",\"#d62728\",\"#1f77b4\",\"#8c564b\",\"#8c564b\",\"#8c564b\",\"#8c564b\",\"#d62728\",\"#1f77b4\",\"#9467bd\",\"#1f77b4\",\"#ff7f0e\",\"#d62728\",\"#9467bd\",\"#9467bd\",\"#9467bd\",\"#2ca02c\",\"#1f77b4\",\"#9467bd\",\"#8c564b\",\"#2ca02c\",\"#d62728\",\"#1f77b4\",\"#1f77b4\",\"#1f77b4\",\"#1f77b4\",\"#9467bd\",\"#d62728\",\"#1f77b4\",\"#8c564b\",\"#d62728\",\"#8c564b\",\"#9467bd\",\"#d62728\",\"#ff7f0e\",\"#1f77b4\",\"#d62728\",\"#1f77b4\",\"#2ca02c\",\"#1f77b4\",\"#d62728\",\"#1f77b4\",\"#d62728\",\"#9467bd\",\"#ff7f0e\",\"#ff7f0e\",\"#1f77b4\",\"#8c564b\",\"#1f77b4\",\"#ff7f0e\",\"#8c564b\",\"#2ca02c\",\"#9467bd\",\"#1f77b4\",\"#9467bd\",\"#2ca02c\",\"#9467bd\",\"#1f77b4\",\"#2ca02c\",\"#d62728\",\"#d62728\",\"#1f77b4\",\"#ff7f0e\",\"#9467bd\",\"#2ca02c\",\"#d62728\",\"#ff7f0e\",\"#1f77b4\",\"#1f77b4\",\"#2ca02c\",\"#d62728\",\"#1f77b4\",\"#1f77b4\",\"#9467bd\",\"#1f77b4\",\"#2ca02c\",\"#2ca02c\",\"#2ca02c\",\"#1f77b4\",\"#9467bd\",\"#2ca02c\",\"#2ca02c\",\"#1f77b4\",\"#d62728\",\"#1f77b4\",\"#8c564b\",\"#d62728\",\"#8c564b\",\"#2ca02c\",\"#8c564b\",\"#1f77b4\",\"#1f77b4\",\"#d62728\",\"#d62728\",\"#8c564b\",\"#9467bd\",\"#d62728\",\"#d62728\",\"#2ca02c\",\"#1f77b4\",\"#9467bd\",\"#1f77b4\",\"#8c564b\",\"#1f77b4\",\"#d62728\",\"#2ca02c\",\"#1f77b4\",\"#d62728\",\"#d62728\",\"#d62728\",\"#9467bd\",\"#d62728\",\"#1f77b4\",\"#8c564b\",\"#8c564b\",\"#1f77b4\",\"#ff7f0e\",\"#1f77b4\",\"#d62728\",\"#1f77b4\",\"#1f77b4\",\"#1f77b4\",\"#9467bd\",\"#d62728\",\"#d62728\",\"#ff7f0e\",\"#ff7f0e\",\"#9467bd\",\"#d62728\",\"#2ca02c\",\"#1f77b4\",\"#d62728\",\"#d62728\",\"#ff7f0e\",\"#d62728\",\"#2ca02c\",\"#ff7f0e\",\"#d62728\",\"#9467bd\",\"#1f77b4\",\"#d62728\",\"#2ca02c\",\"#d62728\",\"#1f77b4\",\"#2ca02c\",\"#8c564b\",\"#ff7f0e\",\"#1f77b4\",\"#1f77b4\",\"#8c564b\",\"#2ca02c\",\"#2ca02c\",\"#d62728\",\"#2ca02c\",\"#1f77b4\",\"#8c564b\",\"#1f77b4\",\"#d62728\",\"#2ca02c\",\"#d62728\",\"#8c564b\",\"#2ca02c\",\"#ff7f0e\",\"#2ca02c\",\"#2ca02c\",\"#1f77b4\",\"#ff7f0e\",\"#d62728\",\"#9467bd\",\"#d62728\",\"#8c564b\",\"#ff7f0e\",\"#d62728\",\"#9467bd\",\"#1f77b4\",\"#1f77b4\",\"#1f77b4\",\"#9467bd\",\"#2ca02c\",\"#2ca02c\",\"#ff7f0e\",\"#9467bd\",\"#9467bd\",\"#1f77b4\",\"#1f77b4\",\"#1f77b4\",\"#d62728\",\"#8c564b\",\"#8c564b\",\"#1f77b4\",\"#8c564b\",\"#8c564b\",\"#2ca02c\",\"#8c564b\",\"#8c564b\",\"#ff7f0e\",\"#ff7f0e\",\"#2ca02c\",\"#1f77b4\",\"#2ca02c\",\"#8c564b\",\"#1f77b4\",\"#9467bd\",\"#1f77b4\",\"#d62728\",\"#1f77b4\",\"#9467bd\",\"#1f77b4\",\"#1f77b4\",\"#ff7f0e\",\"#1f77b4\",\"#8c564b\",\"#2ca02c\",\"#9467bd\",\"#ff7f0e\",\"#9467bd\",\"#2ca02c\",\"#ff7f0e\",\"#9467bd\",\"#9467bd\",\"#d62728\",\"#1f77b4\",\"#9467bd\",\"#8c564b\",\"#d62728\",\"#d62728\",\"#d62728\",\"#d62728\",\"#1f77b4\",\"#2ca02c\",\"#1f77b4\",\"#2ca02c\",\"#1f77b4\",\"#d62728\",\"#9467bd\",\"#8c564b\",\"#8c564b\",\"#2ca02c\",\"#1f77b4\",\"#ff7f0e\",\"#d62728\",\"#8c564b\",\"#2ca02c\",\"#1f77b4\",\"#d62728\",\"#1f77b4\",\"#9467bd\",\"#1f77b4\",\"#2ca02c\",\"#1f77b4\",\"#1f77b4\",\"#8c564b\",\"#d62728\",\"#1f77b4\",\"#2ca02c\",\"#9467bd\",\"#8c564b\",\"#1f77b4\",\"#d62728\",\"#2ca02c\",\"#2ca02c\",\"#d62728\",\"#d62728\",\"#1f77b4\",\"#ff7f0e\",\"#2ca02c\",\"#2ca02c\",\"#2ca02c\",\"#d62728\",\"#1f77b4\",\"#9467bd\",\"#1f77b4\",\"#9467bd\",\"#2ca02c\",\"#ff7f0e\",\"#d62728\",\"#1f77b4\",\"#9467bd\",\"#1f77b4\",\"#d62728\",\"#d62728\",\"#d62728\",\"#9467bd\",\"#8c564b\",\"#ff7f0e\",\"#2ca02c\",\"#9467bd\",\"#ff7f0e\",\"#1f77b4\",\"#9467bd\",\"#1f77b4\",\"#8c564b\",\"#2ca02c\",\"#1f77b4\",\"#8c564b\",\"#d62728\",\"#8c564b\",\"#2ca02c\",\"#d62728\",\"#d62728\",\"#1f77b4\",\"#d62728\",\"#9467bd\",\"#2ca02c\",\"#2ca02c\",\"#1f77b4\",\"#ff7f0e\",\"#d62728\",\"#1f77b4\",\"#ff7f0e\",\"#8c564b\",\"#d62728\",\"#ff7f0e\",\"#9467bd\",\"#d62728\",\"#2ca02c\",\"#1f77b4\",\"#2ca02c\",\"#9467bd\",\"#1f77b4\",\"#1f77b4\",\"#d62728\",\"#9467bd\",\"#ff7f0e\",\"#1f77b4\",\"#ff7f0e\",\"#9467bd\",\"#8c564b\",\"#ff7f0e\",\"#2ca02c\",\"#9467bd\",\"#9467bd\",\"#d62728\",\"#2ca02c\",\"#8c564b\",\"#d62728\",\"#d62728\",\"#8c564b\",\"#d62728\",\"#d62728\",\"#9467bd\",\"#ff7f0e\",\"#d62728\",\"#d62728\",\"#8c564b\",\"#1f77b4\",\"#1f77b4\",\"#2ca02c\",\"#8c564b\",\"#9467bd\",\"#8c564b\",\"#2ca02c\",\"#1f77b4\",\"#d62728\",\"#d62728\",\"#2ca02c\",\"#d62728\",\"#ff7f0e\",\"#1f77b4\",\"#1f77b4\",\"#1f77b4\",\"#8c564b\",\"#9467bd\",\"#8c564b\",\"#9467bd\",\"#8c564b\",\"#9467bd\",\"#1f77b4\",\"#2ca02c\",\"#8c564b\",\"#d62728\",\"#1f77b4\",\"#1f77b4\",\"#d62728\",\"#d62728\",\"#8c564b\",\"#8c564b\",\"#2ca02c\",\"#d62728\",\"#9467bd\",\"#8c564b\",\"#d62728\",\"#d62728\",\"#1f77b4\",\"#d62728\",\"#2ca02c\",\"#2ca02c\",\"#d62728\",\"#8c564b\",\"#1f77b4\",\"#ff7f0e\",\"#1f77b4\",\"#1f77b4\",\"#1f77b4\",\"#9467bd\",\"#d62728\",\"#8c564b\",\"#2ca02c\",\"#1f77b4\",\"#2ca02c\",\"#8c564b\",\"#d62728\",\"#1f77b4\",\"#d62728\",\"#8c564b\",\"#2ca02c\",\"#ff7f0e\",\"#2ca02c\",\"#2ca02c\",\"#9467bd\",\"#9467bd\",\"#9467bd\",\"#d62728\",\"#8c564b\",\"#d62728\",\"#1f77b4\",\"#9467bd\",\"#d62728\",\"#9467bd\",\"#d62728\",\"#1f77b4\",\"#8c564b\",\"#2ca02c\",\"#8c564b\",\"#d62728\",\"#d62728\",\"#ff7f0e\",\"#1f77b4\",\"#9467bd\",\"#ff7f0e\",\"#ff7f0e\",\"#8c564b\",\"#1f77b4\",\"#d62728\",\"#2ca02c\",\"#1f77b4\",\"#1f77b4\",\"#9467bd\",\"#ff7f0e\",\"#1f77b4\",\"#d62728\",\"#d62728\",\"#2ca02c\",\"#d62728\",\"#8c564b\",\"#ff7f0e\",\"#2ca02c\",\"#d62728\",\"#d62728\",\"#ff7f0e\",\"#8c564b\",\"#9467bd\",\"#9467bd\",\"#ff7f0e\",\"#9467bd\",\"#d62728\",\"#d62728\",\"#8c564b\",\"#9467bd\",\"#8c564b\",\"#8c564b\",\"#9467bd\",\"#8c564b\",\"#1f77b4\",\"#d62728\",\"#2ca02c\",\"#9467bd\",\"#9467bd\",\"#8c564b\",\"#1f77b4\",\"#1f77b4\",\"#8c564b\",\"#1f77b4\",\"#d62728\",\"#d62728\",\"#9467bd\",\"#1f77b4\",\"#1f77b4\",\"#ff7f0e\",\"#2ca02c\",\"#d62728\",\"#2ca02c\",\"#1f77b4\",\"#1f77b4\",\"#1f77b4\",\"#1f77b4\",\"#d62728\",\"#d62728\",\"#8c564b\",\"#1f77b4\",\"#8c564b\",\"#1f77b4\",\"#9467bd\",\"#d62728\",\"#9467bd\",\"#1f77b4\",\"#1f77b4\",\"#8c564b\",\"#1f77b4\",\"#2ca02c\",\"#1f77b4\",\"#ff7f0e\",\"#1f77b4\",\"#8c564b\",\"#8c564b\",\"#9467bd\",\"#1f77b4\",\"#9467bd\",\"#ff7f0e\",\"#8c564b\",\"#1f77b4\",\"#d62728\",\"#1f77b4\",\"#d62728\",\"#1f77b4\",\"#d62728\",\"#1f77b4\",\"#d62728\",\"#1f77b4\",\"#2ca02c\",\"#d62728\",\"#d62728\",\"#2ca02c\",\"#1f77b4\",\"#9467bd\",\"#2ca02c\",\"#d62728\",\"#d62728\",\"#2ca02c\",\"#8c564b\",\"#8c564b\",\"#1f77b4\",\"#8c564b\",\"#2ca02c\",\"#2ca02c\",\"#8c564b\",\"#9467bd\",\"#9467bd\",\"#ff7f0e\",\"#2ca02c\",\"#1f77b4\",\"#8c564b\",\"#2ca02c\",\"#8c564b\",\"#9467bd\",\"#2ca02c\",\"#1f77b4\",\"#9467bd\",\"#d62728\",\"#d62728\",\"#1f77b4\",\"#2ca02c\",\"#9467bd\",\"#ff7f0e\",\"#d62728\",\"#9467bd\",\"#d62728\",\"#d62728\",\"#8c564b\",\"#2ca02c\",\"#9467bd\",\"#9467bd\",\"#2ca02c\",\"#d62728\",\"#d62728\",\"#8c564b\",\"#9467bd\",\"#ff7f0e\",\"#9467bd\",\"#8c564b\",\"#9467bd\",\"#2ca02c\",\"#ff7f0e\",\"#1f77b4\",\"#d62728\",\"#1f77b4\",\"#8c564b\",\"#d62728\",\"#d62728\",\"#d62728\",\"#9467bd\",\"#8c564b\",\"#d62728\",\"#d62728\",\"#1f77b4\",\"#ff7f0e\",\"#1f77b4\",\"#2ca02c\",\"#d62728\",\"#d62728\",\"#d62728\",\"#d62728\",\"#d62728\",\"#2ca02c\",\"#ff7f0e\",\"#2ca02c\",\"#1f77b4\",\"#1f77b4\",\"#1f77b4\",\"#ff7f0e\",\"#d62728\",\"#1f77b4\",\"#8c564b\",\"#8c564b\",\"#8c564b\",\"#1f77b4\",\"#1f77b4\",\"#ff7f0e\",\"#1f77b4\",\"#d62728\",\"#2ca02c\",\"#8c564b\",\"#ff7f0e\",\"#9467bd\",\"#8c564b\",\"#ff7f0e\",\"#1f77b4\",\"#9467bd\",\"#1f77b4\",\"#8c564b\",\"#d62728\",\"#1f77b4\",\"#1f77b4\",\"#d62728\",\"#2ca02c\",\"#9467bd\",\"#8c564b\",\"#1f77b4\",\"#1f77b4\",\"#8c564b\",\"#2ca02c\",\"#2ca02c\",\"#1f77b4\",\"#d62728\",\"#8c564b\",\"#2ca02c\",\"#8c564b\",\"#1f77b4\",\"#1f77b4\",\"#2ca02c\",\"#9467bd\",\"#8c564b\",\"#1f77b4\",\"#8c564b\",\"#1f77b4\",\"#d62728\",\"#d62728\",\"#d62728\",\"#9467bd\",\"#d62728\",\"#2ca02c\",\"#9467bd\",\"#9467bd\",\"#ff7f0e\",\"#1f77b4\",\"#1f77b4\",\"#9467bd\",\"#9467bd\",\"#1f77b4\",\"#1f77b4\",\"#1f77b4\",\"#d62728\",\"#ff7f0e\",\"#2ca02c\",\"#1f77b4\",\"#d62728\",\"#8c564b\",\"#d62728\",\"#d62728\",\"#2ca02c\",\"#1f77b4\",\"#8c564b\",\"#1f77b4\",\"#8c564b\",\"#2ca02c\",\"#9467bd\",\"#9467bd\",\"#9467bd\",\"#d62728\",\"#8c564b\",\"#ff7f0e\",\"#ff7f0e\",\"#1f77b4\",\"#2ca02c\",\"#2ca02c\",\"#2ca02c\",\"#1f77b4\",\"#9467bd\",\"#d62728\",\"#2ca02c\",\"#9467bd\",\"#d62728\",\"#2ca02c\",\"#1f77b4\",\"#1f77b4\",\"#1f77b4\",\"#2ca02c\",\"#1f77b4\",\"#9467bd\",\"#d62728\",\"#9467bd\",\"#d62728\",\"#d62728\",\"#1f77b4\",\"#ff7f0e\",\"#2ca02c\",\"#9467bd\",\"#1f77b4\",\"#8c564b\",\"#1f77b4\",\"#9467bd\",\"#9467bd\",\"#d62728\",\"#d62728\",\"#8c564b\",\"#2ca02c\",\"#8c564b\",\"#d62728\",\"#9467bd\",\"#8c564b\",\"#d62728\",\"#1f77b4\",\"#d62728\",\"#1f77b4\",\"#d62728\",\"#2ca02c\",\"#2ca02c\",\"#d62728\",\"#8c564b\",\"#8c564b\",\"#1f77b4\",\"#2ca02c\",\"#9467bd\",\"#8c564b\",\"#d62728\",\"#8c564b\",\"#d62728\",\"#ff7f0e\",\"#8c564b\",\"#1f77b4\",\"#d62728\",\"#2ca02c\",\"#d62728\",\"#8c564b\",\"#8c564b\",\"#d62728\",\"#1f77b4\",\"#d62728\",\"#2ca02c\",\"#1f77b4\",\"#9467bd\",\"#1f77b4\",\"#8c564b\",\"#9467bd\",\"#9467bd\",\"#9467bd\",\"#2ca02c\",\"#d62728\",\"#8c564b\",\"#d62728\",\"#d62728\",\"#d62728\",\"#1f77b4\",\"#8c564b\",\"#9467bd\",\"#2ca02c\",\"#1f77b4\",\"#8c564b\",\"#2ca02c\",\"#1f77b4\",\"#d62728\",\"#d62728\",\"#2ca02c\",\"#2ca02c\",\"#2ca02c\",\"#8c564b\",\"#9467bd\",\"#2ca02c\",\"#ff7f0e\",\"#1f77b4\",\"#d62728\",\"#ff7f0e\",\"#1f77b4\",\"#2ca02c\",\"#d62728\",\"#d62728\",\"#2ca02c\",\"#d62728\",\"#9467bd\",\"#2ca02c\",\"#d62728\",\"#2ca02c\",\"#2ca02c\",\"#d62728\",\"#1f77b4\",\"#9467bd\",\"#d62728\",\"#ff7f0e\",\"#d62728\",\"#1f77b4\",\"#d62728\",\"#d62728\",\"#d62728\",\"#1f77b4\",\"#d62728\",\"#d62728\",\"#2ca02c\",\"#9467bd\",\"#2ca02c\",\"#d62728\",\"#ff7f0e\",\"#1f77b4\",\"#1f77b4\",\"#9467bd\",\"#1f77b4\",\"#d62728\",\"#d62728\",\"#9467bd\",\"#8c564b\",\"#8c564b\",\"#d62728\",\"#1f77b4\",\"#d62728\",\"#1f77b4\",\"#1f77b4\",\"#2ca02c\",\"#2ca02c\",\"#1f77b4\",\"#d62728\",\"#2ca02c\",\"#1f77b4\",\"#1f77b4\",\"#9467bd\",\"#d62728\",\"#ff7f0e\",\"#1f77b4\",\"#1f77b4\",\"#1f77b4\",\"#d62728\",\"#d62728\",\"#2ca02c\",\"#8c564b\",\"#d62728\",\"#8c564b\",\"#1f77b4\",\"#d62728\",\"#9467bd\",\"#8c564b\",\"#d62728\",\"#8c564b\",\"#2ca02c\",\"#2ca02c\",\"#8c564b\",\"#8c564b\",\"#d62728\",\"#2ca02c\",\"#1f77b4\",\"#2ca02c\",\"#8c564b\",\"#d62728\",\"#2ca02c\",\"#d62728\",\"#ff7f0e\",\"#d62728\",\"#1f77b4\",\"#2ca02c\",\"#ff7f0e\",\"#2ca02c\",\"#8c564b\",\"#2ca02c\",\"#d62728\",\"#d62728\",\"#d62728\",\"#ff7f0e\",\"#9467bd\",\"#2ca02c\",\"#1f77b4\",\"#9467bd\",\"#1f77b4\",\"#d62728\",\"#8c564b\",\"#d62728\",\"#d62728\",\"#9467bd\",\"#d62728\",\"#8c564b\",\"#ff7f0e\",\"#2ca02c\",\"#d62728\",\"#2ca02c\",\"#9467bd\",\"#2ca02c\",\"#d62728\",\"#1f77b4\",\"#9467bd\",\"#8c564b\",\"#d62728\",\"#2ca02c\",\"#1f77b4\",\"#8c564b\",\"#2ca02c\",\"#8c564b\",\"#d62728\",\"#d62728\",\"#9467bd\"],\"x\":{\"__ndarray__\":\"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\",\"dtype\":\"float32\",\"shape\":[7831]},\"y\":{\"__ndarray__\":\"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\",\"dtype\":\"float32\",\"shape\":[7831]}},\"selected\":{\"id\":\"a7cc8709-a6b6-4654-bdda-b2b275b9cf97\",\"type\":\"Selection\"},\"selection_policy\":{\"id\":\"ae439056-ebc4-42be-ae52-0b77c6d3d4ad\",\"type\":\"UnionRenderers\"}},\"id\":\"b1f320ee-9a51-4660-8629-2a65eb534c7a\",\"type\":\"ColumnDataSource\"},{\"attributes\":{\"plot\":{\"id\":\"7723a53f-d449-4660-a27b-d99368f7af50\",\"subtype\":\"Figure\",\"type\":\"Plot\"},\"ticker\":{\"id\":\"63db06b7-45b3-4e8a-a39b-3916a5c99ee4\",\"type\":\"BasicTicker\"}},\"id\":\"2691e8ce-f1a4-46fe-af64-cd655a082c41\",\"type\":\"Grid\"},{\"attributes\":{},\"id\":\"a7cc8709-a6b6-4654-bdda-b2b275b9cf97\",\"type\":\"Selection\"},{\"attributes\":{},\"id\":\"cb867bd9-b111-425a-9d8f-15161f379fbe\",\"type\":\"SaveTool\"},{\"attributes\":{\"overlay\":{\"id\":\"5a7a1428-c862-41bf-97bc-5eb0fba9d479\",\"type\":\"BoxAnnotation\"}},\"id\":\"b8431a78-fb56-47ee-80bc-a4f98fbc38a6\",\"type\":\"BoxZoomTool\"},{\"attributes\":{},\"id\":\"5fa9645d-7c6f-4d92-80d2-45b787bcf24f\",\"type\":\"ResetTool\"},{\"attributes\":{},\"id\":\"494b6cdb-1e1a-426e-a5cd-864d54dac3c5\",\"type\":\"PanTool\"},{\"attributes\":{\"active_drag\":\"auto\",\"active_inspect\":\"auto\",\"active_multi\":null,\"active_scroll\":\"auto\",\"active_tap\":\"auto\",\"tools\":[{\"id\":\"494b6cdb-1e1a-426e-a5cd-864d54dac3c5\",\"type\":\"PanTool\"},{\"id\":\"b885c2da-b4f1-40d3-9f91-551dbd9ed2f0\",\"type\":\"WheelZoomTool\"},{\"id\":\"b8431a78-fb56-47ee-80bc-a4f98fbc38a6\",\"type\":\"BoxZoomTool\"},{\"id\":\"cb867bd9-b111-425a-9d8f-15161f379fbe\",\"type\":\"SaveTool\"},{\"id\":\"5fa9645d-7c6f-4d92-80d2-45b787bcf24f\",\"type\":\"ResetTool\"},{\"id\":\"e2d7dd57-9a0e-42ca-938d-16b033b4209a\",\"type\":\"HelpTool\"}]},\"id\":\"85f79298-df5e-4371-aefd-936f2cdd96fe\",\"type\":\"Toolbar\"},{\"attributes\":{},\"id\":\"89332048-01d2-4679-90f0-31c35e1f4e1e\",\"type\":\"BasicTickFormatter\"},{\"attributes\":{},\"id\":\"c40f4169-0039-4fa1-84b3-dc22ac7f9843\",\"type\":\"LinearScale\"},{\"attributes\":{},\"id\":\"5d41a75c-162e-4a38-b36e-0a5b6c3279be\",\"type\":\"BasicTicker\"},{\"attributes\":{\"below\":[{\"id\":\"bd8e2aac-a0e7-4d12-903f-9c1ca25c8a51\",\"type\":\"LinearAxis\"}],\"left\":[{\"id\":\"cb0933af-9b14-4091-8293-1b13191e3408\",\"type\":\"LinearAxis\"}],\"plot_height\":700,\"plot_width\":900,\"renderers\":[{\"id\":\"bd8e2aac-a0e7-4d12-903f-9c1ca25c8a51\",\"type\":\"LinearAxis\"},{\"id\":\"2691e8ce-f1a4-46fe-af64-cd655a082c41\",\"type\":\"Grid\"},{\"id\":\"cb0933af-9b14-4091-8293-1b13191e3408\",\"type\":\"LinearAxis\"},{\"id\":\"8f083147-da33-446d-90d6-396acd7856e3\",\"type\":\"Grid\"},{\"id\":\"5a7a1428-c862-41bf-97bc-5eb0fba9d479\",\"type\":\"BoxAnnotation\"},{\"id\":\"75821143-2a02-4808-98ca-0456a9788ead\",\"type\":\"GlyphRenderer\"}],\"title\":{\"id\":\"4684e49e-bf7e-4290-80ac-591fd75e4478\",\"type\":\"Title\"},\"toolbar\":{\"id\":\"85f79298-df5e-4371-aefd-936f2cdd96fe\",\"type\":\"Toolbar\"},\"x_range\":{\"id\":\"dfd6942b-42c0-464d-aaa0-90c9914a54b9\",\"type\":\"DataRange1d\"},\"x_scale\":{\"id\":\"2c0aa74e-1171-4517-a37e-15d9dcd03fe3\",\"type\":\"LinearScale\"},\"y_range\":{\"id\":\"3cc184f3-00ff-4f04-b5fd-7ab12d77ac54\",\"type\":\"DataRange1d\"},\"y_scale\":{\"id\":\"c40f4169-0039-4fa1-84b3-dc22ac7f9843\",\"type\":\"LinearScale\"}},\"id\":\"7723a53f-d449-4660-a27b-d99368f7af50\",\"subtype\":\"Figure\",\"type\":\"Plot\"},{\"attributes\":{\"fill_alpha\":{\"value\":0.1},\"fill_color\":{\"value\":\"#1f77b4\"},\"line_alpha\":{\"value\":0.1},\"line_color\":{\"value\":\"#1f77b4\"},\"x\":{\"field\":\"x\"},\"y\":{\"field\":\"y\"}},\"id\":\"99166e64-e0dc-43aa-adb1-320d28668c92\",\"type\":\"Circle\"},{\"attributes\":{\"formatter\":{\"id\":\"89332048-01d2-4679-90f0-31c35e1f4e1e\",\"type\":\"BasicTickFormatter\"},\"plot\":{\"id\":\"7723a53f-d449-4660-a27b-d99368f7af50\",\"subtype\":\"Figure\",\"type\":\"Plot\"},\"ticker\":{\"id\":\"5d41a75c-162e-4a38-b36e-0a5b6c3279be\",\"type\":\"BasicTicker\"}},\"id\":\"cb0933af-9b14-4091-8293-1b13191e3408\",\"type\":\"LinearAxis\"},{\"attributes\":{},\"id\":\"63db06b7-45b3-4e8a-a39b-3916a5c99ee4\",\"type\":\"BasicTicker\"},{\"attributes\":{\"bottom_units\":\"screen\",\"fill_alpha\":{\"value\":0.5},\"fill_color\":{\"value\":\"lightgrey\"},\"left_units\":\"screen\",\"level\":\"overlay\",\"line_alpha\":{\"value\":1.0},\"line_color\":{\"value\":\"black\"},\"line_dash\":[4,4],\"line_width\":{\"value\":2},\"plot\":null,\"render_mode\":\"css\",\"right_units\":\"screen\",\"top_units\":\"screen\"},\"id\":\"5a7a1428-c862-41bf-97bc-5eb0fba9d479\",\"type\":\"BoxAnnotation\"},{\"attributes\":{\"fill_color\":{\"field\":\"fill_color\"},\"line_color\":{\"field\":\"line_color\"},\"x\":{\"field\":\"x\"},\"y\":{\"field\":\"y\"}},\"id\":\"07888fb7-7cc6-47c7-a5c1-a7f6689ff80f\",\"type\":\"Circle\"},{\"attributes\":{\"formatter\":{\"id\":\"5b672e78-e7f0-4be0-9d90-7493b9259b24\",\"type\":\"BasicTickFormatter\"},\"plot\":{\"id\":\"7723a53f-d449-4660-a27b-d99368f7af50\",\"subtype\":\"Figure\",\"type\":\"Plot\"},\"ticker\":{\"id\":\"63db06b7-45b3-4e8a-a39b-3916a5c99ee4\",\"type\":\"BasicTicker\"}},\"id\":\"bd8e2aac-a0e7-4d12-903f-9c1ca25c8a51\",\"type\":\"LinearAxis\"},{\"attributes\":{\"plot\":null,\"text\":\"t-SNE Clustering of 6 LDA Topics\"},\"id\":\"4684e49e-bf7e-4290-80ac-591fd75e4478\",\"type\":\"Title\"},{\"attributes\":{\"callback\":null},\"id\":\"3cc184f3-00ff-4f04-b5fd-7ab12d77ac54\",\"type\":\"DataRange1d\"},{\"attributes\":{\"data_source\":{\"id\":\"b1f320ee-9a51-4660-8629-2a65eb534c7a\",\"type\":\"ColumnDataSource\"},\"glyph\":{\"id\":\"07888fb7-7cc6-47c7-a5c1-a7f6689ff80f\",\"type\":\"Circle\"},\"hover_glyph\":null,\"muted_glyph\":null,\"nonselection_glyph\":{\"id\":\"99166e64-e0dc-43aa-adb1-320d28668c92\",\"type\":\"Circle\"},\"selection_glyph\":null,\"view\":{\"id\":\"ae1efad3-be56-438d-8f7d-43fea48eec7b\",\"type\":\"CDSView\"}},\"id\":\"75821143-2a02-4808-98ca-0456a9788ead\",\"type\":\"GlyphRenderer\"},{\"attributes\":{},\"id\":\"5b672e78-e7f0-4be0-9d90-7493b9259b24\",\"type\":\"BasicTickFormatter\"},{\"attributes\":{\"source\":{\"id\":\"b1f320ee-9a51-4660-8629-2a65eb534c7a\",\"type\":\"ColumnDataSource\"}},\"id\":\"ae1efad3-be56-438d-8f7d-43fea48eec7b\",\"type\":\"CDSView\"}],\"root_ids\":[\"7723a53f-d449-4660-a27b-d99368f7af50\"]},\"title\":\"Bokeh Application\",\"version\":\"0.13.0\"}};\n",
       "  var render_items = [{\"docid\":\"cd7c1c9d-62d2-4ec4-9123-294a033ca492\",\"roots\":{\"7723a53f-d449-4660-a27b-d99368f7af50\":\"23498834-09e7-42f1-94fd-b02246b9aade\"}}];\n",
       "  root.Bokeh.embed.embed_items_notebook(docs_json, render_items);\n",
       "\n",
       "  }\n",
       "  if (root.Bokeh !== undefined) {\n",
       "    embed_document(root);\n",
       "  } else {\n",
       "    var attempts = 0;\n",
       "    var timer = setInterval(function(root) {\n",
       "      if (root.Bokeh !== undefined) {\n",
       "        embed_document(root);\n",
       "        clearInterval(timer);\n",
       "      }\n",
       "      attempts++;\n",
       "      if (attempts > 100) {\n",
       "        console.log(\"Bokeh: ERROR: Unable to run BokehJS code because BokehJS library is missing\")\n",
       "        clearInterval(timer);\n",
       "      }\n",
       "    }, 10, root)\n",
       "  }\n",
       "})(window);"
      ],
      "application/vnd.bokehjs_exec.v0+json": ""
     },
     "metadata": {
      "application/vnd.bokehjs_exec.v0+json": {
       "id": "7723a53f-d449-4660-a27b-d99368f7af50"
      }
     },
     "output_type": "display_data"
    }
   ],
   "source": [
    "# Get topic weights and dominant topics ------------\n",
    "from sklearn.manifold import TSNE\n",
    "from bokeh.plotting import figure, output_file, show\n",
    "from bokeh.models import Label\n",
    "from bokeh.io import output_notebook\n",
    "import matplotlib.colors as mcolors\n",
    "\n",
    "# Get topic weights\n",
    "topic_weights = []\n",
    "for i, row_list in enumerate(lda_model[bow_corpus]):\n",
    "    topic_weights.append([w for i, w in row_list])\n",
    "\n",
    "# Array of topic weights    \n",
    "arr = pd.DataFrame(topic_weights).fillna(0).values\n",
    "\n",
    "# Keep the well separated points (optional)\n",
    "arr = arr[np.amax(arr, axis=1) > 0.35]\n",
    "\n",
    "# Dominant topic number in each doc\n",
    "topic_num = np.argmax(arr, axis=1)\n",
    "\n",
    "# tSNE Dimension Reduction\n",
    "tsne_model = TSNE(n_components=2, verbose=1, random_state=0, angle=.99, init='pca')\n",
    "tsne_lda = tsne_model.fit_transform(arr)\n",
    "\n",
    "# Plot the Topic Clusters using Bokeh\n",
    "output_notebook()\n",
    "n_topics = 6\n",
    "mycolors = np.array([color for name, color in mcolors.TABLEAU_COLORS.items()])\n",
    "plot = figure(title=\"t-SNE Clustering of {} LDA Topics\".format(n_topics), \n",
    "              plot_width=900, plot_height=700)\n",
    "plot.scatter(x=tsne_lda[:,0], y=tsne_lda[:,1], color=mycolors[topic_num])\n",
    "show(plot)"
   ]
  },
  {
   "cell_type": "markdown",
   "metadata": {},
   "source": [
    "Cependant, la librairie pyLDAvis permet de bien comprendre la séparation des thèmes. Il faut éviter que les bulles de thèmes ne s'entrecoupent."
   ]
  },
  {
   "cell_type": "code",
   "execution_count": 254,
   "metadata": {},
   "outputs": [
    {
     "data": {
      "text/html": [
       "\n",
       "<link rel=\"stylesheet\" type=\"text/css\" href=\"https://cdn.rawgit.com/bmabey/pyLDAvis/files/ldavis.v1.0.0.css\">\n",
       "\n",
       "\n",
       "<div id=\"ldavis_el680431320878768482803513200\"></div>\n",
       "<script type=\"text/javascript\">\n",
       "\n",
       "var ldavis_el680431320878768482803513200_data = {\"plot.opts\": {\"ylab\": \"PC2\", \"xlab\": \"PC1\"}, \"tinfo\": {\"Freq\": [830.0, 682.0, 667.0, 813.0, 416.0, 318.0, 606.0, 321.0, 588.0, 331.0, 225.0, 349.0, 977.0, 287.0, 220.0, 218.0, 358.0, 268.0, 247.0, 503.0, 164.0, 210.0, 205.0, 303.0, 618.0, 219.0, 364.0, 161.0, 209.0, 153.0, 286.290771484375, 160.412353515625, 347.7780456542969, 142.31324768066406, 139.595458984375, 153.0139923095703, 77.07551574707031, 59.77375411987305, 36.36751937866211, 33.65134048461914, 36.98233413696289, 22.784292221069336, 22.76885986328125, 21.880596160888672, 255.11961364746094, 12.821969985961914, 11.916460990905762, 11.010393142700195, 108.16498565673828, 9.200310707092285, 60.23504638671875, 8.294387817382812, 7.389917850494385, 7.388919830322266, 6.484870910644531, 6.4834723472595215, 39.54793167114258, 5.581639289855957, 5.579518795013428, 5.578301906585693, 522.0183715820312, 182.0269775390625, 12.672124862670898, 297.4095764160156, 449.7792663574219, 19.484643936157227, 39.07065200805664, 18.672834396362305, 40.49828338623047, 39.41059112548828, 56.32378005981445, 135.3247528076172, 66.19508361816406, 72.48018646240234, 124.51655578613281, 206.8681182861328, 57.45882034301758, 146.32479858398438, 46.602500915527344, 298.1435241699219, 204.3149871826172, 114.23527526855469, 101.09426879882812, 61.34695816040039, 164.9894256591797, 84.96360778808594, 74.08323669433594, 88.22311401367188, 67.13740539550781, 65.84699249267578, 65.66252899169922, 330.9671630859375, 129.5594024658203, 80.3460464477539, 47.536067962646484, 35.68675994873047, 29.31127166748047, 18.373401641845703, 17.462678909301758, 16.550443649291992, 61.97825241088867, 11.993796348571777, 11.082524299621582, 11.08080005645752, 11.079946517944336, 9.256498336791992, 8.343338966369629, 7.434879302978516, 7.433506011962891, 16.451156616210938, 40.15739059448242, 8.186104774475098, 119.64248657226562, 6.527377605438232, 6.525208473205566, 5.614712715148926, 5.614274024963379, 5.613633155822754, 5.613574028015137, 5.612423419952393, 102.89732360839844, 700.0413818359375, 55.30490493774414, 140.7106170654297, 182.80088806152344, 46.212158203125, 96.18256378173828, 19.8417911529541, 82.70547485351562, 330.7176208496094, 242.9135284423828, 49.39875030517578, 103.2514877319336, 448.1004333496094, 295.82159423828125, 47.79372787475586, 82.13636779785156, 259.6795654296875, 153.1009521484375, 71.53414916992188, 79.09456634521484, 63.33076477050781, 84.86333465576172, 97.34136962890625, 77.53280639648438, 67.38653564453125, 56.6575813293457, 56.92022705078125, 59.65928268432617, 59.800506591796875, 682.1215209960938, 666.5391845703125, 122.97594451904297, 96.39375305175781, 81.72792053222656, 63.39496994018555, 46.89377975463867, 39.56119155883789, 23.06344985961914, 16.6478328704834, 14.815882682800293, 13.896682739257812, 52.052345275878906, 11.145713806152344, 10.232463836669922, 10.22775650024414, 9.315267562866211, 18.575950622558594, 8.395685195922852, 6.566851615905762, 6.56510591506958, 6.562921047210693, 6.562708377838135, 6.5595245361328125, 187.06954956054688, 24.298791885375977, 5.648046493530273, 5.645936489105225, 5.644041061401367, 27.186967849731445, 11.146058082580566, 103.08610534667969, 69.40414428710938, 20.48688507080078, 18.103769302368164, 18.683549880981445, 50.68096160888672, 17.59861183166504, 180.34925842285156, 90.17013549804688, 23.16701889038086, 53.208892822265625, 47.06828689575195, 62.98783493041992, 34.61941146850586, 34.31096267700195, 116.4963150024414, 74.8976058959961, 46.86267852783203, 71.42240905761719, 51.62226104736328, 31.53012466430664, 80.21246337890625, 74.85778045654297, 94.01992797851562, 51.77277374267578, 38.23068618774414, 46.63296127319336, 46.685760498046875, 44.23645782470703, 45.55350875854492, 830.1141357421875, 415.5874328613281, 60.27565002441406, 49.34001922607422, 48.43290328979492, 31.1235294342041, 21.1014461517334, 27.07280731201172, 13.81229019165039, 13.792523384094238, 12.899312019348145, 11.988359451293945, 10.117469787597656, 9.257403373718262, 9.256087303161621, 8.346792221069336, 8.346732139587402, 8.3431978225708, 37.353233337402344, 11.602794647216797, 7.4364142417907715, 7.433387279510498, 7.433516025543213, 33.00898742675781, 6.526735305786133, 6.525517463684082, 6.524892330169678, 6.522841453552246, 6.5220537185668945, 5.615955352783203, 119.63958740234375, 12.786705017089844, 34.18932342529297, 24.434120178222656, 112.31985473632812, 149.2207489013672, 11.006232261657715, 55.4006462097168, 24.163625717163086, 76.04219818115234, 52.992244720458984, 62.106624603271484, 66.98176574707031, 88.35022735595703, 18.879117965698242, 57.31856155395508, 42.06790542602539, 218.97842407226562, 40.80950164794922, 78.47721099853516, 64.6845703125, 126.46959686279297, 67.9665756225586, 106.56539154052734, 57.241390228271484, 83.67399597167969, 59.47322082519531, 67.95216369628906, 60.87348937988281, 39.83796691894531, 219.7012939453125, 116.58537292480469, 83.57866668701172, 161.4625244140625, 36.821128845214844, 34.06968307495117, 29.369319915771484, 30.21005630493164, 23.983200073242188, 22.152135848999023, 210.59986877441406, 21.234148025512695, 19.40153694152832, 18.483762741088867, 16.649187088012695, 16.6494197845459, 20.984375, 14.813720703125, 12.977192878723145, 12.065022468566895, 12.063283920288086, 11.150311470031738, 9.3106050491333, 8.399457931518555, 8.399057388305664, 8.39804458618164, 8.396703720092773, 8.317164421081543, 7.483818531036377, 7.4829840660095215, 206.59556579589844, 34.60111999511719, 23.26407241821289, 20.51609230041504, 28.947660446166992, 149.048828125, 20.033445358276367, 21.83448600769043, 77.83422088623047, 93.29774475097656, 58.033817291259766, 58.909637451171875, 29.787792205810547, 78.17789459228516, 30.305925369262695, 108.28485870361328, 77.0141372680664, 27.918935775756836, 41.72920608520508, 46.502197265625, 96.32113647460938, 78.58208465576172, 53.61172103881836, 47.34989929199219, 60.10335159301758, 59.70226287841797, 52.68196105957031, 53.708980560302734, 61.03982925415039, 46.94941329956055, 57.75335693359375, 45.42797088623047, 40.767581939697266, 42.75236892700195, 317.5206604003906, 224.56675720214844, 67.75702667236328, 57.42934799194336, 42.40487289428711, 25.5025577545166, 24.56446075439453, 22.677906036376953, 21.747882843017578, 20.808494567871094, 20.808334350585938, 20.80816650390625, 20.75992774963379, 17.053281784057617, 11.420949935913086, 11.419116020202637, 11.418619155883789, 11.416803359985352, 10.481927871704102, 10.479838371276855, 10.461010932922363, 9.540555953979492, 8.60174560546875, 7.664190292358398, 7.6642327308654785, 7.66271448135376, 5.787694931030273, 5.786624431610107, 5.785669803619385, 5.783283710479736, 266.9801940917969, 33.47615051269531, 16.457616806030273, 13.925124168395996, 10.19554615020752, 98.77433776855469, 13.065267562866211, 17.638946533203125, 29.834047317504883, 53.363365173339844, 111.88665008544922, 24.151796340942383, 31.19240379333496, 28.64312744140625, 17.028823852539062, 16.73975372314453, 18.606019973754883, 47.13239669799805, 27.764923095703125, 23.305009841918945, 26.48292350769043, 22.408830642700195, 21.99996566772461, 20.513044357299805, 19.520294189453125], \"loglift\": [30.0, 29.0, 28.0, 27.0, 26.0, 25.0, 24.0, 23.0, 22.0, 21.0, 20.0, 19.0, 18.0, 17.0, 16.0, 15.0, 14.0, 13.0, 12.0, 11.0, 10.0, 9.0, 8.0, 7.0, 6.0, 5.0, 4.0, 3.0, 2.0, 1.0, 1.49590003490448, 1.4937000274658203, 1.493499994277954, 1.4931999444961548, 1.4931000471115112, 1.4924999475479126, 1.4881000518798828, 1.4835000038146973, 1.4776999950408936, 1.4759999513626099, 1.4702999591827393, 1.465399980545044, 1.4648000001907349, 1.4641000032424927, 1.4474999904632568, 1.4404000043869019, 1.4361000061035156, 1.4311000108718872, 1.420799970626831, 1.4184000492095947, 1.4169000387191772, 1.409999966621399, 1.3997000455856323, 1.3997000455856323, 1.3867000341415405, 1.3866000175476074, 1.3827999830245972, 1.3700000047683716, 1.3696999549865723, 1.3696000576019287, 1.3488999605178833, 1.3580000400543213, 1.3633999824523926, 1.3105000257492065, 1.229599952697754, 1.3468999862670898, 1.3099000453948975, 1.3451999425888062, 1.271299958229065, 1.263200044631958, 1.2161999940872192, 1.101699948310852, 1.1921000480651855, 1.174399971961975, 1.0536999702453613, 0.8601999878883362, 1.1690000295639038, 0.8295000195503235, 1.2141000032424927, 0.3109000027179718, 0.3901999890804291, 0.6233000159263611, 0.7026000022888184, 1.0370999574661255, 0.2199999988079071, 0.5967000126838684, 0.6758000254631042, 0.2615000009536743, 0.41670000553131104, 0.5123000144958496, 0.04349999874830246, 1.579800009727478, 1.576200008392334, 1.57260000705719, 1.566100001335144, 1.5607999563217163, 1.5563000440597534, 1.541200041770935, 1.5391000509262085, 1.5368000268936157, 1.5236999988555908, 1.5200999975204468, 1.5152000188827515, 1.5151000022888184, 1.5149999856948853, 1.5023000240325928, 1.4938000440597534, 1.4837000370025635, 1.4836000204086304, 1.479200005531311, 1.4759000539779663, 1.4745999574661255, 1.4730000495910645, 1.4710999727249146, 1.4708000421524048, 1.4539999961853027, 1.4539999961853027, 1.4539999961853027, 1.4538999795913696, 1.4537999629974365, 1.433500051498413, 1.4319000244140625, 1.4250999689102173, 1.4050999879837036, 1.3975000381469727, 1.3806999921798706, 1.3056000471115112, 1.4046000242233276, 1.2929999828338623, 1.1611000299453735, 1.176200032234192, 1.2812999486923218, 1.121500015258789, 0.801800012588501, 0.8438000082969666, 1.1931999921798706, 1.0572999715805054, 0.757099986076355, 0.8715000152587891, 1.0678000450134277, 0.9563000202178955, 1.0230000019073486, 0.7297000288963318, 0.5055000185966492, 0.4099000096321106, 0.6189000010490417, 0.7695000171661377, 0.6976000070571899, 0.40470001101493835, -0.10300000011920929, 1.8011000156402588, 1.8011000156402588, 1.7960000038146973, 1.7942999601364136, 1.7928999662399292, 1.7901999950408936, 1.7860000133514404, 1.7829999923706055, 1.7696000337600708, 1.7573000192642212, 1.7518999576568604, 1.7486000061035156, 1.7473000288009644, 1.735700011253357, 1.7302000522613525, 1.7299000024795532, 1.7232999801635742, 1.7208000421524048, 1.714900016784668, 1.6921000480651855, 1.6920000314712524, 1.6917999982833862, 1.6916999816894531, 1.691499948501587, 1.68340003490448, 1.6786999702453613, 1.6750999689102173, 1.6749000549316406, 1.6747000217437744, 1.6633000373840332, 1.6619000434875488, 1.6007000207901, 1.5859999656677246, 1.6098999977111816, 1.6092000007629395, 1.5992000102996826, 1.4593000411987305, 1.5751999616622925, 1.2802000045776367, 1.3437000513076782, 1.5347000360488892, 1.3615000247955322, 1.38510000705719, 1.3127000331878662, 1.444700002670288, 1.4364999532699585, 1.0364999771118164, 0.9904000163078308, 1.125100016593933, 0.7702999711036682, 0.9179999828338623, 1.2578999996185303, 0.2883000075817108, 0.3416999876499176, -0.08229999989271164, 0.6560999751091003, 0.8650000095367432, 0.23250000178813934, 0.20029999315738678, 0.32580000162124634, -0.7633000016212463, 1.8609999418258667, 1.8601000308990479, 1.8493000268936157, 1.846500039100647, 1.8461999893188477, 1.8375999927520752, 1.826200008392334, 1.819599986076355, 1.8078999519348145, 1.80649995803833, 1.8040000200271606, 1.7998000383377075, 1.7842999696731567, 1.7824000120162964, 1.7822999954223633, 1.7740999460220337, 1.7740999460220337, 1.773800015449524, 1.7674000263214111, 1.7668999433517456, 1.763800024986267, 1.7635999917984009, 1.7635999917984009, 1.7632999420166016, 1.7510000467300415, 1.7509000301361084, 1.7509000301361084, 1.750599980354309, 1.750599980354309, 1.7342000007629395, 1.7116999626159668, 1.7303999662399292, 1.6988999843597412, 1.684499979019165, 1.5822999477386475, 1.541599988937378, 1.7137999534606934, 1.4912999868392944, 1.5831999778747559, 1.395900011062622, 1.4361000061035156, 1.3645000457763672, 1.330299973487854, 1.205299973487854, 1.5985000133514404, 1.1784000396728516, 1.2148000001907349, 0.36559998989105225, 1.1476999521255493, 0.7010999917984009, 0.8023999929428101, 0.32420000433921814, 0.6758999824523926, 0.14630000293254852, 0.6399000287055969, -0.1185000017285347, 0.3077999949455261, -0.14159999787807465, 0.08749999850988388, -0.4237000048160553, 1.8890000581741333, 1.888200044631958, 1.885599970817566, 1.878499984741211, 1.8740999698638916, 1.872499942779541, 1.8651000261306763, 1.8634999990463257, 1.8631999492645264, 1.860700011253357, 1.8594000339508057, 1.8592000007629395, 1.8559999465942383, 1.854099988937378, 1.8496999740600586, 1.8495999574661255, 1.8473999500274658, 1.8442000150680542, 1.8370000123977661, 1.8330999612808228, 1.8329999446868896, 1.8282999992370605, 1.8152999877929688, 1.8073999881744385, 1.8073999881744385, 1.8072999715805054, 1.8071999549865723, 1.797700047492981, 1.7972999811172485, 1.7972999811172485, 1.7131999731063843, 1.715399980545044, 1.7281999588012695, 1.708799958229065, 1.6593999862670898, 1.4536000490188599, 1.6842999458312988, 1.666200041770935, 1.3408000469207764, 1.2698999643325806, 1.398300051689148, 1.367300033569336, 1.569200038909912, 1.160599946975708, 1.5204999446868896, 0.8033999800682068, 0.8817999958992004, 1.507699966430664, 1.2049000263214111, 1.1025999784469604, 0.4918999969959259, 0.6452999711036682, 0.9708999991416931, 1.083799958229065, 0.7021999955177307, 0.4611999988555908, 0.5929999947547913, 0.5342000126838684, 0.26460000872612, 0.5148000121116638, -0.27140000462532043, 0.298799991607666, 0.8111000061035156, 0.1264999955892563, 2.2967000007629395, 2.2957000732421875, 2.287899971008301, 2.285900115966797, 2.2813000679016113, 2.2695999145507812, 2.2685000896453857, 2.265700101852417, 2.264699935913086, 2.2630999088287354, 2.2630999088287354, 2.2630999088287354, 2.2607998847961426, 2.2553999423980713, 2.234600067138672, 2.234499931335449, 2.234499931335449, 2.2344000339508057, 2.2290000915527344, 2.2288999557495117, 2.227099895477295, 2.2221999168395996, 2.214200019836426, 2.2042999267578125, 2.2042999267578125, 2.204200029373169, 2.17549991607666, 2.17549991607666, 2.175299882888794, 2.175100088119507, 2.1145999431610107, 2.1389999389648438, 2.124000072479248, 2.11080002784729, 2.1249001026153564, 1.2523000240325928, 1.9944000244140625, 1.778499960899353, 1.407099962234497, 0.9715999960899353, 0.31529998779296875, 1.5025999546051025, 1.1318000555038452, 1.129699945449829, 1.6835999488830566, 1.697100043296814, 1.4539999961853027, -0.07020000368356705, 0.7278000116348267, 0.8141999840736389, 0.4375999867916107, 0.5715000033378601, 0.5619000196456909, 0.7889000177383423, 0.9348999857902527], \"logprob\": [30.0, 29.0, 28.0, 27.0, 26.0, 25.0, 24.0, 23.0, 22.0, 21.0, 20.0, 19.0, 18.0, 17.0, 16.0, 15.0, 14.0, 13.0, 12.0, 11.0, 10.0, 9.0, 8.0, 7.0, 6.0, 5.0, 4.0, 3.0, 2.0, 1.0, -3.7836999893188477, -4.3628997802734375, -3.589099884033203, -4.482699871063232, -4.5019001960754395, -4.410200119018555, -5.095900058746338, -5.350100040435791, -5.8470001220703125, -5.924600124359131, -5.8302001953125, -6.314599990844727, -6.315299987792969, -6.355100154876709, -3.8989999294281006, -6.889500141143799, -6.962800025939941, -7.041800022125244, -4.756999969482422, -7.221399784088135, -5.342400074005127, -7.325099945068359, -7.4405999183654785, -7.440700054168701, -7.571199893951416, -7.571400165557861, -5.763199806213379, -7.721199989318848, -7.72160005569458, -7.721799850463867, -3.183000087738037, -4.236499786376953, -6.901299953460693, -3.7455999851226807, -3.331899881362915, -6.471099853515625, -5.775300025939941, -6.513599872589111, -5.7393999099731445, -5.76669979095459, -5.409599781036377, -4.5329999923706055, -5.2480998039245605, -5.157400131225586, -4.616199970245361, -4.10860013961792, -5.389599800109863, -4.454899787902832, -5.598999977111816, -3.7430999279022217, -4.120999813079834, -4.702400207519531, -4.8246002197265625, -5.324100017547607, -4.334799766540527, -4.998499870300293, -5.135499954223633, -4.9608001708984375, -5.23390007019043, -5.253399848937988, -5.256199836730957, -3.5552000999450684, -4.493000030517578, -4.970799922943115, -5.495699882507324, -5.782400131225586, -5.9791998863220215, -6.446300029754639, -6.497099876403809, -6.55079984664917, -5.230400085449219, -6.872799873352051, -6.9517998695373535, -6.952000141143799, -6.952000141143799, -7.131800174713135, -7.2357001304626465, -7.35099983215332, -7.351200103759766, -6.55679988861084, -5.664400100708008, -7.254700183868408, -4.572700023651123, -7.481200218200684, -7.481500148773193, -7.631800174713135, -7.631899833679199, -7.631999969482422, -7.631999969482422, -7.632199764251709, -4.723400115966797, -2.805999994277954, -5.344299793243408, -4.4105000495910645, -4.148799896240234, -5.523900032043457, -4.790900230407715, -6.3694000244140625, -4.94189977645874, -3.5559000968933105, -3.864500045776367, -5.457200050354004, -4.71999979019165, -3.25219988822937, -3.6673998832702637, -5.490300178527832, -4.948800086975098, -3.7976999282836914, -4.326099872589111, -5.086999893188477, -4.986499786376953, -5.208799839019775, -4.916100025177002, -4.778900146484375, -5.006499767303467, -5.146699905395508, -5.320099830627441, -5.315499782562256, -5.268499851226807, -5.266200065612793, -2.611799955368042, -2.6349000930786133, -4.324999809265137, -4.568600177764893, -4.73360013961792, -4.987599849700928, -5.289100170135498, -5.459199905395508, -5.998799800872803, -6.324699878692627, -6.441299915313721, -6.50540018081665, -5.184800148010254, -6.72599983215332, -6.811500072479248, -6.8119001388549805, -6.905399799346924, -6.215199947357178, -7.009300231933594, -7.255000114440918, -7.255300045013428, -7.2555999755859375, -7.2555999755859375, -7.256100177764893, -3.9054999351501465, -5.946599960327148, -7.405700206756592, -7.406099796295166, -7.406400203704834, -5.8343000411987305, -6.725900173187256, -4.501500129699707, -4.89709997177124, -6.117199897766113, -6.240900039672852, -6.209400177001953, -5.21150016784668, -6.269199848175049, -3.9421000480651855, -4.635300159454346, -5.99429988861084, -5.162799835205078, -5.285399913787842, -4.994100093841553, -5.592599868774414, -5.601600170135498, -4.379199981689453, -4.820899963378906, -5.28980016708374, -4.8684000968933105, -5.1930999755859375, -5.686100006103516, -4.752299785614014, -4.821400165557861, -4.593500137329102, -5.190199851989746, -5.4934000968933105, -5.2947001457214355, -5.293600082397461, -5.347499847412109, -5.3180999755859375, -2.355799913406372, -3.047600030899048, -4.978400230407715, -5.178599834442139, -5.197199821472168, -5.639400005340576, -6.0279998779296875, -5.778800010681152, -6.4517998695373535, -6.453199863433838, -6.520199775695801, -6.593400001525879, -6.7631001472473145, -6.851900100708008, -6.852099895477295, -6.95550012588501, -6.95550012588501, -6.955900192260742, -5.456900119781494, -6.626100063323975, -7.070899963378906, -7.071400165557861, -7.071300029754639, -5.580599784851074, -7.201399803161621, -7.201600074768066, -7.201700210571289, -7.202000141143799, -7.202099800109863, -7.3516998291015625, -4.292900085449219, -6.528900146484375, -5.545400142669678, -5.881400108337402, -4.355999946594238, -4.071899890899658, -6.678899765014648, -5.062699794769287, -5.892499923706055, -4.745999813079834, -5.1072001457214355, -4.948500156402588, -4.872900009155273, -4.5960001945495605, -6.1392998695373535, -5.02869987487793, -5.338099956512451, -3.6884000301361084, -5.3684000968933105, -4.7144999504089355, -4.907800197601318, -4.237299919128418, -4.85830020904541, -4.408599853515625, -5.030099868774414, -4.650400161743164, -4.991799831390381, -4.858500003814697, -4.968500137329102, -5.392499923706055, -3.6522998809814453, -4.285900115966797, -4.618800163269043, -3.9602999687194824, -5.438499927520752, -5.516200065612793, -5.664599895477295, -5.63640022277832, -5.867199897766113, -5.946599960327148, -3.6946001052856445, -5.988900184631348, -6.07919979095459, -6.127699851989746, -6.2322001457214355, -6.2322001457214355, -6.000800132751465, -6.348999977111816, -6.481400012969971, -6.554200172424316, -6.5543999671936035, -6.6331000328063965, -6.813399791717529, -6.916399955749512, -6.916399955749512, -6.916600227355957, -6.9166998863220215, -6.926199913024902, -7.031799793243408, -7.031899929046631, -3.7137999534606934, -5.500699996948242, -5.897600173950195, -6.0233001708984375, -5.679100036621094, -4.040299892425537, -6.0472002029418945, -5.961100101470947, -4.690000057220459, -4.508800029754639, -4.983500003814697, -4.968599796295166, -5.6504998207092285, -4.6855998039245605, -5.633200168609619, -4.359799861907959, -4.7006001472473145, -5.7153000831604, -5.313399791717529, -5.205100059509277, -4.476900100708008, -4.6803998947143555, -5.06279993057251, -5.186999797821045, -4.948500156402588, -4.9552001953125, -5.0802998542785645, -5.060999870300293, -4.933000087738037, -5.195499897003174, -4.988399982452393, -5.228400230407715, -5.336699962615967, -5.289100170135498, -2.8796000480651855, -3.2260000705718994, -4.424200057983398, -4.589600086212158, -4.892899990081787, -5.401400089263916, -5.438799858093262, -5.518799781799316, -5.5605998039245605, -5.604800224304199, -5.604800224304199, -5.604800224304199, -5.607100009918213, -5.803800106048584, -6.204699993133545, -6.204899787902832, -6.204899787902832, -6.205100059509277, -6.290500164031982, -6.2906999588012695, -6.292500019073486, -6.3846001625061035, -6.4882001876831055, -6.603600025177002, -6.603600025177002, -6.603799819946289, -6.884399890899658, -6.8846001625061035, -6.884799957275391, -6.885200023651123, -3.052999973297119, -5.129300117492676, -5.839399814605713, -6.006499767303467, -6.31820011138916, -4.047299861907959, -6.070199966430664, -5.769999980926514, -5.244500160217285, -4.663000106811523, -3.9226999282836914, -5.4558000564575195, -5.199999809265137, -5.285200119018555, -5.805200099945068, -5.822400093078613, -5.716700077056885, -4.787199974060059, -5.316400051116943, -5.491499900817871, -5.36359977722168, -5.530700206756592, -5.549099922180176, -5.619100093841553, -5.668700218200684], \"Category\": [\"Default\", \"Default\", \"Default\", \"Default\", \"Default\", \"Default\", \"Default\", \"Default\", \"Default\", \"Default\", \"Default\", \"Default\", \"Default\", \"Default\", \"Default\", \"Default\", \"Default\", \"Default\", \"Default\", \"Default\", \"Default\", \"Default\", \"Default\", \"Default\", \"Default\", \"Default\", \"Default\", \"Default\", \"Default\", \"Default\", \"Topic1\", \"Topic1\", \"Topic1\", \"Topic1\", \"Topic1\", \"Topic1\", \"Topic1\", \"Topic1\", \"Topic1\", \"Topic1\", \"Topic1\", \"Topic1\", \"Topic1\", \"Topic1\", \"Topic1\", \"Topic1\", \"Topic1\", \"Topic1\", \"Topic1\", \"Topic1\", \"Topic1\", \"Topic1\", \"Topic1\", \"Topic1\", \"Topic1\", \"Topic1\", \"Topic1\", \"Topic1\", \"Topic1\", \"Topic1\", \"Topic1\", \"Topic1\", \"Topic1\", \"Topic1\", \"Topic1\", \"Topic1\", \"Topic1\", \"Topic1\", \"Topic1\", \"Topic1\", \"Topic1\", \"Topic1\", \"Topic1\", \"Topic1\", \"Topic1\", \"Topic1\", \"Topic1\", \"Topic1\", \"Topic1\", \"Topic1\", \"Topic1\", \"Topic1\", \"Topic1\", \"Topic1\", \"Topic1\", \"Topic1\", \"Topic1\", \"Topic1\", \"Topic1\", \"Topic1\", \"Topic1\", \"Topic2\", \"Topic2\", \"Topic2\", \"Topic2\", \"Topic2\", \"Topic2\", \"Topic2\", \"Topic2\", \"Topic2\", \"Topic2\", \"Topic2\", \"Topic2\", \"Topic2\", \"Topic2\", \"Topic2\", \"Topic2\", \"Topic2\", \"Topic2\", \"Topic2\", \"Topic2\", \"Topic2\", \"Topic2\", \"Topic2\", \"Topic2\", \"Topic2\", \"Topic2\", \"Topic2\", \"Topic2\", \"Topic2\", \"Topic2\", \"Topic2\", \"Topic2\", \"Topic2\", \"Topic2\", \"Topic2\", \"Topic2\", \"Topic2\", \"Topic2\", \"Topic2\", \"Topic2\", \"Topic2\", \"Topic2\", \"Topic2\", \"Topic2\", \"Topic2\", \"Topic2\", \"Topic2\", \"Topic2\", \"Topic2\", \"Topic2\", \"Topic2\", \"Topic2\", \"Topic2\", \"Topic2\", \"Topic2\", \"Topic2\", \"Topic2\", \"Topic2\", \"Topic2\", \"Topic3\", \"Topic3\", \"Topic3\", \"Topic3\", \"Topic3\", \"Topic3\", \"Topic3\", \"Topic3\", \"Topic3\", \"Topic3\", \"Topic3\", \"Topic3\", \"Topic3\", \"Topic3\", \"Topic3\", \"Topic3\", \"Topic3\", \"Topic3\", \"Topic3\", \"Topic3\", \"Topic3\", \"Topic3\", \"Topic3\", \"Topic3\", \"Topic3\", \"Topic3\", \"Topic3\", \"Topic3\", \"Topic3\", \"Topic3\", \"Topic3\", \"Topic3\", \"Topic3\", \"Topic3\", \"Topic3\", \"Topic3\", \"Topic3\", \"Topic3\", \"Topic3\", \"Topic3\", \"Topic3\", \"Topic3\", \"Topic3\", \"Topic3\", \"Topic3\", \"Topic3\", \"Topic3\", \"Topic3\", \"Topic3\", \"Topic3\", \"Topic3\", \"Topic3\", \"Topic3\", \"Topic3\", \"Topic3\", \"Topic3\", \"Topic3\", \"Topic3\", \"Topic3\", \"Topic3\", \"Topic3\", \"Topic4\", \"Topic4\", \"Topic4\", \"Topic4\", \"Topic4\", \"Topic4\", \"Topic4\", \"Topic4\", \"Topic4\", \"Topic4\", \"Topic4\", \"Topic4\", \"Topic4\", \"Topic4\", \"Topic4\", \"Topic4\", \"Topic4\", \"Topic4\", \"Topic4\", \"Topic4\", \"Topic4\", \"Topic4\", \"Topic4\", \"Topic4\", \"Topic4\", \"Topic4\", \"Topic4\", \"Topic4\", \"Topic4\", \"Topic4\", \"Topic4\", \"Topic4\", \"Topic4\", \"Topic4\", \"Topic4\", \"Topic4\", \"Topic4\", \"Topic4\", \"Topic4\", \"Topic4\", \"Topic4\", \"Topic4\", \"Topic4\", \"Topic4\", \"Topic4\", \"Topic4\", \"Topic4\", \"Topic4\", \"Topic4\", \"Topic4\", \"Topic4\", \"Topic4\", \"Topic4\", \"Topic4\", \"Topic4\", \"Topic4\", \"Topic4\", \"Topic4\", \"Topic4\", \"Topic4\", \"Topic5\", \"Topic5\", \"Topic5\", \"Topic5\", \"Topic5\", \"Topic5\", \"Topic5\", \"Topic5\", \"Topic5\", \"Topic5\", \"Topic5\", \"Topic5\", \"Topic5\", \"Topic5\", \"Topic5\", \"Topic5\", \"Topic5\", \"Topic5\", \"Topic5\", \"Topic5\", \"Topic5\", \"Topic5\", \"Topic5\", \"Topic5\", \"Topic5\", \"Topic5\", \"Topic5\", \"Topic5\", \"Topic5\", \"Topic5\", \"Topic5\", \"Topic5\", \"Topic5\", \"Topic5\", \"Topic5\", \"Topic5\", \"Topic5\", \"Topic5\", \"Topic5\", \"Topic5\", \"Topic5\", \"Topic5\", \"Topic5\", \"Topic5\", \"Topic5\", \"Topic5\", \"Topic5\", \"Topic5\", \"Topic5\", \"Topic5\", \"Topic5\", \"Topic5\", \"Topic5\", \"Topic5\", \"Topic5\", \"Topic5\", \"Topic5\", \"Topic5\", \"Topic5\", \"Topic5\", \"Topic5\", \"Topic5\", \"Topic5\", \"Topic5\", \"Topic6\", \"Topic6\", \"Topic6\", \"Topic6\", \"Topic6\", \"Topic6\", \"Topic6\", \"Topic6\", \"Topic6\", \"Topic6\", \"Topic6\", \"Topic6\", \"Topic6\", \"Topic6\", \"Topic6\", \"Topic6\", \"Topic6\", \"Topic6\", \"Topic6\", \"Topic6\", \"Topic6\", \"Topic6\", \"Topic6\", \"Topic6\", \"Topic6\", \"Topic6\", \"Topic6\", \"Topic6\", \"Topic6\", \"Topic6\", \"Topic6\", \"Topic6\", \"Topic6\", \"Topic6\", \"Topic6\", \"Topic6\", \"Topic6\", \"Topic6\", \"Topic6\", \"Topic6\", \"Topic6\", \"Topic6\", \"Topic6\", \"Topic6\", \"Topic6\", \"Topic6\", \"Topic6\", \"Topic6\", \"Topic6\", \"Topic6\", \"Topic6\", \"Topic6\", \"Topic6\", \"Topic6\", \"Topic6\"], \"Term\": [\"cancel\", \"servic\", \"custom\", \"delay\", \"flightl\", \"miss\", \"help\", \"seat\", \"hold\", \"late\", \"connect\", \"phone\", \"hour\", \"book\", \"luggag\", \"bag\", \"tri\", \"chang\", \"lose\", \"plane\", \"baggag\", \"bad\", \"rebook\", \"agent\", \"time\", \"board\", \"gate\", \"reserv\", \"call\", \"answer\", \"book\", \"reserv\", \"phone\", \"onlin\", \"number\", \"answer\", \"hung\", \"messag\", \"autom\", \"reflight\", \"checkin\", \"dividend\", \"bought\", \"award\", \"chang\", \"conf\", \"fund\", \"bank\", \"websit\", \"cell\", \"hang\", \"legroom\", \"music\", \"spoken\", \"laptop\", \"log\", \"reach\", \"iphon\", \"blah\", \"interview\", \"help\", \"call\", \"will\", \"tri\", \"hold\", \"volum\", \"human\", \"asap\", \"disconnect\", \"error\", \"confirm\", \"problem\", \"speak\", \"mile\", \"ticket\", \"need\", \"option\", \"minut\", \"abl\", \"hour\", \"time\", \"say\", \"work\", \"talk\", \"wait\", \"told\", \"line\", \"agent\", \"want\", \"get\", \"go\", \"late\", \"flightr\", \"pilot\", \"depart\", \"turn\", \"announc\", \"cater\", \"readi\", \"mobil\", \"departur\", \"alert\", \"deic\", \"worri\", \"austin\", \"row\", \"unavail\", \"indic\", \"dinner\", \"deplan\", \"load\", \"divert\", \"crew\", \"mech\", \"unitedsuck\", \"gross\", \"flightli\", \"wheel\", \"valu\", \"occur\", \"leav\", \"delay\", \"wasnt\", \"sit\", \"board\", \"schedul\", \"arriv\", \"text\", \"week\", \"plane\", \"gate\", \"ground\", \"email\", \"hour\", \"time\", \"tarmac\", \"passeng\", \"wait\", \"thank\", \"updat\", \"tell\", \"land\", \"issu\", \"minut\", \"check\", \"get\", \"come\", \"take\", \"know\", \"dont\", \"servic\", \"custom\", \"experi\", \"care\", \"terribl\", \"horribl\", \"aw\", \"real\", \"shit\", \"medium\", \"experienc\", \"especi\", \"respond\", \"amaz\", \"level\", \"solv\", \"social\", \"ignor\", \"worker\", \"cheap\", \"low\", \"felt\", \"remov\", \"voic\", \"bad\", \"fuck\", \"abysm\", \"exact\", \"prompt\", \"absolut\", \"jetway\", \"rude\", \"your\", \"loyal\", \"step\", \"unhelp\", \"suck\", \"hire\", \"agent\", \"unit\", \"american\", \"employe\", \"poor\", \"disappoint\", \"compani\", \"lack\", \"airlin\", \"line\", \"sure\", \"peopl\", \"staff\", \"treat\", \"gate\", \"dont\", \"time\", \"guy\", \"busi\", \"work\", \"like\", \"know\", \"wait\", \"cancel\", \"flightl\", \"reschedul\", \"runway\", \"flightlat\", \"snow\", \"flightat\", \"monday\", \"phoenix\", \"daughter\", \"tmrw\", \"mind\", \"till\", \"hostag\", \"polic\", \"fleet\", \"drove\", \"kick\", \"dalla\", \"rent\", \"round\", \"buffalo\", \"atlanta\", \"drive\", \"wednesday\", \"waiv\", \"fire\", \"trap\", \"pend\", \"jacksonvil\", \"stuck\", \"dollar\", \"weve\", \"second\", \"tomorrow\", \"rebook\", \"nashvil\", \"strand\", \"purchas\", \"min\", \"morn\", \"left\", \"hotel\", \"home\", \"tuesday\", \"refund\", \"offer\", \"hour\", \"voucher\", \"airlin\", \"weather\", \"hold\", \"today\", \"wait\", \"ticket\", \"help\", \"go\", \"plane\", \"tri\", \"need\", \"luggag\", \"look\", \"claim\", \"baggag\", \"deliv\", \"room\", \"hop\", \"cloth\", \"soon\", \"situat\", \"bag\", \"matter\", \"track\", \"suitcas\", \"item\", \"secur\", \"damag\", \"sort\", \"hello\", \"friday\", \"orlando\", \"carousel\", \"costum\", \"directli\", \"video\", \"impress\", \"poorservic\", \"guarante\", \"outlet\", \"repair\", \"lose\", \"pa\", \"case\", \"submit\", \"sleep\", \"like\", \"word\", \"live\", \"respons\", \"day\", \"person\", \"night\", \"card\", \"guy\", \"feel\", \"dont\", \"airport\", \"guess\", \"make\", \"well\", \"need\", \"say\", \"that\", \"right\", \"want\", \"check\", \"know\", \"told\", \"thank\", \"weather\", \"plane\", \"work\", \"doesnt\", \"airlin\", \"miss\", \"connect\", \"upgrad\", \"class\", \"happi\", \"layov\", \"flyer\", \"drink\", \"middl\", \"failur\", \"gonna\", \"husband\", \"window\", \"inflight\", \"frequent\", \"birthday\", \"nasti\", \"comput\", \"wed\", \"doubl\", \"chairman\", \"handler\", \"hous\", \"bird\", \"throw\", \"london\", \"admir\", \"sale\", \"term\", \"english\", \"seat\", \"close\", \"countri\", \"philadelphia\", \"rule\", \"go\", \"mention\", \"door\", \"paid\", \"problem\", \"delay\", \"earli\", \"trip\", \"sure\", \"ruin\", \"let\", \"boston\", \"plane\", \"give\", \"happen\", \"home\", \"rude\", \"staff\", \"attend\", \"wifi\"], \"Total\": [830.0, 682.0, 667.0, 813.0, 416.0, 318.0, 606.0, 321.0, 588.0, 331.0, 225.0, 349.0, 977.0, 287.0, 220.0, 218.0, 358.0, 268.0, 247.0, 503.0, 164.0, 210.0, 205.0, 303.0, 618.0, 219.0, 364.0, 161.0, 209.0, 153.0, 287.0595397949219, 161.19126892089844, 349.55322265625, 143.0812530517578, 140.36431884765625, 153.947509765625, 77.88392639160156, 60.67913055419922, 37.1348762512207, 34.41864013671875, 38.042110443115234, 23.55190658569336, 23.55123519897461, 22.647171020507812, 268.4914245605469, 13.590536117553711, 12.684945106506348, 11.779606819152832, 116.91716766357422, 9.968423843383789, 65.35987854003906, 9.062975883483887, 8.15772819519043, 8.157261848449707, 7.252597808837891, 7.252028942108154, 44.40420150756836, 6.347772598266602, 6.346917629241943, 6.346415996551514, 606.3098754882812, 209.512451171875, 14.506507873535156, 358.9635009765625, 588.6014404296875, 22.675079345703125, 47.18308639526367, 21.767541885375977, 50.83266830444336, 49.87158966064453, 74.70248413085938, 201.26177978515625, 89.93169403076172, 100.22866821289062, 194.27859497070312, 391.6985168457031, 79.8863525390625, 285.67669677734375, 61.94090270996094, 977.7847290039062, 618.9879150390625, 274.1228332519531, 224.08045959472656, 97.32615661621094, 592.5476684570312, 209.3722381591797, 168.66844177246094, 303.96685791015625, 198.0638427734375, 176.5598907470703, 281.3624267578125, 331.7350769042969, 130.32615661621094, 81.1130599975586, 48.303462982177734, 36.45562744140625, 30.07744598388672, 19.140546798706055, 18.22938346862793, 17.317476272583008, 65.70557403564453, 12.76084041595459, 11.849808692932129, 11.848662376403809, 11.848560333251953, 10.02563190460205, 9.11357307434082, 8.20328426361084, 8.202552795410156, 18.234525680541992, 44.65657424926758, 9.114842414855957, 133.4315185546875, 7.293594837188721, 7.293262004852295, 6.381906032562256, 6.381541728973389, 6.380997657775879, 6.381190299987793, 6.380735397338867, 119.3830337524414, 813.4857177734375, 64.70294189453125, 167.9564208984375, 219.85455322265625, 56.523006439208984, 126.81342315673828, 23.695322036743164, 110.43482208251953, 503.8604736328125, 364.54248046875, 66.73509216308594, 163.6595001220703, 977.7847290039062, 618.9879150390625, 70.51443481445312, 138.81845092773438, 592.5476684570312, 311.57940673828125, 119.63764190673828, 147.87818908691406, 110.77523803710938, 199.02627563476562, 285.67669677734375, 250.36544799804688, 176.5598907470703, 127.69329071044922, 137.84161376953125, 193.6409912109375, 322.5005798339844, 682.8877563476562, 667.3053588867188, 123.7422866821289, 97.159912109375, 82.49390411376953, 64.16123962402344, 47.66116714477539, 40.32807159423828, 23.829418182373047, 17.413400650024414, 15.580753326416016, 14.662979125976562, 54.994197845458984, 11.912515640258789, 10.997333526611328, 10.99533462524414, 10.080565452575684, 20.152999877929688, 9.162391662597656, 7.331364154815674, 7.330633640289307, 7.329616546630859, 7.329598426818848, 7.327835559844971, 210.68174743652344, 27.49392318725586, 6.4138102531433105, 6.412836074829102, 6.4117255210876465, 31.239503860473633, 12.825820922851562, 126.10443115234375, 86.16199493408203, 24.83098602294922, 21.957761764526367, 22.890247344970703, 71.41712951660156, 22.08361053466797, 303.96685791015625, 142.63015747070312, 30.274471282958984, 82.67813873291016, 71.43480682373047, 102.77346801757812, 49.49699783325195, 49.46284103393555, 250.549072265625, 168.66844177246094, 92.23690795898438, 200.4524688720703, 124.98941040039062, 54.33892059326172, 364.54248046875, 322.5005798339844, 618.9879150390625, 162.88748168945312, 97.60065460205078, 224.08045959472656, 231.69674682617188, 193.6409912109375, 592.5476684570312, 830.8810424804688, 416.35357666015625, 61.042781829833984, 50.10923385620117, 49.19965362548828, 31.889925003051758, 21.868206024169922, 28.242311477661133, 14.579440116882324, 14.578591346740723, 13.668719291687012, 12.756375312805176, 10.934711456298828, 10.02416706085205, 10.023724555969238, 9.113386154174805, 9.113382339477539, 9.11169147491455, 41.05569076538086, 12.75969409942627, 8.202783584594727, 8.201139450073242, 8.201622009277344, 36.430023193359375, 7.292236328125, 7.29171085357666, 7.291432857513428, 7.290881156921387, 7.2902374267578125, 6.38124418258667, 139.0341339111328, 14.583990097045898, 40.24322509765625, 29.17777442932129, 148.5552520751953, 205.55923461914062, 12.763338088989258, 80.25240325927734, 31.931371688842773, 121.18669891357422, 81.12622833251953, 102.12959289550781, 113.98143768310547, 170.37217712402344, 24.5698184967041, 113.54521179199219, 80.35102844238281, 977.7847290039062, 83.36051177978516, 250.549072265625, 186.61154174804688, 588.6014404296875, 222.53518676757812, 592.5476684570312, 194.27859497070312, 606.3098754882812, 281.3624267578125, 503.8604736328125, 358.9635009765625, 391.6985168457031, 220.96484375, 117.35214233398438, 84.34613037109375, 164.09971618652344, 37.58733367919922, 34.83644485473633, 30.250614166259766, 31.168622970581055, 24.750459671020508, 22.917940139770508, 218.1607666015625, 22.000778198242188, 20.167343139648438, 19.250282287597656, 17.416248321533203, 17.416837692260742, 22.0002498626709, 15.581489562988281, 13.748078346252441, 12.831896781921387, 12.831232070922852, 11.916093826293945, 10.080106735229492, 9.165342330932617, 9.165318489074707, 9.164820671081543, 9.164225578308105, 9.164169311523438, 8.249220848083496, 8.248602867126465, 247.7170867919922, 41.39584732055664, 27.48002815246582, 24.70758819580078, 36.6268196105957, 231.69674682617188, 24.72382354736328, 27.439420700073242, 135.43637084960938, 174.2701873779297, 95.3380126953125, 99.82493591308594, 41.24620056152344, 162.88748168945312, 44.05897521972656, 322.5005798339844, 212.07432556152344, 41.11393356323242, 83.18063354492188, 102.67822265625, 391.6985168457031, 274.1228332519531, 135.0454559326172, 106.53923034667969, 198.0638427734375, 250.36544799804688, 193.6409912109375, 209.3722381591797, 311.57940673828125, 186.61154174804688, 503.8604736328125, 224.08045959472656, 120.4799575805664, 250.549072265625, 318.2881164550781, 225.3295135498047, 68.52021026611328, 58.191715240478516, 43.16759490966797, 26.26573944091797, 25.327091217041016, 23.449398040771484, 22.510366439819336, 21.571189880371094, 21.57111930847168, 21.570972442626953, 21.570358276367188, 17.815940856933594, 12.182500839233398, 12.181629180908203, 12.181300163269043, 12.180479049682617, 11.243515968322754, 11.24238109588623, 11.242013931274414, 10.303482055664062, 9.364380836486816, 8.42609691619873, 8.426151275634766, 8.425359725952148, 6.549014091491699, 6.548398017883301, 6.548003673553467, 6.546894550323486, 321.07928466796875, 39.28859329223633, 19.606712341308594, 16.80996322631836, 12.136221885681152, 281.3624267578125, 17.719234466552734, 29.68719482421875, 72.79707336425781, 201.26177978515625, 813.4857177734375, 53.56566619873047, 100.23468780517578, 92.23690795898438, 31.51235580444336, 30.56326675415039, 43.32084655761719, 503.8604736328125, 133.63763427734375, 102.88191223144531, 170.37217712402344, 126.10443115234375, 124.98941040039062, 92.87417602539062, 76.37467956542969]}, \"mdsDat\": {\"topics\": [1, 2, 3, 4, 5, 6], \"y\": [0.0576768405970104, 0.07396029094056629, -0.22442146922306797, 0.12988862875250526, -0.11924541790256682, 0.08214112683555279], \"cluster\": [1, 1, 1, 1, 1, 1], \"Freq\": [22.344696044921875, 20.554410934448242, 16.492794036865234, 15.537209510803223, 15.036195755004883, 10.034689903259277], \"x\": [0.17989438061969545, -0.008210627863840221, -0.02289613306006601, 0.07058786091591052, 0.030069904629583245, -0.2494453852412832]}, \"lambda.step\": 0.01, \"R\": 30, \"topic.order\": [4, 1, 5, 3, 6, 2], \"token.table\": {\"Term\": [\"abl\", \"abl\", \"abl\", \"absolut\", \"absolut\", \"abysm\", \"admir\", \"agent\", \"agent\", \"agent\", \"agent\", \"airlin\", \"airlin\", \"airlin\", \"airlin\", \"airlin\", \"airport\", \"airport\", \"airport\", \"airport\", \"airport\", \"airport\", \"alert\", \"amaz\", \"american\", \"american\", \"american\", \"announc\", \"answer\", \"arriv\", \"arriv\", \"arriv\", \"asap\", \"asap\", \"atlanta\", \"attend\", \"attend\", \"attend\", \"attend\", \"austin\", \"autom\", \"aw\", \"award\", \"bad\", \"bad\", \"bad\", \"bag\", \"bag\", \"baggag\", \"baggag\", \"bank\", \"bird\", \"birthday\", \"blah\", \"board\", \"board\", \"book\", \"boston\", \"boston\", \"boston\", \"boston\", \"bought\", \"buffalo\", \"busi\", \"busi\", \"busi\", \"call\", \"call\", \"cancel\", \"card\", \"card\", \"card\", \"care\", \"carousel\", \"case\", \"case\", \"cater\", \"cell\", \"chairman\", \"chang\", \"chang\", \"cheap\", \"check\", \"check\", \"check\", \"check\", \"check\", \"checkin\", \"claim\", \"class\", \"close\", \"close\", \"cloth\", \"come\", \"come\", \"come\", \"come\", \"come\", \"compani\", \"compani\", \"comput\", \"conf\", \"confirm\", \"confirm\", \"confirm\", \"connect\", \"costum\", \"countri\", \"countri\", \"countri\", \"crew\", \"crew\", \"custom\", \"dalla\", \"dalla\", \"dalla\", \"damag\", \"daughter\", \"day\", \"day\", \"day\", \"deic\", \"delay\", \"delay\", \"delay\", \"delay\", \"deliv\", \"depart\", \"departur\", \"departur\", \"deplan\", \"deplan\", \"dinner\", \"directli\", \"disappoint\", \"disappoint\", \"disappoint\", \"disconnect\", \"disconnect\", \"divert\", \"dividend\", \"doesnt\", \"doesnt\", \"doesnt\", \"doesnt\", \"dollar\", \"dollar\", \"dont\", \"dont\", \"dont\", \"dont\", \"dont\", \"door\", \"door\", \"door\", \"doubl\", \"drink\", \"drive\", \"drive\", \"drove\", \"earli\", \"earli\", \"email\", \"email\", \"employe\", \"employe\", \"employe\", \"english\", \"error\", \"error\", \"especi\", \"exact\", \"experi\", \"experienc\", \"failur\", \"feel\", \"feel\", \"feel\", \"felt\", \"fire\", \"fleet\", \"flightat\", \"flightl\", \"flightlat\", \"flightli\", \"flightr\", \"flyer\", \"frequent\", \"friday\", \"fuck\", \"fuck\", \"fund\", \"gate\", \"gate\", \"gate\", \"gate\", \"get\", \"get\", \"get\", \"get\", \"get\", \"get\", \"give\", \"give\", \"give\", \"give\", \"give\", \"go\", \"go\", \"go\", \"go\", \"go\", \"gonna\", \"gross\", \"ground\", \"ground\", \"ground\", \"guarante\", \"guess\", \"guess\", \"guess\", \"guy\", \"guy\", \"guy\", \"guy\", \"handler\", \"hang\", \"hang\", \"happen\", \"happen\", \"happen\", \"happen\", \"happen\", \"happi\", \"hello\", \"help\", \"help\", \"hire\", \"hire\", \"hold\", \"hold\", \"hold\", \"home\", \"home\", \"home\", \"home\", \"hop\", \"horribl\", \"hostag\", \"hotel\", \"hotel\", \"hotel\", \"hour\", \"hour\", \"hour\", \"hour\", \"hous\", \"human\", \"human\", \"hung\", \"husband\", \"ignor\", \"ignor\", \"impress\", \"indic\", \"inflight\", \"interview\", \"iphon\", \"issu\", \"issu\", \"issu\", \"issu\", \"issu\", \"issu\", \"item\", \"jacksonvil\", \"jetway\", \"jetway\", \"kick\", \"know\", \"know\", \"know\", \"know\", \"know\", \"lack\", \"lack\", \"lack\", \"land\", \"land\", \"land\", \"land\", \"laptop\", \"late\", \"layov\", \"leav\", \"leav\", \"left\", \"left\", \"left\", \"left\", \"legroom\", \"let\", \"let\", \"level\", \"like\", \"like\", \"like\", \"like\", \"line\", \"line\", \"line\", \"live\", \"live\", \"load\", \"load\", \"log\", \"london\", \"look\", \"lose\", \"lose\", \"lose\", \"lose\", \"low\", \"loyal\", \"loyal\", \"luggag\", \"luggag\", \"make\", \"make\", \"make\", \"matter\", \"mech\", \"medium\", \"mention\", \"mention\", \"messag\", \"middl\", \"mile\", \"mile\", \"mile\", \"min\", \"min\", \"mind\", \"minut\", \"minut\", \"minut\", \"minut\", \"minut\", \"miss\", \"mobil\", \"monday\", \"monday\", \"morn\", \"morn\", \"morn\", \"morn\", \"music\", \"nashvil\", \"nashvil\", \"nasti\", \"need\", \"need\", \"need\", \"need\", \"need\", \"night\", \"night\", \"night\", \"night\", \"number\", \"occur\", \"offer\", \"offer\", \"offer\", \"offer\", \"onlin\", \"option\", \"option\", \"option\", \"orlando\", \"outlet\", \"pa\", \"pa\", \"paid\", \"paid\", \"paid\", \"paid\", \"paid\", \"passeng\", \"passeng\", \"passeng\", \"passeng\", \"passeng\", \"passeng\", \"pend\", \"peopl\", \"peopl\", \"peopl\", \"peopl\", \"peopl\", \"person\", \"person\", \"philadelphia\", \"philadelphia\", \"phoenix\", \"phone\", \"phone\", \"pilot\", \"plane\", \"plane\", \"plane\", \"plane\", \"polic\", \"poor\", \"poor\", \"poor\", \"poor\", \"poorservic\", \"problem\", \"problem\", \"problem\", \"prompt\", \"purchas\", \"purchas\", \"reach\", \"reach\", \"readi\", \"real\", \"rebook\", \"rebook\", \"reflight\", \"refund\", \"refund\", \"remov\", \"rent\", \"rent\", \"repair\", \"reschedul\", \"reserv\", \"respond\", \"respond\", \"respons\", \"respons\", \"respons\", \"right\", \"right\", \"right\", \"right\", \"right\", \"room\", \"round\", \"row\", \"rude\", \"rude\", \"ruin\", \"ruin\", \"ruin\", \"rule\", \"rule\", \"runway\", \"sale\", \"say\", \"say\", \"say\", \"say\", \"say\", \"schedul\", \"schedul\", \"schedul\", \"seat\", \"seat\", \"seat\", \"seat\", \"second\", \"second\", \"secur\", \"servic\", \"shit\", \"sit\", \"sit\", \"sit\", \"situat\", \"sleep\", \"sleep\", \"snow\", \"social\", \"solv\", \"soon\", \"sort\", \"speak\", \"speak\", \"spoken\", \"staff\", \"staff\", \"staff\", \"staff\", \"staff\", \"step\", \"step\", \"strand\", \"strand\", \"strand\", \"stuck\", \"stuck\", \"submit\", \"submit\", \"suck\", \"suck\", \"suck\", \"suitcas\", \"sure\", \"sure\", \"sure\", \"sure\", \"take\", \"take\", \"take\", \"take\", \"take\", \"take\", \"talk\", \"talk\", \"talk\", \"talk\", \"tarmac\", \"tarmac\", \"tarmac\", \"tell\", \"tell\", \"tell\", \"tell\", \"term\", \"terribl\", \"text\", \"text\", \"thank\", \"thank\", \"thank\", \"thank\", \"thank\", \"that\", \"that\", \"that\", \"that\", \"throw\", \"ticket\", \"ticket\", \"ticket\", \"till\", \"time\", \"time\", \"time\", \"time\", \"time\", \"time\", \"tmrw\", \"today\", \"today\", \"today\", \"today\", \"today\", \"today\", \"told\", \"told\", \"told\", \"told\", \"tomorrow\", \"tomorrow\", \"tomorrow\", \"track\", \"trap\", \"treat\", \"treat\", \"treat\", \"tri\", \"tri\", \"trip\", \"trip\", \"trip\", \"trip\", \"trip\", \"trip\", \"tuesday\", \"tuesday\", \"turn\", \"unavail\", \"unhelp\", \"unhelp\", \"unit\", \"unit\", \"unit\", \"unit\", \"unit\", \"unitedsuck\", \"updat\", \"updat\", \"updat\", \"updat\", \"upgrad\", \"valu\", \"video\", \"voic\", \"volum\", \"volum\", \"voucher\", \"voucher\", \"voucher\", \"voucher\", \"voucher\", \"voucher\", \"wait\", \"wait\", \"wait\", \"wait\", \"wait\", \"waiv\", \"want\", \"want\", \"want\", \"want\", \"want\", \"wasnt\", \"wasnt\", \"weather\", \"weather\", \"weather\", \"weather\", \"weather\", \"websit\", \"websit\", \"wed\", \"wednesday\", \"week\", \"week\", \"well\", \"well\", \"well\", \"well\", \"well\", \"weve\", \"weve\", \"wheel\", \"wifi\", \"wifi\", \"wifi\", \"wifi\", \"wifi\", \"will\", \"will\", \"window\", \"word\", \"word\", \"work\", \"work\", \"work\", \"work\", \"worker\", \"worri\", \"your\", \"your\"], \"Freq\": [0.7587877511978149, 0.09686652570962906, 0.1452997922897339, 0.8642902970314026, 0.09603225439786911, 0.9354813694953918, 0.9161684513092041, 0.2895052433013916, 0.11185429990291595, 0.5921698212623596, 0.003289832267910242, 0.047894809395074844, 0.4629831612110138, 0.31131625175476074, 0.17162306606769562, 0.003991234116256237, 0.132029190659523, 0.2593430280685425, 0.08487590402364731, 0.11788319796323776, 0.3630802631378174, 0.042437952011823654, 0.9403769373893738, 0.9233985543251038, 0.7597159743309021, 0.13212451338768005, 0.06606225669384003, 0.9641776084899902, 0.9938452243804932, 0.7570176720619202, 0.05519920215010643, 0.18136881291866302, 0.8728592395782471, 0.09187991917133331, 0.8534896969795227, 0.3445521891117096, 0.3876211941242218, 0.0430690236389637, 0.22611236572265625, 0.9283828139305115, 0.9694390892982483, 0.9861277341842651, 0.9714237451553345, 0.014239487238228321, 0.8875946998596191, 0.09492991119623184, 0.03208642825484276, 0.9671766757965088, 0.012187711894512177, 0.9811107516288757, 0.9338172674179077, 0.949431300163269, 0.9029991030693054, 0.9453407526016235, 0.8323684930801392, 0.16374461352825165, 0.9963089823722839, 0.18466860055923462, 0.06925072520971298, 0.3231700360774994, 0.4385879337787628, 0.9765942096710205, 0.8535399436950684, 0.399587482213974, 0.38934165239334106, 0.20491665601730347, 0.8686834573745728, 0.1288706213235855, 0.9989396333694458, 0.024244656786322594, 0.24244657158851624, 0.7273397445678711, 0.9880618453025818, 0.9231212735176086, 0.14556026458740234, 0.8369714617729187, 0.9404119849205017, 0.902850866317749, 0.8895203471183777, 0.9497510194778442, 0.04841867834329605, 0.9548018574714661, 0.2236730307340622, 0.31154459714889526, 0.17174893617630005, 0.2396496832370758, 0.05591825768351555, 0.9726064205169678, 0.9958963394165039, 0.979520857334137, 0.1272633969783783, 0.8399384617805481, 0.9625064134597778, 0.1957816183567047, 0.4463821053504944, 0.08614391833543777, 0.007831265218555927, 0.2662630081176758, 0.7071135640144348, 0.2828454375267029, 0.9030843377113342, 0.9565479755401611, 0.7496404051780701, 0.08031861484050751, 0.14725078642368317, 0.9985376596450806, 0.8928477168083191, 0.10200588405132294, 0.05100294202566147, 0.8160470724105835, 0.8993377089500427, 0.09742825478315353, 0.9995424151420593, 0.024357158690690994, 0.9012148976325989, 0.04871431738138199, 0.9545345902442932, 0.9603122472763062, 0.3098636567592621, 0.15493182837963104, 0.5336540937423706, 0.9282850027084351, 0.8604944944381714, 0.0012292779283598065, 0.0012292779283598065, 0.13767912983894348, 0.9843741655349731, 0.9937175512313843, 0.9436033368110657, 0.04565822705626488, 0.8774563074111938, 0.054841019213199615, 0.8533928394317627, 0.8728533983230591, 0.27244386076927185, 0.6129986643791199, 0.11676165461540222, 0.7868955135345459, 0.19672387838363647, 0.8776893615722656, 0.9765663743019104, 0.21580353379249573, 0.2988048791885376, 0.1494024395942688, 0.3403055667877197, 0.8913884162902832, 0.06856834143400192, 0.1302323192358017, 0.18604618310928345, 0.23255771398544312, 0.11472847312688828, 0.3348831236362457, 0.30316102504730225, 0.06736911088228226, 0.6063220500946045, 0.8894912600517273, 0.9808354377746582, 0.08234965801239014, 0.9058462381362915, 0.8778299689292908, 0.5413915514945984, 0.4480482041835785, 0.36661481857299805, 0.6293554306030273, 0.6410400867462158, 0.25399699807167053, 0.09676076471805573, 0.9164650440216064, 0.7820083498954773, 0.20051495730876923, 0.9547855257987976, 0.9356234669685364, 0.9940013289451599, 0.9627262353897095, 0.9735206961631775, 0.24966536462306976, 0.6809055209159851, 0.06809055060148239, 0.9550294876098633, 0.9600307941436768, 0.8778296113014221, 0.9602982401847839, 0.9991507530212402, 0.9756166338920593, 0.9402116537094116, 0.9974973797798157, 0.9870853424072266, 0.9029344916343689, 0.9351696372032166, 0.8729201555252075, 0.10911501944065094, 0.9460033178329468, 0.6665889620780945, 0.21945315599441528, 0.06857911497354507, 0.043890632688999176, 0.3738108277320862, 0.3794746398925781, 0.02831900306046009, 0.10194841027259827, 0.10194841027259827, 0.011327601037919521, 0.37414610385894775, 0.10476090759038925, 0.18707305192947388, 0.12720967829227448, 0.2095218151807785, 0.2345729023218155, 0.18481500446796417, 0.0177706740796566, 0.20969395339488983, 0.35185936093330383, 0.9735239148139954, 0.9401580095291138, 0.7342463731765747, 0.17981544137001038, 0.07492309808731079, 0.8729650974273682, 0.2432265430688858, 0.07296796143054962, 0.6810343265533447, 0.17803700268268585, 0.3192387819290161, 0.47885817289352417, 0.01841762103140354, 0.9705457091331482, 0.9179943799972534, 0.07649952918291092, 0.4957139492034912, 0.17495787143707275, 0.05831928923726082, 0.04859940707683563, 0.2235572785139084, 0.9729520678520203, 0.9455866813659668, 0.8609458804130554, 0.1385430246591568, 0.8150840997695923, 0.1811297982931137, 0.7645241022109985, 0.020387310534715652, 0.2140667587518692, 0.09978155046701431, 0.5165162682533264, 0.2230411171913147, 0.15260708332061768, 0.9586582183837891, 0.981901228427887, 0.8978301882743835, 0.14037373661994934, 0.58781498670578, 0.271974116563797, 0.3047705590724945, 0.4581785500049591, 0.012272640131413937, 0.22397567331790924, 0.9610886573791504, 0.8265673518180847, 0.14835824072360992, 0.9886507391929626, 0.9735305309295654, 0.049620404839515686, 0.9427877068519592, 0.872903048992157, 0.8533167839050293, 0.9542016386985779, 0.9454154968261719, 0.9452134370803833, 0.19595402479171753, 0.42707929015159607, 0.09044031798839569, 0.13566048443317413, 0.08039139211177826, 0.07034247368574142, 0.9761000275611877, 0.9402555227279663, 0.8576449155807495, 0.07796771824359894, 0.8779928684234619, 0.10328391939401627, 0.309851735830307, 0.22722461819648743, 0.0877913311123848, 0.27370238304138184, 0.6873847246170044, 0.10108598321676254, 0.1819547712802887, 0.5687191486358643, 0.15346390008926392, 0.14443661272525787, 0.1263820379972458, 0.8272897601127625, 0.9977841377258301, 0.9898826479911804, 0.8627691864967346, 0.13402239978313446, 0.00979148130863905, 0.2447870373725891, 0.6070718169212341, 0.13708074390888214, 0.8827122449874878, 0.4253472089767456, 0.5562232732772827, 0.9093113541603088, 0.12947958707809448, 0.20285135507583618, 0.6430819630622864, 0.025895917788147926, 0.4387305676937103, 0.44465935230255127, 0.11264703422784805, 0.18221959471702576, 0.8017662167549133, 0.8957247734069824, 0.089572474360466, 0.8273546695709229, 0.9495143294334412, 0.9969992637634277, 0.12514275312423706, 0.004036863334476948, 0.8356307148933411, 0.03229490667581558, 0.9548969864845276, 0.8054452538490295, 0.16108904778957367, 0.9956334829330444, 0.004525606986135244, 0.4808811545372009, 0.012022028677165508, 0.5049252510070801, 0.9545117020606995, 0.9597461819648743, 0.9762596487998962, 0.2257433831691742, 0.7336660027503967, 0.9888078570365906, 0.9773274660110474, 0.7183573246002197, 0.14965778589248657, 0.11972622573375702, 0.3630761504173279, 0.6271315217018127, 0.9407060742378235, 0.5110672116279602, 0.3395446836948395, 0.11201473325490952, 0.0035004604142159224, 0.03150414302945137, 0.9990947842597961, 0.9816672801971436, 0.03540786728262901, 0.9560124278068542, 0.12326470017433167, 0.07395882159471512, 0.6533029079437256, 0.14791764318943024, 0.8580820560455322, 0.8618435263633728, 0.07834941148757935, 0.9030234813690186, 0.5284676551818848, 0.08935443311929703, 0.10211935639381409, 0.2450864464044571, 0.03318879008293152, 0.06010522320866585, 0.28049102425575256, 0.5910347104072571, 0.06010522320866585, 0.9974044561386108, 0.9403305053710938, 0.11200851947069168, 0.24890783429145813, 0.5227064490318298, 0.11200851947069168, 0.9924430847167969, 0.7135136127471924, 0.15021339058876038, 0.12517783045768738, 0.9352180361747742, 0.8485649824142456, 0.8454954624176025, 0.14494207501411438, 0.26099950075149536, 0.09615771472454071, 0.12363134324550629, 0.1098945289850235, 0.4121044874191284, 0.03601826727390289, 0.5906995534896851, 0.1008511483669281, 0.12246210873126984, 0.10805480182170868, 0.04322192072868347, 0.9601882100105286, 0.1845824122428894, 0.354198694229126, 0.17959369719028473, 0.19954855740070343, 0.07981941848993301, 0.38809284567832947, 0.6083617210388184, 0.11897706240415573, 0.8328394293785095, 0.9602563381195068, 0.9955565333366394, 0.002860794775187969, 0.98627769947052, 0.6569278836250305, 0.13495799899101257, 0.11511123180389404, 0.09327979385852814, 0.8978698253631592, 0.12598900496959686, 0.15398655831813812, 0.6579425930976868, 0.06999389082193375, 0.8729597330093384, 0.6707682013511658, 0.0596238374710083, 0.2633386254310608, 0.9357855319976807, 0.7516119480133057, 0.2192201465368271, 0.9008156657218933, 0.09008156508207321, 0.9325603246688843, 0.9918649196624756, 0.2724275588989258, 0.7248519062995911, 0.9878368377685547, 0.4843885600566864, 0.5020026564598083, 0.9550318717956543, 0.07837178558111191, 0.9404613971710205, 0.848628580570221, 0.9829171895980835, 0.9926096200942993, 0.9455543160438538, 0.036367472261190414, 0.14767082035541534, 0.2805745601654053, 0.5759161710739136, 0.12202078104019165, 0.1689518541097641, 0.12202078104019165, 0.44115206599235535, 0.14079320430755615, 0.9759894013404846, 0.853368878364563, 0.8976989984512329, 0.8167833685874939, 0.1744585782289505, 0.19040150940418243, 0.2538686692714691, 0.539470911026001, 0.08239796757698059, 0.8239796757698059, 0.9778636693954468, 0.9162546396255493, 0.4158719480037689, 0.19334398210048676, 0.04742399603128433, 0.05107199400663376, 0.2881919741630554, 0.8138279318809509, 0.10615146905183792, 0.07076764106750488, 0.13392330706119537, 0.03114495612680912, 0.003114495426416397, 0.8315703272819519, 0.13709065318107605, 0.8225438594818115, 0.9760669469833374, 0.9987000226974487, 0.965193510055542, 0.8395034670829773, 0.10121673345565796, 0.05358532816171646, 0.9599466323852539, 0.19111678004264832, 0.7917695641517639, 0.9720938801765442, 0.8928070664405823, 0.909476637840271, 0.9696789383888245, 0.9626807570457458, 0.7338902950286865, 0.2557496726512909, 0.8581311106681824, 0.19201627373695374, 0.4160352349281311, 0.07200609892606735, 0.1520128846168518, 0.17601491510868073, 0.13662594556808472, 0.8197556734085083, 0.14952823519706726, 0.16198891401290894, 0.6853377223014832, 0.8630974292755127, 0.13665708899497986, 0.1618935763835907, 0.8499413132667542, 0.18202915787696838, 0.7141143679618835, 0.09801570326089859, 0.9350512027740479, 0.02168329432606697, 0.5095574259757996, 0.1517830640077591, 0.3144077658653259, 0.21038639545440674, 0.4135180711746216, 0.21764110028743744, 0.021764108911156654, 0.08705643564462662, 0.04352821782231331, 0.6267585158348083, 0.22604405879974365, 0.11302202939987183, 0.030824190005660057, 0.6807116866111755, 0.1418149322271347, 0.17017792165279388, 0.5342234969139099, 0.15553341805934906, 0.17582038044929504, 0.13524645566940308, 0.9163098335266113, 0.9940128326416016, 0.8440484404563904, 0.1266072690486908, 0.14121600985527039, 0.49104657769203186, 0.11233091354370117, 0.19577674567699432, 0.05777018517255783, 0.2887916564941406, 0.18512284755706787, 0.1258835345506668, 0.39986535906791687, 0.9494251608848572, 0.6434059143066406, 0.06176697090268135, 0.2933931052684784, 0.9145188927650452, 0.3295702338218689, 0.47819995880126953, 0.1518608033657074, 0.032310809940099716, 0.006462161894887686, 0.0016155404737219214, 0.9510766863822937, 0.2875949740409851, 0.18424052000045776, 0.044936712831258774, 0.3055696487426758, 0.11683545261621475, 0.058417726308107376, 0.40597549080848694, 0.15761402249336243, 0.17671874165534973, 0.25791385769844055, 0.09424103051424026, 0.7539282441139221, 0.14809304475784302, 0.9421171545982361, 0.960103452205658, 0.5888965129852295, 0.20243316888809204, 0.20243316888809204, 0.8273821473121643, 0.16993370652198792, 0.11971903592348099, 0.11971903592348099, 0.049882929772138596, 0.31925076246261597, 0.07981269061565399, 0.30927416682243347, 0.20350170135498047, 0.7733064889907837, 0.987501859664917, 0.8778116106987, 0.8300478458404541, 0.17474691569805145, 0.14022280275821686, 0.09815596044063568, 0.6310026049613953, 0.04907798022031784, 0.08413367718458176, 0.9597899913787842, 0.60181725025177, 0.1504543125629425, 0.041792865842580795, 0.20060576498508453, 0.9924079179763794, 0.9402634501457214, 0.8728556632995605, 0.9552615880966187, 0.8379243016242981, 0.13230383396148682, 0.09596870094537735, 0.13195696473121643, 0.047984350472688675, 0.49183958768844604, 0.047984350472688675, 0.1919374018907547, 0.2784585952758789, 0.4387832581996918, 0.07763088494539261, 0.18057619035243988, 0.02700204774737358, 0.9599941968917847, 0.3382747769355774, 0.18175958096981049, 0.14641743898391724, 0.30293262004852295, 0.030293263494968414, 0.8500386476516724, 0.13909722864627838, 0.26257753372192383, 0.06966342777013779, 0.34831714630126953, 0.2518600821495056, 0.06430470198392868, 0.9237309098243713, 0.06842450797557831, 0.8894014954566956, 0.9599249958992004, 0.7515745162963867, 0.24448810517787933, 0.17530494928359985, 0.1168699637055397, 0.12660913169384003, 0.4577406942844391, 0.12660913169384003, 0.844862699508667, 0.12424451857805252, 0.9402918219566345, 0.1047467589378357, 0.14402678608894348, 0.26186689734458923, 0.22258685529232025, 0.26186689734458923, 0.8961495161056519, 0.06893457472324371, 0.973558247089386, 0.1617872714996338, 0.808936357498169, 0.45073094964027405, 0.13834317028522491, 0.2097460925579071, 0.20082072913646698, 0.8731344938278198, 0.9283748269081116, 0.8008171319961548, 0.18569672107696533], \"Topic\": [1, 4, 6, 3, 6, 3, 6, 1, 2, 3, 6, 1, 3, 4, 5, 6, 1, 2, 3, 4, 5, 6, 2, 3, 3, 4, 6, 2, 1, 2, 4, 5, 1, 3, 4, 2, 3, 5, 6, 2, 1, 3, 1, 2, 3, 4, 4, 5, 2, 5, 1, 6, 6, 1, 2, 5, 1, 1, 2, 4, 6, 1, 4, 1, 3, 5, 1, 5, 4, 2, 3, 5, 3, 5, 2, 5, 2, 1, 6, 1, 6, 3, 1, 2, 3, 5, 6, 1, 5, 6, 5, 6, 5, 1, 2, 3, 4, 5, 3, 5, 6, 1, 1, 2, 6, 6, 5, 1, 2, 6, 2, 6, 3, 2, 4, 6, 5, 4, 1, 4, 5, 2, 2, 4, 5, 6, 5, 2, 2, 6, 2, 5, 2, 5, 2, 3, 6, 1, 3, 2, 1, 1, 2, 3, 5, 4, 5, 1, 2, 3, 4, 5, 4, 5, 6, 6, 6, 1, 4, 4, 2, 6, 1, 2, 3, 5, 6, 6, 1, 2, 3, 3, 3, 3, 6, 3, 5, 6, 3, 4, 4, 4, 4, 4, 2, 2, 6, 6, 5, 3, 5, 1, 2, 3, 4, 6, 1, 2, 3, 4, 5, 6, 1, 2, 4, 5, 6, 1, 2, 3, 4, 6, 6, 2, 2, 5, 6, 5, 1, 2, 5, 1, 3, 5, 6, 6, 1, 6, 2, 3, 4, 5, 6, 6, 5, 1, 4, 3, 6, 1, 3, 4, 1, 4, 5, 6, 5, 3, 4, 1, 4, 5, 1, 2, 3, 4, 6, 1, 3, 1, 6, 1, 3, 5, 2, 6, 1, 1, 1, 2, 3, 4, 5, 6, 5, 4, 3, 5, 4, 1, 2, 3, 4, 5, 3, 4, 5, 2, 4, 5, 6, 1, 2, 6, 2, 4, 1, 2, 4, 5, 1, 2, 6, 3, 1, 3, 5, 6, 1, 3, 5, 1, 5, 2, 4, 1, 6, 5, 3, 4, 5, 6, 3, 3, 6, 5, 6, 2, 4, 5, 5, 2, 3, 3, 6, 1, 6, 1, 5, 6, 2, 4, 4, 1, 2, 3, 4, 6, 6, 2, 1, 4, 1, 3, 4, 5, 1, 4, 5, 6, 1, 3, 4, 5, 6, 1, 4, 5, 6, 1, 2, 2, 3, 4, 5, 1, 1, 2, 5, 5, 5, 5, 6, 1, 2, 3, 4, 6, 1, 2, 3, 4, 5, 6, 4, 1, 3, 4, 5, 6, 3, 5, 4, 6, 4, 1, 3, 2, 2, 4, 5, 6, 4, 1, 2, 3, 6, 5, 1, 3, 6, 3, 4, 5, 1, 4, 2, 3, 1, 4, 1, 1, 4, 3, 3, 4, 5, 4, 1, 3, 5, 1, 3, 5, 2, 3, 4, 5, 6, 5, 4, 2, 3, 6, 3, 4, 6, 1, 6, 4, 6, 1, 2, 3, 4, 5, 2, 4, 5, 1, 2, 4, 6, 3, 4, 5, 3, 3, 2, 4, 6, 5, 2, 5, 4, 3, 3, 5, 5, 1, 3, 1, 2, 3, 4, 5, 6, 1, 3, 2, 3, 4, 4, 6, 1, 5, 2, 3, 5, 5, 2, 3, 4, 6, 1, 2, 3, 4, 5, 6, 1, 3, 4, 6, 2, 4, 6, 2, 3, 4, 5, 6, 3, 2, 4, 1, 2, 3, 5, 6, 1, 2, 3, 5, 6, 1, 3, 4, 4, 1, 2, 3, 4, 5, 6, 4, 1, 2, 3, 4, 5, 6, 1, 2, 4, 5, 1, 4, 5, 5, 4, 3, 5, 6, 1, 4, 1, 2, 3, 4, 5, 6, 1, 4, 2, 2, 3, 4, 1, 2, 3, 4, 5, 2, 2, 3, 4, 5, 6, 2, 5, 3, 1, 3, 1, 2, 3, 4, 5, 6, 1, 2, 3, 4, 5, 4, 1, 3, 4, 5, 6, 2, 4, 2, 3, 4, 5, 6, 1, 5, 6, 4, 2, 5, 1, 2, 3, 5, 6, 4, 6, 2, 1, 2, 3, 5, 6, 1, 5, 6, 4, 5, 1, 2, 3, 5, 3, 2, 3, 5]}};\n",
       "\n",
       "function LDAvis_load_lib(url, callback){\n",
       "  var s = document.createElement('script');\n",
       "  s.src = url;\n",
       "  s.async = true;\n",
       "  s.onreadystatechange = s.onload = callback;\n",
       "  s.onerror = function(){console.warn(\"failed to load library \" + url);};\n",
       "  document.getElementsByTagName(\"head\")[0].appendChild(s);\n",
       "}\n",
       "\n",
       "if(typeof(LDAvis) !== \"undefined\"){\n",
       "   // already loaded: just create the visualization\n",
       "   !function(LDAvis){\n",
       "       new LDAvis(\"#\" + \"ldavis_el680431320878768482803513200\", ldavis_el680431320878768482803513200_data);\n",
       "   }(LDAvis);\n",
       "}else if(typeof define === \"function\" && define.amd){\n",
       "   // require.js is available: use it to load d3/LDAvis\n",
       "   require.config({paths: {d3: \"https://cdnjs.cloudflare.com/ajax/libs/d3/3.5.5/d3.min\"}});\n",
       "   require([\"d3\"], function(d3){\n",
       "      window.d3 = d3;\n",
       "      LDAvis_load_lib(\"https://cdn.rawgit.com/bmabey/pyLDAvis/files/ldavis.v1.0.0.js\", function(){\n",
       "        new LDAvis(\"#\" + \"ldavis_el680431320878768482803513200\", ldavis_el680431320878768482803513200_data);\n",
       "      });\n",
       "    });\n",
       "}else{\n",
       "    // require.js not available: dynamically load d3 & LDAvis\n",
       "    LDAvis_load_lib(\"https://cdnjs.cloudflare.com/ajax/libs/d3/3.5.5/d3.min.js\", function(){\n",
       "         LDAvis_load_lib(\"https://cdn.rawgit.com/bmabey/pyLDAvis/files/ldavis.v1.0.0.js\", function(){\n",
       "                 new LDAvis(\"#\" + \"ldavis_el680431320878768482803513200\", ldavis_el680431320878768482803513200_data);\n",
       "            })\n",
       "         });\n",
       "}\n",
       "</script>"
      ],
      "text/plain": [
       "<IPython.core.display.HTML object>"
      ]
     },
     "execution_count": 254,
     "metadata": {},
     "output_type": "execute_result"
    }
   ],
   "source": [
    "import pyLDAvis\n",
    "import pyLDAvis.gensim\n",
    "\n",
    "pyLDAvis.enable_notebook()\n",
    "vis = pyLDAvis.gensim.prepare(lda_model, bow_corpus, dictionary)\n",
    "pyLDAvis.display(vis)"
   ]
  },
  {
   "cell_type": "markdown",
   "metadata": {},
   "source": [
    "Il faut faire attention, les numéros des bulles (ci-dessous) ne correspondent pas avec ceux que nous avons attribué précédemment juste au dessus."
   ]
  },
  {
   "attachments": {
    "image.png": {
     "image/png": "[encoded data removed]"
    }
   },
   "cell_type": "markdown",
   "metadata": {},
   "source": [
    "![image.png](attachment:image.png)"
   ]
  },
  {
   "cell_type": "markdown",
   "metadata": {},
   "source": [
    "On pourrait également utiliser term frequency document inverse frequency pour faire du topic modeling. Cependant on s'apperçoit que la plupart des mots qui composent les thèmes sont ceux qui reviennent le plus fréquemment dans tous les tweets. Par exemple, delay, cancel, luggage apparaissent très souvent. On va donc apporter moins d'importance aux termes qui reviennent peu souvent.  \n",
    "Une modélisation bow est donc suffisante."
   ]
  },
  {
   "cell_type": "markdown",
   "metadata": {},
   "source": [
    "Nous pouvons également trouver le topic dominant dans chaque tweet et son pourcentage associé"
   ]
  },
  {
   "cell_type": "code",
   "execution_count": 257,
   "metadata": {},
   "outputs": [
    {
     "data": {
      "text/html": [
       "<div>\n",
       "<style scoped>\n",
       "    .dataframe tbody tr th:only-of-type {\n",
       "        vertical-align: middle;\n",
       "    }\n",
       "\n",
       "    .dataframe tbody tr th {\n",
       "        vertical-align: top;\n",
       "    }\n",
       "\n",
       "    .dataframe thead th {\n",
       "        text-align: right;\n",
       "    }\n",
       "</style>\n",
       "<table border=\"1\" class=\"dataframe\">\n",
       "  <thead>\n",
       "    <tr style=\"text-align: right;\">\n",
       "      <th></th>\n",
       "      <th>Document_No</th>\n",
       "      <th>Dominant_Topic</th>\n",
       "      <th>Topic_Perc_Contrib</th>\n",
       "      <th>Keywords</th>\n",
       "      <th>Text</th>\n",
       "    </tr>\n",
       "  </thead>\n",
       "  <tbody>\n",
       "    <tr>\n",
       "      <th>0</th>\n",
       "      <td>0</td>\n",
       "      <td>3.0</td>\n",
       "      <td>0.6056</td>\n",
       "      <td>help, hold, phone, hour, tri, book, chang, need, time, call</td>\n",
       "      <td>@USAirways any guesstimate on hold times? Can't change my flight online, at 45 mins and counting...</td>\n",
       "    </tr>\n",
       "    <tr>\n",
       "      <th>1</th>\n",
       "      <td>1</td>\n",
       "      <td>4.0</td>\n",
       "      <td>0.5938</td>\n",
       "      <td>servic, custom, bad, agent, experi, airlin, rude, care, time, unit</td>\n",
       "      <td>@USAirways unfortunately patience won't get me to my boat that leaves at 4 pm. I was on hold watching all flights fill up.</td>\n",
       "    </tr>\n",
       "    <tr>\n",
       "      <th>2</th>\n",
       "      <td>2</td>\n",
       "      <td>0.0</td>\n",
       "      <td>0.4755</td>\n",
       "      <td>delay, hour, late, plane, time, wait, gate, board, thank, sit</td>\n",
       "      <td>@SouthwestAir okay I understand a delay one way. But both ways? C'mon #annoyed #flights</td>\n",
       "    </tr>\n",
       "    <tr>\n",
       "      <th>3</th>\n",
       "      <td>3</td>\n",
       "      <td>3.0</td>\n",
       "      <td>0.6725</td>\n",
       "      <td>help, hold, phone, hour, tri, book, chang, need, time, call</td>\n",
       "      <td>@USAirways your checkin at @PHLAirport is a #shitshow, and the agent behind the counter who tried to send me to the wrong destination=rude!</td>\n",
       "    </tr>\n",
       "    <tr>\n",
       "      <th>4</th>\n",
       "      <td>4</td>\n",
       "      <td>0.0</td>\n",
       "      <td>0.4671</td>\n",
       "      <td>delay, hour, late, plane, time, wait, gate, board, thank, sit</td>\n",
       "      <td>@SouthwestAir Why doesn't mean TSA PreCheck show up on my mobile boarding pass? My KTN is linked to my account.</td>\n",
       "    </tr>\n",
       "    <tr>\n",
       "      <th>5</th>\n",
       "      <td>5</td>\n",
       "      <td>2.0</td>\n",
       "      <td>0.8605</td>\n",
       "      <td>cancel, flightl, hour, rebook, hold, stuck, tomorrow, wait, home, help</td>\n",
       "      <td>@united flight was Cancelled Flighted after the last opportunity to rebook us on other flights this evening passed.</td>\n",
       "    </tr>\n",
       "    <tr>\n",
       "      <th>6</th>\n",
       "      <td>6</td>\n",
       "      <td>3.0</td>\n",
       "      <td>0.8324</td>\n",
       "      <td>help, hold, phone, hour, tri, book, chang, need, time, call</td>\n",
       "      <td>@JetBlue WHAT'S UP WITH WEBSITE CAN'T ACCESS FLIGHT INFO</td>\n",
       "    </tr>\n",
       "    <tr>\n",
       "      <th>7</th>\n",
       "      <td>7</td>\n",
       "      <td>5.0</td>\n",
       "      <td>0.9163</td>\n",
       "      <td>luggag, bag, lose, baggag, like, look, dont, need, day, claim</td>\n",
       "      <td>NaN</td>\n",
       "    </tr>\n",
       "    <tr>\n",
       "      <th>8</th>\n",
       "      <td>8</td>\n",
       "      <td>0.0</td>\n",
       "      <td>0.9159</td>\n",
       "      <td>delay, hour, late, plane, time, wait, gate, board, thank, sit</td>\n",
       "      <td>@AmericanAir umm unexpected?? Unexpected meaning you guys didn't know you had a major staff shortage ??</td>\n",
       "    </tr>\n",
       "    <tr>\n",
       "      <th>9</th>\n",
       "      <td>9</td>\n",
       "      <td>4.0</td>\n",
       "      <td>0.4951</td>\n",
       "      <td>servic, custom, bad, agent, experi, airlin, rude, care, time, unit</td>\n",
       "      <td>@AmericanAir the app doesn't allow Canadian address. I used the mobile Canadian site and it will not let you select a passenger.</td>\n",
       "    </tr>\n",
       "  </tbody>\n",
       "</table>\n",
       "</div>"
      ],
      "text/plain": [
       "   Document_No  Dominant_Topic  Topic_Perc_Contrib  \\\n",
       "0  0            3.0             0.6056               \n",
       "1  1            4.0             0.5938               \n",
       "2  2            0.0             0.4755               \n",
       "3  3            3.0             0.6725               \n",
       "4  4            0.0             0.4671               \n",
       "5  5            2.0             0.8605               \n",
       "6  6            3.0             0.8324               \n",
       "7  7            5.0             0.9163               \n",
       "8  8            0.0             0.9159               \n",
       "9  9            4.0             0.4951               \n",
       "\n",
       "                                                                 Keywords  \\\n",
       "0  help, hold, phone, hour, tri, book, chang, need, time, call              \n",
       "1  servic, custom, bad, agent, experi, airlin, rude, care, time, unit       \n",
       "2  delay, hour, late, plane, time, wait, gate, board, thank, sit            \n",
       "3  help, hold, phone, hour, tri, book, chang, need, time, call              \n",
       "4  delay, hour, late, plane, time, wait, gate, board, thank, sit            \n",
       "5  cancel, flightl, hour, rebook, hold, stuck, tomorrow, wait, home, help   \n",
       "6  help, hold, phone, hour, tri, book, chang, need, time, call              \n",
       "7  luggag, bag, lose, baggag, like, look, dont, need, day, claim            \n",
       "8  delay, hour, late, plane, time, wait, gate, board, thank, sit            \n",
       "9  servic, custom, bad, agent, experi, airlin, rude, care, time, unit       \n",
       "\n",
       "                                                                                                                                          Text  \n",
       "0  @USAirways any guesstimate on hold times? Can't change my flight online, at 45 mins and counting...                                          \n",
       "1  @USAirways unfortunately patience won't get me to my boat that leaves at 4 pm. I was on hold watching all flights fill up.                   \n",
       "2  @SouthwestAir okay I understand a delay one way. But both ways? C'mon #annoyed #flights                                                      \n",
       "3  @USAirways your checkin at @PHLAirport is a #shitshow, and the agent behind the counter who tried to send me to the wrong destination=rude!  \n",
       "4  @SouthwestAir Why doesn't mean TSA PreCheck show up on my mobile boarding pass? My KTN is linked to my account.                              \n",
       "5  @united flight was Cancelled Flighted after the last opportunity to rebook us on other flights this evening passed.                          \n",
       "6  @JetBlue WHAT'S UP WITH WEBSITE CAN'T ACCESS FLIGHT INFO                                                                                     \n",
       "7  NaN                                                                                                                                          \n",
       "8  @AmericanAir umm unexpected?? Unexpected meaning you guys didn't know you had a major staff shortage ??                                      \n",
       "9  @AmericanAir the app doesn't allow Canadian address. I used the mobile Canadian site and it will not let you select a passenger.             "
      ]
     },
     "execution_count": 257,
     "metadata": {},
     "output_type": "execute_result"
    }
   ],
   "source": [
    "def format_topics_sentences(texts, ldamodel=lda_model, corpus=bow_corpus):\n",
    "    # Init output\n",
    "    sent_topics_df = pd.DataFrame()\n",
    "\n",
    "    # Get main topic in each document\n",
    "    for i, row in enumerate(ldamodel[corpus]):\n",
    "        row = sorted(row, key=lambda x: (x[1]), reverse=True)\n",
    "        # Get the Dominant topic, Perc Contribution and Keywords for each document\n",
    "        for j, (topic_num, prop_topic) in enumerate(row):\n",
    "            if j == 0:  # => dominant topic\n",
    "                wp = ldamodel.show_topic(topic_num)\n",
    "                topic_keywords = \", \".join([word for word, prop in wp])\n",
    "                sent_topics_df = sent_topics_df.append(pd.Series([int(topic_num), round(prop_topic,4), topic_keywords]), ignore_index=True)\n",
    "            else:\n",
    "                break\n",
    "    sent_topics_df.columns = ['Dominant_Topic', 'Perc_Contribution', 'Topic_Keywords']\n",
    "\n",
    "    # Add original text to the end of the output\n",
    "    contents = pd.Series(texts)\n",
    "    sent_topics_df = pd.concat([sent_topics_df, contents], axis=1)\n",
    "    return(sent_topics_df)\n",
    "\n",
    "\n",
    "df_topic_sents_keywords = format_topics_sentences(ldamodel=lda_model, corpus=bow_corpus, texts=Tweet_airline['text'])\n",
    "\n",
    "# Format\n",
    "df_dominant_topic = df_topic_sents_keywords.reset_index()\n",
    "df_dominant_topic.columns = ['Document_No', 'Dominant_Topic', 'Topic_Perc_Contrib', 'Keywords', 'Text']\n",
    "\n",
    "# Show\n",
    "df_dominant_topic.head(10)"
   ]
  },
  {
   "cell_type": "markdown",
   "metadata": {},
   "source": [
    "On va comparer par rapport aux catégories de notre dataset initial."
   ]
  },
  {
   "cell_type": "code",
   "execution_count": 265,
   "metadata": {},
   "outputs": [],
   "source": [
    "Tweet_airline['Real_Topic'] = Tweet_airline.negativereason\n",
    "Tweet_airline.Real_Topic = Tweet_airline.Real_Topic.replace('Late Flight', 0)\n",
    "Tweet_airline.Real_Topic = Tweet_airline.Real_Topic.replace('Bad Flight', 1)\n",
    "Tweet_airline.Real_Topic = Tweet_airline.Real_Topic.replace('Cancelled Flight', 2)\n",
    "Tweet_airline.Real_Topic = Tweet_airline.Real_Topic.replace('Flight Booking Problems', 3)\n",
    "Tweet_airline.Real_Topic = Tweet_airline.Real_Topic.replace('Customer Service Issue', 4)\n",
    "Tweet_airline.Real_Topic = Tweet_airline.Real_Topic.replace('Lost Luggage', 5)"
   ]
  },
  {
   "cell_type": "code",
   "execution_count": 268,
   "metadata": {},
   "outputs": [
    {
     "data": {
      "text/html": [
       "<div>\n",
       "<style scoped>\n",
       "    .dataframe tbody tr th:only-of-type {\n",
       "        vertical-align: middle;\n",
       "    }\n",
       "\n",
       "    .dataframe tbody tr th {\n",
       "        vertical-align: top;\n",
       "    }\n",
       "\n",
       "    .dataframe thead th {\n",
       "        text-align: right;\n",
       "    }\n",
       "</style>\n",
       "<table border=\"1\" class=\"dataframe\">\n",
       "  <thead>\n",
       "    <tr style=\"text-align: right;\">\n",
       "      <th></th>\n",
       "      <th>text</th>\n",
       "      <th>negativereason</th>\n",
       "      <th>Real_Topic</th>\n",
       "    </tr>\n",
       "  </thead>\n",
       "  <tbody>\n",
       "    <tr>\n",
       "      <th>0</th>\n",
       "      <td>@USAirways any guesstimate on hold times? Can't change my flight online, at 45 mins and counting...</td>\n",
       "      <td>Customer Service Issue</td>\n",
       "      <td>4</td>\n",
       "    </tr>\n",
       "    <tr>\n",
       "      <th>1</th>\n",
       "      <td>@USAirways unfortunately patience won't get me to my boat that leaves at 4 pm. I was on hold watching all flights fill up.</td>\n",
       "      <td>Late Flight</td>\n",
       "      <td>0</td>\n",
       "    </tr>\n",
       "    <tr>\n",
       "      <th>2</th>\n",
       "      <td>@SouthwestAir okay I understand a delay one way. But both ways? C'mon #annoyed #flights</td>\n",
       "      <td>Late Flight</td>\n",
       "      <td>0</td>\n",
       "    </tr>\n",
       "    <tr>\n",
       "      <th>3</th>\n",
       "      <td>@USAirways your checkin at @PHLAirport is a #shitshow, and the agent behind the counter who tried to send me to the wrong destination=rude!</td>\n",
       "      <td>Flight Attendant Complaints</td>\n",
       "      <td>Flight Attendant Complaints</td>\n",
       "    </tr>\n",
       "    <tr>\n",
       "      <th>4</th>\n",
       "      <td>@SouthwestAir Why doesn't mean TSA PreCheck show up on my mobile boarding pass? My KTN is linked to my account.</td>\n",
       "      <td>Flight Booking Problems</td>\n",
       "      <td>3</td>\n",
       "    </tr>\n",
       "  </tbody>\n",
       "</table>\n",
       "</div>"
      ],
      "text/plain": [
       "                                                                                                                                          text  \\\n",
       "0  @USAirways any guesstimate on hold times? Can't change my flight online, at 45 mins and counting...                                           \n",
       "1  @USAirways unfortunately patience won't get me to my boat that leaves at 4 pm. I was on hold watching all flights fill up.                    \n",
       "2  @SouthwestAir okay I understand a delay one way. But both ways? C'mon #annoyed #flights                                                       \n",
       "3  @USAirways your checkin at @PHLAirport is a #shitshow, and the agent behind the counter who tried to send me to the wrong destination=rude!   \n",
       "4  @SouthwestAir Why doesn't mean TSA PreCheck show up on my mobile boarding pass? My KTN is linked to my account.                               \n",
       "\n",
       "                negativereason                   Real_Topic  \n",
       "0  Customer Service Issue       4                            \n",
       "1  Late Flight                  0                            \n",
       "2  Late Flight                  0                            \n",
       "3  Flight Attendant Complaints  Flight Attendant Complaints  \n",
       "4  Flight Booking Problems      3                            "
      ]
     },
     "execution_count": 268,
     "metadata": {},
     "output_type": "execute_result"
    }
   ],
   "source": [
    "Tweet_airline[['text', 'negativereason', 'Real_Topic']].head()"
   ]
  },
  {
   "cell_type": "code",
   "execution_count": 269,
   "metadata": {},
   "outputs": [],
   "source": [
    "df1 = Tweet_airline[['text', 'negativereason', 'Real_Topic']]\n",
    "df2 = df_dominant_topic[['Dominant_Topic', 'Topic_Perc_Contrib', 'Keywords']]\n",
    "Comparison = pd.concat([df1, df2], axis=1, sort=False)"
   ]
  },
  {
   "cell_type": "code",
   "execution_count": 272,
   "metadata": {},
   "outputs": [
    {
     "data": {
      "text/html": [
       "<div>\n",
       "<style scoped>\n",
       "    .dataframe tbody tr th:only-of-type {\n",
       "        vertical-align: middle;\n",
       "    }\n",
       "\n",
       "    .dataframe tbody tr th {\n",
       "        vertical-align: top;\n",
       "    }\n",
       "\n",
       "    .dataframe thead th {\n",
       "        text-align: right;\n",
       "    }\n",
       "</style>\n",
       "<table border=\"1\" class=\"dataframe\">\n",
       "  <thead>\n",
       "    <tr style=\"text-align: right;\">\n",
       "      <th></th>\n",
       "      <th>text</th>\n",
       "      <th>negativereason</th>\n",
       "      <th>Real_Topic</th>\n",
       "      <th>Dominant_Topic</th>\n",
       "      <th>Topic_Perc_Contrib</th>\n",
       "      <th>Keywords</th>\n",
       "    </tr>\n",
       "  </thead>\n",
       "  <tbody>\n",
       "    <tr>\n",
       "      <th>0</th>\n",
       "      <td>@USAirways any guesstimate on hold times? Can't change my flight online, at 45 mins and counting...</td>\n",
       "      <td>Customer Service Issue</td>\n",
       "      <td>4</td>\n",
       "      <td>3.0</td>\n",
       "      <td>0.6056</td>\n",
       "      <td>help, hold, phone, hour, tri, book, chang, need, time, call</td>\n",
       "    </tr>\n",
       "    <tr>\n",
       "      <th>1</th>\n",
       "      <td>@USAirways unfortunately patience won't get me to my boat that leaves at 4 pm. I was on hold watching all flights fill up.</td>\n",
       "      <td>Late Flight</td>\n",
       "      <td>0</td>\n",
       "      <td>4.0</td>\n",
       "      <td>0.5938</td>\n",
       "      <td>servic, custom, bad, agent, experi, airlin, rude, care, time, unit</td>\n",
       "    </tr>\n",
       "    <tr>\n",
       "      <th>2</th>\n",
       "      <td>@SouthwestAir okay I understand a delay one way. But both ways? C'mon #annoyed #flights</td>\n",
       "      <td>Late Flight</td>\n",
       "      <td>0</td>\n",
       "      <td>0.0</td>\n",
       "      <td>0.4755</td>\n",
       "      <td>delay, hour, late, plane, time, wait, gate, board, thank, sit</td>\n",
       "    </tr>\n",
       "    <tr>\n",
       "      <th>3</th>\n",
       "      <td>@USAirways your checkin at @PHLAirport is a #shitshow, and the agent behind the counter who tried to send me to the wrong destination=rude!</td>\n",
       "      <td>Flight Attendant Complaints</td>\n",
       "      <td>Flight Attendant Complaints</td>\n",
       "      <td>3.0</td>\n",
       "      <td>0.6725</td>\n",
       "      <td>help, hold, phone, hour, tri, book, chang, need, time, call</td>\n",
       "    </tr>\n",
       "    <tr>\n",
       "      <th>4</th>\n",
       "      <td>@SouthwestAir Why doesn't mean TSA PreCheck show up on my mobile boarding pass? My KTN is linked to my account.</td>\n",
       "      <td>Flight Booking Problems</td>\n",
       "      <td>3</td>\n",
       "      <td>0.0</td>\n",
       "      <td>0.4671</td>\n",
       "      <td>delay, hour, late, plane, time, wait, gate, board, thank, sit</td>\n",
       "    </tr>\n",
       "    <tr>\n",
       "      <th>5</th>\n",
       "      <td>@united flight was Cancelled Flighted after the last opportunity to rebook us on other flights this evening passed.</td>\n",
       "      <td>Cancelled Flight</td>\n",
       "      <td>2</td>\n",
       "      <td>2.0</td>\n",
       "      <td>0.8605</td>\n",
       "      <td>cancel, flightl, hour, rebook, hold, stuck, tomorrow, wait, home, help</td>\n",
       "    </tr>\n",
       "    <tr>\n",
       "      <th>6</th>\n",
       "      <td>@JetBlue WHAT'S UP WITH WEBSITE CAN'T ACCESS FLIGHT INFO</td>\n",
       "      <td>Flight Booking Problems</td>\n",
       "      <td>3</td>\n",
       "      <td>3.0</td>\n",
       "      <td>0.8324</td>\n",
       "      <td>help, hold, phone, hour, tri, book, chang, need, time, call</td>\n",
       "    </tr>\n",
       "    <tr>\n",
       "      <th>7</th>\n",
       "      <td>NaN</td>\n",
       "      <td>NaN</td>\n",
       "      <td>NaN</td>\n",
       "      <td>5.0</td>\n",
       "      <td>0.9163</td>\n",
       "      <td>luggag, bag, lose, baggag, like, look, dont, need, day, claim</td>\n",
       "    </tr>\n",
       "    <tr>\n",
       "      <th>8</th>\n",
       "      <td>@AmericanAir umm unexpected?? Unexpected meaning you guys didn't know you had a major staff shortage ??</td>\n",
       "      <td>Customer Service Issue</td>\n",
       "      <td>4</td>\n",
       "      <td>0.0</td>\n",
       "      <td>0.9159</td>\n",
       "      <td>delay, hour, late, plane, time, wait, gate, board, thank, sit</td>\n",
       "    </tr>\n",
       "    <tr>\n",
       "      <th>9</th>\n",
       "      <td>@AmericanAir the app doesn't allow Canadian address. I used the mobile Canadian site and it will not let you select a passenger.</td>\n",
       "      <td>Flight Booking Problems</td>\n",
       "      <td>3</td>\n",
       "      <td>4.0</td>\n",
       "      <td>0.4951</td>\n",
       "      <td>servic, custom, bad, agent, experi, airlin, rude, care, time, unit</td>\n",
       "    </tr>\n",
       "    <tr>\n",
       "      <th>10</th>\n",
       "      <td>@AmericanAir probs the worst customer service ever. Replied to complaint I submitted 6 weeks ago bout damaged bag... Not even replacing it!</td>\n",
       "      <td>Customer Service Issue</td>\n",
       "      <td>4</td>\n",
       "      <td>2.0</td>\n",
       "      <td>0.5872</td>\n",
       "      <td>cancel, flightl, hour, rebook, hold, stuck, tomorrow, wait, home, help</td>\n",
       "    </tr>\n",
       "    <tr>\n",
       "      <th>11</th>\n",
       "      <td>@united really 1st flt frm IAD 2 IAH is - Late Flight &amp;amp; -going via Nashville? #inconvenience. Downgraded but not on ticket</td>\n",
       "      <td>Late Flight</td>\n",
       "      <td>0</td>\n",
       "      <td>2.0</td>\n",
       "      <td>0.5009</td>\n",
       "      <td>cancel, flightl, hour, rebook, hold, stuck, tomorrow, wait, home, help</td>\n",
       "    </tr>\n",
       "    <tr>\n",
       "      <th>12</th>\n",
       "      <td>@AmericanAir Any info for Cancelled Flightled flight 1046 tomorrow morning out of DFW? Can't get calls through to speak with anyone.</td>\n",
       "      <td>Cancelled Flight</td>\n",
       "      <td>2</td>\n",
       "      <td>4.0</td>\n",
       "      <td>0.9155</td>\n",
       "      <td>servic, custom, bad, agent, experi, airlin, rude, care, time, unit</td>\n",
       "    </tr>\n",
       "    <tr>\n",
       "      <th>13</th>\n",
       "      <td>@united so you are saying that customer care does not report to anyone? Their response is humiliating for a company that serves the public.</td>\n",
       "      <td>Customer Service Issue</td>\n",
       "      <td>4</td>\n",
       "      <td>0.0</td>\n",
       "      <td>0.3900</td>\n",
       "      <td>delay, hour, late, plane, time, wait, gate, board, thank, sit</td>\n",
       "    </tr>\n",
       "    <tr>\n",
       "      <th>14</th>\n",
       "      <td>@USAirways little help to us! My husband has been on hold for an hour for something that take 5 minutes to complete.</td>\n",
       "      <td>Customer Service Issue</td>\n",
       "      <td>4</td>\n",
       "      <td>2.0</td>\n",
       "      <td>0.5706</td>\n",
       "      <td>cancel, flightl, hour, rebook, hold, stuck, tomorrow, wait, home, help</td>\n",
       "    </tr>\n",
       "  </tbody>\n",
       "</table>\n",
       "</div>"
      ],
      "text/plain": [
       "                                                                                                                                           text  \\\n",
       "0   @USAirways any guesstimate on hold times? Can't change my flight online, at 45 mins and counting...                                           \n",
       "1   @USAirways unfortunately patience won't get me to my boat that leaves at 4 pm. I was on hold watching all flights fill up.                    \n",
       "2   @SouthwestAir okay I understand a delay one way. But both ways? C'mon #annoyed #flights                                                       \n",
       "3   @USAirways your checkin at @PHLAirport is a #shitshow, and the agent behind the counter who tried to send me to the wrong destination=rude!   \n",
       "4   @SouthwestAir Why doesn't mean TSA PreCheck show up on my mobile boarding pass? My KTN is linked to my account.                               \n",
       "5   @united flight was Cancelled Flighted after the last opportunity to rebook us on other flights this evening passed.                           \n",
       "6   @JetBlue WHAT'S UP WITH WEBSITE CAN'T ACCESS FLIGHT INFO                                                                                      \n",
       "7   NaN                                                                                                                                           \n",
       "8   @AmericanAir umm unexpected?? Unexpected meaning you guys didn't know you had a major staff shortage ??                                       \n",
       "9   @AmericanAir the app doesn't allow Canadian address. I used the mobile Canadian site and it will not let you select a passenger.              \n",
       "10  @AmericanAir probs the worst customer service ever. Replied to complaint I submitted 6 weeks ago bout damaged bag... Not even replacing it!   \n",
       "11  @united really 1st flt frm IAD 2 IAH is - Late Flight &amp; -going via Nashville? #inconvenience. Downgraded but not on ticket                \n",
       "12  @AmericanAir Any info for Cancelled Flightled flight 1046 tomorrow morning out of DFW? Can't get calls through to speak with anyone.          \n",
       "13  @united so you are saying that customer care does not report to anyone? Their response is humiliating for a company that serves the public.   \n",
       "14  @USAirways little help to us! My husband has been on hold for an hour for something that take 5 minutes to complete.                          \n",
       "\n",
       "                 negativereason                   Real_Topic  Dominant_Topic  \\\n",
       "0   Customer Service Issue       4                            3.0              \n",
       "1   Late Flight                  0                            4.0              \n",
       "2   Late Flight                  0                            0.0              \n",
       "3   Flight Attendant Complaints  Flight Attendant Complaints  3.0              \n",
       "4   Flight Booking Problems      3                            0.0              \n",
       "5   Cancelled Flight             2                            2.0              \n",
       "6   Flight Booking Problems      3                            3.0              \n",
       "7   NaN                          NaN                          5.0              \n",
       "8   Customer Service Issue       4                            0.0              \n",
       "9   Flight Booking Problems      3                            4.0              \n",
       "10  Customer Service Issue       4                            2.0              \n",
       "11  Late Flight                  0                            2.0              \n",
       "12  Cancelled Flight             2                            4.0              \n",
       "13  Customer Service Issue       4                            0.0              \n",
       "14  Customer Service Issue       4                            2.0              \n",
       "\n",
       "    Topic_Perc_Contrib  \\\n",
       "0   0.6056               \n",
       "1   0.5938               \n",
       "2   0.4755               \n",
       "3   0.6725               \n",
       "4   0.4671               \n",
       "5   0.8605               \n",
       "6   0.8324               \n",
       "7   0.9163               \n",
       "8   0.9159               \n",
       "9   0.4951               \n",
       "10  0.5872               \n",
       "11  0.5009               \n",
       "12  0.9155               \n",
       "13  0.3900               \n",
       "14  0.5706               \n",
       "\n",
       "                                                                  Keywords  \n",
       "0   help, hold, phone, hour, tri, book, chang, need, time, call             \n",
       "1   servic, custom, bad, agent, experi, airlin, rude, care, time, unit      \n",
       "2   delay, hour, late, plane, time, wait, gate, board, thank, sit           \n",
       "3   help, hold, phone, hour, tri, book, chang, need, time, call             \n",
       "4   delay, hour, late, plane, time, wait, gate, board, thank, sit           \n",
       "5   cancel, flightl, hour, rebook, hold, stuck, tomorrow, wait, home, help  \n",
       "6   help, hold, phone, hour, tri, book, chang, need, time, call             \n",
       "7   luggag, bag, lose, baggag, like, look, dont, need, day, claim           \n",
       "8   delay, hour, late, plane, time, wait, gate, board, thank, sit           \n",
       "9   servic, custom, bad, agent, experi, airlin, rude, care, time, unit      \n",
       "10  cancel, flightl, hour, rebook, hold, stuck, tomorrow, wait, home, help  \n",
       "11  cancel, flightl, hour, rebook, hold, stuck, tomorrow, wait, home, help  \n",
       "12  servic, custom, bad, agent, experi, airlin, rude, care, time, unit      \n",
       "13  delay, hour, late, plane, time, wait, gate, board, thank, sit           \n",
       "14  cancel, flightl, hour, rebook, hold, stuck, tomorrow, wait, home, help  "
      ]
     },
     "execution_count": 272,
     "metadata": {},
     "output_type": "execute_result"
    }
   ],
   "source": [
    "Comparison.head(15)"
   ]
  },
  {
   "cell_type": "markdown",
   "metadata": {},
   "source": [
    "On peut voir que la comparaison n'est pas terrible, cependant cela peut être du aux similarités entre les topics et la mauvaise attribution des noms aux topics."
   ]
  },
  {
   "cell_type": "markdown",
   "metadata": {},
   "source": [
    "On peut également sortir les tweets les plus représentatifs de chacun des topics."
   ]
  },
  {
   "cell_type": "code",
   "execution_count": 277,
   "metadata": {},
   "outputs": [
    {
     "data": {
      "text/html": [
       "<div>\n",
       "<style scoped>\n",
       "    .dataframe tbody tr th:only-of-type {\n",
       "        vertical-align: middle;\n",
       "    }\n",
       "\n",
       "    .dataframe tbody tr th {\n",
       "        vertical-align: top;\n",
       "    }\n",
       "\n",
       "    .dataframe thead th {\n",
       "        text-align: right;\n",
       "    }\n",
       "</style>\n",
       "<table border=\"1\" class=\"dataframe\">\n",
       "  <thead>\n",
       "    <tr style=\"text-align: right;\">\n",
       "      <th></th>\n",
       "      <th>Topic_Num</th>\n",
       "      <th>Topic_Perc_Contrib</th>\n",
       "      <th>Keywords</th>\n",
       "      <th>Text</th>\n",
       "    </tr>\n",
       "  </thead>\n",
       "  <tbody>\n",
       "    <tr>\n",
       "      <th>0</th>\n",
       "      <td>0.0</td>\n",
       "      <td>0.9442</td>\n",
       "      <td>delay, hour, late, plane, time, wait, gate, board, thank, sit</td>\n",
       "      <td>@AmericanAir Cool, a canned response. Nah, I think I'll keep tweeting at everyone who mentions AA on Twitter. You could DM me, though.</td>\n",
       "    </tr>\n",
       "    <tr>\n",
       "      <th>1</th>\n",
       "      <td>1.0</td>\n",
       "      <td>0.9401</td>\n",
       "      <td>miss, seat, connect, delay, go, upgrad, class, problem, plane, happi</td>\n",
       "      <td>@USAirways Still on hold. 1 hour and 45 minutes and counting. Platinum? Who cares? Problems checking in? Who cares?</td>\n",
       "    </tr>\n",
       "    <tr>\n",
       "      <th>2</th>\n",
       "      <td>2.0</td>\n",
       "      <td>0.9400</td>\n",
       "      <td>cancel, flightl, hour, rebook, hold, stuck, tomorrow, wait, home, help</td>\n",
       "      <td>@united THAT'S the tweet u choose to answer, to tell me you're not liable?! #youretheworst #neveragain</td>\n",
       "    </tr>\n",
       "    <tr>\n",
       "      <th>3</th>\n",
       "      <td>3.0</td>\n",
       "      <td>0.9403</td>\n",
       "      <td>help, hold, phone, hour, tri, book, chang, need, time, call</td>\n",
       "      <td>@JetBlue managers telling us to write a letter because we're upset about our tickets to leave tomorrow getting Cancelled Flightled without any notice</td>\n",
       "    </tr>\n",
       "    <tr>\n",
       "      <th>4</th>\n",
       "      <td>4.0</td>\n",
       "      <td>0.9401</td>\n",
       "      <td>servic, custom, bad, agent, experi, airlin, rude, care, time, unit</td>\n",
       "      <td>@USAirways  is there a better time to call? My flight is on Friday and I need to change it. Worried I may be on hold until then.</td>\n",
       "    </tr>\n",
       "    <tr>\n",
       "      <th>5</th>\n",
       "      <td>5.0</td>\n",
       "      <td>0.9397</td>\n",
       "      <td>luggag, bag, lose, baggag, like, look, dont, need, day, claim</td>\n",
       "      <td>NaN</td>\n",
       "    </tr>\n",
       "  </tbody>\n",
       "</table>\n",
       "</div>"
      ],
      "text/plain": [
       "   Topic_Num  Topic_Perc_Contrib  \\\n",
       "0  0.0        0.9442               \n",
       "1  1.0        0.9401               \n",
       "2  2.0        0.9400               \n",
       "3  3.0        0.9403               \n",
       "4  4.0        0.9401               \n",
       "5  5.0        0.9397               \n",
       "\n",
       "                                                                 Keywords  \\\n",
       "0  delay, hour, late, plane, time, wait, gate, board, thank, sit            \n",
       "1  miss, seat, connect, delay, go, upgrad, class, problem, plane, happi     \n",
       "2  cancel, flightl, hour, rebook, hold, stuck, tomorrow, wait, home, help   \n",
       "3  help, hold, phone, hour, tri, book, chang, need, time, call              \n",
       "4  servic, custom, bad, agent, experi, airlin, rude, care, time, unit       \n",
       "5  luggag, bag, lose, baggag, like, look, dont, need, day, claim            \n",
       "\n",
       "                                                                                                                                                    Text  \n",
       "0  @AmericanAir Cool, a canned response. Nah, I think I'll keep tweeting at everyone who mentions AA on Twitter. You could DM me, though.                 \n",
       "1  @USAirways Still on hold. 1 hour and 45 minutes and counting. Platinum? Who cares? Problems checking in? Who cares?                                    \n",
       "2  @united THAT'S the tweet u choose to answer, to tell me you're not liable?! #youretheworst #neveragain                                                 \n",
       "3  @JetBlue managers telling us to write a letter because we're upset about our tickets to leave tomorrow getting Cancelled Flightled without any notice  \n",
       "4  @USAirways  is there a better time to call? My flight is on Friday and I need to change it. Worried I may be on hold until then.                       \n",
       "5  NaN                                                                                                                                                    "
      ]
     },
     "execution_count": 277,
     "metadata": {},
     "output_type": "execute_result"
    }
   ],
   "source": [
    "# Group top 5 sentences under each topic\n",
    "sent_topics_sorteddf = pd.DataFrame()\n",
    "\n",
    "sent_topics_outdf_grpd = df_topic_sents_keywords.groupby('Dominant_Topic')\n",
    "\n",
    "for i, grp in sent_topics_outdf_grpd:\n",
    "    sent_topics_sorteddf = pd.concat([sent_topics_sorteddf, \n",
    "                                             grp.sort_values(['Perc_Contribution'], ascending=[0]).head(1)], \n",
    "                                            axis=0)\n",
    "\n",
    "# Reset Index    \n",
    "sent_topics_sorteddf.reset_index(drop=True, inplace=True)\n",
    "\n",
    "# Format\n",
    "sent_topics_sorteddf.columns = ['Topic_Num', \"Topic_Perc_Contrib\", \"Keywords\", \"Text\"]\n",
    "\n",
    "# Show\n",
    "sent_topics_sorteddf.head(6)"
   ]
  },
  {
   "cell_type": "markdown",
   "metadata": {},
   "source": [
    "Et regarder la distribution des thèmes parmis tous les tweets."
   ]
  },
  {
   "cell_type": "code",
   "execution_count": 276,
   "metadata": {},
   "outputs": [
    {
     "data": {
      "text/html": [
       "<div>\n",
       "<style scoped>\n",
       "    .dataframe tbody tr th:only-of-type {\n",
       "        vertical-align: middle;\n",
       "    }\n",
       "\n",
       "    .dataframe tbody tr th {\n",
       "        vertical-align: top;\n",
       "    }\n",
       "\n",
       "    .dataframe thead th {\n",
       "        text-align: right;\n",
       "    }\n",
       "</style>\n",
       "<table border=\"1\" class=\"dataframe\">\n",
       "  <thead>\n",
       "    <tr style=\"text-align: right;\">\n",
       "      <th></th>\n",
       "      <th>Dominant_Topic</th>\n",
       "      <th>Topic_Keywords</th>\n",
       "      <th>Num_Documents</th>\n",
       "      <th>Perc_Documents</th>\n",
       "    </tr>\n",
       "  </thead>\n",
       "  <tbody>\n",
       "    <tr>\n",
       "      <th>0</th>\n",
       "      <td>3.0</td>\n",
       "      <td>help, hold, phone, hour, tri, book, chang, need, time, call</td>\n",
       "      <td>1804.0</td>\n",
       "      <td>0.2258</td>\n",
       "    </tr>\n",
       "    <tr>\n",
       "      <th>1</th>\n",
       "      <td>4.0</td>\n",
       "      <td>servic, custom, bad, agent, experi, airlin, rude, care, time, unit</td>\n",
       "      <td>620.0</td>\n",
       "      <td>0.0776</td>\n",
       "    </tr>\n",
       "    <tr>\n",
       "      <th>2</th>\n",
       "      <td>0.0</td>\n",
       "      <td>delay, hour, late, plane, time, wait, gate, board, thank, sit</td>\n",
       "      <td>1227.0</td>\n",
       "      <td>0.1536</td>\n",
       "    </tr>\n",
       "    <tr>\n",
       "      <th>3</th>\n",
       "      <td>3.0</td>\n",
       "      <td>help, hold, phone, hour, tri, book, chang, need, time, call</td>\n",
       "      <td>1917.0</td>\n",
       "      <td>0.2400</td>\n",
       "    </tr>\n",
       "    <tr>\n",
       "      <th>4</th>\n",
       "      <td>0.0</td>\n",
       "      <td>delay, hour, late, plane, time, wait, gate, board, thank, sit</td>\n",
       "      <td>1253.0</td>\n",
       "      <td>0.1569</td>\n",
       "    </tr>\n",
       "    <tr>\n",
       "      <th>5</th>\n",
       "      <td>2.0</td>\n",
       "      <td>cancel, flightl, hour, rebook, hold, stuck, tomorrow, wait, home, help</td>\n",
       "      <td>1167.0</td>\n",
       "      <td>0.1461</td>\n",
       "    </tr>\n",
       "  </tbody>\n",
       "</table>\n",
       "</div>"
      ],
      "text/plain": [
       "   Dominant_Topic  \\\n",
       "0  3.0              \n",
       "1  4.0              \n",
       "2  0.0              \n",
       "3  3.0              \n",
       "4  0.0              \n",
       "5  2.0              \n",
       "\n",
       "                                                           Topic_Keywords  \\\n",
       "0  help, hold, phone, hour, tri, book, chang, need, time, call              \n",
       "1  servic, custom, bad, agent, experi, airlin, rude, care, time, unit       \n",
       "2  delay, hour, late, plane, time, wait, gate, board, thank, sit            \n",
       "3  help, hold, phone, hour, tri, book, chang, need, time, call              \n",
       "4  delay, hour, late, plane, time, wait, gate, board, thank, sit            \n",
       "5  cancel, flightl, hour, rebook, hold, stuck, tomorrow, wait, home, help   \n",
       "\n",
       "   Num_Documents  Perc_Documents  \n",
       "0  1804.0         0.2258          \n",
       "1  620.0          0.0776          \n",
       "2  1227.0         0.1536          \n",
       "3  1917.0         0.2400          \n",
       "4  1253.0         0.1569          \n",
       "5  1167.0         0.1461          "
      ]
     },
     "execution_count": 276,
     "metadata": {},
     "output_type": "execute_result"
    }
   ],
   "source": [
    "# Number of Documents for Each Topic\n",
    "topic_counts = df_topic_sents_keywords['Dominant_Topic'].value_counts()\n",
    "\n",
    "# Percentage of Documents for Each Topic\n",
    "topic_contribution = round(topic_counts/topic_counts.sum(), 4)\n",
    "\n",
    "# Topic Number and Keywords\n",
    "topic_num_keywords = df_topic_sents_keywords[['Dominant_Topic', 'Topic_Keywords']]\n",
    "\n",
    "# Concatenate Column wise\n",
    "df_dominant_topics = pd.concat([topic_num_keywords, topic_counts, topic_contribution], axis=1)\n",
    "\n",
    "# Change Column names\n",
    "df_dominant_topics.columns = ['Dominant_Topic', 'Topic_Keywords', 'Num_Documents', 'Perc_Documents']\n",
    "\n",
    "# Show\n",
    "df_dominant_topics.head(6)"
   ]
  },
  {
   "cell_type": "markdown",
   "metadata": {},
   "source": [
    "# Analyse en temps réel \n",
    "\n",
    "On utilise la librairie tweepy pour accéder aux tweets en temps réel, textblob pour traduire les tweets en anglais (pour ceux qui ne le sont déja pas).\n",
    "\n",
    "Déroulement : \n",
    "- On requete un mot clé, le code se charge de récolter les tweets contenant ce mot clé en direct \n",
    "- On traduit en anglais si nécessaire et on applique les prétraitements classiques sur les tweets \n",
    "- On utilise un des modèles (au choix ici cnn_glove) pour prédire le sentiment de chacun des tweets récoltés \n",
    "\n",
    "Une extension à cela pourrait être d'associer les sentiments des tweets à un topic modelling (associer les sujets aux sentiments )  par rapport à un mot clé, cela pourrait par exemple aider à décrytper des news autours d'un sujet/ d'une personne / d'une entreprise en tendance sur twitter "
   ]
  },
  {
   "cell_type": "code",
   "execution_count": 201,
   "metadata": {},
   "outputs": [
    {
     "name": "stdout",
     "output_type": "stream",
     "text": [
      "[[ 0  0  0  0  0  0  0  0  2 53]]\n"
     ]
    },
    {
     "data": {
      "text/plain": [
       "1"
      ]
     },
     "execution_count": 201,
     "metadata": {},
     "output_type": "execute_result"
    }
   ],
   "source": [
    "def clean_tweet(tweet):\n",
    "    dict= {}\n",
    "    data = {'text': [tweet]}\n",
    "    df3= pd.DataFrame.from_dict(data)\n",
    "    df3['clean_text'] = tc.transform(df3['text'])\n",
    "    df3['tokenized'] = df3['clean_text'].apply(lambda row: tokenize(row))\n",
    "    df3['tokenized'] = df3['tokenized'].apply(lambda row: remove_stopwords(row))\n",
    "    df3['tokenized_int'] = df3['tokenized'].apply(lambda x: transform_to_ids(x))\n",
    "    x = df3['tokenized_int'].loc[0] \n",
    "    x= np.array(x)\n",
    "    x = x.reshape(1,-1)\n",
    "    x_pad = pad_sequences(x, maxlen=maxlen, value=0)\n",
    "    \n",
    "    return x_pad\n",
    "tweet_int = clean_tweet(\"salut good and you happy !!!\")\n",
    "print(tweet_int)\n",
    "\n",
    "np.argmax(cnn_glove.predict(tweet_int), axis= 1)[0]"
   ]
  },
  {
   "cell_type": "code",
   "execution_count": 205,
   "metadata": {},
   "outputs": [
    {
     "name": "stdout",
     "output_type": "stream",
     "text": [
      "Positive or neutral tweets percentage: 55.913978494623656 %\n",
      "Negative tweets percentage: 44.086021505376344 %\n",
      "\n",
      "\n",
      "Negative tweets:\n",
      "RT @MaddowBlog: If that quarter billion dollar magic trick Donald Trump tried to play with that financial statement is, in fact, evidence o…\n",
      "RT @realJeffreyP: Remember, frmr. U.S. Attorney Dennis Burke, my old colleague, was the United States Attorney who resigned in shame during…\n",
      "RT @leeleeb50: Due to the success of the 5 D's of trump, I thought I should start from the beginning....with A\n",
      "\n",
      "asshole\n",
      "asshat\n",
      "assclown\n",
      "aby…\n",
      "RT @sbg1: The bills are coming due for Trump, and if there’s one thing we know about the President it’s that he doesn’t like to pay his bil…\n",
      "RT @scooze007: @realDonaldTrump You should be worried about the lies you told on security clearances for your family. I would think you are…\n",
      "@Musicbizfraud @CNN @MichaelCohen212 @realDonaldTrump You have a poor understanding of how politics work.  Trump is… https://t.co/wAvS6C3Zs5\n",
      "RT @SitterKitty: A person I worked with who had a clearance lost hers because she neglected to mention a French pen pal. The Trump Crime Fa…\n",
      "RT @Sum_Else_Thing: @KaczTed The Republicans in office, including Trump, still have a boomer's presumptive moderateness. They think the sys…\n",
      "RT @TaxReformExpert: Democrat Senator Richard Blumenthal thinks Donald Trump Jr. lied under oath.\n",
      "\n",
      "This is the same man who actually lied a…\n",
      "RT @nahaltoosi: What is it like to be a woman at the White House? A National Security Council staffer described walking behind another woma…\n",
      "\n",
      "\n",
      "Positive tweets:\n",
      "RT @funder: Otto Warmbier was arrested by North Korean officials and held for one year five months and ten days. This is an American who ma…\n",
      "RT @RealKyleMorris: President Trump to U.S. troops in Alaska: \"We salute you, we thank you for your incredible service, we love you, God bl…\n",
      "@SallyAlbright And...you are still my hero.  Bernie lacks transparency, just like Trump.  And they belong to a cult… https://t.co/amnANHLri3\n",
      "RT @GOP: “Good for the prez, and just what we expected in noting the other day that ‘his history suggests he’s always willing to walk away…\n",
      "RT @DonaldJTrumpJr: Michael Cohen pitched book claiming Trump was not a liar \n",
      "\n",
      "‘Everything he wanted to say about Trump was positive’ added…\n",
      "RT @Jordan_Sather_: Eric Trump tweeted and deleted a “Boom” yesterday.\n",
      "\n",
      "James Woods tweeted and deleted simply a “Q” today.\n",
      "\n",
      "Loving the sub…\n",
      "I find it troubling that Congress finds all the things going on in the Trump administration to be the new normal. W… https://t.co/MVmgcN1ET2\n",
      "RT @Mimirocah1: Digging a deeper hole. The recording we’ve already heard of Trump &amp; Cohen talking about the payments shows this is a lie (&amp;…\n",
      "@rcooley123 Great, let's start with Trump's 60M base check them first. PROTECT OUR CHILDREN FROM THESE NUTS!\n",
      "RT @jdawsey1: Jared and Ivanka lobbied Trump to overrule career staff and give Kushner the clearance despite their serious concerns. Kelly…\n",
      "\n",
      "\n",
      "Nombre de tweets :\n",
      "93\n",
      "[{'text': 'RT @funder: Otto Warmbier was arrested by North Korean officials and held for one year five months and ten days. This is an American who ma…', 'sentiment': 'positive'}, {'text': 'RT @MaddowBlog: If that quarter billion dollar magic trick Donald Trump tried to play with that financial statement is, in fact, evidence o…', 'sentiment': 'negative'}, {'text': 'RT @realJeffreyP: Remember, frmr. U.S. Attorney Dennis Burke, my old colleague, was the United States Attorney who resigned in shame during…', 'sentiment': 'negative'}, {'text': \"RT @leeleeb50: Due to the success of the 5 D's of trump, I thought I should start from the beginning....with A\\n\\nasshole\\nasshat\\nassclown\\naby…\", 'sentiment': 'negative'}, {'text': 'RT @RealKyleMorris: President Trump to U.S. troops in Alaska: \"We salute you, we thank you for your incredible service, we love you, God bl…', 'sentiment': 'positive'}]\n"
     ]
    }
   ],
   "source": [
    "cnn_glove.summary()from keras import models\n",
    "from keras import layers\n",
    "from keras import optimizers\n",
    "\n",
    "def transfer_model(pretrained_model ): \n",
    "    # Create the model\n",
    "    model = models.Sequential()\n",
    "\n",
    "    # Add the first layers of the trained model :keep the output of the k_ième layer \n",
    "    # Ici on enlève les 2 dernières couches dense_11 et dense_12\n",
    "    model.add(Model(inputs=pretrained_model.get_input_at(0) ,outputs=pretrained_model.get_layer(\"dropout_4\").get_output_at(0)))\n",
    "    #model.add(pretrained_model)  à la place de la ligne du dessus si pas besoin d'enlever les dernières couches \n",
    "\n",
    "    # Add new layers\n",
    "    model.add(Dropout(0.5))\n",
    "    model.add(Dense(50, activation='relu'))\n",
    "    model.add(Dropout(0.5))\n",
    "    model.add(Dense(2, activation='sigmoid'))\n",
    "\n",
    "\n",
    "    model.compile(loss='binary_crossentropy', optimizer=Adam(), metrics=['accuracy'])\n",
    "\n",
    "    # Show a summary of the model. Check the number of trainable parameters\n",
    "    print(model.summary())\n",
    "    \n",
    "    return model\n",
    "    \n",
    "    trans_model = transfer_model(cnn_glove )# avec transfer \n",
    "essai = trans_model.fit(x_train_2, hot_y_2, validation_data=(x_valid_2, hot_y_valid_2), epochs=10, batch_size=20)# sans transfer \n",
    "cnn_glove1 = mult_conv_glove()\n",
    "essai2 = cnn_glove1.fit(x_train_2, hot_y_2, validation_data=(x_valid_2, hot_y_valid_2), epochs=10, batch_size=20)\n",
    "import re \n",
    "import tweepy \n",
    "from tweepy import OAuthHandler \n",
    "from textblob import TextBlob \n",
    "\n",
    "class TwitterClient(object): \n",
    "\n",
    "    ''' \n",
    "    Generic Twitter Class for sentiment analysis. \n",
    "    '''\n",
    "    def __init__(self):\n",
    "        \n",
    "        ''' \n",
    "        Class constructor or initialization method. \n",
    "        '''\n",
    "        #Variables that contains the user credentials to access Twitter API \n",
    "        access_token = \"\"\n",
    "        access_token_secret = \"\"\n",
    "        consumer_key = \"\"\n",
    "        consumer_secret = \"\"\n",
    "\n",
    "        # attempt authentication \n",
    "        try: \n",
    "            # create OAuthHandler object \n",
    "            self.auth = OAuthHandler(consumer_key, consumer_secret) \n",
    "            # set access token and secret \n",
    "            self.auth.set_access_token(access_token, access_token_secret) \n",
    "            # create tweepy API object to fetch tweets \n",
    "            self.api = tweepy.API(self.auth) \n",
    "        except: \n",
    "            print(\"Error: Authentication Failed\") \n",
    "\n",
    "   \n",
    "    \n",
    "    def clean_tweet(self,  tweet):\n",
    "        dict= {}\n",
    "        data = {'text': [tweet]}\n",
    "        df3= pd.DataFrame.from_dict(data)\n",
    "        df3['clean_text'] = tc.transform(df3['text'])\n",
    "        df3['tokenized'] = df3['clean_text'].apply(lambda row: tokenize(row))\n",
    "        df3['tokenized'] = df3['tokenized'].apply(lambda row: remove_stopwords(row))\n",
    "        df3['tokenized_int'] = df3['tokenized'].apply(lambda x: transform_to_ids(x))\n",
    "        x = df3['tokenized_int'].loc[0] \n",
    "        x= np.array(x)\n",
    "        x = x.reshape(1,-1)\n",
    "        x_pad = pad_sequences(x, maxlen=maxlen, value=0)\n",
    "\n",
    "        return x_pad\n",
    "    \n",
    "    \n",
    "    \n",
    "\n",
    "    def get_tweet_sentiment(self, tweet): \n",
    "        ''' \n",
    "        Utility function to classify sentiment of passed tweet \n",
    "        using textblob's sentiment method \n",
    "        '''\n",
    "        # create TextBlob object of passed tweet text \n",
    "        #analysis = TextBlob(self.clean_tweet(tweet))\n",
    "        \n",
    "        # on utilise ici notre modèle cnn_glove (réseau convolutionel avec glove)\n",
    "        \n",
    "        tweet_int = self.clean_tweet(tweet)\n",
    "\n",
    "        analysis = np.argmax(cnn_glove.predict(tweet_int), axis= 1)[0]\n",
    "        # set sentiment \n",
    "        if analysis> 0: \n",
    "            return 'positive'\n",
    "        else:\n",
    "            return 'negative'\n",
    "\n",
    "    def get_tweets(self, query, count = 10, traduction =True): \n",
    "        ''' \n",
    "        Main function to fetch tweets and parse them. \n",
    "        '''\n",
    "        # empty list to store parsed tweets \n",
    "        tweets = [] \n",
    "\n",
    "        try: \n",
    "            # call twitter api to fetch tweets \n",
    "            fetched_tweets = self.api.search(q = query, count = count) \n",
    "\n",
    "            # parsing tweets one by one \n",
    "            for tweet in fetched_tweets: \n",
    "                # empty dictionary to store required params of a tweet \n",
    "                parsed_tweet = {} \n",
    "\n",
    "                \n",
    "                \n",
    "                # permet de traduire en anglais pour appliquer nos predictions sur des tweet de langues ! = anglais \n",
    "                if traduction == True:\n",
    "                        # saving text of tweet \n",
    "                    try :\n",
    "                        en_blob = TextBlob(tweet.text)\n",
    "                        translate_tweet = str(en_blob.translate(to='en'))\n",
    "                        parsed_tweet['text'] = translate_tweet\n",
    "                        parsed_tweet['sentiment'] = self.get_tweet_sentiment(translate_tweet)\n",
    "                    except : \n",
    "                        parsed_tweet['text'] = tweet.text \n",
    "                        # saving sentiment of tweet \n",
    "                        parsed_tweet['sentiment'] = self.get_tweet_sentiment(tweet.text) \n",
    "                        \n",
    "                else:\n",
    "                         # saving text of tweet \n",
    "\n",
    "                    parsed_tweet['text'] = tweet.text     \n",
    "                    # saving sentiment of tweet \n",
    "                    parsed_tweet['sentiment'] = self.get_tweet_sentiment(tweet.text)  \n",
    "                    \n",
    "\n",
    "                # appending parsed tweet to tweets list \n",
    "                if tweet.retweet_count > 0: \n",
    "                    # if tweet has retweets, ensure that it is appended only once \n",
    "                    if parsed_tweet not in tweets: \n",
    "                        tweets.append(parsed_tweet) \n",
    "                else: \n",
    "                    tweets.append(parsed_tweet) \n",
    "\n",
    "            # return parsed tweets \n",
    "            return tweets \n",
    "\n",
    "        except tweepy.TweepError as e: \n",
    "            # print error (if any) \n",
    "            print(\"Error : \" + str(e)) \n",
    "\n",
    "def main(): \n",
    "    # creating object of TwitterClient Class \n",
    "    api = TwitterClient() \n",
    "    # calling function to get tweets \n",
    "    tweets = api.get_tweets(query = 'trump', count = 200) \n",
    "\n",
    "    # picking positive tweets from tweets \n",
    "    ptweets = [tweet for tweet in tweets if tweet['sentiment'] == 'positive'] \n",
    "    # percentage of positive tweets \n",
    "    print(\"Positive or neutral tweets percentage: {} %\".format(100*len(ptweets)/len(tweets))) \n",
    "    # picking negative tweets from tweets \n",
    "    ntweets = [tweet for tweet in tweets if tweet['sentiment'] == 'negative'] \n",
    "    # percentage of negative tweets \n",
    "    print(\"Negative tweets percentage: {} %\".format(100*len(ntweets)/len(tweets))) \n",
    "   \n",
    "  \n",
    "\n",
    "    # printing first 5 negative tweets \n",
    "    print(\"\\n\\nNegative tweets:\") \n",
    "    for tweet in ntweets[:10]: \n",
    "        print(tweet['text']) \n",
    "        \n",
    "    \n",
    "    # printing first 5 positive tweets \n",
    "    print(\"\\n\\nPositive tweets:\") \n",
    "    for tweet in ptweets[:10]: \n",
    "        print(tweet['text']) \n",
    "\n",
    "    # printing first 5 neutral tweets \n",
    "    print(\"\\n\\nNombre de tweets :\") \n",
    "    print(len(tweets))\n",
    "    print(tweets[:5])\n",
    "    \n",
    "    \n",
    "if __name__ == \"__main__\": \n",
    "    # calling main function \n",
    "    main() \n"
   ]
  },
  {
   "cell_type": "markdown",
   "metadata": {},
   "source": [
    "## Topic modeling en temps réel sur des tweets d'Airlines"
   ]
  },
  {
   "cell_type": "markdown",
   "metadata": {},
   "source": [
    "On va maintenant utiliser l'API de twitter pour classifier les tweets négatifs relevés en type de problèmes obtenus avec le Topic Modeling.\n",
    "On avait donc vu 6 différents thèmes"
   ]
  },
  {
   "cell_type": "markdown",
   "metadata": {},
   "source": [
    "Sachant que dans notre dataset, les clients s'adressaient à 5 compagnies aériennes différentes:\n",
    "- @JetBlue\n",
    "- @united\n",
    "- @USAAirways\n",
    "- @SouthwestAir\n",
    "- @AmericanAir\n",
    "\n",
    "Nous allons examiner leurs tweets négatifs."
   ]
  },
  {
   "cell_type": "code",
   "execution_count": 278,
   "metadata": {},
   "outputs": [],
   "source": [
    "#Variables that contains the user credentials to access Twitter API \n",
    "#access_token = \"2428582741-AiUAkFWX7BvCJKYrFLoGNPPYHZMpaoD0wovEdPD\"\n",
    "#access_token_secret = \"crLKd0Aj8cNL1kSVcoB0VW29IX9w0ntakOIw1hvWVZBeb\"\n",
    "#consumer_key = \"AivhKB2gcsqlKrxb4AdWLIvnB\"\n",
    "#consumer_secret = \"7pojFqIY4nVULPxVkWZRfbRnvSqDNJMjCI9u5ZE5ctOoJuEi5Q\""
   ]
  },
  {
   "cell_type": "code",
   "execution_count": null,
   "metadata": {},
   "outputs": [],
   "source": [
    "import re \n",
    "import tweepy \n",
    "from tweepy import OAuthHandler \n",
    "from textblob import TextBlob \n",
    "\n",
    "class TwitterClient(object): \n",
    "\n",
    "    ''' \n",
    "    Generic Twitter Class for sentiment analysis. \n",
    "    '''\n",
    "    def __init__(self):\n",
    "        \n",
    "        ''' \n",
    "        Class constructor or initialization method. \n",
    "        '''\n",
    "        #Variables that contains the user credentials to access Twitter API \n",
    "        access_token = \"\"\n",
    "        access_token_secret = \"\"\n",
    "        consumer_key = \"\"\n",
    "        consumer_secret = \"\"\n",
    "\n",
    "        # attempt authentication \n",
    "        try: \n",
    "            # create OAuthHandler object \n",
    "            self.auth = OAuthHandler(consumer_key, consumer_secret) \n",
    "            # set access token and secret \n",
    "            self.auth.set_access_token(access_token, access_token_secret) \n",
    "            # create tweepy API object to fetch tweets \n",
    "            self.api = tweepy.API(self.auth) \n",
    "        except: \n",
    "            print(\"Error: Authentication Failed\") \n",
    "\n",
    "   \n",
    "    \n",
    "    def clean_tweet(self,  tweet):\n",
    "        dict= {}\n",
    "        data = {'text': [tweet]}\n",
    "        df3= pd.DataFrame.from_dict(data)\n",
    "        df3['clean_text'] = tc.transform(df3['text'])\n",
    "        df3['tokenized'] = df3['clean_text'].apply(lambda row: tokenize(row))\n",
    "        df3['tokenized'] = df3['tokenized'].apply(lambda row: remove_stopwords(row))\n",
    "        df3['tokenized_int'] = df3['tokenized'].apply(lambda x: transform_to_ids(x))\n",
    "        x = df3['tokenized_int'].loc[0] \n",
    "        x= np.array(x)\n",
    "        x = x.reshape(1,-1)\n",
    "        x_pad = pad_sequences(x, maxlen=maxlen, value=0)\n",
    "\n",
    "        return x_pad\n",
    "    \n",
    "    \n",
    "    \n",
    "\n",
    "    def get_tweet_sentiment(self, tweet): \n",
    "        ''' \n",
    "        Utility function to classify sentiment of passed tweet \n",
    "        using textblob's sentiment method \n",
    "        '''\n",
    "        # create TextBlob object of passed tweet text \n",
    "        #analysis = TextBlob(self.clean_tweet(tweet))\n",
    "        \n",
    "        # on utilise ici notre modèle cnn_glove (réseau convolutionel avec glove)\n",
    "        \n",
    "        tweet_int = self.clean_tweet(tweet)\n",
    "\n",
    "        analysis = np.argmax(cnn_glove.predict(tweet_int), axis= 1)[0]\n",
    "        # set sentiment \n",
    "        if analysis> 0: \n",
    "            return 'positive'\n",
    "        else:\n",
    "            return 'negative'\n",
    "\n",
    "    def get_tweets(self, query, count = 10, traduction =True): \n",
    "        ''' \n",
    "        Main function to fetch tweets and parse them. \n",
    "        '''\n",
    "        # empty list to store parsed tweets \n",
    "        tweets = [] \n",
    "\n",
    "        try: \n",
    "            # call twitter api to fetch tweets \n",
    "            fetched_tweets = self.api.search(q = query, count = count) \n",
    "\n",
    "            # parsing tweets one by one \n",
    "            for tweet in fetched_tweets: \n",
    "                # empty dictionary to store required params of a tweet \n",
    "                parsed_tweet = {} \n",
    "\n",
    "                \n",
    "                \n",
    "                # permet de traduire en anglais pour appliquer nos predictions sur des tweet de langues ! = anglais \n",
    "                if traduction == True:\n",
    "                        # saving text of tweet \n",
    "                    try :\n",
    "                        en_blob = TextBlob(tweet.text)\n",
    "                        translate_tweet = str(en_blob.translate(to='en'))\n",
    "                        parsed_tweet['text'] = translate_tweet\n",
    "                        parsed_tweet['sentiment'] = self.get_tweet_sentiment(translate_tweet)\n",
    "                    except : \n",
    "                        parsed_tweet['text'] = tweet.text \n",
    "                        # saving sentiment of tweet \n",
    "                        parsed_tweet['sentiment'] = self.get_tweet_sentiment(tweet.text) \n",
    "                        \n",
    "                else:\n",
    "                         # saving text of tweet \n",
    "\n",
    "                    parsed_tweet['text'] = tweet.text     \n",
    "                    # saving sentiment of tweet \n",
    "                    parsed_tweet['sentiment'] = self.get_tweet_sentiment(tweet.text)  \n",
    "                    \n",
    "\n",
    "                # appending parsed tweet to tweets list \n",
    "                if tweet.retweet_count > 0: \n",
    "                    # if tweet has retweets, ensure that it is appended only once \n",
    "                    if parsed_tweet not in tweets: \n",
    "                        tweets.append(parsed_tweet) \n",
    "                else: \n",
    "                    tweets.append(parsed_tweet) \n",
    "\n",
    "            # return parsed tweets \n",
    "            return tweets \n",
    "\n",
    "        except tweepy.TweepError as e: \n",
    "            # print error (if any) \n",
    "            print(\"Error : \" + str(e))"
   ]
  },
  {
   "cell_type": "code",
   "execution_count": 356,
   "metadata": {},
   "outputs": [],
   "source": [
    "def main(query='US Airways', count=200): \n",
    "    # creating object of TwitterClient Class \n",
    "    api = TwitterClient() \n",
    "    # calling function to get tweets \n",
    "    tweets = api.get_tweets(query, count) \n",
    "\n",
    "    # picking negative tweets from tweets \n",
    "    ntweets = [tweet for tweet in tweets if tweet['sentiment'] == 'negative'] \n",
    "    # percentage of negative tweets \n",
    "    print(\"Negative tweets percentage: {} %\".format(100*len(ntweets)/len(tweets))) \n",
    "   \n",
    "  \n",
    "\n",
    "    # printing first 5 negative tweets \n",
    "    print(\"\\n\\nNegative tweets:\") \n",
    "    for tweet in ntweets[:10]: \n",
    "        print(tweet['text']) \n",
    "        \n",
    "    return(ntweets)"
   ]
  },
  {
   "cell_type": "code",
   "execution_count": 362,
   "metadata": {},
   "outputs": [
    {
     "name": "stdout",
     "output_type": "stream",
     "text": [
      "Negative tweets percentage: 57.47126436781609 %\n",
      "\n",
      "\n",
      "Negative tweets:\n",
      "RT @ABC7: FLY DEAL: @JetBlue sweepstakes offers chance at year's worth of free flights if you wipe clean your Instagram feed https://t.co/Y…\n",
      "@glfceo @atulbutte @united @fly2ohare Currently delayed 7 hours on @JetBlue trying to get to Durham\n",
      "RT @BrooklynNets: Want to follow the Nets to Atlanta this weekend?\n",
      "\n",
      "Enter our #FlyMeTo Sweepstakes presented by @jetblue here ✈️➡️ https://…\n",
      "@davidwebbshow Out of curiosity, did @JetBlue replace the cop killer poster at LGA with any other Blacks deserving… https://t.co/UAh8gSjfQT\n",
      "Hi @JetBlue! I am on flight 1969 BOS-FLL that is delayed by 3 hours this evening. Worried that this flight will get… https://t.co/UUOTjdG67t\n",
      "@JetBlue I had a flight canceled last week. I got an email confirming some type of credit but I have yet to receive… https://t.co/UUTNL88onf\n",
      "RT @lily_vasey: @JetBlue is the worst airline ever, never fly them! https://t.co/I1hh0L5MS0\n",
      "@JetBlue both flights in and out of my honeymoon destination were delayed due to reasons that could have been accom… https://t.co/g72aM1mrUl\n",
      "#SocialMedia 📱✈️ @JetBlue contest dares #Instagram addicts to delete their pics FLY FREE for a year—3 winners to be… https://t.co/aXe9nBiT6Y\n",
      "@JetBlue Pulling an @Amtrak Move!!\n"
     ]
    }
   ],
   "source": [
    "ntweets = main('@JetBlue',500)"
   ]
  },
  {
   "cell_type": "code",
   "execution_count": 363,
   "metadata": {},
   "outputs": [],
   "source": [
    "df_ntweets = pd.DataFrame(ntweets)"
   ]
  },
  {
   "cell_type": "code",
   "execution_count": 386,
   "metadata": {},
   "outputs": [
    {
     "data": {
      "text/html": [
       "<div>\n",
       "<style scoped>\n",
       "    .dataframe tbody tr th:only-of-type {\n",
       "        vertical-align: middle;\n",
       "    }\n",
       "\n",
       "    .dataframe tbody tr th {\n",
       "        vertical-align: top;\n",
       "    }\n",
       "\n",
       "    .dataframe thead th {\n",
       "        text-align: right;\n",
       "    }\n",
       "</style>\n",
       "<table border=\"1\" class=\"dataframe\">\n",
       "  <thead>\n",
       "    <tr style=\"text-align: right;\">\n",
       "      <th></th>\n",
       "      <th>sentiment</th>\n",
       "      <th>text</th>\n",
       "    </tr>\n",
       "  </thead>\n",
       "  <tbody>\n",
       "    <tr>\n",
       "      <th>0</th>\n",
       "      <td>negative</td>\n",
       "      <td>RT @ABC7: FLY DEAL: @JetBlue sweepstakes offers chance at year's worth of free flights if you wipe clean your Instagram feed https://t.co/Y…</td>\n",
       "    </tr>\n",
       "    <tr>\n",
       "      <th>1</th>\n",
       "      <td>negative</td>\n",
       "      <td>@glfceo @atulbutte @united @fly2ohare Currently delayed 7 hours on @JetBlue trying to get to Durham</td>\n",
       "    </tr>\n",
       "    <tr>\n",
       "      <th>2</th>\n",
       "      <td>negative</td>\n",
       "      <td>RT @BrooklynNets: Want to follow the Nets to Atlanta this weekend?\\n\\nEnter our #FlyMeTo Sweepstakes presented by @jetblue here ✈️➡️ https://…</td>\n",
       "    </tr>\n",
       "    <tr>\n",
       "      <th>3</th>\n",
       "      <td>negative</td>\n",
       "      <td>@davidwebbshow Out of curiosity, did @JetBlue replace the cop killer poster at LGA with any other Blacks deserving… https://t.co/UAh8gSjfQT</td>\n",
       "    </tr>\n",
       "    <tr>\n",
       "      <th>4</th>\n",
       "      <td>negative</td>\n",
       "      <td>Hi @JetBlue! I am on flight 1969 BOS-FLL that is delayed by 3 hours this evening. Worried that this flight will get… https://t.co/UUOTjdG67t</td>\n",
       "    </tr>\n",
       "    <tr>\n",
       "      <th>5</th>\n",
       "      <td>negative</td>\n",
       "      <td>@JetBlue I had a flight canceled last week. I got an email confirming some type of credit but I have yet to receive… https://t.co/UUTNL88onf</td>\n",
       "    </tr>\n",
       "    <tr>\n",
       "      <th>6</th>\n",
       "      <td>negative</td>\n",
       "      <td>RT @lily_vasey: @JetBlue is the worst airline ever, never fly them! https://t.co/I1hh0L5MS0</td>\n",
       "    </tr>\n",
       "    <tr>\n",
       "      <th>7</th>\n",
       "      <td>negative</td>\n",
       "      <td>@JetBlue both flights in and out of my honeymoon destination were delayed due to reasons that could have been accom… https://t.co/g72aM1mrUl</td>\n",
       "    </tr>\n",
       "    <tr>\n",
       "      <th>8</th>\n",
       "      <td>negative</td>\n",
       "      <td>#SocialMedia 📱✈️ @JetBlue contest dares #Instagram addicts to delete their pics FLY FREE for a year—3 winners to be… https://t.co/aXe9nBiT6Y</td>\n",
       "    </tr>\n",
       "    <tr>\n",
       "      <th>9</th>\n",
       "      <td>negative</td>\n",
       "      <td>@JetBlue Pulling an @Amtrak Move!!</td>\n",
       "    </tr>\n",
       "    <tr>\n",
       "      <th>10</th>\n",
       "      <td>negative</td>\n",
       "      <td>@YellerstoneNPS @JetBlue yes, thats how prizes work. same goes for game shows, winning houses, etc. you still pay t… https://t.co/jfMEayzRIL</td>\n",
       "    </tr>\n",
       "    <tr>\n",
       "      <th>11</th>\n",
       "      <td>negative</td>\n",
       "      <td>@JetBlue We were originally 1807 to Nashville, but that was canceled so we’re on 1907 to Nashville which has been d… https://t.co/4X4hUvX8GB</td>\n",
       "    </tr>\n",
       "    <tr>\n",
       "      <th>12</th>\n",
       "      <td>negative</td>\n",
       "      <td>I have never seen the shit storm that is the @JetBlue airport terminal in Fort Lauderdale today. Delays, cancellati… https://t.co/7rPGVxzzNg</td>\n",
       "    </tr>\n",
       "    <tr>\n",
       "      <th>13</th>\n",
       "      <td>negative</td>\n",
       "      <td>@JetBlue The captain of flight 1196 is coming from an international flight. Our flight is already delayed 1hr.… https://t.co/h8jLUKWhSk</td>\n",
       "    </tr>\n",
       "    <tr>\n",
       "      <th>14</th>\n",
       "      <td>negative</td>\n",
       "      <td>@JetBlue are you serious that you would cancel my groups flight 30 minutes before departure and then offer no. Acco… https://t.co/PyECYgd5BT</td>\n",
       "    </tr>\n",
       "    <tr>\n",
       "      <th>15</th>\n",
       "      <td>negative</td>\n",
       "      <td>RT @NHLBruins: With another shut out, you voted Tuukka Rask as the @JetBlue Player of the Game. https://t.co/Zo4c0sbSEz</td>\n",
       "    </tr>\n",
       "    <tr>\n",
       "      <th>16</th>\n",
       "      <td>negative</td>\n",
       "      <td>@Jetblue any chance the Winter Storm Scott fee waiver can be extended  to Tuesday AM? Power out since yesterday and… https://t.co/WeMGLdyud9</td>\n",
       "    </tr>\n",
       "    <tr>\n",
       "      <th>17</th>\n",
       "      <td>negative</td>\n",
       "      <td>Does anyone want to buy my @JetBlue points? If you can handle poor management service there yours!</td>\n",
       "    </tr>\n",
       "    <tr>\n",
       "      <th>18</th>\n",
       "      <td>negative</td>\n",
       "      <td>@IWF @JetBlue And according to the NYP, it *only* took them (JetBlue) 21 days to remove the offensive \"tribute\" ban… https://t.co/8AHZd0C5Fy</td>\n",
       "    </tr>\n",
       "    <tr>\n",
       "      <th>19</th>\n",
       "      <td>negative</td>\n",
       "      <td>#AllYouCanJetSweepstakes @jetblue https://t.co/oVSjUQoA5w</td>\n",
       "    </tr>\n",
       "    <tr>\n",
       "      <th>20</th>\n",
       "      <td>negative</td>\n",
       "      <td>@JetBlue delayed my flight to Charlotte 4x, for a total of 11.5 hours (3:06 PM expected arrival today to 2:36 AM to… https://t.co/2QmQT7odFB</td>\n",
       "    </tr>\n",
       "    <tr>\n",
       "      <th>21</th>\n",
       "      <td>negative</td>\n",
       "      <td>@jetblue 7 delays on 1579 - and counting - seriously??</td>\n",
       "    </tr>\n",
       "    <tr>\n",
       "      <th>22</th>\n",
       "      <td>negative</td>\n",
       "      <td>@JetBlue, this is just crazy🙅🏼‍♀️ https://t.co/cNuclm3ZpJ</td>\n",
       "    </tr>\n",
       "    <tr>\n",
       "      <th>23</th>\n",
       "      <td>negative</td>\n",
       "      <td>RT @JetBlue: All You Can Jet means All You Can ____. How would you fill in the blank? Enter our #ALLYOUCANJETSWEEPSTAKES now at https://t.c…</td>\n",
       "    </tr>\n",
       "    <tr>\n",
       "      <th>24</th>\n",
       "      <td>negative</td>\n",
       "      <td>The flight @JetBlue offered us lands in DC 15 minutes after the Flight to Boston takes off. How does that work?</td>\n",
       "    </tr>\n",
       "    <tr>\n",
       "      <th>25</th>\n",
       "      <td>negative</td>\n",
       "      <td>RT @IWF: SMH. @JetBlue honored Assata Shakur, a convicted cop-killer, during #BlackHistoryMonth. #IWcul #BackTheBlue https://t.co/brd0ydf6l0</td>\n",
       "    </tr>\n",
       "    <tr>\n",
       "      <th>26</th>\n",
       "      <td>negative</td>\n",
       "      <td>@JetBlue looking at my twitter feed is nothing but me complaining about delayed JetBlue flights. Flt 563. #delayed #jetblue</td>\n",
       "    </tr>\n",
       "    <tr>\n",
       "      <th>27</th>\n",
       "      <td>negative</td>\n",
       "      <td>@JetBlue the saga continues.  Now we are in a holding pattern in the air!  The nightmare can’t end!</td>\n",
       "    </tr>\n",
       "    <tr>\n",
       "      <th>28</th>\n",
       "      <td>negative</td>\n",
       "      <td>RT @MSRuggiero: So many error messages on your website @JetBlue. Making flight changes as a #Mosaic should be EASY... Please upgrade your s…</td>\n",
       "    </tr>\n",
       "    <tr>\n",
       "      <th>29</th>\n",
       "      <td>negative</td>\n",
       "      <td>SMH. @JetBlue honored Assata Shakur, a convicted cop-killer, during #BlackHistoryMonth. #IWcul #BackTheBlue https://t.co/brd0ydf6l0</td>\n",
       "    </tr>\n",
       "    <tr>\n",
       "      <th>30</th>\n",
       "      <td>negative</td>\n",
       "      <td>@JetBlue  Sitting here in a plane for “5” hours now! Grounded! Great service managing. Canceled out flight Friday e… https://t.co/UzaOSTTwcU</td>\n",
       "    </tr>\n",
       "    <tr>\n",
       "      <th>31</th>\n",
       "      <td>negative</td>\n",
       "      <td>I'm flying @JetBlue because they're as indecisive as I am 🥰 https://t.co/BzbW1ifGIp</td>\n",
       "    </tr>\n",
       "    <tr>\n",
       "      <th>32</th>\n",
       "      <td>negative</td>\n",
       "      <td>@JetBlue my flight cancelled and rebooked to another flight. We booked a vacation package.  Can you extend out hote… https://t.co/y4b6oAyCQz</td>\n",
       "    </tr>\n",
       "    <tr>\n",
       "      <th>33</th>\n",
       "      <td>negative</td>\n",
       "      <td>Hmm hate that @JetBlue is delaying flights for five hours today - but love that they rocking @jennylewis as their h… https://t.co/JsRE0SmPKe</td>\n",
       "    </tr>\n",
       "    <tr>\n",
       "      <th>34</th>\n",
       "      <td>negative</td>\n",
       "      <td>Hey @JetBlue you just sent me two emails at the same time that say my flight from DCA -&amp;gt; BOS is delayed and departi… https://t.co/VrYdOsxD1w</td>\n",
       "    </tr>\n",
       "    <tr>\n",
       "      <th>35</th>\n",
       "      <td>negative</td>\n",
       "      <td>hoping @JetBlue can get some bloody mary action happening.. https://t.co/VUOVxVouqb</td>\n",
       "    </tr>\n",
       "    <tr>\n",
       "      <th>36</th>\n",
       "      <td>negative</td>\n",
       "      <td>@JetBlue Our 8:45am flight is now delayed by 7 hours (this is the 4th delay notification). What are the chances of… https://t.co/DN3LO3Wine</td>\n",
       "    </tr>\n",
       "    <tr>\n",
       "      <th>37</th>\n",
       "      <td>negative</td>\n",
       "      <td>@JetBlue Hi JetBlue. I read the terms for the 1-year free flights sweepstake... I have to say the terms are HORRIBL… https://t.co/GrAnUPpBfR</td>\n",
       "    </tr>\n",
       "    <tr>\n",
       "      <th>38</th>\n",
       "      <td>negative</td>\n",
       "      <td>@JetBlue I would like to enter your contest for never having an instagram. Is this acceptable&amp;gt;</td>\n",
       "    </tr>\n",
       "    <tr>\n",
       "      <th>39</th>\n",
       "      <td>negative</td>\n",
       "      <td>RT @ABC7: FLY DEAL: @JetBlue sweepstakes offers chance at year's worth of free flights if you wipe clean your Insta… https://t.co/OOk2ECS7tg</td>\n",
       "    </tr>\n",
       "    <tr>\n",
       "      <th>40</th>\n",
       "      <td>negative</td>\n",
       "      <td>Want to follow the Nets to Atlanta this weekend?\\n\\nEnter our #FlyMeTo Sweepstakes presented by @jetblue here ✈️➡️… https://t.co/RtthMD1WYJ</td>\n",
       "    </tr>\n",
       "    <tr>\n",
       "      <th>41</th>\n",
       "      <td>negative</td>\n",
       "      <td>@JetBlue any news on whether my 4:51pm flight out of Ft Lauderdale to NYC is now leaving almost 3 hours later? And… https://t.co/EWNDZarJ0h</td>\n",
       "    </tr>\n",
       "    <tr>\n",
       "      <th>42</th>\n",
       "      <td>negative</td>\n",
       "      <td>Sooo... any flight delay compensation @JetBlue? Been sitting at the gate for over an hour and a half at JFK</td>\n",
       "    </tr>\n",
       "    <tr>\n",
       "      <th>43</th>\n",
       "      <td>negative</td>\n",
       "      <td>@JetBlue It won’t save or upload or download or copy. When I try tosend to Dropbox or tweet it comes up with a blank page.</td>\n",
       "    </tr>\n",
       "    <tr>\n",
       "      <th>44</th>\n",
       "      <td>negative</td>\n",
       "      <td>@chrismazur @dude_7597 @JetBlue How does that help non drinkers or under age passengers?</td>\n",
       "    </tr>\n",
       "    <tr>\n",
       "      <th>45</th>\n",
       "      <td>negative</td>\n",
       "      <td>@chrismazur @JetBlue Umm you left out the details, what did the weather cause? how did JetBlue go above and beyond?</td>\n",
       "    </tr>\n",
       "    <tr>\n",
       "      <th>46</th>\n",
       "      <td>negative</td>\n",
       "      <td>@JetBlue what are my options here? My flight last night was cancelled after a 4 hour delay. I slept in the airport… https://t.co/QjFrCQfNhR</td>\n",
       "    </tr>\n",
       "    <tr>\n",
       "      <th>47</th>\n",
       "      <td>negative</td>\n",
       "      <td>@JetBlue really, a poster celebrating a cop killer? You couldn’t do better than this? #shame #jetblue https://t.co/YBxu5XWqfc</td>\n",
       "    </tr>\n",
       "    <tr>\n",
       "      <th>48</th>\n",
       "      <td>negative</td>\n",
       "      <td>Okay @JetBlue, you can suck it too. https://t.co/MG569VE4Kz</td>\n",
       "    </tr>\n",
       "    <tr>\n",
       "      <th>49</th>\n",
       "      <td>negative</td>\n",
       "      <td>Hey, @JetBlue I really NEEEED a vaca!!! #allyoucanjetsweepstakes Please check out my Insta- @karinicole74  😊🤞🏼🛫✈️</td>\n",
       "    </tr>\n",
       "  </tbody>\n",
       "</table>\n",
       "</div>"
      ],
      "text/plain": [
       "   sentiment  \\\n",
       "0   negative   \n",
       "1   negative   \n",
       "2   negative   \n",
       "3   negative   \n",
       "4   negative   \n",
       "5   negative   \n",
       "6   negative   \n",
       "7   negative   \n",
       "8   negative   \n",
       "9   negative   \n",
       "10  negative   \n",
       "11  negative   \n",
       "12  negative   \n",
       "13  negative   \n",
       "14  negative   \n",
       "15  negative   \n",
       "16  negative   \n",
       "17  negative   \n",
       "18  negative   \n",
       "19  negative   \n",
       "20  negative   \n",
       "21  negative   \n",
       "22  negative   \n",
       "23  negative   \n",
       "24  negative   \n",
       "25  negative   \n",
       "26  negative   \n",
       "27  negative   \n",
       "28  negative   \n",
       "29  negative   \n",
       "30  negative   \n",
       "31  negative   \n",
       "32  negative   \n",
       "33  negative   \n",
       "34  negative   \n",
       "35  negative   \n",
       "36  negative   \n",
       "37  negative   \n",
       "38  negative   \n",
       "39  negative   \n",
       "40  negative   \n",
       "41  negative   \n",
       "42  negative   \n",
       "43  negative   \n",
       "44  negative   \n",
       "45  negative   \n",
       "46  negative   \n",
       "47  negative   \n",
       "48  negative   \n",
       "49  negative   \n",
       "\n",
       "                                                                                                                                               text  \n",
       "0   RT @ABC7: FLY DEAL: @JetBlue sweepstakes offers chance at year's worth of free flights if you wipe clean your Instagram feed https://t.co/Y…     \n",
       "1   @glfceo @atulbutte @united @fly2ohare Currently delayed 7 hours on @JetBlue trying to get to Durham                                              \n",
       "2   RT @BrooklynNets: Want to follow the Nets to Atlanta this weekend?\\n\\nEnter our #FlyMeTo Sweepstakes presented by @jetblue here ✈️➡️ https://…   \n",
       "3   @davidwebbshow Out of curiosity, did @JetBlue replace the cop killer poster at LGA with any other Blacks deserving… https://t.co/UAh8gSjfQT      \n",
       "4   Hi @JetBlue! I am on flight 1969 BOS-FLL that is delayed by 3 hours this evening. Worried that this flight will get… https://t.co/UUOTjdG67t     \n",
       "5   @JetBlue I had a flight canceled last week. I got an email confirming some type of credit but I have yet to receive… https://t.co/UUTNL88onf     \n",
       "6   RT @lily_vasey: @JetBlue is the worst airline ever, never fly them! https://t.co/I1hh0L5MS0                                                      \n",
       "7   @JetBlue both flights in and out of my honeymoon destination were delayed due to reasons that could have been accom… https://t.co/g72aM1mrUl     \n",
       "8   #SocialMedia 📱✈️ @JetBlue contest dares #Instagram addicts to delete their pics FLY FREE for a year—3 winners to be… https://t.co/aXe9nBiT6Y     \n",
       "9   @JetBlue Pulling an @Amtrak Move!!                                                                                                               \n",
       "10  @YellerstoneNPS @JetBlue yes, thats how prizes work. same goes for game shows, winning houses, etc. you still pay t… https://t.co/jfMEayzRIL     \n",
       "11  @JetBlue We were originally 1807 to Nashville, but that was canceled so we’re on 1907 to Nashville which has been d… https://t.co/4X4hUvX8GB     \n",
       "12  I have never seen the shit storm that is the @JetBlue airport terminal in Fort Lauderdale today. Delays, cancellati… https://t.co/7rPGVxzzNg     \n",
       "13  @JetBlue The captain of flight 1196 is coming from an international flight. Our flight is already delayed 1hr.… https://t.co/h8jLUKWhSk          \n",
       "14  @JetBlue are you serious that you would cancel my groups flight 30 minutes before departure and then offer no. Acco… https://t.co/PyECYgd5BT     \n",
       "15  RT @NHLBruins: With another shut out, you voted Tuukka Rask as the @JetBlue Player of the Game. https://t.co/Zo4c0sbSEz                          \n",
       "16  @Jetblue any chance the Winter Storm Scott fee waiver can be extended  to Tuesday AM? Power out since yesterday and… https://t.co/WeMGLdyud9     \n",
       "17  Does anyone want to buy my @JetBlue points? If you can handle poor management service there yours!                                               \n",
       "18  @IWF @JetBlue And according to the NYP, it *only* took them (JetBlue) 21 days to remove the offensive \"tribute\" ban… https://t.co/8AHZd0C5Fy     \n",
       "19  #AllYouCanJetSweepstakes @jetblue https://t.co/oVSjUQoA5w                                                                                        \n",
       "20  @JetBlue delayed my flight to Charlotte 4x, for a total of 11.5 hours (3:06 PM expected arrival today to 2:36 AM to… https://t.co/2QmQT7odFB     \n",
       "21  @jetblue 7 delays on 1579 - and counting - seriously??                                                                                           \n",
       "22  @JetBlue, this is just crazy🙅🏼‍♀️ https://t.co/cNuclm3ZpJ                                                                                        \n",
       "23  RT @JetBlue: All You Can Jet means All You Can ____. How would you fill in the blank? Enter our #ALLYOUCANJETSWEEPSTAKES now at https://t.c…     \n",
       "24  The flight @JetBlue offered us lands in DC 15 minutes after the Flight to Boston takes off. How does that work?                                  \n",
       "25  RT @IWF: SMH. @JetBlue honored Assata Shakur, a convicted cop-killer, during #BlackHistoryMonth. #IWcul #BackTheBlue https://t.co/brd0ydf6l0     \n",
       "26  @JetBlue looking at my twitter feed is nothing but me complaining about delayed JetBlue flights. Flt 563. #delayed #jetblue                      \n",
       "27  @JetBlue the saga continues.  Now we are in a holding pattern in the air!  The nightmare can’t end!                                              \n",
       "28  RT @MSRuggiero: So many error messages on your website @JetBlue. Making flight changes as a #Mosaic should be EASY... Please upgrade your s…     \n",
       "29  SMH. @JetBlue honored Assata Shakur, a convicted cop-killer, during #BlackHistoryMonth. #IWcul #BackTheBlue https://t.co/brd0ydf6l0              \n",
       "30  @JetBlue  Sitting here in a plane for “5” hours now! Grounded! Great service managing. Canceled out flight Friday e… https://t.co/UzaOSTTwcU     \n",
       "31  I'm flying @JetBlue because they're as indecisive as I am 🥰 https://t.co/BzbW1ifGIp                                                              \n",
       "32  @JetBlue my flight cancelled and rebooked to another flight. We booked a vacation package.  Can you extend out hote… https://t.co/y4b6oAyCQz     \n",
       "33  Hmm hate that @JetBlue is delaying flights for five hours today - but love that they rocking @jennylewis as their h… https://t.co/JsRE0SmPKe     \n",
       "34  Hey @JetBlue you just sent me two emails at the same time that say my flight from DCA -&gt; BOS is delayed and departi… https://t.co/VrYdOsxD1w  \n",
       "35  hoping @JetBlue can get some bloody mary action happening.. https://t.co/VUOVxVouqb                                                              \n",
       "36  @JetBlue Our 8:45am flight is now delayed by 7 hours (this is the 4th delay notification). What are the chances of… https://t.co/DN3LO3Wine      \n",
       "37  @JetBlue Hi JetBlue. I read the terms for the 1-year free flights sweepstake... I have to say the terms are HORRIBL… https://t.co/GrAnUPpBfR     \n",
       "38  @JetBlue I would like to enter your contest for never having an instagram. Is this acceptable&gt;                                                \n",
       "39  RT @ABC7: FLY DEAL: @JetBlue sweepstakes offers chance at year's worth of free flights if you wipe clean your Insta… https://t.co/OOk2ECS7tg     \n",
       "40  Want to follow the Nets to Atlanta this weekend?\\n\\nEnter our #FlyMeTo Sweepstakes presented by @jetblue here ✈️➡️… https://t.co/RtthMD1WYJ      \n",
       "41  @JetBlue any news on whether my 4:51pm flight out of Ft Lauderdale to NYC is now leaving almost 3 hours later? And… https://t.co/EWNDZarJ0h      \n",
       "42  Sooo... any flight delay compensation @JetBlue? Been sitting at the gate for over an hour and a half at JFK                                      \n",
       "43  @JetBlue It won’t save or upload or download or copy. When I try tosend to Dropbox or tweet it comes up with a blank page.                       \n",
       "44  @chrismazur @dude_7597 @JetBlue How does that help non drinkers or under age passengers?                                                         \n",
       "45  @chrismazur @JetBlue Umm you left out the details, what did the weather cause? how did JetBlue go above and beyond?                              \n",
       "46  @JetBlue what are my options here? My flight last night was cancelled after a 4 hour delay. I slept in the airport… https://t.co/QjFrCQfNhR      \n",
       "47  @JetBlue really, a poster celebrating a cop killer? You couldn’t do better than this? #shame #jetblue https://t.co/YBxu5XWqfc                    \n",
       "48  Okay @JetBlue, you can suck it too. https://t.co/MG569VE4Kz                                                                                      \n",
       "49  Hey, @JetBlue I really NEEEED a vaca!!! #allyoucanjetsweepstakes Please check out my Insta- @karinicole74  😊🤞🏼🛫✈️                                "
      ]
     },
     "execution_count": 386,
     "metadata": {},
     "output_type": "execute_result"
    }
   ],
   "source": [
    "df_ntweets.head(50)"
   ]
  },
  {
   "cell_type": "code",
   "execution_count": 382,
   "metadata": {},
   "outputs": [
    {
     "name": "stdout",
     "output_type": "stream",
     "text": [
      "@JetBlue both flights in and out of my honeymoon destination were delayed due to reasons that could have been accom… https://t.co/g72aM1mrUl \n",
      "\n",
      "Score: 0.7204936742782593\t Topic: 0.060*\"delay\" + 0.039*\"hour\" + 0.029*\"late\" + 0.029*\"plane\" + 0.026*\"time\"\n",
      "Score: 0.05653693899512291\t Topic: 0.041*\"help\" + 0.036*\"hold\" + 0.028*\"phone\" + 0.024*\"hour\" + 0.024*\"tri\"\n",
      "Score: 0.05608395114541054\t Topic: 0.073*\"servic\" + 0.072*\"custom\" + 0.020*\"bad\" + 0.019*\"agent\" + 0.013*\"experi\"\n",
      "Score: 0.05572888255119324\t Topic: 0.056*\"miss\" + 0.047*\"seat\" + 0.040*\"connect\" + 0.020*\"delay\" + 0.017*\"go\"\n",
      "Score: 0.05557828024029732\t Topic: 0.026*\"luggag\" + 0.025*\"bag\" + 0.024*\"lose\" + 0.019*\"baggag\" + 0.018*\"like\"\n",
      "Score: 0.055578265339136124\t Topic: 0.095*\"cancel\" + 0.047*\"flightl\" + 0.025*\"hour\" + 0.017*\"rebook\" + 0.014*\"hold\"\n",
      "\n",
      "\n",
      "@JetBlue are you serious that you would cancel my groups flight 30 minutes before departure and then offer no. Acco… https://t.co/PyECYgd5BT \n",
      "\n",
      "Score: 0.5415731072425842\t Topic: 0.095*\"cancel\" + 0.047*\"flightl\" + 0.025*\"hour\" + 0.017*\"rebook\" + 0.014*\"hold\"\n",
      "Score: 0.2911008894443512\t Topic: 0.041*\"help\" + 0.036*\"hold\" + 0.028*\"phone\" + 0.024*\"hour\" + 0.024*\"tri\"\n",
      "Score: 0.04197879135608673\t Topic: 0.026*\"luggag\" + 0.025*\"bag\" + 0.024*\"lose\" + 0.019*\"baggag\" + 0.018*\"like\"\n",
      "Score: 0.04196285828948021\t Topic: 0.073*\"servic\" + 0.072*\"custom\" + 0.020*\"bad\" + 0.019*\"agent\" + 0.013*\"experi\"\n",
      "Score: 0.04171263054013252\t Topic: 0.060*\"delay\" + 0.039*\"hour\" + 0.029*\"late\" + 0.029*\"plane\" + 0.026*\"time\"\n",
      "Score: 0.0416717566549778\t Topic: 0.056*\"miss\" + 0.047*\"seat\" + 0.040*\"connect\" + 0.020*\"delay\" + 0.017*\"go\"\n",
      "\n",
      "\n",
      "Hey @JetBlue you just sent me two emails at the same time that say my flight from DCA -&gt; BOS is delayed and departi… https://t.co/VrYdOsxD1w \n",
      "\n",
      "Score: 0.7908110022544861\t Topic: 0.060*\"delay\" + 0.039*\"hour\" + 0.029*\"late\" + 0.029*\"plane\" + 0.026*\"time\"\n",
      "Score: 0.0422813855111599\t Topic: 0.041*\"help\" + 0.036*\"hold\" + 0.028*\"phone\" + 0.024*\"hour\" + 0.024*\"tri\"\n",
      "Score: 0.041783593595027924\t Topic: 0.026*\"luggag\" + 0.025*\"bag\" + 0.024*\"lose\" + 0.019*\"baggag\" + 0.018*\"like\"\n",
      "Score: 0.04173401743173599\t Topic: 0.073*\"servic\" + 0.072*\"custom\" + 0.020*\"bad\" + 0.019*\"agent\" + 0.013*\"experi\"\n",
      "Score: 0.04170753061771393\t Topic: 0.056*\"miss\" + 0.047*\"seat\" + 0.040*\"connect\" + 0.020*\"delay\" + 0.017*\"go\"\n",
      "Score: 0.04168248549103737\t Topic: 0.095*\"cancel\" + 0.047*\"flightl\" + 0.025*\"hour\" + 0.017*\"rebook\" + 0.014*\"hold\"\n",
      "\n",
      "\n",
      "Sooo... any flight delay compensation @JetBlue? Been sitting at the gate for over an hour and a half at JFK \n",
      "\n",
      "Score: 0.7256865501403809\t Topic: 0.060*\"delay\" + 0.039*\"hour\" + 0.029*\"late\" + 0.029*\"plane\" + 0.026*\"time\"\n",
      "Score: 0.17875362932682037\t Topic: 0.056*\"miss\" + 0.047*\"seat\" + 0.040*\"connect\" + 0.020*\"delay\" + 0.017*\"go\"\n",
      "Score: 0.023953748866915703\t Topic: 0.095*\"cancel\" + 0.047*\"flightl\" + 0.025*\"hour\" + 0.017*\"rebook\" + 0.014*\"hold\"\n",
      "Score: 0.023884974420070648\t Topic: 0.041*\"help\" + 0.036*\"hold\" + 0.028*\"phone\" + 0.024*\"hour\" + 0.024*\"tri\"\n",
      "Score: 0.023883240297436714\t Topic: 0.073*\"servic\" + 0.072*\"custom\" + 0.020*\"bad\" + 0.019*\"agent\" + 0.013*\"experi\"\n",
      "Score: 0.023837871849536896\t Topic: 0.026*\"luggag\" + 0.025*\"bag\" + 0.024*\"lose\" + 0.019*\"baggag\" + 0.018*\"like\"\n",
      "\n",
      "\n",
      "@JetBlue what are my options here? My flight last night was cancelled after a 4 hour delay. I slept in the airport… https://t.co/QjFrCQfNhR \n",
      "\n",
      "Score: 0.5055105686187744\t Topic: 0.095*\"cancel\" + 0.047*\"flightl\" + 0.025*\"hour\" + 0.017*\"rebook\" + 0.014*\"hold\"\n",
      "Score: 0.4101666212081909\t Topic: 0.060*\"delay\" + 0.039*\"hour\" + 0.029*\"late\" + 0.029*\"plane\" + 0.026*\"time\"\n",
      "Score: 0.021312041208148003\t Topic: 0.041*\"help\" + 0.036*\"hold\" + 0.028*\"phone\" + 0.024*\"hour\" + 0.024*\"tri\"\n",
      "Score: 0.021178435534238815\t Topic: 0.026*\"luggag\" + 0.025*\"bag\" + 0.024*\"lose\" + 0.019*\"baggag\" + 0.018*\"like\"\n",
      "Score: 0.02097674272954464\t Topic: 0.056*\"miss\" + 0.047*\"seat\" + 0.040*\"connect\" + 0.020*\"delay\" + 0.017*\"go\"\n",
      "Score: 0.020855586975812912\t Topic: 0.073*\"servic\" + 0.072*\"custom\" + 0.020*\"bad\" + 0.019*\"agent\" + 0.013*\"experi\"\n",
      "\n",
      "\n"
     ]
    }
   ],
   "source": [
    "L=[7,14,34,42,46]\n",
    "bow_vectors=[]\n",
    "unseen_documents=[]\n",
    "for i in L:\n",
    "    print(df_ntweets['text'][i], '\\n')\n",
    "    unseen_document = df_ntweets['text'][i]\n",
    "    unseen_documents.append(unseen_document)\n",
    "    bow_vector = dictionary.doc2bow(preprocess(unseen_document))\n",
    "    bow_vectors.append(bow_vector)\n",
    "    for index, score in sorted(lda_model[bow_vector], key=lambda tup: -1*tup[1]):\n",
    "        print(\"Score: {}\\t Topic: {}\".format(score, lda_model.print_topic(index, 5)))\n",
    "    print('\\n')"
   ]
  },
  {
   "cell_type": "code",
   "execution_count": 385,
   "metadata": {},
   "outputs": [
    {
     "data": {
      "text/html": [
       "<div>\n",
       "<style scoped>\n",
       "    .dataframe tbody tr th:only-of-type {\n",
       "        vertical-align: middle;\n",
       "    }\n",
       "\n",
       "    .dataframe tbody tr th {\n",
       "        vertical-align: top;\n",
       "    }\n",
       "\n",
       "    .dataframe thead th {\n",
       "        text-align: right;\n",
       "    }\n",
       "</style>\n",
       "<table border=\"1\" class=\"dataframe\">\n",
       "  <thead>\n",
       "    <tr style=\"text-align: right;\">\n",
       "      <th></th>\n",
       "      <th>Document_No</th>\n",
       "      <th>Dominant_Topic</th>\n",
       "      <th>Topic_Perc_Contrib</th>\n",
       "      <th>Keywords</th>\n",
       "      <th>Text</th>\n",
       "    </tr>\n",
       "  </thead>\n",
       "  <tbody>\n",
       "    <tr>\n",
       "      <th>0</th>\n",
       "      <td>0</td>\n",
       "      <td>0.0</td>\n",
       "      <td>0.7204</td>\n",
       "      <td>delay, hour, late, plane, time, wait, gate, board, thank, sit</td>\n",
       "      <td>@JetBlue both flights in and out of my honeymoon destination were delayed due to reasons that could have been accom… https://t.co/g72aM1mrUl</td>\n",
       "    </tr>\n",
       "    <tr>\n",
       "      <th>1</th>\n",
       "      <td>1</td>\n",
       "      <td>2.0</td>\n",
       "      <td>0.5416</td>\n",
       "      <td>cancel, flightl, hour, rebook, hold, stuck, tomorrow, wait, home, help</td>\n",
       "      <td>@JetBlue are you serious that you would cancel my groups flight 30 minutes before departure and then offer no. Acco… https://t.co/PyECYgd5BT</td>\n",
       "    </tr>\n",
       "    <tr>\n",
       "      <th>2</th>\n",
       "      <td>2</td>\n",
       "      <td>0.0</td>\n",
       "      <td>0.7908</td>\n",
       "      <td>delay, hour, late, plane, time, wait, gate, board, thank, sit</td>\n",
       "      <td>Hey @JetBlue you just sent me two emails at the same time that say my flight from DCA -&amp;gt; BOS is delayed and departi… https://t.co/VrYdOsxD1w</td>\n",
       "    </tr>\n",
       "    <tr>\n",
       "      <th>3</th>\n",
       "      <td>3</td>\n",
       "      <td>0.0</td>\n",
       "      <td>0.7257</td>\n",
       "      <td>delay, hour, late, plane, time, wait, gate, board, thank, sit</td>\n",
       "      <td>Sooo... any flight delay compensation @JetBlue? Been sitting at the gate for over an hour and a half at JFK</td>\n",
       "    </tr>\n",
       "    <tr>\n",
       "      <th>4</th>\n",
       "      <td>4</td>\n",
       "      <td>2.0</td>\n",
       "      <td>0.5054</td>\n",
       "      <td>cancel, flightl, hour, rebook, hold, stuck, tomorrow, wait, home, help</td>\n",
       "      <td>@JetBlue what are my options here? My flight last night was cancelled after a 4 hour delay. I slept in the airport… https://t.co/QjFrCQfNhR</td>\n",
       "    </tr>\n",
       "  </tbody>\n",
       "</table>\n",
       "</div>"
      ],
      "text/plain": [
       "   Document_No  Dominant_Topic  Topic_Perc_Contrib  \\\n",
       "0  0            0.0             0.7204               \n",
       "1  1            2.0             0.5416               \n",
       "2  2            0.0             0.7908               \n",
       "3  3            0.0             0.7257               \n",
       "4  4            2.0             0.5054               \n",
       "\n",
       "                                                                 Keywords  \\\n",
       "0  delay, hour, late, plane, time, wait, gate, board, thank, sit            \n",
       "1  cancel, flightl, hour, rebook, hold, stuck, tomorrow, wait, home, help   \n",
       "2  delay, hour, late, plane, time, wait, gate, board, thank, sit            \n",
       "3  delay, hour, late, plane, time, wait, gate, board, thank, sit            \n",
       "4  cancel, flightl, hour, rebook, hold, stuck, tomorrow, wait, home, help   \n",
       "\n",
       "                                                                                                                                              Text  \n",
       "0  @JetBlue both flights in and out of my honeymoon destination were delayed due to reasons that could have been accom… https://t.co/g72aM1mrUl     \n",
       "1  @JetBlue are you serious that you would cancel my groups flight 30 minutes before departure and then offer no. Acco… https://t.co/PyECYgd5BT     \n",
       "2  Hey @JetBlue you just sent me two emails at the same time that say my flight from DCA -&gt; BOS is delayed and departi… https://t.co/VrYdOsxD1w  \n",
       "3  Sooo... any flight delay compensation @JetBlue? Been sitting at the gate for over an hour and a half at JFK                                      \n",
       "4  @JetBlue what are my options here? My flight last night was cancelled after a 4 hour delay. I slept in the airport… https://t.co/QjFrCQfNhR      "
      ]
     },
     "execution_count": 385,
     "metadata": {},
     "output_type": "execute_result"
    }
   ],
   "source": [
    "df_topic_sents_keywords = format_topics_sentences(ldamodel=lda_model, corpus=bow_vectors, texts=unseen_documents)\n",
    "\n",
    "# Format\n",
    "df_dominant_topic = df_topic_sents_keywords.reset_index()\n",
    "df_dominant_topic.columns = ['Document_No', 'Dominant_Topic', 'Topic_Perc_Contrib', 'Keywords', 'Text']\n",
    "\n",
    "# Show\n",
    "df_dominant_topic.head()"
   ]
  },
  {
   "cell_type": "markdown",
   "metadata": {},
   "source": [
    "Nous pouvons donc prédire les thèmes dominants pour chacun des tweets négatifs."
   ]
  },
  {
   "cell_type": "markdown",
   "metadata": {},
   "source": [
    "# Conclusion"
   ]
  },
  {
   "cell_type": "markdown",
   "metadata": {},
   "source": [
    "Nous avons ainsi pu faire à la fois de l'analyse de sentiments sur un gros dataset de tweets et faire du transfer learning en appliquant sur un autre dataset : le dataset de tweets de compagnies aériennes. Nous avons également pu utiliser le topic modeling qui nous a permis de relever les différents types de problèmes des tweets de clients sur les compagnies aériennes. Enfin, nous avons utilisé l'API de twitter pour analyser en temps réel les tweets de ces compagnies et faire de l'analyse de sentiments et la catégorisation des tweets négatifs avec le topic modeling."
   ]
  }
 ],
 "metadata": {
  "kernelspec": {
   "display_name": "Python 3",
   "language": "python",
   "name": "python3"
  },
  "language_info": {
   "codemirror_mode": {
    "name": "ipython",
    "version": 3
   },
   "file_extension": ".py",
   "mimetype": "text/x-python",
   "name": "python",
   "nbconvert_exporter": "python",
   "pygments_lexer": "ipython3",
   "version": "3.5.6"
  }
 },
 "nbformat": 4,
 "nbformat_minor": 2
}
